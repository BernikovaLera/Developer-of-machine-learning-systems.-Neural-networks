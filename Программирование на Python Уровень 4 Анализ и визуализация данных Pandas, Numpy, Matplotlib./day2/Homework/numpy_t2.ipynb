{
 "cells": [
  {
   "cell_type": "markdown",
   "id": "1ae2b30e",
   "metadata": {},
   "source": [
    "### Практика 2.\n",
    "#### Задача 1\n",
    "Создать функцию с аргументами N и M(размеры матрицы) и\n",
    "вывести эту матрицу с 0 внутри и 1 на границах.  \n",
    "* Решить задачу с помощью слайсов.\n",
    "* $*$ Решить задачу двумя способами и оценить время работы алгоритмов на матрице 100_000 x 100_000."
   ]
  },
  {
   "cell_type": "code",
   "execution_count": 25,
   "id": "7e8dace5",
   "metadata": {},
   "outputs": [],
   "source": [
    "import numpy as np\n",
    "import time"
   ]
  },
  {
   "cell_type": "code",
   "execution_count": 10,
   "id": "62bab52d",
   "metadata": {},
   "outputs": [],
   "source": [
    "N, M = 100000, 100000"
   ]
  },
  {
   "cell_type": "code",
   "execution_count": 11,
   "id": "cc616cb4",
   "metadata": {},
   "outputs": [],
   "source": [
    "def create_matrix_slices(N, M):\n",
    "    mat = np.zeros((N, M), dtype=np.uint8)\n",
    "    mat[0, :] = 1      # верхняя граница\n",
    "    mat[-1, :] = 1     # нижняя граница\n",
    "    mat[:, 0] = 1      # левая граница\n",
    "    mat[:, -1] = 1     # правая граница\n",
    "    return mat"
   ]
  },
  {
   "cell_type": "code",
   "execution_count": 12,
   "id": "4edd786f",
   "metadata": {},
   "outputs": [],
   "source": [
    "def create_matrix_indexing(N, M):\n",
    "    mat = np.zeros((N, M), dtype=np.uint8)\n",
    "    for i in range(N):\n",
    "        for j in range(M):\n",
    "            if i == 0 or i == N-1 or j == 0 or j == M-1:\n",
    "                mat[i, j] = 1\n",
    "    return mat"
   ]
  },
  {
   "cell_type": "code",
   "execution_count": 13,
   "id": "e042827c",
   "metadata": {},
   "outputs": [
    {
     "name": "stdout",
     "output_type": "stream",
     "text": [
      "Способ 1 (слайсы): 0.83 сек\n"
     ]
    }
   ],
   "source": [
    "# Способ 1: слайсы\n",
    "start = time.time()\n",
    "mat1 = create_matrix_slices(N, M)\n",
    "print(f\"Способ 1 (слайсы): {time.time() - start:.2f} сек\")"
   ]
  },
  {
   "cell_type": "code",
   "execution_count": 17,
   "id": "824ce7d2",
   "metadata": {},
   "outputs": [
    {
     "name": "stdout",
     "output_type": "stream",
     "text": [
      "Способ 2 (индексация) для 10000x10000: 12.36 сек\n"
     ]
    }
   ],
   "source": [
    "# Способ 2: индексация (очень медленно для больших матриц)\n",
    "# Для матрицы 100000x100000 этот способ будет работать неприемлемо долго\n",
    "# Поэтому для демонстрации нужен меньшей размера \n",
    "N_small, M_small = 10000, 10000\n",
    "start = time.time()\n",
    "mat2 = create_matrix_indexing(N_small, M_small)\n",
    "print(f\"Способ 2 (индексация) для 10000x10000: {time.time() - start:.2f} сек\")"
   ]
  },
  {
   "cell_type": "markdown",
   "id": "c6a65899",
   "metadata": {},
   "source": [
    "## Способ от преподавателя"
   ]
  },
  {
   "cell_type": "markdown",
   "id": "f8b24513",
   "metadata": {},
   "source": [
    "Самый оптимальный вариант matrix_two"
   ]
  },
  {
   "cell_type": "code",
   "execution_count": 26,
   "id": "c9cc5336",
   "metadata": {},
   "outputs": [],
   "source": [
    "N = M = 100_000"
   ]
  },
  {
   "cell_type": "code",
   "execution_count": 27,
   "id": "76f542b7",
   "metadata": {},
   "outputs": [],
   "source": [
    "def matrix_one(N, M):\n",
    "    out_arr = np.ones((N,M), dtype=np.int8)\n",
    "    out_arr[1 :- 1, 1 :- 1] = 0\n",
    "    return out_arr"
   ]
  },
  {
   "cell_type": "code",
   "execution_count": 28,
   "id": "14ba1c49",
   "metadata": {},
   "outputs": [],
   "source": [
    "def matrix_two(N, M):\n",
    "    one = np.zeros((N, M), dtype=np.int8)\n",
    "    one[0, :] = one[-1, :]= one[:, 0] = one[:, -1] =1\n",
    "    return one"
   ]
  },
  {
   "cell_type": "code",
   "execution_count": 29,
   "id": "d2973f35",
   "metadata": {},
   "outputs": [],
   "source": [
    "def matrix_three(N, M):\n",
    "    one = np.zeros((N, M), dtype=np.int8)\n",
    "    one[0, :] = 1\n",
    "    one[-1, :] = 1\n",
    "    one[:, 0] = 1\n",
    "    one[:, -1] = 1\n",
    "    return one"
   ]
  },
  {
   "cell_type": "code",
   "execution_count": 30,
   "id": "9d43086a",
   "metadata": {},
   "outputs": [
    {
     "name": "stdout",
     "output_type": "stream",
     "text": [
      "3 s ± 248 ms per loop (mean ± std. dev. of 7 runs, 1 loop each)\n"
     ]
    }
   ],
   "source": [
    "%timeit res_one = matrix_one(M, N)"
   ]
  },
  {
   "cell_type": "code",
   "execution_count": 31,
   "id": "80defd9c",
   "metadata": {},
   "outputs": [
    {
     "name": "stdout",
     "output_type": "stream",
     "text": [
      "238 ms ± 2.5 ms per loop (mean ± std. dev. of 7 runs, 10 loops each)\n"
     ]
    }
   ],
   "source": [
    "%timeit res_two = matrix_two(M, N)"
   ]
  },
  {
   "cell_type": "code",
   "execution_count": 32,
   "id": "144d2519",
   "metadata": {},
   "outputs": [
    {
     "name": "stdout",
     "output_type": "stream",
     "text": [
      "237 ms ± 2.13 ms per loop (mean ± std. dev. of 7 runs, 10 loops each)\n"
     ]
    }
   ],
   "source": [
    "%timeit res_three = matrix_three(M, N) #MemoryError: Unable to allocate 9.31 GiB for an array with shape (100000, 100000) and data type int8"
   ]
  }
 ],
 "metadata": {
  "kernelspec": {
   "display_name": "Python 3",
   "language": "python",
   "name": "python3"
  },
  "language_info": {
   "codemirror_mode": {
    "name": "ipython",
    "version": 3
   },
   "file_extension": ".py",
   "mimetype": "text/x-python",
   "name": "python",
   "nbconvert_exporter": "python",
   "pygments_lexer": "ipython3",
   "version": "3.10.11"
  }
 },
 "nbformat": 4,
 "nbformat_minor": 5
}
