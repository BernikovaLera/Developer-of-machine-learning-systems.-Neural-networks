{
 "cells": [
  {
   "cell_type": "code",
   "execution_count": 16,
   "metadata": {
    "slideshow": {
     "slide_type": "slide"
    }
   },
   "outputs": [],
   "source": [
    "# 1. Импортировать NumPy\n",
    "import numpy as np\n",
    "np.set_printoptions(linewidth=110, legacy='1.25', precision=2)"
   ]
  },
  {
   "cell_type": "code",
   "execution_count": 17,
   "metadata": {
    "slideshow": {
     "slide_type": "slide"
    }
   },
   "outputs": [],
   "source": [
    "from IPython.core.interactiveshell import InteractiveShell\n",
    "InteractiveShell.ast_node_interactivity = 'all'"
   ]
  },
  {
   "cell_type": "markdown",
   "metadata": {
    "slideshow": {
     "slide_type": "slide"
    }
   },
   "source": [
    "#### Задача 1\n",
    "\n",
    "**1.1** Создать массив 10 x 10 со случайными значениями от 1 до 100(int64)\n",
    "\n",
    "**1.2** Вычислить среднее значение всех элементов массива с помощью `np.mean()`\n",
    "\n",
    "**1.3** Вычислить среднее значение всех элементов для каждой строки с помощью `np.mean()` и добавить как новый столбец\n",
    "\n",
    "**1.4** Вычислить сумму значений всех элементов для каждого столбца с помощью `np.sum()`и добавить как новую строку, учитывая результат пункта `1.3`"
   ]
  },
  {
   "cell_type": "code",
   "execution_count": 18,
   "metadata": {
    "slideshow": {
     "slide_type": "slide"
    }
   },
   "outputs": [
    {
     "data": {
      "text/plain": [
       "array([[97, 22, 50, 70, 36, 61, 98, 85, 89, 96],\n",
       "       [ 4, 66, 51, 96, 83, 90, 49, 64, 90, 22],\n",
       "       [56, 85, 27, 77, 63, 95, 32, 56, 93, 34],\n",
       "       [75, 99, 56, 15, 40, 27, 48, 23,  3, 48],\n",
       "       [81, 72, 93, 86,  4, 72,  8, 60, 77, 19],\n",
       "       [18, 76, 50, 26, 76, 95, 78, 96, 90, 12],\n",
       "       [ 6, 17, 11, 26, 81, 33, 26, 80,  1, 80],\n",
       "       [96, 61, 23, 65, 45, 16, 29, 77,  1, 48],\n",
       "       [93, 83, 26, 39, 77, 14, 97, 68,  4, 26],\n",
       "       [79,  5, 45,  2, 43,  5, 46, 22, 51, 75]])"
      ]
     },
     "execution_count": 18,
     "metadata": {},
     "output_type": "execute_result"
    }
   ],
   "source": [
    "# 1.1 Создать массив 10 x 10 со случайными значениями от 1 до 100(int64)\n",
    "array = np.random.randint(1, 100, size=(10, 10), dtype=np.int64); array"
   ]
  },
  {
   "cell_type": "code",
   "execution_count": 19,
   "metadata": {
    "slideshow": {
     "slide_type": "slide"
    }
   },
   "outputs": [
    {
     "data": {
      "text/plain": [
       "52.82"
      ]
     },
     "execution_count": 19,
     "metadata": {},
     "output_type": "execute_result"
    }
   ],
   "source": [
    "# 1.2 Вычислить среднее значение всех элементов массива с помощью np.mean()\n",
    "mean_all = np.mean(array)\n",
    "mean_all"
   ]
  },
  {
   "cell_type": "code",
   "execution_count": 20,
   "metadata": {
    "slideshow": {
     "slide_type": "slide"
    }
   },
   "outputs": [
    {
     "data": {
      "text/plain": [
       "array([70.4, 61.5, 61.8, 43.4, 57.2, 61.7, 36.1, 46.1, 52.7, 37.3])"
      ]
     },
     "execution_count": 20,
     "metadata": {},
     "output_type": "execute_result"
    },
    {
     "data": {
      "text/plain": [
       "array([[97. , 22. , 50. , 70. , 36. , 61. , 98. , 85. , 89. , 96. , 70.4],\n",
       "       [ 4. , 66. , 51. , 96. , 83. , 90. , 49. , 64. , 90. , 22. , 61.5],\n",
       "       [56. , 85. , 27. , 77. , 63. , 95. , 32. , 56. , 93. , 34. , 61.8],\n",
       "       [75. , 99. , 56. , 15. , 40. , 27. , 48. , 23. ,  3. , 48. , 43.4],\n",
       "       [81. , 72. , 93. , 86. ,  4. , 72. ,  8. , 60. , 77. , 19. , 57.2],\n",
       "       [18. , 76. , 50. , 26. , 76. , 95. , 78. , 96. , 90. , 12. , 61.7],\n",
       "       [ 6. , 17. , 11. , 26. , 81. , 33. , 26. , 80. ,  1. , 80. , 36.1],\n",
       "       [96. , 61. , 23. , 65. , 45. , 16. , 29. , 77. ,  1. , 48. , 46.1],\n",
       "       [93. , 83. , 26. , 39. , 77. , 14. , 97. , 68. ,  4. , 26. , 52.7],\n",
       "       [79. ,  5. , 45. ,  2. , 43. ,  5. , 46. , 22. , 51. , 75. , 37.3]])"
      ]
     },
     "execution_count": 20,
     "metadata": {},
     "output_type": "execute_result"
    }
   ],
   "source": [
    "# 1.3 Вычислить среднее значение всех элементов \n",
    "# для каждой строки с помощью np.mean() \n",
    "# и добавить как новый столбец\n",
    "mean_rows = np.mean(array, axis=1)\n",
    "mean_rows\n",
    "array = np.insert(array.astype(np.float64), 10, mean_rows, axis=1)\n",
    "array"
   ]
  },
  {
   "cell_type": "code",
   "execution_count": 21,
   "metadata": {
    "slideshow": {
     "slide_type": "slide"
    }
   },
   "outputs": [
    {
     "data": {
      "text/plain": [
       "array([[ 97. ,  22. ,  50. ,  70. ,  36. ,  61. ,  98. ,  85. ,  89. ,  96. ,  70.4],\n",
       "       [  4. ,  66. ,  51. ,  96. ,  83. ,  90. ,  49. ,  64. ,  90. ,  22. ,  61.5],\n",
       "       [ 56. ,  85. ,  27. ,  77. ,  63. ,  95. ,  32. ,  56. ,  93. ,  34. ,  61.8],\n",
       "       [ 75. ,  99. ,  56. ,  15. ,  40. ,  27. ,  48. ,  23. ,   3. ,  48. ,  43.4],\n",
       "       [ 81. ,  72. ,  93. ,  86. ,   4. ,  72. ,   8. ,  60. ,  77. ,  19. ,  57.2],\n",
       "       [ 18. ,  76. ,  50. ,  26. ,  76. ,  95. ,  78. ,  96. ,  90. ,  12. ,  61.7],\n",
       "       [  6. ,  17. ,  11. ,  26. ,  81. ,  33. ,  26. ,  80. ,   1. ,  80. ,  36.1],\n",
       "       [ 96. ,  61. ,  23. ,  65. ,  45. ,  16. ,  29. ,  77. ,   1. ,  48. ,  46.1],\n",
       "       [ 93. ,  83. ,  26. ,  39. ,  77. ,  14. ,  97. ,  68. ,   4. ,  26. ,  52.7],\n",
       "       [ 79. ,   5. ,  45. ,   2. ,  43. ,   5. ,  46. ,  22. ,  51. ,  75. ,  37.3],\n",
       "       [605. , 586. , 432. , 502. , 548. , 508. , 511. , 631. , 499. , 460. , 528.2]])"
      ]
     },
     "execution_count": 21,
     "metadata": {},
     "output_type": "execute_result"
    }
   ],
   "source": [
    "# 1.4 Вычислить сумму значений всех элементов для каждого столбца с помощью \n",
    "# np.sum()и добавить как новую строку, учитывая результат пункта 1.3\n",
    "sum_cols = np.sum(array, axis=0)\n",
    "array = np.vstack([array, sum_cols])\n",
    "array"
   ]
  },
  {
   "cell_type": "code",
   "execution_count": 22,
   "metadata": {
    "slideshow": {
     "slide_type": "slide"
    }
   },
   "outputs": [
    {
     "name": "stdout",
     "output_type": "stream",
     "text": [
      "Исходный массив:\n",
      "[[ 97  14  84   9  87  33  19  49  45  33]\n",
      " [ 42   6   5  71  75  46  92  30  30  30]\n",
      " [ 80   2  41  94  49  99  63  21  82  48]\n",
      " [ 18 100  12  72  40  46  23   1  88  20]\n",
      " [ 56  82  67  79  10  17  75  44  93  67]\n",
      " [ 12  56   6  17  93  99  15  99  29  45]\n",
      " [ 76  79  44   5  55  82  56  43  32  92]\n",
      " [ 77  66  43  35  95  97  44  20  91  85]\n",
      " [  7  15  31  39  90  49  89  33  99  81]\n",
      " [ 17  98  25  37  74  84  56  78   5  35]]\n",
      "Среднее значение всех элементов: 52.16\n"
     ]
    },
    {
     "data": {
      "text/plain": [
       "(10, 1)"
      ]
     },
     "execution_count": 22,
     "metadata": {},
     "output_type": "execute_result"
    },
    {
     "name": "stdout",
     "output_type": "stream",
     "text": [
      "Массив с добавленным столбцом средних по строкам:\n",
      "[[ 97.   14.   84.    9.   87.   33.   19.   49.   45.   33.   47. ]\n",
      " [ 42.    6.    5.   71.   75.   46.   92.   30.   30.   30.   42.7]\n",
      " [ 80.    2.   41.   94.   49.   99.   63.   21.   82.   48.   57.9]\n",
      " [ 18.  100.   12.   72.   40.   46.   23.    1.   88.   20.   42. ]\n",
      " [ 56.   82.   67.   79.   10.   17.   75.   44.   93.   67.   59. ]\n",
      " [ 12.   56.    6.   17.   93.   99.   15.   99.   29.   45.   47.1]\n",
      " [ 76.   79.   44.    5.   55.   82.   56.   43.   32.   92.   56.4]\n",
      " [ 77.   66.   43.   35.   95.   97.   44.   20.   91.   85.   65.3]\n",
      " [  7.   15.   31.   39.   90.   49.   89.   33.   99.   81.   53.3]\n",
      " [ 17.   98.   25.   37.   74.   84.   56.   78.    5.   35.   50.9]]\n",
      "Итоговый массив:\n",
      "[[ 97.   14.   84.    9.   87.   33.   19.   49.   45.   33.   47. ]\n",
      " [ 42.    6.    5.   71.   75.   46.   92.   30.   30.   30.   42.7]\n",
      " [ 80.    2.   41.   94.   49.   99.   63.   21.   82.   48.   57.9]\n",
      " [ 18.  100.   12.   72.   40.   46.   23.    1.   88.   20.   42. ]\n",
      " [ 56.   82.   67.   79.   10.   17.   75.   44.   93.   67.   59. ]\n",
      " [ 12.   56.    6.   17.   93.   99.   15.   99.   29.   45.   47.1]\n",
      " [ 76.   79.   44.    5.   55.   82.   56.   43.   32.   92.   56.4]\n",
      " [ 77.   66.   43.   35.   95.   97.   44.   20.   91.   85.   65.3]\n",
      " [  7.   15.   31.   39.   90.   49.   89.   33.   99.   81.   53.3]\n",
      " [ 17.   98.   25.   37.   74.   84.   56.   78.    5.   35.   50.9]\n",
      " [482.  518.  358.  458.  668.  652.  532.  418.  594.  536.  521.6]]\n"
     ]
    }
   ],
   "source": [
    "# Variant 2\n",
    "# 1.1 Создаем массив \n",
    "mass = np.random.randint(1, 101, size=(10, 10), dtype=np.int64)\n",
    "print(\"Исходный массив:\")\n",
    "print(mass)\n",
    "\n",
    "# 1.2 Вычисляем среднее значение всех элементов\n",
    "total_mean = np.mean(mass)\n",
    "print(\"Среднее значение всех элементов:\", total_mean)\n",
    "\n",
    "# 1.3 Вычисляем среднее по строкам и добавляем как новый столбец\n",
    "row_means = np.mean(mass, axis=1, keepdims=True)  \n",
    "matrix_with_means = np.hstack((mass, row_means))  \n",
    "print(\"Массив с добавленным столбцом средних по строкам:\")\n",
    "print(matrix_with_means)\n",
    "\n",
    "# 1.4 Вычисляем сумму по столбцам\n",
    "col_sum = np.sum(matrix_with_means, axis=0, keepdims=True)\n",
    "final_mass = np.vstack((matrix_with_means, col_sum))\n",
    "print(\"Итоговый массив:\")\n",
    "print(final_mass)"
   ]
  },
  {
   "cell_type": "markdown",
   "metadata": {
    "slideshow": {
     "slide_type": "slide"
    }
   },
   "source": [
    "#### Задача 2\n",
    "**2.1** Создать матрицу 7x7 с значениями `1,2,3,4,5,6,7` по главной диагонали, остальные нули. \n",
    "Два варианта решения: с помощью функции `np.diag()` и без(используя _broadcasting_)."
   ]
  },
  {
   "cell_type": "code",
   "execution_count": 28,
   "metadata": {
    "slideshow": {
     "slide_type": "slide"
    }
   },
   "outputs": [
    {
     "data": {
      "text/plain": [
       "array([[1, 0, 0, 0, 0, 0, 0],\n",
       "       [0, 2, 0, 0, 0, 0, 0],\n",
       "       [0, 0, 3, 0, 0, 0, 0],\n",
       "       [0, 0, 0, 4, 0, 0, 0],\n",
       "       [0, 0, 0, 0, 5, 0, 0],\n",
       "       [0, 0, 0, 0, 0, 6, 0],\n",
       "       [0, 0, 0, 0, 0, 0, 7]])"
      ]
     },
     "execution_count": 28,
     "metadata": {},
     "output_type": "execute_result"
    }
   ],
   "source": [
    "# Вариант 1\n",
    "center_diag = np.array([1, 2, 3, 4, 5, 6, 7])\n",
    "array_diag = np.diag(center_diag, k=0); array_diag"
   ]
  },
  {
   "cell_type": "code",
   "execution_count": 31,
   "metadata": {
    "slideshow": {
     "slide_type": "slide"
    }
   },
   "outputs": [
    {
     "data": {
      "text/plain": [
       "array([[1, 0, 0, 0, 0, 0, 0],\n",
       "       [0, 2, 0, 0, 0, 0, 0],\n",
       "       [0, 0, 3, 0, 0, 0, 0],\n",
       "       [0, 0, 0, 4, 0, 0, 0],\n",
       "       [0, 0, 0, 0, 5, 0, 0],\n",
       "       [0, 0, 0, 0, 0, 6, 0],\n",
       "       [0, 0, 0, 0, 0, 0, 7]])"
      ]
     },
     "execution_count": 31,
     "metadata": {},
     "output_type": "execute_result"
    }
   ],
   "source": [
    "# Variant 2\n",
    "res = np.eye(7, dtype=np.int8) * np.arange(1, 8)\n",
    "res"
   ]
  },
  {
   "cell_type": "code",
   "execution_count": 32,
   "metadata": {
    "slideshow": {
     "slide_type": "slide"
    }
   },
   "outputs": [
    {
     "data": {
      "text/plain": [
       "array([[0, 0, 0, 0, 0, 0, 0],\n",
       "       [1, 1, 1, 1, 1, 1, 1],\n",
       "       [2, 2, 2, 2, 2, 2, 2],\n",
       "       [3, 3, 3, 3, 3, 3, 3],\n",
       "       [4, 4, 4, 4, 4, 4, 4],\n",
       "       [5, 5, 5, 5, 5, 5, 5],\n",
       "       [6, 6, 6, 6, 6, 6, 6]])"
      ]
     },
     "execution_count": 32,
     "metadata": {},
     "output_type": "execute_result"
    },
    {
     "data": {
      "text/plain": [
       "array([[0, 1, 2, 3, 4, 5, 6],\n",
       "       [0, 1, 2, 3, 4, 5, 6],\n",
       "       [0, 1, 2, 3, 4, 5, 6],\n",
       "       [0, 1, 2, 3, 4, 5, 6],\n",
       "       [0, 1, 2, 3, 4, 5, 6],\n",
       "       [0, 1, 2, 3, 4, 5, 6],\n",
       "       [0, 1, 2, 3, 4, 5, 6]])"
      ]
     },
     "execution_count": 32,
     "metadata": {},
     "output_type": "execute_result"
    },
    {
     "name": "stdout",
     "output_type": "stream",
     "text": [
      "\n",
      "Матрица с broadcasting:\n",
      "[[1 0 0 0 0 0 0]\n",
      " [0 2 0 0 0 0 0]\n",
      " [0 0 3 0 0 0 0]\n",
      " [0 0 0 4 0 0 0]\n",
      " [0 0 0 0 5 0 0]\n",
      " [0 0 0 0 0 6 0]\n",
      " [0 0 0 0 0 0 7]]\n"
     ]
    }
   ],
   "source": [
    "# Variant 3\n",
    "# Используя broadcasting\n",
    "\n",
    "rows, cols = np.indices((7, 7))\n",
    "rows\n",
    "cols\n",
    "matrix = np.where(rows == cols, rows + 1, 0)\n",
    "\n",
    "print(\"\\nМатрица с broadcasting:\")\n",
    "print(matrix)"
   ]
  },
  {
   "cell_type": "markdown",
   "metadata": {
    "slideshow": {
     "slide_type": "slide"
    }
   },
   "source": [
    "#### Задача 3\n",
    "\n",
    "**3.1** Создать случайную матрицу 5x7 целых чисел от 1 до 100 и поменять местами 3-ю (индекс 2) и 5-ю (индекс 4) колонки"
   ]
  },
  {
   "cell_type": "code",
   "execution_count": 33,
   "metadata": {
    "slideshow": {
     "slide_type": "slide"
    }
   },
   "outputs": [
    {
     "name": "stdout",
     "output_type": "stream",
     "text": [
      "[[ 3 15 82  3 71 70 77]\n",
      " [69 26  8  9  4  3 67]\n",
      " [96 92 83 83 77 42 52]\n",
      " [11  8 65 56 59 21 46]\n",
      " [45 35 41 69 41 63 16]]\n",
      "[[ 3 15 71  3 82 70 77]\n",
      " [69 26  4  9  8  3 67]\n",
      " [96 92 77 83 83 42 52]\n",
      " [11  8 59 56 65 21 46]\n",
      " [45 35 41 69 41 63 16]]\n"
     ]
    }
   ],
   "source": [
    "# Создаем случайную матрицу 5x7 с целыми числами от 1 до 100\n",
    "matrix = np.random.randint(1, 101, size=(5, 7))\n",
    "print(matrix)\n",
    "\n",
    "# Меняем местами 3-ю (индекс 2) и 5-ю (индекс 4) колонки\n",
    "matrix[:, [2, 4]] = matrix[:, [4, 2]]\n",
    "print(matrix)"
   ]
  }
 ],
 "metadata": {
  "celltoolbar": "Слайд-шоу",
  "kernelspec": {
   "display_name": "Python 3 (ipykernel)",
   "language": "python",
   "name": "python3"
  },
  "language_info": {
   "codemirror_mode": {
    "name": "ipython",
    "version": 3
   },
   "file_extension": ".py",
   "mimetype": "text/x-python",
   "name": "python",
   "nbconvert_exporter": "python",
   "pygments_lexer": "ipython3",
   "version": "3.11.11"
  }
 },
 "nbformat": 4,
 "nbformat_minor": 4
}
