{
 "cells": [
  {
   "cell_type": "code",
   "execution_count": 1,
   "metadata": {},
   "outputs": [],
   "source": [
    "# 1. Импортировать NumPy\n",
    "import numpy as np\n",
    "np.set_printoptions(linewidth=110)"
   ]
  },
  {
   "cell_type": "markdown",
   "metadata": {},
   "source": [
    "#### Задача 1\n",
    "\n",
    "**1.1** Создать массив 10 x 10 со случайными значениями от 1 до 100(int64)\n",
    "\n",
    "**1.2** Вычислить среднее значение всех элементов массива с помощью `np.mean()`\n",
    "\n",
    "**1.3** Вычислить среднее значение всех элементов для каждой строки с помощью `np.mean()` и добавить как новый столбец\n",
    "\n",
    "**1.4** Вычислить сумму значений всех элементов для каждого столбца с помощью `np.sum()`и добавить как новую строку, учитывая результат пункта `1.3`"
   ]
  },
  {
   "cell_type": "code",
   "execution_count": 4,
   "metadata": {},
   "outputs": [
    {
     "data": {
      "text/plain": [
       "array([[ 17. ,  29. ,  13. ,  20. ,  64. ,  72. ,   3. ,  66. ,  74. ,  38. ,  39.6],\n",
       "       [ 62. ,  16. ,  43. ,  24. ,  26. ,  43. ,  54. ,  24. ,  21. ,  46. ,  35.9],\n",
       "       [ 80. ,  81. ,  97. ,  22. ,  36. ,  37. ,  25. ,  90. ,  81. ,  20. ,  56.9],\n",
       "       [ 89. ,  13. ,  32. ,  88. ,  39. ,  86. ,   7. ,  77. ,  59. ,  96. ,  58.6],\n",
       "       [ 15. ,  30. ,  64. ,  25. ,  66. ,  53. ,  48. ,  16. ,   3. ,  71. ,  39.1],\n",
       "       [ 19. ,  64. ,  98. ,  43. ,  27. ,  83. ,  58. ,  75. ,  84. ,   3. ,  55.4],\n",
       "       [ 57. ,  58. ,   6. ,  79. ,  33. ,  58. ,  10. ,  74. ,  81. ,  90. ,  54.6],\n",
       "       [ 20. ,  50. ,  43. ,  62. ,  77. ,  18. ,  79. ,  38. ,  48. ,  18. ,  45.3],\n",
       "       [ 73. ,  86. ,  46. ,  20. ,  89. ,  19. ,  38. ,  84. ,  62. ,  60. ,  57.7],\n",
       "       [ 74. ,  85. ,  62. ,  78. ,  73. ,  19. ,  44. ,  71. ,  58. ,  30. ,  59.4],\n",
       "       [506. , 512. , 504. , 461. , 530. , 488. , 366. , 615. , 571. , 472. , 502.5]])"
      ]
     },
     "execution_count": 4,
     "metadata": {},
     "output_type": "execute_result"
    }
   ],
   "source": [
    "array = np.random.randint (1, 100, size=(10, 10), dtype = np.int64)\n",
    "np.mean (array)\n",
    "mean_for_row = array.mean(axis=1).reshape(10, 1)\n",
    "array_new_coloumn= np.append(array, mean_for_row, axis=1)\n",
    "sum_of_coloumn = array_new_coloumn.sum(axis=0).reshape(1, 11)\n",
    "array_new_row_included_new_coloumn = np.append(array_new_coloumn, sum_of_coloumn, axis=0)\n",
    "array_new_row_included_new_coloumn"
   ]
  },
  {
   "cell_type": "code",
   "execution_count": 3,
   "metadata": {},
   "outputs": [
    {
     "data": {
      "text/plain": [
       "np.float64(44.1)"
      ]
     },
     "execution_count": 3,
     "metadata": {},
     "output_type": "execute_result"
    }
   ],
   "source": [
    " np.array([5. ,  51. ,  90. ,  25. ,  14. ,  46. ,  77. ,  37. ,  69. ,  27.]).mean()"
   ]
  },
  {
   "cell_type": "markdown",
   "metadata": {},
   "source": [
    "#### Задача 2\n",
    "**2.1** Создать матрицу 7x7 с значениями `1,2,3,4,5,6,7` по главной диагонали, остальные нули. \n",
    "Два варианта решения: с помощью функции `np.diag()` и без(используя _broadcasting_)."
   ]
  },
  {
   "cell_type": "code",
   "execution_count": 7,
   "metadata": {},
   "outputs": [
    {
     "data": {
      "text/plain": [
       "array([[1., 0., 0., 0., 0., 0., 0.],\n",
       "       [0., 2., 0., 0., 0., 0., 0.],\n",
       "       [0., 0., 3., 0., 0., 0., 0.],\n",
       "       [0., 0., 0., 4., 0., 0., 0.],\n",
       "       [0., 0., 0., 0., 5., 0., 0.],\n",
       "       [0., 0., 0., 0., 0., 6., 0.],\n",
       "       [0., 0., 0., 0., 0., 0., 7.]])"
      ]
     },
     "execution_count": 7,
     "metadata": {},
     "output_type": "execute_result"
    }
   ],
   "source": [
    "# 2\n",
    "#a)\n",
    "diagonal =np.arange (1, 8)\n",
    "matrix = np.diag (diagonal)\n",
    "matrix\n",
    "\n",
    "#b)\n",
    "\n",
    "matrix2 = np.zeros ((7, 7))\n",
    "matrix2[np.arange(7), np.arange(7)] = np.arange(1, 8)\n",
    "matrix2\n"
   ]
  },
  {
   "cell_type": "markdown",
   "metadata": {},
   "source": [
    "#### Задача 3\n",
    "\n",
    "**3.1** Создать случайную матрицу 5x7 целых чисел от 1 до 100 и поменять местами 3-ю (индекс 2) и 5-ю (индекс 4) колонки"
   ]
  },
  {
   "cell_type": "code",
   "execution_count": 115,
   "metadata": {},
   "outputs": [
    {
     "data": {
      "text/plain": [
       "array([[75,  6, 51, 80, 37, 54, 23],\n",
       "       [15, 70, 34, 56, 63, 89, 45],\n",
       "       [38, 79, 13, 37, 55, 69, 60],\n",
       "       [89, 62, 31, 63, 97, 36, 16],\n",
       "       [44,  5,  6, 23, 36, 62, 89]], dtype=int64)"
      ]
     },
     "execution_count": 115,
     "metadata": {},
     "output_type": "execute_result"
    }
   ],
   "source": [
    "matrix_3 = np.random.randint (1, 100, size=(5, 7), dtype = np.int64)\n",
    "matrix_3"
   ]
  },
  {
   "cell_type": "code",
   "execution_count": 116,
   "metadata": {},
   "outputs": [
    {
     "data": {
      "text/plain": [
       "array([[75,  6, 37, 80, 51, 54, 23],\n",
       "       [15, 70, 63, 56, 34, 89, 45],\n",
       "       [38, 79, 55, 37, 13, 69, 60],\n",
       "       [89, 62, 97, 63, 31, 36, 16],\n",
       "       [44,  5, 36, 23,  6, 62, 89]], dtype=int64)"
      ]
     },
     "execution_count": 116,
     "metadata": {},
     "output_type": "execute_result"
    }
   ],
   "source": [
    "matrix_3 [:, (2, 4)] = matrix_3 [:, (4, 2)]\n",
    "matrix_3"
   ]
  },
  {
   "cell_type": "code",
   "execution_count": null,
   "metadata": {},
   "outputs": [],
   "source": []
  }
 ],
 "metadata": {
  "kernelspec": {
   "display_name": "Python 3 (ipykernel)",
   "language": "python",
   "name": "python3"
  },
  "language_info": {
   "codemirror_mode": {
    "name": "ipython",
    "version": 3
   },
   "file_extension": ".py",
   "mimetype": "text/x-python",
   "name": "python",
   "nbconvert_exporter": "python",
   "pygments_lexer": "ipython3",
   "version": "3.11.11"
  }
 },
 "nbformat": 4,
 "nbformat_minor": 4
}
