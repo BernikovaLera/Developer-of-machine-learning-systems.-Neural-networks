{
 "cells": [
  {
   "cell_type": "code",
   "execution_count": 1,
   "metadata": {},
   "outputs": [],
   "source": [
    "# 1. Импортировать NumPy\n",
    "import numpy as np"
   ]
  },
  {
   "cell_type": "markdown",
   "metadata": {},
   "source": [
    "#### Задача 1\n",
    "\n",
    "**1.1** Создать массив 10 x 10 со случайными значениями от 1 до 100(int64)\n",
    "\n",
    "**1.2** Вычислить среднее значение всех элементов массива с помощью `np.mean()`\n",
    "\n",
    "**1.3** Вычислить среднее значение всех элементов для каждой строки с помощью `np.mean()` и добавить как новый столбец\n",
    "\n",
    "**1.4** Вычислить сумму значений всех элементов для каждого столбца с помощью `np.sum()`и добавить как новую строку, учитывая результат пункта `1.3`"
   ]
  },
  {
   "cell_type": "code",
   "execution_count": 10,
   "metadata": {},
   "outputs": [],
   "source": [
    "# Ваш код\n",
    "import numpy as np\n",
    "import numpy.random as rand\n",
    "np.set_printoptions(linewidth=110, legacy=\"1.25\")"
   ]
  },
  {
   "cell_type": "code",
   "execution_count": 3,
   "metadata": {},
   "outputs": [
    {
     "data": {
      "text/plain": [
       "array([[47,  6, 96, 70, 50, 72,  8, 57, 27, 10],\n",
       "       [52, 36, 33, 89, 68, 96, 63, 11, 57, 60],\n",
       "       [ 1, 53, 79, 80, 26, 72,  2, 35, 66, 86],\n",
       "       [68, 48, 30, 99, 25, 81, 20, 49, 24, 56],\n",
       "       [93, 64, 22, 10, 55, 45, 90, 84, 47, 14],\n",
       "       [19, 24, 41,  3, 41, 36, 61,  5, 40, 73],\n",
       "       [83,  0, 35, 88,  9, 76,  9, 94, 90, 24],\n",
       "       [13, 17, 60,  3, 25, 51, 70,  1, 38, 66],\n",
       "       [64, 44, 91, 95, 20, 58, 90,  3, 34, 41],\n",
       "       [62, 74,  3, 95,  2, 97,  7, 89, 58, 49]])"
      ]
     },
     "execution_count": 3,
     "metadata": {},
     "output_type": "execute_result"
    }
   ],
   "source": [
    "mr = np.random.randint(0, 100, (10,10),dtype=np.int64)\n",
    "mr"
   ]
  },
  {
   "cell_type": "code",
   "execution_count": 4,
   "metadata": {},
   "outputs": [
    {
     "name": "stdout",
     "output_type": "stream",
     "text": [
      "Среднее значение всего массива 48.03\n"
     ]
    }
   ],
   "source": [
    "mr_mean = np.mean(mr)\n",
    "print (\"Среднее значение всего массива\", mr_mean)"
   ]
  },
  {
   "cell_type": "code",
   "execution_count": 5,
   "metadata": {},
   "outputs": [
    {
     "name": "stdout",
     "output_type": "stream",
     "text": [
      "Среднее значение столбцов массива [44.3 56.5 50.  50.  52.4 34.3 50.8 34.4 54.  53.6]\n"
     ]
    }
   ],
   "source": [
    "mr_str_mean = mr.mean(axis=1)\n",
    "print (\"Среднее значение столбцов массива\", mr_str_mean)"
   ]
  },
  {
   "cell_type": "code",
   "execution_count": 6,
   "metadata": {},
   "outputs": [
    {
     "data": {
      "text/plain": [
       "array([[47. ,  6. , 96. , 70. , 50. , 72. ,  8. , 57. , 27. , 10. , 44.3],\n",
       "       [52. , 36. , 33. , 89. , 68. , 96. , 63. , 11. , 57. , 60. , 56.5],\n",
       "       [ 1. , 53. , 79. , 80. , 26. , 72. ,  2. , 35. , 66. , 86. , 50. ],\n",
       "       [68. , 48. , 30. , 99. , 25. , 81. , 20. , 49. , 24. , 56. , 50. ],\n",
       "       [93. , 64. , 22. , 10. , 55. , 45. , 90. , 84. , 47. , 14. , 52.4],\n",
       "       [19. , 24. , 41. ,  3. , 41. , 36. , 61. ,  5. , 40. , 73. , 34.3],\n",
       "       [83. ,  0. , 35. , 88. ,  9. , 76. ,  9. , 94. , 90. , 24. , 50.8],\n",
       "       [13. , 17. , 60. ,  3. , 25. , 51. , 70. ,  1. , 38. , 66. , 34.4],\n",
       "       [64. , 44. , 91. , 95. , 20. , 58. , 90. ,  3. , 34. , 41. , 54. ],\n",
       "       [62. , 74. ,  3. , 95. ,  2. , 97. ,  7. , 89. , 58. , 49. , 53.6]])"
      ]
     },
     "execution_count": 6,
     "metadata": {},
     "output_type": "execute_result"
    }
   ],
   "source": [
    "mr_ad = np.append(mr, mr_str_mean[:, None], axis=1)\n",
    "mr_ad"
   ]
  },
  {
   "cell_type": "code",
   "execution_count": 11,
   "metadata": {},
   "outputs": [
    {
     "data": {
      "text/plain": [
       "array([[ 47. ,   6. ,  96. ,  70. ,  50. ,  72. ,   8. ,  57. ,  27. ,  10. ,  44.3],\n",
       "       [ 52. ,  36. ,  33. ,  89. ,  68. ,  96. ,  63. ,  11. ,  57. ,  60. ,  56.5],\n",
       "       [  1. ,  53. ,  79. ,  80. ,  26. ,  72. ,   2. ,  35. ,  66. ,  86. ,  50. ],\n",
       "       [ 68. ,  48. ,  30. ,  99. ,  25. ,  81. ,  20. ,  49. ,  24. ,  56. ,  50. ],\n",
       "       [ 93. ,  64. ,  22. ,  10. ,  55. ,  45. ,  90. ,  84. ,  47. ,  14. ,  52.4],\n",
       "       [ 19. ,  24. ,  41. ,   3. ,  41. ,  36. ,  61. ,   5. ,  40. ,  73. ,  34.3],\n",
       "       [ 83. ,   0. ,  35. ,  88. ,   9. ,  76. ,   9. ,  94. ,  90. ,  24. ,  50.8],\n",
       "       [ 13. ,  17. ,  60. ,   3. ,  25. ,  51. ,  70. ,   1. ,  38. ,  66. ,  34.4],\n",
       "       [ 64. ,  44. ,  91. ,  95. ,  20. ,  58. ,  90. ,   3. ,  34. ,  41. ,  54. ],\n",
       "       [ 62. ,  74. ,   3. ,  95. ,   2. ,  97. ,   7. ,  89. ,  58. ,  49. ,  53.6],\n",
       "       [502. , 366. , 490. , 632. , 321. , 684. , 420. , 428. , 481. , 479. , 480.3]])"
      ]
     },
     "execution_count": 11,
     "metadata": {},
     "output_type": "execute_result"
    }
   ],
   "source": [
    "new_mas = np.concatenate((mr_ad, mr_ad.sum(axis=0, keepdims=True)), axis=0)\n",
    "new_mas"
   ]
  },
  {
   "cell_type": "markdown",
   "metadata": {},
   "source": [
    "#### Задача 2\n",
    "**2.1** Создать матрицу 7x7 с значениями `1,2,3,4,5,6,7` по главной диагонали, остальные нули. \n",
    "Два варианта решения: с помощью функции `np.diag()` и без(используя _broadcasting_)."
   ]
  },
  {
   "cell_type": "code",
   "execution_count": 12,
   "metadata": {},
   "outputs": [
    {
     "data": {
      "text/plain": [
       "array([1, 2, 3, 4, 5, 6, 7])"
      ]
     },
     "execution_count": 12,
     "metadata": {},
     "output_type": "execute_result"
    }
   ],
   "source": [
    "# Ваш код\n",
    "mr_diag = np.arange(1,8)\n",
    "mr_diag"
   ]
  },
  {
   "cell_type": "code",
   "execution_count": 13,
   "metadata": {},
   "outputs": [
    {
     "data": {
      "text/plain": [
       "array([[1, 0, 0, 0, 0, 0, 0],\n",
       "       [0, 2, 0, 0, 0, 0, 0],\n",
       "       [0, 0, 3, 0, 0, 0, 0],\n",
       "       [0, 0, 0, 4, 0, 0, 0],\n",
       "       [0, 0, 0, 0, 5, 0, 0],\n",
       "       [0, 0, 0, 0, 0, 6, 0],\n",
       "       [0, 0, 0, 0, 0, 0, 7]])"
      ]
     },
     "execution_count": 13,
     "metadata": {},
     "output_type": "execute_result"
    }
   ],
   "source": [
    "mr_full = np.diagflat(mr_diag)\n",
    "mr_full"
   ]
  },
  {
   "cell_type": "code",
   "execution_count": 14,
   "metadata": {},
   "outputs": [
    {
     "data": {
      "text/plain": [
       "array([[0., 0., 0., 0., 0., 0., 0.],\n",
       "       [0., 0., 0., 0., 0., 0., 0.],\n",
       "       [0., 0., 0., 0., 0., 0., 0.],\n",
       "       [0., 0., 0., 0., 0., 0., 0.],\n",
       "       [0., 0., 0., 0., 0., 0., 0.],\n",
       "       [0., 0., 0., 0., 0., 0., 0.],\n",
       "       [0., 0., 0., 0., 0., 0., 0.]])"
      ]
     },
     "execution_count": 14,
     "metadata": {},
     "output_type": "execute_result"
    }
   ],
   "source": [
    "#2sposob\n",
    "mr_zero = np.zeros((7,7))\n",
    "mr_zero"
   ]
  },
  {
   "cell_type": "code",
   "execution_count": 15,
   "metadata": {},
   "outputs": [
    {
     "data": {
      "text/plain": [
       "array([1, 2, 3, 4, 5, 6, 7])"
      ]
     },
     "execution_count": 15,
     "metadata": {},
     "output_type": "execute_result"
    }
   ],
   "source": [
    "mr_d = np.arange(1,8)\n",
    "mr_d"
   ]
  },
  {
   "cell_type": "code",
   "execution_count": 16,
   "metadata": {},
   "outputs": [],
   "source": [
    "mr_zero [range(7),range(7)]=mr_d"
   ]
  },
  {
   "cell_type": "code",
   "execution_count": 17,
   "metadata": {},
   "outputs": [
    {
     "data": {
      "text/plain": [
       "array([[1., 0., 0., 0., 0., 0., 0.],\n",
       "       [0., 2., 0., 0., 0., 0., 0.],\n",
       "       [0., 0., 3., 0., 0., 0., 0.],\n",
       "       [0., 0., 0., 4., 0., 0., 0.],\n",
       "       [0., 0., 0., 0., 5., 0., 0.],\n",
       "       [0., 0., 0., 0., 0., 6., 0.],\n",
       "       [0., 0., 0., 0., 0., 0., 7.]])"
      ]
     },
     "execution_count": 17,
     "metadata": {},
     "output_type": "execute_result"
    }
   ],
   "source": [
    "mr_zero"
   ]
  },
  {
   "cell_type": "markdown",
   "metadata": {},
   "source": [
    "#### Задача 3\n",
    "\n",
    "**3.1** Создать случайную матрицу 5x7 целых чисел от 1 до 100 и поменять местами 3-ю (индекс 2) и 5-ю (индекс 4) колонки"
   ]
  },
  {
   "cell_type": "code",
   "execution_count": null,
   "metadata": {},
   "outputs": [],
   "source": [
    "# Ваш код"
   ]
  },
  {
   "cell_type": "code",
   "execution_count": null,
   "metadata": {},
   "outputs": [],
   "source": [
    "mg = np.random.randint(0, 100, (5,7),dtype=np.int64)\n",
    "mg"
   ]
  },
  {
   "cell_type": "code",
   "execution_count": null,
   "metadata": {},
   "outputs": [],
   "source": [
    "mq = np.hsplit(mg, 7)"
   ]
  },
  {
   "cell_type": "code",
   "execution_count": null,
   "metadata": {},
   "outputs": [],
   "source": [
    "mgs = np.hstack((mq[0], mq[1], mq[4], mq[3], mq[2], mq[5], mq[6]))\n",
    "mgs"
   ]
  },
  {
   "cell_type": "code",
   "execution_count": null,
   "metadata": {},
   "outputs": [],
   "source": []
  },
  {
   "cell_type": "code",
   "execution_count": null,
   "metadata": {},
   "outputs": [],
   "source": []
  }
 ],
 "metadata": {
  "kernelspec": {
   "display_name": "Python 3 (ipykernel)",
   "language": "python",
   "name": "python3"
  },
  "language_info": {
   "codemirror_mode": {
    "name": "ipython",
    "version": 3
   },
   "file_extension": ".py",
   "mimetype": "text/x-python",
   "name": "python",
   "nbconvert_exporter": "python",
   "pygments_lexer": "ipython3",
   "version": "3.11.11"
  }
 },
 "nbformat": 4,
 "nbformat_minor": 4
}
