{
 "cells": [
  {
   "cell_type": "markdown",
   "id": "50c4f245",
   "metadata": {},
   "source": [
    "#### Задача 1\n",
    "1.1 Создать массив 10 x 10 со случайными значениями от 1 до 100(int64)\n",
    "\n",
    "1.2 Вычислить среднее значение всех элементов массива с помощью np.mean()\n",
    "\n",
    "1.3 Вычислить среднее значение всех элементов для каждой строки с помощью np.mean() и добавить как новый столбец\n",
    "\n",
    "1.4 Вычислить сумму значений всех элементов для каждого столбца с помощью np.sum()и добавить как новую строку, учитывая результат пункта 1.3"
   ]
  },
  {
   "cell_type": "code",
   "execution_count": 1,
   "id": "0140c7c6-a567-4cef-84c2-31c86c28e6e4",
   "metadata": {},
   "outputs": [],
   "source": [
    "import numpy as np"
   ]
  },
  {
   "cell_type": "code",
   "execution_count": 2,
   "id": "c72ebd93-19a5-4e67-b398-679d8d9484ce",
   "metadata": {},
   "outputs": [
    {
     "name": "stdout",
     "output_type": "stream",
     "text": [
      "[[97 40 25 12 34 46 32 23 63  5]\n",
      " [40 24 19  7 57 11  8 87 25 72]\n",
      " [92 87 74 31 61 98 93 90 52 60]\n",
      " [22 98 36 65 68 32 71 20 46 50]\n",
      " [57 57 14 10 33  9 68 21 94 77]\n",
      " [38 60 46 23 93 58 47  5 18 14]\n",
      " [91 76  1 90 12  4 44 31  9 52]\n",
      " [79 11 87 61 57 69 45 81 38 20]\n",
      " [21 76 28 65 57  4 33 96 78 34]\n",
      " [ 3 95 60 75 77  9 51 13  3 19]]\n"
     ]
    }
   ],
   "source": [
    "n = np.random.randint(1, 100, (10, 10), dtype=np.int64)\n",
    "n2 = n \n",
    "print(n)"
   ]
  },
  {
   "cell_type": "code",
   "execution_count": 3,
   "id": "3841c782-f9fa-4d4a-9017-5bb965146aab",
   "metadata": {},
   "outputs": [
    {
     "name": "stdout",
     "output_type": "stream",
     "text": [
      "среднее массива: 46.7\n"
     ]
    }
   ],
   "source": [
    "print(\"среднее массива:\", np.mean(n2))"
   ]
  },
  {
   "cell_type": "code",
   "execution_count": 4,
   "id": "4344f573-c4eb-48db-ad92-1a3d5f2092d1",
   "metadata": {},
   "outputs": [
    {
     "data": {
      "text/plain": [
       "array([[37.7],\n",
       "       [35. ],\n",
       "       [73.8],\n",
       "       [50.8],\n",
       "       [44. ],\n",
       "       [40.2],\n",
       "       [41. ],\n",
       "       [54.8],\n",
       "       [49.2],\n",
       "       [40.5]])"
      ]
     },
     "execution_count": 4,
     "metadata": {},
     "output_type": "execute_result"
    }
   ],
   "source": [
    "srednee_stroka = np.mean(n, axis=1, keepdims=True)\n",
    "srednee_stroka"
   ]
  },
  {
   "cell_type": "code",
   "execution_count": 5,
   "id": "ff2414a5-112a-4ff9-b029-e1c8b1756125",
   "metadata": {},
   "outputs": [
    {
     "data": {
      "text/plain": [
       "array([[97. , 40. , 25. , 12. , 34. , 46. , 32. , 23. , 63. ,  5. , 37.7],\n",
       "       [40. , 24. , 19. ,  7. , 57. , 11. ,  8. , 87. , 25. , 72. , 35. ],\n",
       "       [92. , 87. , 74. , 31. , 61. , 98. , 93. , 90. , 52. , 60. , 73.8],\n",
       "       [22. , 98. , 36. , 65. , 68. , 32. , 71. , 20. , 46. , 50. , 50.8],\n",
       "       [57. , 57. , 14. , 10. , 33. ,  9. , 68. , 21. , 94. , 77. , 44. ],\n",
       "       [38. , 60. , 46. , 23. , 93. , 58. , 47. ,  5. , 18. , 14. , 40.2],\n",
       "       [91. , 76. ,  1. , 90. , 12. ,  4. , 44. , 31. ,  9. , 52. , 41. ],\n",
       "       [79. , 11. , 87. , 61. , 57. , 69. , 45. , 81. , 38. , 20. , 54.8],\n",
       "       [21. , 76. , 28. , 65. , 57. ,  4. , 33. , 96. , 78. , 34. , 49.2],\n",
       "       [ 3. , 95. , 60. , 75. , 77. ,  9. , 51. , 13. ,  3. , 19. , 40.5]])"
      ]
     },
     "execution_count": 5,
     "metadata": {},
     "output_type": "execute_result"
    }
   ],
   "source": [
    "new_stolb = np.hstack((n, srednee_stroka))\n",
    "new_stolb"
   ]
  },
  {
   "cell_type": "code",
   "execution_count": 6,
   "id": "f8fa31bf-df7d-4493-8b38-2a77abfdb528",
   "metadata": {},
   "outputs": [
    {
     "data": {
      "text/plain": [
       "array([[540., 624., 390., 439., 549., 340., 492., 467., 426., 403., 467.]])"
      ]
     },
     "execution_count": 6,
     "metadata": {},
     "output_type": "execute_result"
    }
   ],
   "source": [
    "summa_stolb = np.sum(new_stolb, axis=0, keepdims=True)\n",
    "summa_stolb"
   ]
  },
  {
   "cell_type": "code",
   "execution_count": 7,
   "id": "b782b73d-8174-404d-9099-45ba103acc9c",
   "metadata": {},
   "outputs": [
    {
     "data": {
      "text/plain": [
       "array([[ 97. ,  40. ,  25. ,  12. ,  34. ,  46. ,  32. ,  23. ,  63. ,\n",
       "          5. ,  37.7],\n",
       "       [ 40. ,  24. ,  19. ,   7. ,  57. ,  11. ,   8. ,  87. ,  25. ,\n",
       "         72. ,  35. ],\n",
       "       [ 92. ,  87. ,  74. ,  31. ,  61. ,  98. ,  93. ,  90. ,  52. ,\n",
       "         60. ,  73.8],\n",
       "       [ 22. ,  98. ,  36. ,  65. ,  68. ,  32. ,  71. ,  20. ,  46. ,\n",
       "         50. ,  50.8],\n",
       "       [ 57. ,  57. ,  14. ,  10. ,  33. ,   9. ,  68. ,  21. ,  94. ,\n",
       "         77. ,  44. ],\n",
       "       [ 38. ,  60. ,  46. ,  23. ,  93. ,  58. ,  47. ,   5. ,  18. ,\n",
       "         14. ,  40.2],\n",
       "       [ 91. ,  76. ,   1. ,  90. ,  12. ,   4. ,  44. ,  31. ,   9. ,\n",
       "         52. ,  41. ],\n",
       "       [ 79. ,  11. ,  87. ,  61. ,  57. ,  69. ,  45. ,  81. ,  38. ,\n",
       "         20. ,  54.8],\n",
       "       [ 21. ,  76. ,  28. ,  65. ,  57. ,   4. ,  33. ,  96. ,  78. ,\n",
       "         34. ,  49.2],\n",
       "       [  3. ,  95. ,  60. ,  75. ,  77. ,   9. ,  51. ,  13. ,   3. ,\n",
       "         19. ,  40.5],\n",
       "       [540. , 624. , 390. , 439. , 549. , 340. , 492. , 467. , 426. ,\n",
       "        403. , 467. ]])"
      ]
     },
     "execution_count": 7,
     "metadata": {},
     "output_type": "execute_result"
    }
   ],
   "source": [
    "new_stroka = np.vstack((new_stolb, summa_stolb))\n",
    "new_stroka"
   ]
  },
  {
   "cell_type": "markdown",
   "id": "c5881aeb",
   "metadata": {},
   "source": [
    "#### Задача 2\n",
    "2.1 Создать матрицу 7x7 с значениями 1,2,3,4,5,6,7 по главной диагонали, остальные нули. Два варианта решения: с помощью функции np.diag() и без(используя broadcasting)."
   ]
  },
  {
   "cell_type": "code",
   "execution_count": 8,
   "id": "24d130e8-91f0-46b1-9480-2c5e69b6b606",
   "metadata": {},
   "outputs": [
    {
     "data": {
      "text/plain": [
       "array([[1, 0, 0, 0, 0, 0, 0],\n",
       "       [0, 2, 0, 0, 0, 0, 0],\n",
       "       [0, 0, 3, 0, 0, 0, 0],\n",
       "       [0, 0, 0, 4, 0, 0, 0],\n",
       "       [0, 0, 0, 0, 5, 0, 0],\n",
       "       [0, 0, 0, 0, 0, 6, 0],\n",
       "       [0, 0, 0, 0, 0, 0, 7]])"
      ]
     },
     "execution_count": 8,
     "metadata": {},
     "output_type": "execute_result"
    }
   ],
   "source": [
    "diag_matrix = np.diag([1, 2, 3, 4, 5, 6, 7])\n",
    "diag_matrix"
   ]
  },
  {
   "cell_type": "code",
   "execution_count": null,
   "id": "f5424ab4-dde5-4ead-ab49-6a23371fda92",
   "metadata": {},
   "outputs": [],
   "source": [
    "#Задача 3\n",
    "3.1 Создать случайную матрицу 5x7 целых чисел от 1 до 100 и поменять местами 3-ю (индекс 2) и 5-ю (индекс 4) колонки"
   ]
  },
  {
   "cell_type": "code",
   "execution_count": 138,
   "id": "6174d6c1-f541-47b4-b9aa-e7dc32825829",
   "metadata": {},
   "outputs": [
    {
     "data": {
      "text/plain": [
       "array([[36,  8, 84, 42, 51, 29, 21],\n",
       "       [ 7, 74, 94, 60, 29, 25, 93],\n",
       "       [79, 28, 65, 63, 80, 71, 64],\n",
       "       [14,  8, 84, 23, 23, 12, 59],\n",
       "       [61, 82, 52,  4, 73,  7, 15]])"
      ]
     },
     "execution_count": 138,
     "metadata": {},
     "output_type": "execute_result"
    }
   ],
   "source": [
    "matrix = np.random.randint(1, 101, size=(5, 7))\n",
    "matrix"
   ]
  },
  {
   "cell_type": "code",
   "execution_count": 139,
   "id": "753b63e3-8988-4f57-87cb-50e12aea5a08",
   "metadata": {},
   "outputs": [
    {
     "data": {
      "text/plain": [
       "array([[36,  8, 51, 42, 84, 29, 21],\n",
       "       [ 7, 74, 29, 60, 94, 25, 93],\n",
       "       [79, 28, 80, 63, 65, 71, 64],\n",
       "       [14,  8, 23, 23, 84, 12, 59],\n",
       "       [61, 82, 73,  4, 52,  7, 15]])"
      ]
     },
     "execution_count": 139,
     "metadata": {},
     "output_type": "execute_result"
    }
   ],
   "source": [
    "matrix[:, [2, 4]] = matrix[:, [4, 2]]\n",
    "matrix"
   ]
  },
  {
   "cell_type": "code",
   "execution_count": null,
   "id": "256240f4-88e5-4f71-9312-802ea04dc953",
   "metadata": {},
   "outputs": [],
   "source": []
  }
 ],
 "metadata": {
  "kernelspec": {
   "display_name": "Python 3 (ipykernel)",
   "language": "python",
   "name": "python3"
  },
  "language_info": {
   "codemirror_mode": {
    "name": "ipython",
    "version": 3
   },
   "file_extension": ".py",
   "mimetype": "text/x-python",
   "name": "python",
   "nbconvert_exporter": "python",
   "pygments_lexer": "ipython3",
   "version": "3.11.11"
  }
 },
 "nbformat": 4,
 "nbformat_minor": 5
}
