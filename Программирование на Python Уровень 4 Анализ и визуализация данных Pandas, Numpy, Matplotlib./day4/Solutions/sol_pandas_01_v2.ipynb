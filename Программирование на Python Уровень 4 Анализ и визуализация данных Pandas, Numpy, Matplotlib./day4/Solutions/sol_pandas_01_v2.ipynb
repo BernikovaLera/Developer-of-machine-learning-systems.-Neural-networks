{
 "cells": [
  {
   "cell_type": "code",
   "execution_count": 3,
   "id": "13bff83a-2f48-48e5-8453-f23558bc5356",
   "metadata": {},
   "outputs": [],
   "source": [
    "\n",
    "##Задача №1. Создайте объект Series для хранения оценок по какому-либо предмету, например, по \"Линейной Алгебре\".\n",
    "##Пусть он содержит 10 студентов со случайными оценками от 2 до 5. Фамилии студентов должны быть индексами.\n",
    "\n",
    "import pandas as pd\n",
    "import numpy as np\n",
    "from faker import Faker\n",
    "\n"
   ]
  },
  {
   "cell_type": "code",
   "execution_count": 5,
   "id": "a81c6001-4d70-4eec-a8d8-24fd608efc00",
   "metadata": {},
   "outputs": [],
   "source": [
    "# Фамилии\n",
    "fake = Faker('ru_RU')\n",
    "students = [fake.last_name() for _ in range(10)]"
   ]
  },
  {
   "cell_type": "code",
   "execution_count": 7,
   "id": "1b1f97d7-b481-4d1c-990e-c0f364beda8b",
   "metadata": {},
   "outputs": [
    {
     "name": "stdout",
     "output_type": "stream",
     "text": [
      "Оценки по Линейной Алгебре:\n",
      "Самсонова      5\n",
      "Турова         3\n",
      "Титов          2\n",
      "Шашков         2\n",
      "Комиссарова    2\n",
      "Соболева       4\n",
      "Щербакова      4\n",
      "Беспалова      4\n",
      "Большаков      4\n",
      "Баранова       2\n",
      "Name: Линейная Алгебра, dtype: int32\n"
     ]
    }
   ],
   "source": [
    "# Оценки по линейнке\n",
    "grades_la = pd.Series(np.random.randint(2, 6, size=10), index=students, name='Линейная Алгебра')\n",
    "grades_la"
   ]
  },
  {
   "cell_type": "code",
   "execution_count": 9,
   "id": "6ac449a0-a853-4fd1-ba0a-49b7aa2a4f30",
   "metadata": {},
   "outputs": [
    {
     "data": {
      "text/plain": [
       "4.0"
      ]
     },
     "execution_count": 9,
     "metadata": {},
     "output_type": "execute_result"
    }
   ],
   "source": [
    "## Задача №2. Выведите средний балл для всех, у кого оценка больше или равна 3.\n",
    "\n",
    "mean_series = grades_la[grades_la >= 3].mean()\n",
    "mean_series"
   ]
  },
  {
   "cell_type": "code",
   "execution_count": 11,
   "id": "ea9180c6-46ef-4e49-86de-cc46c03eaddf",
   "metadata": {},
   "outputs": [
    {
     "data": {
      "text/plain": [
       "Самсонова      4\n",
       "Турова         5\n",
       "Титов          2\n",
       "Шашков         2\n",
       "Комиссарова    5\n",
       "Соболева       5\n",
       "Щербакова      4\n",
       "Беспалова      3\n",
       "Большаков      4\n",
       "Баранова       4\n",
       "Name: МатАнализ, dtype: int32"
      ]
     },
     "execution_count": 11,
     "metadata": {},
     "output_type": "execute_result"
    }
   ],
   "source": [
    "## Создайте другой объект Series, для хранения оценок по другому предмету, например по \"Математическому Анализу\".\n",
    "## Посчитайте средний балл для каждого студента по этим двум предметам.\n",
    "\n",
    "# Оценки по мат анализу\n",
    "grades_ma = pd.Series(np.random.randint(2, 6, size=10), index=students, name='МатАнализ')\n",
    "grades_ma\n"
   ]
  },
  {
   "cell_type": "code",
   "execution_count": 15,
   "id": "1c1469c3-66a4-4d58-b253-a6693f7e6f68",
   "metadata": {},
   "outputs": [
    {
     "data": {
      "text/plain": [
       "Самсонова      4.5\n",
       "Турова         4.0\n",
       "Титов          2.0\n",
       "Шашков         2.0\n",
       "Комиссарова    3.5\n",
       "Соболева       4.5\n",
       "Щербакова      4.0\n",
       "Беспалова      3.5\n",
       "Большаков      4.0\n",
       "Баранова       3.0\n",
       "dtype: float64"
      ]
     },
     "execution_count": 15,
     "metadata": {},
     "output_type": "execute_result"
    }
   ],
   "source": [
    "# Средний балл по двум предметам\n",
    "mean_per_student = (grades_la + grades_ma) / 2\n",
    "\n",
    "mean_per_student"
   ]
  },
  {
   "cell_type": "code",
   "execution_count": null,
   "id": "e028ae95-9562-4947-8210-b36bfb025363",
   "metadata": {},
   "outputs": [],
   "source": []
  }
 ],
 "metadata": {
  "kernelspec": {
   "display_name": "Python 3 (ipykernel)",
   "language": "python",
   "name": "python3"
  },
  "language_info": {
   "codemirror_mode": {
    "name": "ipython",
    "version": 3
   },
   "file_extension": ".py",
   "mimetype": "text/x-python",
   "name": "python",
   "nbconvert_exporter": "python",
   "pygments_lexer": "ipython3",
   "version": "3.11.11"
  }
 },
 "nbformat": 4,
 "nbformat_minor": 5
}
