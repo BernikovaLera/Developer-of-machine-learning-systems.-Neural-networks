{
 "cells": [
  {
   "cell_type": "code",
   "execution_count": 1,
   "metadata": {},
   "outputs": [],
   "source": [
    "# 1. Импортировать NumPy\n",
    "import numpy as np"
   ]
  },
  {
   "cell_type": "markdown",
   "metadata": {},
   "source": [
    "#### Задача 1\n",
    "\n",
    "**1.1** Создать массив 10 x 10 со случайными значениями от 1 до 100(int64)\n",
    "\n",
    "**1.2** Вычислить среднее значение всех элементов массива с помощью `np.mean()`\n",
    "\n",
    "**1.3** Вычислить среднее значение всех элементов для каждой строки с помощью `np.mean()` и добавить как новый столбец\n",
    "\n",
    "**1.4** Вычислить сумму значений всех элементов для каждого столбца с помощью `np.sum()`и добавить как новую строку, учитывая результат пункта `1.3`"
   ]
  },
  {
   "cell_type": "code",
   "execution_count": 3,
   "metadata": {},
   "outputs": [
    {
     "data": {
      "text/plain": [
       "array([[ 81. ,  28. ,  70. ,  61. ,  83. ,  63. ,   2. ,  56. ,  10. ,\n",
       "         72. ,  52.6],\n",
       "       [ 86. ,  71. ,   1. ,  89. ,  47. ,  13. ,  43. ,  58. ,  60. ,\n",
       "         47. ,  51.5],\n",
       "       [ 65. ,  81. ,  95. ,  51. ,  75. ,  99. ,  11. ,   9. ,  13. ,\n",
       "         78. ,  57.7],\n",
       "       [ 85. ,  97. ,  37. ,  50. ,  33. ,  26. ,  63. ,  84. ,  60. ,\n",
       "         28. ,  56.3],\n",
       "       [ 26. ,  58. ,  63. ,   5. ,  17. ,  56. ,  72. ,  73. ,  27. ,\n",
       "         45. ,  44.2],\n",
       "       [ 62. ,  25. ,  44. ,  61. ,  57. ,  66. ,  41. ,  86. ,  51. ,\n",
       "         65. ,  55.8],\n",
       "       [  7. ,  23. ,  71. ,  35. ,  47. ,  50. ,  77. ,  54. ,  61. ,\n",
       "         28. ,  45.3],\n",
       "       [ 12. ,  21. ,   8. ,  26. ,  63. ,   4. ,  68. ,  38. ,  12. ,\n",
       "         22. ,  27.4],\n",
       "       [ 50. ,  46. ,  69. ,   3. ,  13. ,  58. ,  21. ,  15. ,  46. ,\n",
       "         33. ,  35.4],\n",
       "       [ 80. ,  70. ,   1. ,  39. ,   4. ,  24. ,  11. ,  37. ,  32. ,\n",
       "         41. ,  33.9],\n",
       "       [554. , 520. , 459. , 420. , 439. , 459. , 409. , 510. , 372. ,\n",
       "        459. , 460.1]])"
      ]
     },
     "execution_count": 3,
     "metadata": {},
     "output_type": "execute_result"
    }
   ],
   "source": [
    "# 1.1\n",
    "arr = np.random.randint(1, 101, size=(10, 10), dtype=np.int64)\n",
    "\n",
    "# 1.2 о\n",
    "mean_all = np.mean(arr)  \n",
    "\n",
    "# 1.3\n",
    "mean_by_row = np.mean(arr, axis=1).reshape(-1, 1)  \n",
    "arr_with_mean = np.hstack((arr, mean_by_row))  \n",
    "\n",
    "# 1.4\n",
    "sum_by_col = np.sum(arr_with_mean, axis=0)  \n",
    "final_array = np.vstack((arr_with_mean, sum_by_col)) \n",
    "\n",
    "final_array"
   ]
  },
  {
   "cell_type": "markdown",
   "metadata": {},
   "source": [
    "#### Задача 2\n",
    "**2.1** Создать матрицу 7x7 с значениями `1,2,3,4,5,6,7` по главной диагонали, остальные нули. \n",
    "Два варианта решения: с помощью функции `np.diag()` и без(используя _broadcasting_)."
   ]
  },
  {
   "cell_type": "code",
   "execution_count": 7,
   "metadata": {},
   "outputs": [
    {
     "data": {
      "text/plain": [
       "array([[1, 0, 0, 0, 0, 0, 0],\n",
       "       [0, 2, 0, 0, 0, 0, 0],\n",
       "       [0, 0, 3, 0, 0, 0, 0],\n",
       "       [0, 0, 0, 4, 0, 0, 0],\n",
       "       [0, 0, 0, 0, 5, 0, 0],\n",
       "       [0, 0, 0, 0, 0, 6, 0],\n",
       "       [0, 0, 0, 0, 0, 0, 7]])"
      ]
     },
     "execution_count": 7,
     "metadata": {},
     "output_type": "execute_result"
    }
   ],
   "source": [
    "# создаём список от 1 до 7\n",
    "diagonal_values = np.arange(1, 8)\n",
    "\n",
    "# создаём диагональную матрицу\n",
    "matrix_diag = np.diag(diagonal_values)\n",
    "\n",
    "matrix_diag"
   ]
  },
  {
   "cell_type": "code",
   "execution_count": 11,
   "metadata": {},
   "outputs": [
    {
     "data": {
      "text/plain": [
       "array([[1, 0, 0, 0, 0, 0, 0],\n",
       "       [0, 2, 0, 0, 0, 0, 0],\n",
       "       [0, 0, 3, 0, 0, 0, 0],\n",
       "       [0, 0, 0, 4, 0, 0, 0],\n",
       "       [0, 0, 0, 0, 5, 0, 0],\n",
       "       [0, 0, 0, 0, 0, 6, 0],\n",
       "       [0, 0, 0, 0, 0, 0, 7]])"
      ]
     },
     "execution_count": 11,
     "metadata": {},
     "output_type": "execute_result"
    }
   ],
   "source": [
    "# Как использовать BROADCASTING ?\n",
    "\n",
    "# создаём нулевую матрицу\n",
    "matrix_diag_2 = np.zeros((7, 7), dtype=int)\n",
    "\n",
    "# создаём массив индексов\n",
    "i = np.arange(7)\n",
    "\n",
    "# записываем значения на диагональ\n",
    "matrix_diag_2[i, i] = np.arange(1, 8)\n",
    "\n",
    "matrix_diag_2"
   ]
  },
  {
   "cell_type": "markdown",
   "metadata": {},
   "source": [
    "#### Задача 3\n",
    "\n",
    "**3.1** Создать случайную матрицу 5x7 целых чисел от 1 до 100 и поменять местами 3-ю (индекс 2) и 5-ю (индекс 4) колонки"
   ]
  },
  {
   "cell_type": "code",
   "execution_count": 17,
   "metadata": {},
   "outputs": [
    {
     "data": {
      "text/plain": [
       "array([[81, 80, 95, 51, 69, 26, 64],\n",
       "       [ 9, 29, 23, 51, 15, 60, 11],\n",
       "       [ 3, 34, 51, 86, 21, 39, 89],\n",
       "       [30,  5, 69, 63, 47, 33, 24],\n",
       "       [16, 43, 29, 80, 40, 53, 27]])"
      ]
     },
     "execution_count": 17,
     "metadata": {},
     "output_type": "execute_result"
    }
   ],
   "source": [
    "np.set_printoptions(linewidth=110)\n",
    "\n",
    "# создаём случайную матрицу\n",
    "arr = np.random.randint(1, 101, size=(5, 7))\n",
    "\n",
    "# меняем 3-й и 5-й столбцы местами\n",
    "arr[:, [2, 4]] = arr[:, [4, 2]]\n",
    "arr"
   ]
  }
 ],
 "metadata": {
  "kernelspec": {
   "display_name": "Python 3 (ipykernel)",
   "language": "python",
   "name": "python3"
  },
  "language_info": {
   "codemirror_mode": {
    "name": "ipython",
    "version": 3
   },
   "file_extension": ".py",
   "mimetype": "text/x-python",
   "name": "python",
   "nbconvert_exporter": "python",
   "pygments_lexer": "ipython3",
   "version": "3.11.11"
  }
 },
 "nbformat": 4,
 "nbformat_minor": 4
}
