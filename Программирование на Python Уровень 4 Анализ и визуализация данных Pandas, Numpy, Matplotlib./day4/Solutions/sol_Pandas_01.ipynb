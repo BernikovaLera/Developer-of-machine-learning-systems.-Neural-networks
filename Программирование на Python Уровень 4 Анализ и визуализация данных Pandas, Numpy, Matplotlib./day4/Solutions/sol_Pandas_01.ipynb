{
 "cells": [
  {
   "cell_type": "code",
   "execution_count": 1,
   "id": "98197dfd",
   "metadata": {
    "slideshow": {
     "slide_type": "slide"
    }
   },
   "outputs": [],
   "source": [
    "import numpy as np\n",
    "import pandas as pd"
   ]
  },
  {
   "cell_type": "code",
   "execution_count": 2,
   "id": "f3cf7bee",
   "metadata": {
    "slideshow": {
     "slide_type": "slide"
    }
   },
   "outputs": [],
   "source": [
    "np.set_printoptions(linewidth=110, legacy='1.25', precision=2)\n",
    "from IPython.core.interactiveshell import InteractiveShell\n",
    "InteractiveShell.ast_node_interactivity = 'all'"
   ]
  },
  {
   "cell_type": "code",
   "execution_count": 3,
   "id": "3c903125",
   "metadata": {
    "slideshow": {
     "slide_type": "slide"
    }
   },
   "outputs": [],
   "source": [
    "from faker import Faker\n",
    "fake = Faker('ru_RU')"
   ]
  },
  {
   "cell_type": "markdown",
   "id": "9c8c8ba7",
   "metadata": {
    "slideshow": {
     "slide_type": "slide"
    }
   },
   "source": [
    "## Задания"
   ]
  },
  {
   "cell_type": "markdown",
   "id": "4aee7900",
   "metadata": {
    "slideshow": {
     "slide_type": "slide"
    }
   },
   "source": [
    "__Задача №1.__ Создайте объект Series для хранения оценок по какому-либо предмету, например, по \"Линейной Алгебре\".  \n",
    "   Пусть он содержит 10 студентов со случайными оценками от 2 до 5. Фамилии студентов должны быть индексами."
   ]
  },
  {
   "cell_type": "code",
   "execution_count": 27,
   "id": "a2d8ac1e",
   "metadata": {
    "slideshow": {
     "slide_type": "slide"
    }
   },
   "outputs": [],
   "source": [
    "# ключ p - это вероятности для всех значений из списка\n",
    "scores = lambda : np.random.choice([5, 4, 3, 2], size=(10,), p=[0.4, 0.3, 0.2, 0.1])"
   ]
  },
  {
   "cell_type": "code",
   "execution_count": 28,
   "id": "d05c444f",
   "metadata": {
    "slideshow": {
     "slide_type": "slide"
    }
   },
   "outputs": [
    {
     "data": {
      "text/plain": [
       "Турова Алла Георгиевна             5\n",
       "Анастасия Захаровна Крюкова        4\n",
       "Евдокия Федоровна Васильева        5\n",
       "Мясников Амос Германович           5\n",
       "Евфросиния Игоревна Селезнева      5\n",
       "Лидия Степановна Юдина             3\n",
       "Екатерина Архиповна Кондратьева    3\n",
       "Калинин Евгений Гордеевич          5\n",
       "Варфоломей Ефстафьевич Рябов       5\n",
       "г-жа Борисова Агата Федоровна      3\n",
       "Name: LinAlg, dtype: int64"
      ]
     },
     "execution_count": 28,
     "metadata": {},
     "output_type": "execute_result"
    }
   ],
   "source": [
    "students = [fake.name() for _ in range(10)]\n",
    "linalg = pd.Series(scores(), index=students, name='LinAlg')\n",
    "linalg"
   ]
  },
  {
   "cell_type": "markdown",
   "id": "783e5bad",
   "metadata": {
    "slideshow": {
     "slide_type": "slide"
    }
   },
   "source": [
    "__Задача №2.__ Выведите средний балл для всех, у кого оценка больше или равна 3."
   ]
  },
  {
   "cell_type": "code",
   "execution_count": 29,
   "id": "c459db04",
   "metadata": {
    "slideshow": {
     "slide_type": "slide"
    }
   },
   "outputs": [
    {
     "data": {
      "text/plain": [
       "4.3"
      ]
     },
     "execution_count": 29,
     "metadata": {},
     "output_type": "execute_result"
    }
   ],
   "source": [
    "linalg[linalg > 2].mean().round(2)"
   ]
  },
  {
   "cell_type": "markdown",
   "id": "aa06e2f7",
   "metadata": {
    "slideshow": {
     "slide_type": "slide"
    }
   },
   "source": [
    "__Задача №3.__ Создайте другой объект Series, для хранения оценок по другому предмету, например по \"Математическому Анализу\".  \n",
    "   Посчитайте средний балл для каждого студента по этим двум предметам. "
   ]
  },
  {
   "cell_type": "code",
   "execution_count": 34,
   "id": "d976a4f2",
   "metadata": {
    "slideshow": {
     "slide_type": "slide"
    }
   },
   "outputs": [
    {
     "data": {
      "text/plain": [
       "Турова Алла Георгиевна             3\n",
       "Анастасия Захаровна Крюкова        5\n",
       "Евдокия Федоровна Васильева        2\n",
       "Мясников Амос Германович           2\n",
       "Евфросиния Игоревна Селезнева      4\n",
       "Лидия Степановна Юдина             3\n",
       "Екатерина Архиповна Кондратьева    2\n",
       "Калинин Евгений Гордеевич          2\n",
       "Варфоломей Ефстафьевич Рябов       5\n",
       "г-жа Борисова Агата Федоровна      5\n",
       "Name: Matan, dtype: int32"
      ]
     },
     "execution_count": 34,
     "metadata": {},
     "output_type": "execute_result"
    }
   ],
   "source": [
    "matan = pd.Series(np.random.randint(2, 6, size=10), index=students, name='Matan')\n",
    "matan"
   ]
  },
  {
   "cell_type": "code",
   "execution_count": 35,
   "id": "d66351cb",
   "metadata": {
    "slideshow": {
     "slide_type": "slide"
    }
   },
   "outputs": [
    {
     "data": {
      "text/plain": [
       "Турова Алла Георгиевна             4.0\n",
       "Анастасия Захаровна Крюкова        4.5\n",
       "Евдокия Федоровна Васильева        3.5\n",
       "Мясников Амос Германович           3.5\n",
       "Евфросиния Игоревна Селезнева      4.5\n",
       "Лидия Степановна Юдина             3.0\n",
       "Екатерина Архиповна Кондратьева    2.5\n",
       "Калинин Евгений Гордеевич          3.5\n",
       "Варфоломей Ефстафьевич Рябов       5.0\n",
       "г-жа Борисова Агата Федоровна      4.0\n",
       "dtype: float64"
      ]
     },
     "execution_count": 35,
     "metadata": {},
     "output_type": "execute_result"
    }
   ],
   "source": [
    "average = (linalg + matan) / 2\n",
    "average"
   ]
  },
  {
   "cell_type": "code",
   "execution_count": null,
   "id": "845da220",
   "metadata": {},
   "outputs": [],
   "source": []
  }
 ],
 "metadata": {
  "celltoolbar": "Слайд-шоу",
  "kernelspec": {
   "display_name": "Python 3 (ipykernel)",
   "language": "python",
   "name": "python3"
  },
  "language_info": {
   "codemirror_mode": {
    "name": "ipython",
    "version": 3
   },
   "file_extension": ".py",
   "mimetype": "text/x-python",
   "name": "python",
   "nbconvert_exporter": "python",
   "pygments_lexer": "ipython3",
   "version": "3.11.11"
  }
 },
 "nbformat": 4,
 "nbformat_minor": 5
}
