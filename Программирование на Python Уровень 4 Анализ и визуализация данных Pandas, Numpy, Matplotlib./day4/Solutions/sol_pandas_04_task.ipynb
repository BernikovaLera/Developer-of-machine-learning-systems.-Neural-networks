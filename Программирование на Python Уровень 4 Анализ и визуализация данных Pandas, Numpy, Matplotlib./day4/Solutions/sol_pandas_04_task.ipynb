{
 "cells": [
  {
   "cell_type": "code",
   "execution_count": 1,
   "id": "c878d0a0",
   "metadata": {
    "slideshow": {
     "slide_type": "slide"
    }
   },
   "outputs": [],
   "source": [
    "import pandas as pd\n",
    "from IPython.core.interactiveshell import InteractiveShell\n",
    "InteractiveShell.ast_node_interactivity = \"all\"\n",
    "import numpy as np\n",
    "from faker import Faker\n",
    "fake = Faker(\"ru_RU\")"
   ]
  },
  {
   "cell_type": "markdown",
   "id": "dddfd8bf",
   "metadata": {
    "slideshow": {
     "slide_type": "slide"
    }
   },
   "source": [
    "### __Задание__\n",
    "\n",
    "1. Создайте DataFrame для пяти студентов и их оценок по предметам matan, linal, matstat и cs, заполните их случайными данными. Предметы - колонки, студенты - строки.\n",
    "2. Добавьте еще одного студента и данные по его успеваемости по предметам\n",
    "3. Добавьте предмет physics и оценки по нему\n",
    "6. Добавьте признак \"mean\" (\"средний балл\"), посчитайте в нем средний балл по каждому студенту.\n",
    "7. Для каждого студента посчитайте средний балл по всем предметам, кроме \"cs\" и \"mean\" (новый столбец датафрейма)\n",
    "8. Удалите предмет \"cs\"\n",
    "\n",
    "Варианты решения со столбцами  \n",
    "https://stackoverflow.com/questions/29763620/how-to-select-all-columns-except-one-in-pandas"
   ]
  },
  {
   "cell_type": "markdown",
   "id": "ffe5da41",
   "metadata": {
    "slideshow": {
     "slide_type": "slide"
    }
   },
   "source": [
    "**Task 1:** Создайте DataFrame для пяти студентов и их оценок по предметам matan, linal, matstat и cs, заполните их случайными данными"
   ]
  },
  {
   "cell_type": "code",
   "execution_count": 8,
   "id": "b5ca941e",
   "metadata": {
    "slideshow": {
     "slide_type": "fragment"
    }
   },
   "outputs": [
    {
     "data": {
      "text/html": [
       "<div>\n",
       "<style scoped>\n",
       "    .dataframe tbody tr th:only-of-type {\n",
       "        vertical-align: middle;\n",
       "    }\n",
       "\n",
       "    .dataframe tbody tr th {\n",
       "        vertical-align: top;\n",
       "    }\n",
       "\n",
       "    .dataframe thead th {\n",
       "        text-align: right;\n",
       "    }\n",
       "</style>\n",
       "<table border=\"1\" class=\"dataframe\">\n",
       "  <thead>\n",
       "    <tr style=\"text-align: right;\">\n",
       "      <th></th>\n",
       "      <th>matan</th>\n",
       "      <th>linal</th>\n",
       "      <th>matstat</th>\n",
       "      <th>cs</th>\n",
       "    </tr>\n",
       "  </thead>\n",
       "  <tbody>\n",
       "    <tr>\n",
       "      <th>Михеев Лазарь Ануфриевич</th>\n",
       "      <td>5</td>\n",
       "      <td>2</td>\n",
       "      <td>3</td>\n",
       "      <td>2</td>\n",
       "    </tr>\n",
       "    <tr>\n",
       "      <th>Исакова Евгения Анатольевна</th>\n",
       "      <td>3</td>\n",
       "      <td>5</td>\n",
       "      <td>4</td>\n",
       "      <td>5</td>\n",
       "    </tr>\n",
       "    <tr>\n",
       "      <th>Мартынова Октябрина Геннадиевна</th>\n",
       "      <td>2</td>\n",
       "      <td>3</td>\n",
       "      <td>2</td>\n",
       "      <td>5</td>\n",
       "    </tr>\n",
       "    <tr>\n",
       "      <th>Елена Евгеньевна Журавлева</th>\n",
       "      <td>3</td>\n",
       "      <td>3</td>\n",
       "      <td>4</td>\n",
       "      <td>4</td>\n",
       "    </tr>\n",
       "    <tr>\n",
       "      <th>Королева Любовь Александровна</th>\n",
       "      <td>2</td>\n",
       "      <td>2</td>\n",
       "      <td>3</td>\n",
       "      <td>3</td>\n",
       "    </tr>\n",
       "  </tbody>\n",
       "</table>\n",
       "</div>"
      ],
      "text/plain": [
       "                                 matan  linal  matstat  cs\n",
       "Михеев Лазарь Ануфриевич             5      2        3   2\n",
       "Исакова Евгения Анатольевна          3      5        4   5\n",
       "Мартынова Октябрина Геннадиевна      2      3        2   5\n",
       "Елена Евгеньевна Журавлева           3      3        4   4\n",
       "Королева Любовь Александровна        2      2        3   3"
      ]
     },
     "execution_count": 8,
     "metadata": {},
     "output_type": "execute_result"
    }
   ],
   "source": [
    "names = [fake.name() for _ in range(5)]\n",
    "col_names = [\"matan\", \"linal\", \"matstat\", \"cs\"]\n",
    "scores_mas = np.random.randint(2, 6, (5, 4))\n",
    "scores = pd.DataFrame(scores_mas, index=names, columns=col_names)\n",
    "scores"
   ]
  },
  {
   "cell_type": "markdown",
   "id": "b16bb0c4",
   "metadata": {
    "slideshow": {
     "slide_type": "slide"
    }
   },
   "source": [
    "**Task 2:** Добавьте еще одного студента и данные по его успеваемости по предметам"
   ]
  },
  {
   "cell_type": "code",
   "execution_count": 9,
   "id": "c7d5af97",
   "metadata": {
    "slideshow": {
     "slide_type": "fragment"
    }
   },
   "outputs": [
    {
     "data": {
      "text/html": [
       "<div>\n",
       "<style scoped>\n",
       "    .dataframe tbody tr th:only-of-type {\n",
       "        vertical-align: middle;\n",
       "    }\n",
       "\n",
       "    .dataframe tbody tr th {\n",
       "        vertical-align: top;\n",
       "    }\n",
       "\n",
       "    .dataframe thead th {\n",
       "        text-align: right;\n",
       "    }\n",
       "</style>\n",
       "<table border=\"1\" class=\"dataframe\">\n",
       "  <thead>\n",
       "    <tr style=\"text-align: right;\">\n",
       "      <th></th>\n",
       "      <th>matan</th>\n",
       "      <th>linal</th>\n",
       "      <th>matstat</th>\n",
       "      <th>cs</th>\n",
       "    </tr>\n",
       "  </thead>\n",
       "  <tbody>\n",
       "    <tr>\n",
       "      <th>Михеев Лазарь Ануфриевич</th>\n",
       "      <td>5</td>\n",
       "      <td>2</td>\n",
       "      <td>3</td>\n",
       "      <td>2</td>\n",
       "    </tr>\n",
       "    <tr>\n",
       "      <th>Исакова Евгения Анатольевна</th>\n",
       "      <td>3</td>\n",
       "      <td>5</td>\n",
       "      <td>4</td>\n",
       "      <td>5</td>\n",
       "    </tr>\n",
       "    <tr>\n",
       "      <th>Мартынова Октябрина Геннадиевна</th>\n",
       "      <td>2</td>\n",
       "      <td>3</td>\n",
       "      <td>2</td>\n",
       "      <td>5</td>\n",
       "    </tr>\n",
       "    <tr>\n",
       "      <th>Елена Евгеньевна Журавлева</th>\n",
       "      <td>3</td>\n",
       "      <td>3</td>\n",
       "      <td>4</td>\n",
       "      <td>4</td>\n",
       "    </tr>\n",
       "    <tr>\n",
       "      <th>Королева Любовь Александровна</th>\n",
       "      <td>2</td>\n",
       "      <td>2</td>\n",
       "      <td>3</td>\n",
       "      <td>3</td>\n",
       "    </tr>\n",
       "    <tr>\n",
       "      <th>Кошелева Иванна Альбертовна</th>\n",
       "      <td>5</td>\n",
       "      <td>2</td>\n",
       "      <td>5</td>\n",
       "      <td>5</td>\n",
       "    </tr>\n",
       "  </tbody>\n",
       "</table>\n",
       "</div>"
      ],
      "text/plain": [
       "                                 matan  linal  matstat  cs\n",
       "Михеев Лазарь Ануфриевич             5      2        3   2\n",
       "Исакова Евгения Анатольевна          3      5        4   5\n",
       "Мартынова Октябрина Геннадиевна      2      3        2   5\n",
       "Елена Евгеньевна Журавлева           3      3        4   4\n",
       "Королева Любовь Александровна        2      2        3   3\n",
       "Кошелева Иванна Альбертовна          5      2        5   5"
      ]
     },
     "execution_count": 9,
     "metadata": {},
     "output_type": "execute_result"
    }
   ],
   "source": [
    "scores.loc[fake.name()] = np.random.randint(2, 6, 4)\n",
    "scores"
   ]
  },
  {
   "cell_type": "markdown",
   "id": "fd591a7d",
   "metadata": {
    "slideshow": {
     "slide_type": "slide"
    }
   },
   "source": [
    "**Task 3:** Добавьте предмет `physics` и оценки по нему"
   ]
  },
  {
   "cell_type": "code",
   "execution_count": 10,
   "id": "ebad1ebf",
   "metadata": {
    "slideshow": {
     "slide_type": "fragment"
    }
   },
   "outputs": [
    {
     "data": {
      "text/html": [
       "<div>\n",
       "<style scoped>\n",
       "    .dataframe tbody tr th:only-of-type {\n",
       "        vertical-align: middle;\n",
       "    }\n",
       "\n",
       "    .dataframe tbody tr th {\n",
       "        vertical-align: top;\n",
       "    }\n",
       "\n",
       "    .dataframe thead th {\n",
       "        text-align: right;\n",
       "    }\n",
       "</style>\n",
       "<table border=\"1\" class=\"dataframe\">\n",
       "  <thead>\n",
       "    <tr style=\"text-align: right;\">\n",
       "      <th></th>\n",
       "      <th>matan</th>\n",
       "      <th>linal</th>\n",
       "      <th>matstat</th>\n",
       "      <th>cs</th>\n",
       "      <th>physics</th>\n",
       "    </tr>\n",
       "  </thead>\n",
       "  <tbody>\n",
       "    <tr>\n",
       "      <th>Михеев Лазарь Ануфриевич</th>\n",
       "      <td>5</td>\n",
       "      <td>2</td>\n",
       "      <td>3</td>\n",
       "      <td>2</td>\n",
       "      <td>4</td>\n",
       "    </tr>\n",
       "    <tr>\n",
       "      <th>Исакова Евгения Анатольевна</th>\n",
       "      <td>3</td>\n",
       "      <td>5</td>\n",
       "      <td>4</td>\n",
       "      <td>5</td>\n",
       "      <td>2</td>\n",
       "    </tr>\n",
       "    <tr>\n",
       "      <th>Мартынова Октябрина Геннадиевна</th>\n",
       "      <td>2</td>\n",
       "      <td>3</td>\n",
       "      <td>2</td>\n",
       "      <td>5</td>\n",
       "      <td>2</td>\n",
       "    </tr>\n",
       "    <tr>\n",
       "      <th>Елена Евгеньевна Журавлева</th>\n",
       "      <td>3</td>\n",
       "      <td>3</td>\n",
       "      <td>4</td>\n",
       "      <td>4</td>\n",
       "      <td>2</td>\n",
       "    </tr>\n",
       "    <tr>\n",
       "      <th>Королева Любовь Александровна</th>\n",
       "      <td>2</td>\n",
       "      <td>2</td>\n",
       "      <td>3</td>\n",
       "      <td>3</td>\n",
       "      <td>2</td>\n",
       "    </tr>\n",
       "    <tr>\n",
       "      <th>Кошелева Иванна Альбертовна</th>\n",
       "      <td>5</td>\n",
       "      <td>2</td>\n",
       "      <td>5</td>\n",
       "      <td>5</td>\n",
       "      <td>2</td>\n",
       "    </tr>\n",
       "  </tbody>\n",
       "</table>\n",
       "</div>"
      ],
      "text/plain": [
       "                                 matan  linal  matstat  cs  physics\n",
       "Михеев Лазарь Ануфриевич             5      2        3   2        4\n",
       "Исакова Евгения Анатольевна          3      5        4   5        2\n",
       "Мартынова Октябрина Геннадиевна      2      3        2   5        2\n",
       "Елена Евгеньевна Журавлева           3      3        4   4        2\n",
       "Королева Любовь Александровна        2      2        3   3        2\n",
       "Кошелева Иванна Альбертовна          5      2        5   5        2"
      ]
     },
     "execution_count": 10,
     "metadata": {},
     "output_type": "execute_result"
    }
   ],
   "source": [
    "scores[\"physics\"] = np.random.randint(2, 6, scores.shape[0])\n",
    "scores"
   ]
  },
  {
   "cell_type": "markdown",
   "id": "8ec44189",
   "metadata": {
    "slideshow": {
     "slide_type": "slide"
    }
   },
   "source": [
    "**Task 4:** Добавьте признак `mean` (\"средний балл\"), посчитайте в нем средний балл по каждому студенту."
   ]
  },
  {
   "cell_type": "code",
   "execution_count": 11,
   "id": "42c7d058",
   "metadata": {
    "slideshow": {
     "slide_type": "fragment"
    }
   },
   "outputs": [
    {
     "data": {
      "text/html": [
       "<div>\n",
       "<style scoped>\n",
       "    .dataframe tbody tr th:only-of-type {\n",
       "        vertical-align: middle;\n",
       "    }\n",
       "\n",
       "    .dataframe tbody tr th {\n",
       "        vertical-align: top;\n",
       "    }\n",
       "\n",
       "    .dataframe thead th {\n",
       "        text-align: right;\n",
       "    }\n",
       "</style>\n",
       "<table border=\"1\" class=\"dataframe\">\n",
       "  <thead>\n",
       "    <tr style=\"text-align: right;\">\n",
       "      <th></th>\n",
       "      <th>matan</th>\n",
       "      <th>linal</th>\n",
       "      <th>matstat</th>\n",
       "      <th>cs</th>\n",
       "      <th>physics</th>\n",
       "      <th>mean</th>\n",
       "    </tr>\n",
       "  </thead>\n",
       "  <tbody>\n",
       "    <tr>\n",
       "      <th>Михеев Лазарь Ануфриевич</th>\n",
       "      <td>5</td>\n",
       "      <td>2</td>\n",
       "      <td>3</td>\n",
       "      <td>2</td>\n",
       "      <td>4</td>\n",
       "      <td>3.2</td>\n",
       "    </tr>\n",
       "    <tr>\n",
       "      <th>Исакова Евгения Анатольевна</th>\n",
       "      <td>3</td>\n",
       "      <td>5</td>\n",
       "      <td>4</td>\n",
       "      <td>5</td>\n",
       "      <td>2</td>\n",
       "      <td>3.8</td>\n",
       "    </tr>\n",
       "    <tr>\n",
       "      <th>Мартынова Октябрина Геннадиевна</th>\n",
       "      <td>2</td>\n",
       "      <td>3</td>\n",
       "      <td>2</td>\n",
       "      <td>5</td>\n",
       "      <td>2</td>\n",
       "      <td>2.8</td>\n",
       "    </tr>\n",
       "    <tr>\n",
       "      <th>Елена Евгеньевна Журавлева</th>\n",
       "      <td>3</td>\n",
       "      <td>3</td>\n",
       "      <td>4</td>\n",
       "      <td>4</td>\n",
       "      <td>2</td>\n",
       "      <td>3.2</td>\n",
       "    </tr>\n",
       "    <tr>\n",
       "      <th>Королева Любовь Александровна</th>\n",
       "      <td>2</td>\n",
       "      <td>2</td>\n",
       "      <td>3</td>\n",
       "      <td>3</td>\n",
       "      <td>2</td>\n",
       "      <td>2.4</td>\n",
       "    </tr>\n",
       "    <tr>\n",
       "      <th>Кошелева Иванна Альбертовна</th>\n",
       "      <td>5</td>\n",
       "      <td>2</td>\n",
       "      <td>5</td>\n",
       "      <td>5</td>\n",
       "      <td>2</td>\n",
       "      <td>3.8</td>\n",
       "    </tr>\n",
       "  </tbody>\n",
       "</table>\n",
       "</div>"
      ],
      "text/plain": [
       "                                 matan  linal  matstat  cs  physics  mean\n",
       "Михеев Лазарь Ануфриевич             5      2        3   2        4   3.2\n",
       "Исакова Евгения Анатольевна          3      5        4   5        2   3.8\n",
       "Мартынова Октябрина Геннадиевна      2      3        2   5        2   2.8\n",
       "Елена Евгеньевна Журавлева           3      3        4   4        2   3.2\n",
       "Королева Любовь Александровна        2      2        3   3        2   2.4\n",
       "Кошелева Иванна Альбертовна          5      2        5   5        2   3.8"
      ]
     },
     "execution_count": 11,
     "metadata": {},
     "output_type": "execute_result"
    }
   ],
   "source": [
    "scores[\"mean\"] = scores.mean(axis=\"columns\")\n",
    "scores"
   ]
  },
  {
   "cell_type": "markdown",
   "id": "9a30e171",
   "metadata": {
    "slideshow": {
     "slide_type": "slide"
    }
   },
   "source": [
    "**Task 5:** Для каждого студента посчитайте средний балл по всем предметам, кроме `cs` и `mean` (новый столбец датафрейма)"
   ]
  },
  {
   "cell_type": "code",
   "execution_count": 12,
   "id": "7833b0c7",
   "metadata": {
    "slideshow": {
     "slide_type": "fragment"
    }
   },
   "outputs": [
    {
     "data": {
      "text/html": [
       "<div>\n",
       "<style scoped>\n",
       "    .dataframe tbody tr th:only-of-type {\n",
       "        vertical-align: middle;\n",
       "    }\n",
       "\n",
       "    .dataframe tbody tr th {\n",
       "        vertical-align: top;\n",
       "    }\n",
       "\n",
       "    .dataframe thead th {\n",
       "        text-align: right;\n",
       "    }\n",
       "</style>\n",
       "<table border=\"1\" class=\"dataframe\">\n",
       "  <thead>\n",
       "    <tr style=\"text-align: right;\">\n",
       "      <th></th>\n",
       "      <th>matan</th>\n",
       "      <th>linal</th>\n",
       "      <th>matstat</th>\n",
       "      <th>cs</th>\n",
       "      <th>physics</th>\n",
       "      <th>mean</th>\n",
       "      <th>mean_no_cs</th>\n",
       "    </tr>\n",
       "  </thead>\n",
       "  <tbody>\n",
       "    <tr>\n",
       "      <th>Михеев Лазарь Ануфриевич</th>\n",
       "      <td>5</td>\n",
       "      <td>2</td>\n",
       "      <td>3</td>\n",
       "      <td>2</td>\n",
       "      <td>4</td>\n",
       "      <td>3.2</td>\n",
       "      <td>3.50</td>\n",
       "    </tr>\n",
       "    <tr>\n",
       "      <th>Исакова Евгения Анатольевна</th>\n",
       "      <td>3</td>\n",
       "      <td>5</td>\n",
       "      <td>4</td>\n",
       "      <td>5</td>\n",
       "      <td>2</td>\n",
       "      <td>3.8</td>\n",
       "      <td>3.50</td>\n",
       "    </tr>\n",
       "    <tr>\n",
       "      <th>Мартынова Октябрина Геннадиевна</th>\n",
       "      <td>2</td>\n",
       "      <td>3</td>\n",
       "      <td>2</td>\n",
       "      <td>5</td>\n",
       "      <td>2</td>\n",
       "      <td>2.8</td>\n",
       "      <td>2.25</td>\n",
       "    </tr>\n",
       "    <tr>\n",
       "      <th>Елена Евгеньевна Журавлева</th>\n",
       "      <td>3</td>\n",
       "      <td>3</td>\n",
       "      <td>4</td>\n",
       "      <td>4</td>\n",
       "      <td>2</td>\n",
       "      <td>3.2</td>\n",
       "      <td>3.00</td>\n",
       "    </tr>\n",
       "    <tr>\n",
       "      <th>Королева Любовь Александровна</th>\n",
       "      <td>2</td>\n",
       "      <td>2</td>\n",
       "      <td>3</td>\n",
       "      <td>3</td>\n",
       "      <td>2</td>\n",
       "      <td>2.4</td>\n",
       "      <td>2.25</td>\n",
       "    </tr>\n",
       "    <tr>\n",
       "      <th>Кошелева Иванна Альбертовна</th>\n",
       "      <td>5</td>\n",
       "      <td>2</td>\n",
       "      <td>5</td>\n",
       "      <td>5</td>\n",
       "      <td>2</td>\n",
       "      <td>3.8</td>\n",
       "      <td>3.50</td>\n",
       "    </tr>\n",
       "  </tbody>\n",
       "</table>\n",
       "</div>"
      ],
      "text/plain": [
       "                                 matan  linal  matstat  cs  physics  mean  \\\n",
       "Михеев Лазарь Ануфриевич             5      2        3   2        4   3.2   \n",
       "Исакова Евгения Анатольевна          3      5        4   5        2   3.8   \n",
       "Мартынова Октябрина Геннадиевна      2      3        2   5        2   2.8   \n",
       "Елена Евгеньевна Журавлева           3      3        4   4        2   3.2   \n",
       "Королева Любовь Александровна        2      2        3   3        2   2.4   \n",
       "Кошелева Иванна Альбертовна          5      2        5   5        2   3.8   \n",
       "\n",
       "                                 mean_no_cs  \n",
       "Михеев Лазарь Ануфриевич               3.50  \n",
       "Исакова Евгения Анатольевна            3.50  \n",
       "Мартынова Октябрина Геннадиевна        2.25  \n",
       "Елена Евгеньевна Журавлева             3.00  \n",
       "Королева Любовь Александровна          2.25  \n",
       "Кошелева Иванна Альбертовна            3.50  "
      ]
     },
     "execution_count": 12,
     "metadata": {},
     "output_type": "execute_result"
    }
   ],
   "source": [
    "# Variant 1\n",
    "scores[\"mean_no_cs\"] = scores.loc[\n",
    "    :, scores.columns[(scores.columns != \"cs\") & (scores.columns != \"mean\")]\n",
    "].mean(axis=\"columns\")\n",
    "scores"
   ]
  },
  {
   "cell_type": "code",
   "execution_count": null,
   "id": "33e29374",
   "metadata": {
    "slideshow": {
     "slide_type": "slide"
    }
   },
   "outputs": [],
   "source": [
    "# Variant 2\n",
    "df[\"mean_except_cs\"] = df.loc[:, df.columns.difference([\"cs\", \"mean\"])].mean(axis=1)\n",
    "df"
   ]
  },
  {
   "cell_type": "markdown",
   "id": "7e14b8b3",
   "metadata": {
    "slideshow": {
     "slide_type": "slide"
    }
   },
   "source": [
    "**Task 6:** Удалите предмет `cs`"
   ]
  },
  {
   "cell_type": "code",
   "execution_count": 13,
   "id": "6d05cc26",
   "metadata": {
    "slideshow": {
     "slide_type": "fragment"
    }
   },
   "outputs": [
    {
     "data": {
      "text/html": [
       "<div>\n",
       "<style scoped>\n",
       "    .dataframe tbody tr th:only-of-type {\n",
       "        vertical-align: middle;\n",
       "    }\n",
       "\n",
       "    .dataframe tbody tr th {\n",
       "        vertical-align: top;\n",
       "    }\n",
       "\n",
       "    .dataframe thead th {\n",
       "        text-align: right;\n",
       "    }\n",
       "</style>\n",
       "<table border=\"1\" class=\"dataframe\">\n",
       "  <thead>\n",
       "    <tr style=\"text-align: right;\">\n",
       "      <th></th>\n",
       "      <th>matan</th>\n",
       "      <th>linal</th>\n",
       "      <th>matstat</th>\n",
       "      <th>physics</th>\n",
       "      <th>mean</th>\n",
       "      <th>mean_no_cs</th>\n",
       "    </tr>\n",
       "  </thead>\n",
       "  <tbody>\n",
       "    <tr>\n",
       "      <th>Михеев Лазарь Ануфриевич</th>\n",
       "      <td>5</td>\n",
       "      <td>2</td>\n",
       "      <td>3</td>\n",
       "      <td>4</td>\n",
       "      <td>3.2</td>\n",
       "      <td>3.50</td>\n",
       "    </tr>\n",
       "    <tr>\n",
       "      <th>Исакова Евгения Анатольевна</th>\n",
       "      <td>3</td>\n",
       "      <td>5</td>\n",
       "      <td>4</td>\n",
       "      <td>2</td>\n",
       "      <td>3.8</td>\n",
       "      <td>3.50</td>\n",
       "    </tr>\n",
       "    <tr>\n",
       "      <th>Мартынова Октябрина Геннадиевна</th>\n",
       "      <td>2</td>\n",
       "      <td>3</td>\n",
       "      <td>2</td>\n",
       "      <td>2</td>\n",
       "      <td>2.8</td>\n",
       "      <td>2.25</td>\n",
       "    </tr>\n",
       "    <tr>\n",
       "      <th>Елена Евгеньевна Журавлева</th>\n",
       "      <td>3</td>\n",
       "      <td>3</td>\n",
       "      <td>4</td>\n",
       "      <td>2</td>\n",
       "      <td>3.2</td>\n",
       "      <td>3.00</td>\n",
       "    </tr>\n",
       "    <tr>\n",
       "      <th>Королева Любовь Александровна</th>\n",
       "      <td>2</td>\n",
       "      <td>2</td>\n",
       "      <td>3</td>\n",
       "      <td>2</td>\n",
       "      <td>2.4</td>\n",
       "      <td>2.25</td>\n",
       "    </tr>\n",
       "    <tr>\n",
       "      <th>Кошелева Иванна Альбертовна</th>\n",
       "      <td>5</td>\n",
       "      <td>2</td>\n",
       "      <td>5</td>\n",
       "      <td>2</td>\n",
       "      <td>3.8</td>\n",
       "      <td>3.50</td>\n",
       "    </tr>\n",
       "  </tbody>\n",
       "</table>\n",
       "</div>"
      ],
      "text/plain": [
       "                                 matan  linal  matstat  physics  mean  \\\n",
       "Михеев Лазарь Ануфриевич             5      2        3        4   3.2   \n",
       "Исакова Евгения Анатольевна          3      5        4        2   3.8   \n",
       "Мартынова Октябрина Геннадиевна      2      3        2        2   2.8   \n",
       "Елена Евгеньевна Журавлева           3      3        4        2   3.2   \n",
       "Королева Любовь Александровна        2      2        3        2   2.4   \n",
       "Кошелева Иванна Альбертовна          5      2        5        2   3.8   \n",
       "\n",
       "                                 mean_no_cs  \n",
       "Михеев Лазарь Ануфриевич               3.50  \n",
       "Исакова Евгения Анатольевна            3.50  \n",
       "Мартынова Октябрина Геннадиевна        2.25  \n",
       "Елена Евгеньевна Журавлева             3.00  \n",
       "Королева Любовь Александровна          2.25  \n",
       "Кошелева Иванна Альбертовна            3.50  "
      ]
     },
     "execution_count": 13,
     "metadata": {},
     "output_type": "execute_result"
    }
   ],
   "source": [
    "scores.drop(\"cs\", axis=1, inplace=True)\n",
    "scores"
   ]
  }
 ],
 "metadata": {
  "celltoolbar": "Слайд-шоу",
  "kernelspec": {
   "display_name": "Python 3 (ipykernel)",
   "language": "python",
   "name": "python3"
  },
  "language_info": {
   "codemirror_mode": {
    "name": "ipython",
    "version": 3
   },
   "file_extension": ".py",
   "mimetype": "text/x-python",
   "name": "python",
   "nbconvert_exporter": "python",
   "pygments_lexer": "ipython3",
   "version": "3.11.11"
  }
 },
 "nbformat": 4,
 "nbformat_minor": 5
}
