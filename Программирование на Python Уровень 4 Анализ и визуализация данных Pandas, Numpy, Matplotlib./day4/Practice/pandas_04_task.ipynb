{
  "cells": [
    {
      "cell_type": "code",
      "execution_count": 1,
      "id": "AePqoTzPGLt1",
      "metadata": {
        "colab": {
          "base_uri": "https://localhost:8080/"
        },
        "id": "AePqoTzPGLt1",
        "outputId": "7cea7f70-7d37-46d3-ae48-6ca0bca69b7a"
      },
      "outputs": [
        {
          "name": "stdout",
          "output_type": "stream",
          "text": [
            "Collecting faker\n",
            "  Downloading faker-37.3.0-py3-none-any.whl.metadata (15 kB)\n",
            "Requirement already satisfied: tzdata in /usr/local/lib/python3.11/dist-packages (from faker) (2025.2)\n",
            "Downloading faker-37.3.0-py3-none-any.whl (1.9 MB)\n",
            "\u001b[2K   \u001b[90m━━━━━━━━━━━━━━━━━━━━━━━━━━━━━━━━━━━━━━━━\u001b[0m \u001b[32m1.9/1.9 MB\u001b[0m \u001b[31m20.2 MB/s\u001b[0m eta \u001b[36m0:00:00\u001b[0m\n",
            "\u001b[?25hInstalling collected packages: faker\n",
            "Successfully installed faker-37.3.0\n"
          ]
        }
      ],
      "source": [
        "!pip install faker"
      ]
    },
    {
      "cell_type": "code",
      "execution_count": 2,
      "id": "2ea32738",
      "metadata": {
        "id": "2ea32738"
      },
      "outputs": [],
      "source": [
        "import pandas as pd\n",
        "from IPython.core.interactiveshell import InteractiveShell\n",
        "InteractiveShell.ast_node_interactivity = \"all\"\n",
        "import numpy as np\n",
        "from faker import Faker\n",
        "fake = Faker(\"ru_RU\")"
      ]
    },
    {
      "cell_type": "markdown",
      "id": "462ece8e",
      "metadata": {
        "id": "462ece8e"
      },
      "source": [
        "### __Задание__\n",
        "\n",
        "1. Создайте DataFrame для пяти студентов и их оценок по предметам `matan`, `linal`, `matstat` и `cs`, заполните их случайными данными. Предметы - колонки, студенты - строки.\n",
        "2. Добавьте еще одного студента и данные по его успеваемости по предметам\n",
        "3. Добавьте предмет physics и оценки по нему\n",
        "4. Добавьте столбец \"mean\" (\"средний балл\"), посчитайте в нем средний балл по каждому студенту.\n",
        "5. Для каждого студента посчитайте средний балл по всем предметам, кроме \"cs\" и \"mean\" (новый столбец датафрейма)\n",
        "6. Удалите предмет \"cs\""
      ]
    },
    {
      "cell_type": "markdown",
      "id": "fd6709ca",
      "metadata": {
        "id": "fd6709ca"
      },
      "source": [
        "**Task1.** Создайте DataFrame для пяти студентов и их оценок по предметам `matan`, `linal`, `matstat` и `cs`, заполните их случайными данными. Предметы - колонки, студенты - строки."
      ]
    },
    {
      "cell_type": "code",
      "execution_count": 3,
      "id": "3b844e7b",
      "metadata": {
        "colab": {
          "base_uri": "https://localhost:8080/"
        },
        "id": "3b844e7b",
        "outputId": "ca4a025d-432b-42d6-d52b-11c88615589d"
      },
      "outputs": [
        {
          "name": "stdout",
          "output_type": "stream",
          "text": [
            "1. Исходный DataFrame:\n",
            "                matan  linal  matstat  cs\n",
            "Gregory Lee         4      5        2   4\n",
            "Angel Crawford      4      5        2   2\n",
            "Daniel Munoz        4      3        4   4\n",
            "James Douglas       4      4        5   2\n",
            "Luke Sandoval       5      5        5   4\n"
          ]
        }
      ],
      "source": [
        "# 1. Создаем DataFrame для 5 студентов с оценками\n",
        "fake = Faker()\n",
        "np.random.seed(42)  # Для воспроизводимости результатов\n",
        "\n",
        "students = [fake.name() for _ in range(5)]\n",
        "subjects = ['matan', 'linal', 'matstat', 'cs']\n",
        "grades = np.random.randint(2, 6, size=(5, 4))  # Оценки от 2 до 5\n",
        "\n",
        "df = pd.DataFrame(grades, index=students, columns=subjects)\n",
        "print(\"1. Исходный DataFrame:\")\n",
        "print(df)"
      ]
    },
    {
      "cell_type": "markdown",
      "id": "dc7e068d",
      "metadata": {
        "id": "dc7e068d"
      },
      "source": [
        "**Task2.** Добавьте еще одного студента и данные по его успеваемости по предметам"
      ]
    },
    {
      "cell_type": "code",
      "execution_count": 4,
      "id": "8bbba084",
      "metadata": {
        "colab": {
          "base_uri": "https://localhost:8080/"
        },
        "id": "8bbba084",
        "outputId": "26078251-0238-40c4-a545-04c7d8c7c017"
      },
      "outputs": [
        {
          "name": "stdout",
          "output_type": "stream",
          "text": [
            "\n",
            "2. После добавления нового студента:\n",
            "                matan  linal  matstat  cs\n",
            "Gregory Lee         4      5        2   4\n",
            "Angel Crawford      4      5        2   2\n",
            "Daniel Munoz        4      3        4   4\n",
            "James Douglas       4      4        5   2\n",
            "Luke Sandoval       5      5        5   4\n",
            "Jillian Todd        3      2        3   5\n"
          ]
        }
      ],
      "source": [
        "# 2. Добавляем нового студента\n",
        "new_student = fake.name()\n",
        "new_grades = np.random.randint(2, 6, size=4)\n",
        "df.loc[new_student] = new_grades\n",
        "print(\"\\n2. После добавления нового студента:\")\n",
        "print(df)\n"
      ]
    },
    {
      "cell_type": "markdown",
      "id": "50faf0c8",
      "metadata": {
        "id": "50faf0c8"
      },
      "source": [
        "**Task3.** Добавьте предмет physics и оценки по нему"
      ]
    },
    {
      "cell_type": "code",
      "execution_count": 5,
      "id": "68af8886",
      "metadata": {
        "colab": {
          "base_uri": "https://localhost:8080/"
        },
        "id": "68af8886",
        "outputId": "4b45c678-f7a0-45b0-ec08-e6984f1c6511"
      },
      "outputs": [
        {
          "name": "stdout",
          "output_type": "stream",
          "text": [
            "\n",
            "3. После добавления предмета physics:\n",
            "                matan  linal  matstat  cs  physics\n",
            "Gregory Lee         4      5        2   4        5\n",
            "Angel Crawford      4      5        2   2        3\n",
            "Daniel Munoz        4      3        4   4        3\n",
            "James Douglas       4      4        5   2        3\n",
            "Luke Sandoval       5      5        5   4        5\n",
            "Jillian Todd        3      2        3   5        5\n"
          ]
        }
      ],
      "source": [
        "# 3. Добавляем предмет physics\n",
        "df['physics'] = np.random.randint(2, 6, size=len(df))\n",
        "print(\"\\n3. После добавления предмета physics:\")\n",
        "print(df)"
      ]
    },
    {
      "cell_type": "markdown",
      "id": "add80ae5",
      "metadata": {
        "id": "add80ae5"
      },
      "source": [
        "**Task6.** Добавьте признак \"mean\" (\"средний балл\"), посчитайте в нем средний балл по каждому студенту."
      ]
    },
    {
      "cell_type": "code",
      "execution_count": 6,
      "id": "6c9628c2",
      "metadata": {
        "colab": {
          "base_uri": "https://localhost:8080/"
        },
        "id": "6c9628c2",
        "outputId": "ec30675b-e846-46e7-c0a5-febb294ed0a6"
      },
      "outputs": [
        {
          "name": "stdout",
          "output_type": "stream",
          "text": [
            "\n",
            "4. После добавления среднего балла:\n",
            "                matan  linal  matstat  cs  physics  mean\n",
            "Gregory Lee         4      5        2   4        5   4.0\n",
            "Angel Crawford      4      5        2   2        3   3.2\n",
            "Daniel Munoz        4      3        4   4        3   3.6\n",
            "James Douglas       4      4        5   2        3   3.6\n",
            "Luke Sandoval       5      5        5   4        5   4.8\n",
            "Jillian Todd        3      2        3   5        5   3.6\n"
          ]
        }
      ],
      "source": [
        "# 4. Добавляем столбец со средним баллом\n",
        "df['mean'] = df.mean(axis=1)\n",
        "print(\"\\n4. После добавления среднего балла:\")\n",
        "print(df)"
      ]
    },
    {
      "cell_type": "markdown",
      "id": "86fb4f76",
      "metadata": {
        "id": "86fb4f76"
      },
      "source": [
        "**Task7.** Для каждого студента посчитайте средний балл по всем предметам, кроме \"cs\" и \"mean\" (новый столбец датафрейма)"
      ]
    },
    {
      "cell_type": "code",
      "execution_count": 7,
      "id": "8459beb5",
      "metadata": {
        "colab": {
          "base_uri": "https://localhost:8080/"
        },
        "id": "8459beb5",
        "outputId": "58732f9a-25ec-47fc-bf0e-5b3f0bb813dc"
      },
      "outputs": [
        {
          "name": "stdout",
          "output_type": "stream",
          "text": [
            "\n",
            "5. Средний балл без учета cs и mean:\n",
            "                matan  linal  matstat  cs  physics  mean  mean_without_cs\n",
            "Gregory Lee         4      5        2   4        5   4.0             4.00\n",
            "Angel Crawford      4      5        2   2        3   3.2             3.50\n",
            "Daniel Munoz        4      3        4   4        3   3.6             3.50\n",
            "James Douglas       4      4        5   2        3   3.6             4.00\n",
            "Luke Sandoval       5      5        5   4        5   4.8             5.00\n",
            "Jillian Todd        3      2        3   5        5   3.6             3.25\n"
          ]
        }
      ],
      "source": [
        "# 5. Средний балл без учета cs и mean\n",
        "subjects_for_mean = [col for col in df.columns if col not in ['cs', 'mean']]\n",
        "df['mean_without_cs'] = df[subjects_for_mean].mean(axis=1)\n",
        "print(\"\\n5. Средний балл без учета cs и mean:\")\n",
        "print(df)"
      ]
    },
    {
      "cell_type": "markdown",
      "id": "b9969623",
      "metadata": {
        "id": "b9969623"
      },
      "source": [
        "**Task8.** Удалите предмет \"cs\""
      ]
    },
    {
      "cell_type": "code",
      "execution_count": 8,
      "id": "9d60fb74",
      "metadata": {
        "colab": {
          "base_uri": "https://localhost:8080/"
        },
        "id": "9d60fb74",
        "outputId": "8c55ef6b-05d0-4beb-e096-9bf6caf44e9a"
      },
      "outputs": [
        {
          "name": "stdout",
          "output_type": "stream",
          "text": [
            "\n",
            "6. После удаления предмета cs:\n",
            "                matan  linal  matstat  physics  mean  mean_without_cs\n",
            "Gregory Lee         4      5        2        5   4.0             4.00\n",
            "Angel Crawford      4      5        2        3   3.2             3.50\n",
            "Daniel Munoz        4      3        4        3   3.6             3.50\n",
            "James Douglas       4      4        5        3   3.6             4.00\n",
            "Luke Sandoval       5      5        5        5   4.8             5.00\n",
            "Jillian Todd        3      2        3        5   3.6             3.25\n"
          ]
        }
      ],
      "source": [
        "# 6. Удаляем предмет cs\n",
        "df = df.drop('cs', axis=1)\n",
        "print(\"\\n6. После удаления предмета cs:\")\n",
        "print(df)"
      ]
    }
  ],
  "metadata": {
    "celltoolbar": "Слайд-шоу",
    "colab": {
      "provenance": []
    },
    "kernelspec": {
      "display_name": "base",
      "language": "python",
      "name": "python3"
    },
    "language_info": {
      "codemirror_mode": {
        "name": "ipython",
        "version": 3
      },
      "file_extension": ".py",
      "mimetype": "text/x-python",
      "name": "python",
      "nbconvert_exporter": "python",
      "pygments_lexer": "ipython3",
      "version": "3.12.7"
    }
  },
  "nbformat": 4,
  "nbformat_minor": 5
}
