{
  "cells": [
    {
      "cell_type": "markdown",
      "metadata": {
        "id": "J5RdMLnPadu6"
      },
      "source": [
        "## Анализ и визуализация данных на языке Python."
      ]
    },
    {
      "cell_type": "code",
      "execution_count": 1,
      "metadata": {
        "id": "-dMkpXWaadu8"
      },
      "outputs": [],
      "source": [
        "import numpy as np\n",
        "import matplotlib.pyplot as plt\n",
        "\n",
        "%matplotlib inline\n",
        "from IPython.core.interactiveshell import InteractiveShell\n",
        "InteractiveShell.ast_node_interactivity = \"all\"\n",
        "np.set_printoptions(linewidth=110)\n",
        "np.set_printoptions(legacy=\"1.25\")"
      ]
    },
    {
      "cell_type": "markdown",
      "metadata": {
        "id": "JrAGxah3adu-"
      },
      "source": [
        "## Булево индексирование"
      ]
    },
    {
      "cell_type": "code",
      "execution_count": 2,
      "metadata": {
        "colab": {
          "base_uri": "https://localhost:8080/"
        },
        "id": "R6vDV0eKadu-",
        "outputId": "7dc900cf-6962-4733-ce23-4abd42506d74"
      },
      "outputs": [
        {
          "output_type": "execute_result",
          "data": {
            "text/plain": [
              "array(['Red', 'Green', 'Blue', 'Red', 'Blue', 'Green', 'Green'], dtype='<U5')"
            ]
          },
          "metadata": {},
          "execution_count": 2
        }
      ],
      "source": [
        "colors = np.array(['Red', 'Green', 'Blue', 'Red', 'Blue', 'Green', 'Green'])\n",
        "colors"
      ]
    },
    {
      "cell_type": "code",
      "execution_count": 3,
      "metadata": {
        "colab": {
          "base_uri": "https://localhost:8080/"
        },
        "id": "gq-VIdptadu-",
        "outputId": "3f142368-01d5-471f-8d31-d44c92f6a591"
      },
      "outputs": [
        {
          "output_type": "execute_result",
          "data": {
            "text/plain": [
              "(7,)"
            ]
          },
          "metadata": {},
          "execution_count": 3
        }
      ],
      "source": [
        "colors.shape"
      ]
    },
    {
      "cell_type": "code",
      "execution_count": 4,
      "metadata": {
        "colab": {
          "base_uri": "https://localhost:8080/",
          "height": 35
        },
        "id": "891ve5k1adu_",
        "outputId": "addad51c-19bc-46bf-f32f-fac24320db08"
      },
      "outputs": [
        {
          "output_type": "execute_result",
          "data": {
            "text/plain": [
              "'str160'"
            ],
            "application/vnd.google.colaboratory.intrinsic+json": {
              "type": "string"
            }
          },
          "metadata": {},
          "execution_count": 4
        }
      ],
      "source": [
        "colors.dtype.name"
      ]
    },
    {
      "cell_type": "code",
      "execution_count": 5,
      "metadata": {
        "colab": {
          "base_uri": "https://localhost:8080/"
        },
        "id": "IeICsQekadu_",
        "outputId": "6ae7e216-5997-4594-d8e3-cacdae946fd4"
      },
      "outputs": [
        {
          "output_type": "execute_result",
          "data": {
            "text/plain": [
              "array([[ 1.76405235,  0.40015721,  0.97873798,  2.2408932 ],\n",
              "       [ 1.86755799, -0.97727788,  0.95008842, -0.15135721],\n",
              "       [-0.10321885,  0.4105985 ,  0.14404357,  1.45427351],\n",
              "       [ 0.76103773,  0.12167502,  0.44386323,  0.33367433],\n",
              "       [ 1.49407907, -0.20515826,  0.3130677 , -0.85409574],\n",
              "       [-2.55298982,  0.6536186 ,  0.8644362 , -0.74216502],\n",
              "       [ 2.26975462, -1.45436567,  0.04575852, -0.18718385]])"
            ]
          },
          "metadata": {},
          "execution_count": 5
        }
      ],
      "source": [
        "# np.random.seed(<value>) фиксирует значения случайной выборки\n",
        "np.random.seed(0)\n",
        "data = np.random.randn(7, 4)\n",
        "data"
      ]
    },
    {
      "cell_type": "code",
      "execution_count": 6,
      "metadata": {
        "colab": {
          "base_uri": "https://localhost:8080/"
        },
        "id": "AF7eAaHOadu_",
        "outputId": "1a250d70-c5e7-4d41-f2de-9241eb996ad1"
      },
      "outputs": [
        {
          "output_type": "execute_result",
          "data": {
            "text/plain": [
              "array(['Red', 'Green', 'Blue', 'Red', 'Blue', 'Green', 'Green'], dtype='<U5')"
            ]
          },
          "metadata": {},
          "execution_count": 6
        }
      ],
      "source": [
        "colors"
      ]
    },
    {
      "cell_type": "code",
      "execution_count": 7,
      "metadata": {
        "colab": {
          "base_uri": "https://localhost:8080/"
        },
        "id": "puB1jVtfadvA",
        "outputId": "a13094a8-ef12-4d5b-c99c-ff36fcc0cb7a"
      },
      "outputs": [
        {
          "output_type": "execute_result",
          "data": {
            "text/plain": [
              "array([ True, False, False,  True, False, False, False])"
            ]
          },
          "metadata": {},
          "execution_count": 7
        }
      ],
      "source": [
        "colors == 'Red'"
      ]
    },
    {
      "cell_type": "code",
      "execution_count": 8,
      "metadata": {
        "colab": {
          "base_uri": "https://localhost:8080/"
        },
        "id": "P-5wBqjFadvA",
        "outputId": "f8a5bf79-e2df-41ff-ab8b-2afb67bd57b8"
      },
      "outputs": [
        {
          "output_type": "execute_result",
          "data": {
            "text/plain": [
              "array([ True, False, False,  True, False, False, False])"
            ]
          },
          "metadata": {},
          "execution_count": 8
        }
      ],
      "source": [
        "colors == 'Red'"
      ]
    },
    {
      "cell_type": "code",
      "execution_count": 9,
      "metadata": {
        "colab": {
          "base_uri": "https://localhost:8080/"
        },
        "id": "KzDRx3fFadvA",
        "outputId": "ed16ae21-883e-48a3-ec57-407f34748f03"
      },
      "outputs": [
        {
          "output_type": "execute_result",
          "data": {
            "text/plain": [
              "array([[ 1.76405235,  0.40015721,  0.97873798,  2.2408932 ],\n",
              "       [ 1.86755799, -0.97727788,  0.95008842, -0.15135721],\n",
              "       [-0.10321885,  0.4105985 ,  0.14404357,  1.45427351],\n",
              "       [ 0.76103773,  0.12167502,  0.44386323,  0.33367433],\n",
              "       [ 1.49407907, -0.20515826,  0.3130677 , -0.85409574],\n",
              "       [-2.55298982,  0.6536186 ,  0.8644362 , -0.74216502],\n",
              "       [ 2.26975462, -1.45436567,  0.04575852, -0.18718385]])"
            ]
          },
          "metadata": {},
          "execution_count": 9
        }
      ],
      "source": [
        "data"
      ]
    },
    {
      "cell_type": "code",
      "execution_count": 10,
      "metadata": {
        "colab": {
          "base_uri": "https://localhost:8080/"
        },
        "id": "oQChK3hIadvA",
        "outputId": "68ece65e-018c-431f-fff9-dfb778451e3a"
      },
      "outputs": [
        {
          "output_type": "execute_result",
          "data": {
            "text/plain": [
              "array([[1.76405235, 0.40015721, 0.97873798, 2.2408932 ],\n",
              "       [0.76103773, 0.12167502, 0.44386323, 0.33367433]])"
            ]
          },
          "metadata": {},
          "execution_count": 10
        }
      ],
      "source": [
        "data[colors == 'Red']   # тоже самое, что и data[colors == 'Red', :]"
      ]
    },
    {
      "cell_type": "code",
      "execution_count": 11,
      "metadata": {
        "colab": {
          "base_uri": "https://localhost:8080/"
        },
        "id": "sZ0mg6PradvA",
        "outputId": "88a121cc-f080-4a3f-903b-d34ba7cdce18"
      },
      "outputs": [
        {
          "output_type": "execute_result",
          "data": {
            "text/plain": [
              "array([[1.76405235, 0.40015721, 0.97873798, 2.2408932 ],\n",
              "       [0.76103773, 0.12167502, 0.44386323, 0.33367433]])"
            ]
          },
          "metadata": {},
          "execution_count": 11
        }
      ],
      "source": [
        "data[[0, 3]]  # Тот же результат, но явно указываем какие индексы брать для строк"
      ]
    },
    {
      "cell_type": "code",
      "execution_count": 12,
      "metadata": {
        "colab": {
          "base_uri": "https://localhost:8080/"
        },
        "id": "kwyOd538advB",
        "outputId": "0162e8ec-1d01-42b1-a25c-d1ea1738083b"
      },
      "outputs": [
        {
          "output_type": "execute_result",
          "data": {
            "text/plain": [
              "array([[ 1.76405235,  0.40015721,  0.97873798,  2.2408932 ],\n",
              "       [ 1.86755799, -0.97727788,  0.95008842, -0.15135721],\n",
              "       [ 0.76103773,  0.12167502,  0.44386323,  0.33367433],\n",
              "       [-2.55298982,  0.6536186 ,  0.8644362 , -0.74216502],\n",
              "       [ 2.26975462, -1.45436567,  0.04575852, -0.18718385]])"
            ]
          },
          "metadata": {},
          "execution_count": 12
        }
      ],
      "source": [
        "## Применяем булево индексирование\n",
        "data[(colors == 'Red') | (colors == 'Green')]   ## | это логическое \"ИЛИ\""
      ]
    },
    {
      "cell_type": "code",
      "execution_count": 13,
      "metadata": {
        "colab": {
          "base_uri": "https://localhost:8080/"
        },
        "id": "8aCTgHWwadvB",
        "outputId": "3078471d-52a9-4054-f8b4-d6b9b94dbf87"
      },
      "outputs": [
        {
          "output_type": "execute_result",
          "data": {
            "text/plain": [
              "array([[ 1.76405235,  0.40015721,  0.97873798,  2.2408932 ],\n",
              "       [ 1.86755799, -0.97727788,  0.95008842, -0.15135721],\n",
              "       [ 0.76103773,  0.12167502,  0.44386323,  0.33367433],\n",
              "       [-2.55298982,  0.6536186 ,  0.8644362 , -0.74216502],\n",
              "       [ 2.26975462, -1.45436567,  0.04575852, -0.18718385]])"
            ]
          },
          "metadata": {},
          "execution_count": 13
        }
      ],
      "source": [
        "## Применяем булево индексирование\n",
        "data[(colors == 'Red') | (colors == 'Green'), :]   ## data[[0, 1, 3, 5, 6], :]"
      ]
    },
    {
      "cell_type": "code",
      "execution_count": 14,
      "metadata": {
        "colab": {
          "base_uri": "https://localhost:8080/"
        },
        "id": "rruSxM-kadvB",
        "outputId": "6c267e4b-f152-4b99-8d69-c94db8a2e651"
      },
      "outputs": [
        {
          "output_type": "execute_result",
          "data": {
            "text/plain": [
              "array([[0.97873798, 2.2408932 ],\n",
              "       [0.44386323, 0.33367433]])"
            ]
          },
          "metadata": {},
          "execution_count": 14
        }
      ],
      "source": [
        "data[colors == 'Red', 2:]"
      ]
    },
    {
      "cell_type": "code",
      "execution_count": 15,
      "metadata": {
        "colab": {
          "base_uri": "https://localhost:8080/"
        },
        "id": "ZyfHgmFTadvB",
        "outputId": "6b35e2a8-b0c8-4a40-a57b-346feda2355c"
      },
      "outputs": [
        {
          "output_type": "execute_result",
          "data": {
            "text/plain": [
              "array([2.2408932 , 0.33367433])"
            ]
          },
          "metadata": {},
          "execution_count": 15
        }
      ],
      "source": [
        "data[colors == 'Red', 3]"
      ]
    },
    {
      "cell_type": "code",
      "execution_count": 16,
      "metadata": {
        "colab": {
          "base_uri": "https://localhost:8080/"
        },
        "id": "V90cmC6EadvB",
        "outputId": "e1255ed5-93f8-453b-b309-7188e1ecc80d"
      },
      "outputs": [
        {
          "output_type": "execute_result",
          "data": {
            "text/plain": [
              "array([[ 1.76405235,  0.40015721,  0.97873798,  2.2408932 ],\n",
              "       [ 1.86755799, -0.97727788,  0.95008842, -0.15135721],\n",
              "       [-0.10321885,  0.4105985 ,  0.14404357,  1.45427351],\n",
              "       [ 0.76103773,  0.12167502,  0.44386323,  0.33367433],\n",
              "       [ 1.49407907, -0.20515826,  0.3130677 , -0.85409574],\n",
              "       [-2.55298982,  0.6536186 ,  0.8644362 , -0.74216502],\n",
              "       [ 2.26975462, -1.45436567,  0.04575852, -0.18718385]])"
            ]
          },
          "metadata": {},
          "execution_count": 16
        }
      ],
      "source": [
        "data"
      ]
    },
    {
      "cell_type": "code",
      "execution_count": 17,
      "metadata": {
        "colab": {
          "base_uri": "https://localhost:8080/"
        },
        "id": "AqOGSQxCadvC",
        "outputId": "a11a4757-2c30-466e-94fd-97709879f704"
      },
      "outputs": [
        {
          "output_type": "execute_result",
          "data": {
            "text/plain": [
              "array([1.76405235, 0.33367433])"
            ]
          },
          "metadata": {},
          "execution_count": 17
        }
      ],
      "source": [
        "# Здесь не 4 элемента, а 2\n",
        "data[colors == 'Red', np.array([True, False, False, True])]"
      ]
    },
    {
      "cell_type": "code",
      "execution_count": 18,
      "metadata": {
        "colab": {
          "base_uri": "https://localhost:8080/"
        },
        "id": "LWMMOBICadvC",
        "outputId": "552e6811-2aa3-4923-9ed4-515584978ef9"
      },
      "outputs": [
        {
          "output_type": "execute_result",
          "data": {
            "text/plain": [
              "array([[1.76405235, 0.40015721, 0.97873798, 2.2408932 ],\n",
              "       [0.76103773, 0.12167502, 0.44386323, 0.33367433]])"
            ]
          },
          "metadata": {},
          "execution_count": 18
        }
      ],
      "source": [
        "res = data[colors == 'Red']; res"
      ]
    },
    {
      "cell_type": "code",
      "execution_count": 19,
      "metadata": {
        "colab": {
          "base_uri": "https://localhost:8080/"
        },
        "id": "jzNdjgT7advC",
        "outputId": "f4572b3d-2944-4fc6-b8e8-2e30734d0018"
      },
      "outputs": [
        {
          "output_type": "execute_result",
          "data": {
            "text/plain": [
              "array([[0.97873798, 2.2408932 ],\n",
              "       [0.44386323, 0.33367433]])"
            ]
          },
          "metadata": {},
          "execution_count": 19
        }
      ],
      "source": [
        "res[:, np.array([False, False, True, True])]"
      ]
    },
    {
      "cell_type": "code",
      "execution_count": 20,
      "metadata": {
        "colab": {
          "base_uri": "https://localhost:8080/"
        },
        "id": "lMlvyv-kadvC",
        "outputId": "b0594e5d-434f-4954-aff4-67e852a6fe14"
      },
      "outputs": [
        {
          "output_type": "execute_result",
          "data": {
            "text/plain": [
              "array([[0.40015721, 0.97873798, 2.2408932 ],\n",
              "       [0.12167502, 0.44386323, 0.33367433]])"
            ]
          },
          "metadata": {},
          "execution_count": 20
        }
      ],
      "source": [
        "data[colors == 'Red'][:, np.array([False, True, True, True])]"
      ]
    },
    {
      "cell_type": "code",
      "execution_count": 21,
      "metadata": {
        "colab": {
          "base_uri": "https://localhost:8080/"
        },
        "id": "74PKSKf_advC",
        "outputId": "44588f0c-16da-43a2-a19d-17423feb2d73"
      },
      "outputs": [
        {
          "output_type": "execute_result",
          "data": {
            "text/plain": [
              "array([False,  True,  True, False,  True,  True,  True])"
            ]
          },
          "metadata": {},
          "execution_count": 21
        }
      ],
      "source": [
        "(colors != 'Red')"
      ]
    },
    {
      "cell_type": "code",
      "execution_count": 22,
      "metadata": {
        "colab": {
          "base_uri": "https://localhost:8080/"
        },
        "id": "LFHNmrgiadvC",
        "outputId": "a054b58b-1975-4571-af56-261d23957d0b"
      },
      "outputs": [
        {
          "output_type": "execute_result",
          "data": {
            "text/plain": [
              "array([[ 1.86755799, -0.97727788,  0.95008842, -0.15135721],\n",
              "       [-0.10321885,  0.4105985 ,  0.14404357,  1.45427351],\n",
              "       [ 1.49407907, -0.20515826,  0.3130677 , -0.85409574],\n",
              "       [-2.55298982,  0.6536186 ,  0.8644362 , -0.74216502],\n",
              "       [ 2.26975462, -1.45436567,  0.04575852, -0.18718385]])"
            ]
          },
          "metadata": {},
          "execution_count": 22
        }
      ],
      "source": [
        "data[colors != 'Red']"
      ]
    },
    {
      "cell_type": "markdown",
      "metadata": {
        "id": "rWsF-5DQadvC"
      },
      "source": [
        "#### Логические операторы\n",
        "**and** и **or** не работают, поэтому нужны: **&**(и), **|**(или), **^**(xor), **~**(not)"
      ]
    },
    {
      "cell_type": "code",
      "execution_count": 23,
      "metadata": {
        "colab": {
          "base_uri": "https://localhost:8080/"
        },
        "id": "p9Mzq_99advD",
        "outputId": "00e9abc8-8122-4c5f-b4b0-c55c23d26031"
      },
      "outputs": [
        {
          "output_type": "execute_result",
          "data": {
            "text/plain": [
              "array([ True, False,  True,  True,  True, False, False])"
            ]
          },
          "metadata": {},
          "execution_count": 23
        }
      ],
      "source": [
        "mask = (colors == 'Red') | (colors == 'Blue'); mask"
      ]
    },
    {
      "cell_type": "code",
      "execution_count": 24,
      "metadata": {
        "colab": {
          "base_uri": "https://localhost:8080/"
        },
        "id": "1VsRUUgfadvD",
        "outputId": "acf62b66-106d-42d8-f88a-149785c40cef"
      },
      "outputs": [
        {
          "output_type": "execute_result",
          "data": {
            "text/plain": [
              "dtype('bool')"
            ]
          },
          "metadata": {},
          "execution_count": 24
        }
      ],
      "source": [
        "mask.dtype"
      ]
    },
    {
      "cell_type": "code",
      "execution_count": 25,
      "metadata": {
        "colab": {
          "base_uri": "https://localhost:8080/"
        },
        "id": "LMl_sHptadvD",
        "outputId": "c9573d5b-f101-47e3-9680-88dda082720b"
      },
      "outputs": [
        {
          "output_type": "execute_result",
          "data": {
            "text/plain": [
              "array([[ 1.76405235,  0.40015721,  0.97873798,  2.2408932 ],\n",
              "       [-0.10321885,  0.4105985 ,  0.14404357,  1.45427351],\n",
              "       [ 0.76103773,  0.12167502,  0.44386323,  0.33367433],\n",
              "       [ 1.49407907, -0.20515826,  0.3130677 , -0.85409574]])"
            ]
          },
          "metadata": {},
          "execution_count": 25
        }
      ],
      "source": [
        "data[mask] # Всегда возвращается копия!"
      ]
    },
    {
      "cell_type": "code",
      "execution_count": 26,
      "metadata": {
        "colab": {
          "base_uri": "https://localhost:8080/"
        },
        "id": "8xIdR7_WadvD",
        "outputId": "430b1901-2861-4a51-e42a-247ab8a84d49"
      },
      "outputs": [
        {
          "output_type": "execute_result",
          "data": {
            "text/plain": [
              "array([[ 1.76405235,  0.40015721,  0.97873798,  2.2408932 ],\n",
              "       [ 1.86755799, -0.97727788,  0.95008842, -0.15135721],\n",
              "       [-0.10321885,  0.4105985 ,  0.14404357,  1.45427351],\n",
              "       [ 0.76103773,  0.12167502,  0.44386323,  0.33367433],\n",
              "       [ 1.49407907, -0.20515826,  0.3130677 , -0.85409574],\n",
              "       [-2.55298982,  0.6536186 ,  0.8644362 , -0.74216502],\n",
              "       [ 2.26975462, -1.45436567,  0.04575852, -0.18718385]])"
            ]
          },
          "metadata": {},
          "execution_count": 26
        }
      ],
      "source": [
        "data"
      ]
    },
    {
      "cell_type": "code",
      "execution_count": 27,
      "metadata": {
        "colab": {
          "base_uri": "https://localhost:8080/"
        },
        "id": "BGfUDSvAadvD",
        "outputId": "7a3dadea-d37c-479c-bd85-c4934a9735b3"
      },
      "outputs": [
        {
          "output_type": "execute_result",
          "data": {
            "text/plain": [
              "array([[ True,  True,  True,  True],\n",
              "       [ True, False,  True, False],\n",
              "       [False,  True,  True,  True],\n",
              "       [ True,  True,  True,  True],\n",
              "       [ True, False,  True, False],\n",
              "       [False,  True,  True, False],\n",
              "       [ True, False,  True, False]])"
            ]
          },
          "metadata": {},
          "execution_count": 27
        }
      ],
      "source": [
        "data > 0"
      ]
    },
    {
      "cell_type": "code",
      "execution_count": 28,
      "metadata": {
        "colab": {
          "base_uri": "https://localhost:8080/"
        },
        "id": "6OrF3xcradvE",
        "outputId": "41819d9e-a38d-465d-e495-8a498cc6eaf4"
      },
      "outputs": [
        {
          "output_type": "execute_result",
          "data": {
            "text/plain": [
              "array([1.76405235, 0.40015721, 0.97873798, 2.2408932 , 1.86755799, 0.95008842, 0.4105985 , 0.14404357,\n",
              "       1.45427351, 0.76103773, 0.12167502, 0.44386323, 0.33367433, 1.49407907, 0.3130677 , 0.6536186 ,\n",
              "       0.8644362 , 2.26975462, 0.04575852])"
            ]
          },
          "metadata": {},
          "execution_count": 28
        }
      ],
      "source": [
        "data[data > 0]  # work, out: flat array"
      ]
    },
    {
      "cell_type": "code",
      "execution_count": 29,
      "metadata": {
        "colab": {
          "base_uri": "https://localhost:8080/"
        },
        "id": "JildXSq0advE",
        "outputId": "1ceec5a6-ca67-4545-c5b1-8109e55bc54b"
      },
      "outputs": [
        {
          "output_type": "execute_result",
          "data": {
            "text/plain": [
              "array([[ 0.        ,  0.        ,  0.        ,  0.        ],\n",
              "       [ 0.        , -0.97727788,  0.        , -0.15135721],\n",
              "       [-0.10321885,  0.        ,  0.        ,  0.        ],\n",
              "       [ 0.        ,  0.        ,  0.        ,  0.        ],\n",
              "       [ 0.        , -0.20515826,  0.        , -0.85409574],\n",
              "       [-2.55298982,  0.        ,  0.        , -0.74216502],\n",
              "       [ 0.        , -1.45436567,  0.        , -0.18718385]])"
            ]
          },
          "metadata": {},
          "execution_count": 29
        }
      ],
      "source": [
        "# Для элементов со значением индекса True изменить значение на 0\n",
        "data[data > 0] = 0\n",
        "data"
      ]
    },
    {
      "cell_type": "code",
      "execution_count": 30,
      "metadata": {
        "colab": {
          "base_uri": "https://localhost:8080/"
        },
        "id": "V8VxYGJZadvE",
        "outputId": "1c4ccbf7-f449-40fc-ad12-5b74e4c98709"
      },
      "outputs": [
        {
          "output_type": "execute_result",
          "data": {
            "text/plain": [
              "array([[ 5.        ,  5.        ,  5.        ,  5.        ],\n",
              "       [ 0.        , -0.97727788,  0.        , -0.15135721],\n",
              "       [ 5.        ,  5.        ,  5.        ,  5.        ],\n",
              "       [ 5.        ,  5.        ,  5.        ,  5.        ],\n",
              "       [ 5.        ,  5.        ,  5.        ,  5.        ],\n",
              "       [-2.55298982,  0.        ,  0.        , -0.74216502],\n",
              "       [ 0.        , -1.45436567,  0.        , -0.18718385]])"
            ]
          },
          "metadata": {},
          "execution_count": 30
        }
      ],
      "source": [
        "data[colors != 'Green'] = 5\n",
        "data"
      ]
    },
    {
      "cell_type": "markdown",
      "metadata": {
        "id": "YlOIQR9fadvE"
      },
      "source": [
        "### Практика"
      ]
    },
    {
      "cell_type": "markdown",
      "metadata": {
        "id": "T2B8bJ8YadvF"
      },
      "source": [
        "#### Задача 1\n",
        "\n",
        "Есть массив, нужно вывести элементы, согласно условию:\n",
        "1. Вывести все элементы кратные 3\n",
        "2. Вывести все элементы кратные 5\n",
        "3. Вывести все элементы кратные и 3 и 5\n",
        "4. Вывести все элементы кратные 3 или 5, кроме четных\n",
        "\n",
        "`&` - логическое `И`  \n",
        "\n",
        "`|` - логическое `ИЛИ`"
      ]
    },
    {
      "cell_type": "code",
      "execution_count": 31,
      "metadata": {
        "colab": {
          "base_uri": "https://localhost:8080/"
        },
        "id": "V0PEIDaladvF",
        "outputId": "4986cb50-ee21-453c-c05d-2dff4ab94c25"
      },
      "outputs": [
        {
          "output_type": "execute_result",
          "data": {
            "text/plain": [
              "array([25, 81, 84, 80, 10, 30, 43, 76, 25, 69, 30,  4,  5, 43, 98, 24, 81, 74, 87, 20])"
            ]
          },
          "metadata": {},
          "execution_count": 31
        }
      ],
      "source": [
        "np.random.seed(345)\n",
        "vector = np.random.randint(1, 100, size=20)\n",
        "vector"
      ]
    },
    {
      "cell_type": "code",
      "execution_count": 32,
      "metadata": {
        "colab": {
          "base_uri": "https://localhost:8080/"
        },
        "id": "jg6HxJFXadvF",
        "outputId": "8e751ca8-3cb4-45b4-cbda-77efcc4331ff"
      },
      "outputs": [
        {
          "output_type": "execute_result",
          "data": {
            "text/plain": [
              "array([81, 84, 30, 69, 30, 24, 81, 87])"
            ]
          },
          "metadata": {},
          "execution_count": 32
        },
        {
          "output_type": "execute_result",
          "data": {
            "text/plain": [
              "array([25, 80, 10, 30, 25, 30,  5, 20])"
            ]
          },
          "metadata": {},
          "execution_count": 32
        },
        {
          "output_type": "execute_result",
          "data": {
            "text/plain": [
              "array([30, 30])"
            ]
          },
          "metadata": {},
          "execution_count": 32
        },
        {
          "output_type": "execute_result",
          "data": {
            "text/plain": [
              "array([25, 81, 25, 69,  5, 81, 87])"
            ]
          },
          "metadata": {},
          "execution_count": 32
        }
      ],
      "source": [
        "# Маски\n",
        "mask3 = (vector % 3 == 0)\n",
        "mask5 = (vector % 5 == 0)\n",
        "odd_mask = (vector % 2 != 0)\n",
        "# Результаты\n",
        "vector[mask3]\n",
        "vector[mask5]\n",
        "vector[mask3 & mask5]\n",
        "vector[(mask3 | mask5) & odd_mask]"
      ]
    },
    {
      "cell_type": "markdown",
      "metadata": {
        "id": "Iwi-G7DQadvF"
      },
      "source": [
        "#### Задача №2\n",
        "Дан массив, поменять знак у элементов, значения которых между 3 и 8"
      ]
    },
    {
      "cell_type": "code",
      "execution_count": 33,
      "metadata": {
        "colab": {
          "base_uri": "https://localhost:8080/"
        },
        "id": "JQpX3_pnadvF",
        "outputId": "17d781f1-a2f2-4ca6-9550-4b283c043694"
      },
      "outputs": [
        {
          "output_type": "stream",
          "name": "stdout",
          "text": [
            "[[8 0 3 1]\n",
            " [5 7 4 5]\n",
            " [4 0 8 5]\n",
            " [6 3 3 4]\n",
            " [2 8 5 2]]\n"
          ]
        }
      ],
      "source": [
        "array = np.random.randint(0, 10, (5, 4));\n",
        "print(array)"
      ]
    },
    {
      "cell_type": "code",
      "execution_count": 34,
      "metadata": {
        "colab": {
          "base_uri": "https://localhost:8080/"
        },
        "id": "xNmpEr3-advF",
        "outputId": "4ba56102-3a16-4ebc-e8cd-8a91d33eb705"
      },
      "outputs": [
        {
          "output_type": "execute_result",
          "data": {
            "text/plain": [
              "array([[ 8,  0,  3,  1],\n",
              "       [-5, -7, -4, -5],\n",
              "       [-4,  0,  8, -5],\n",
              "       [-6,  3,  3, -4],\n",
              "       [ 2,  8, -5,  2]])"
            ]
          },
          "metadata": {},
          "execution_count": 34
        }
      ],
      "source": [
        "mask_new = (array > 3) & (array < 8)\n",
        "array[mask_new] *= -1\n",
        "array"
      ]
    },
    {
      "cell_type": "markdown",
      "metadata": {
        "id": "bbpizBJmadvG"
      },
      "source": [
        "## Fancy indexing"
      ]
    },
    {
      "cell_type": "code",
      "execution_count": 35,
      "metadata": {
        "colab": {
          "base_uri": "https://localhost:8080/"
        },
        "id": "8qgCvSzgadvG",
        "outputId": "0c822e33-b33e-4426-ae07-e42f193ca612"
      },
      "outputs": [
        {
          "output_type": "execute_result",
          "data": {
            "text/plain": [
              "array([[0, 1, 2, 3, 4, 5, 6, 7],\n",
              "       [0, 1, 2, 3, 4, 5, 6, 7],\n",
              "       [0, 1, 2, 3, 4, 5, 6, 7],\n",
              "       [0, 1, 2, 3, 4, 5, 6, 7]])"
            ]
          },
          "metadata": {},
          "execution_count": 35
        }
      ],
      "source": [
        "a = np.full((4, 8), np.arange(8))\n",
        "a"
      ]
    },
    {
      "cell_type": "code",
      "execution_count": 36,
      "metadata": {
        "id": "-9oDs0RFadvG"
      },
      "outputs": [],
      "source": [
        "a = a.T"
      ]
    },
    {
      "cell_type": "code",
      "execution_count": 37,
      "metadata": {
        "colab": {
          "base_uri": "https://localhost:8080/"
        },
        "id": "cU1MDeUQadvG",
        "outputId": "3a8081d9-b01b-444b-e06a-c536c3ee1e10"
      },
      "outputs": [
        {
          "output_type": "execute_result",
          "data": {
            "text/plain": [
              "array([[0, 0, 0, 0],\n",
              "       [1, 1, 1, 1],\n",
              "       [2, 2, 2, 2],\n",
              "       [3, 3, 3, 3],\n",
              "       [4, 4, 4, 4],\n",
              "       [5, 5, 5, 5],\n",
              "       [6, 6, 6, 6],\n",
              "       [7, 7, 7, 7]])"
            ]
          },
          "metadata": {},
          "execution_count": 37
        }
      ],
      "source": [
        "a"
      ]
    },
    {
      "cell_type": "code",
      "execution_count": 38,
      "metadata": {
        "colab": {
          "base_uri": "https://localhost:8080/"
        },
        "id": "hyzLZmI2advG",
        "outputId": "9a30124a-305f-4121-9811-d311310f7148"
      },
      "outputs": [
        {
          "output_type": "execute_result",
          "data": {
            "text/plain": [
              "array([[4, 4, 4, 4],\n",
              "       [3, 3, 3, 3],\n",
              "       [0, 0, 0, 0],\n",
              "       [6, 6, 6, 6]])"
            ]
          },
          "metadata": {},
          "execution_count": 38
        }
      ],
      "source": [
        "a[[4, 3, 0, 6]] # Изменяем порядок выдачи строк с указанными индексами"
      ]
    },
    {
      "cell_type": "code",
      "execution_count": 39,
      "metadata": {
        "colab": {
          "base_uri": "https://localhost:8080/"
        },
        "id": "sn1GX4eCadvG",
        "outputId": "cb2281ca-9ea4-475c-bd85-bd6a4c06c38a"
      },
      "outputs": [
        {
          "output_type": "execute_result",
          "data": {
            "text/plain": [
              "array([[0, 0, 0, 0],\n",
              "       [1, 1, 1, 1],\n",
              "       [2, 2, 2, 2],\n",
              "       [3, 3, 3, 3],\n",
              "       [4, 4, 4, 4],\n",
              "       [5, 5, 5, 5],\n",
              "       [6, 6, 6, 6],\n",
              "       [7, 7, 7, 7]])"
            ]
          },
          "metadata": {},
          "execution_count": 39
        },
        {
          "output_type": "execute_result",
          "data": {
            "text/plain": [
              "array([[5, 5, 5, 5],\n",
              "       [3, 3, 3, 3],\n",
              "       [1, 1, 1, 1]])"
            ]
          },
          "metadata": {},
          "execution_count": 39
        }
      ],
      "source": [
        "a\n",
        "a[[-3, -5, -7]]"
      ]
    },
    {
      "cell_type": "code",
      "execution_count": 40,
      "metadata": {
        "colab": {
          "base_uri": "https://localhost:8080/"
        },
        "id": "jaz5U5BBadvG",
        "outputId": "d2ab048f-a5bd-4c1e-d2b3-e048f6e00947"
      },
      "outputs": [
        {
          "output_type": "execute_result",
          "data": {
            "text/plain": [
              "array([[ 0,  1,  2,  3],\n",
              "       [ 4,  5,  6,  7],\n",
              "       [ 8,  9, 10, 11],\n",
              "       [12, 13, 14, 15],\n",
              "       [16, 17, 18, 19],\n",
              "       [20, 21, 22, 23],\n",
              "       [24, 25, 26, 27],\n",
              "       [28, 29, 30, 31]])"
            ]
          },
          "metadata": {},
          "execution_count": 40
        }
      ],
      "source": [
        "a = np.arange(32).reshape((8, 4)); a"
      ]
    },
    {
      "cell_type": "code",
      "execution_count": 41,
      "metadata": {
        "colab": {
          "base_uri": "https://localhost:8080/"
        },
        "id": "z8M9HHUKadvH",
        "outputId": "3d45f9d6-c701-43e9-e95c-5ef265771e82"
      },
      "outputs": [
        {
          "output_type": "execute_result",
          "data": {
            "text/plain": [
              "array([[ 3,  1],\n",
              "       [ 7,  5],\n",
              "       [11,  9],\n",
              "       [15, 13],\n",
              "       [19, 17],\n",
              "       [23, 21],\n",
              "       [27, 25],\n",
              "       [31, 29]])"
            ]
          },
          "metadata": {},
          "execution_count": 41
        }
      ],
      "source": [
        "a[:, [-1, 1]]"
      ]
    },
    {
      "cell_type": "markdown",
      "metadata": {
        "id": "iK3cBrMFadvH"
      },
      "source": [
        "#### Но здесь по-другому!!!"
      ]
    },
    {
      "cell_type": "code",
      "execution_count": 42,
      "metadata": {
        "colab": {
          "base_uri": "https://localhost:8080/"
        },
        "id": "DDBVUGGTadvH",
        "outputId": "d8d9631d-e07f-481c-8a3e-f9db91d8edd1"
      },
      "outputs": [
        {
          "output_type": "execute_result",
          "data": {
            "text/plain": [
              "array([[ 0,  1,  2,  3],\n",
              "       [ 4,  5,  6,  7],\n",
              "       [ 8,  9, 10, 11],\n",
              "       [12, 13, 14, 15],\n",
              "       [16, 17, 18, 19],\n",
              "       [20, 21, 22, 23],\n",
              "       [24, 25, 26, 27],\n",
              "       [28, 29, 30, 31]])"
            ]
          },
          "metadata": {},
          "execution_count": 42
        }
      ],
      "source": [
        "a"
      ]
    },
    {
      "cell_type": "code",
      "execution_count": 43,
      "metadata": {
        "colab": {
          "base_uri": "https://localhost:8080/"
        },
        "id": "1Vyzf0POadvH",
        "outputId": "9e208870-abb1-4423-fe3e-f043982d0646"
      },
      "outputs": [
        {
          "output_type": "execute_result",
          "data": {
            "text/plain": [
              "array([ 4, 23, 29, 10])"
            ]
          },
          "metadata": {},
          "execution_count": 43
        }
      ],
      "source": [
        "# (1, 0), (5, 3), (7, 1), (2, 2) это индексы элементов\n",
        "a[[1, 5, 7, 2], [0, 3, 1, 2]]"
      ]
    },
    {
      "cell_type": "code",
      "execution_count": 44,
      "metadata": {
        "colab": {
          "base_uri": "https://localhost:8080/"
        },
        "id": "kfDZZ4TuadvH",
        "outputId": "315feb0c-0910-4306-955f-27f3874da277"
      },
      "outputs": [
        {
          "output_type": "execute_result",
          "data": {
            "text/plain": [
              "array([[ 0,  1,  2,  3],\n",
              "       [ 4,  5,  6,  7],\n",
              "       [ 8,  9, 10, 11],\n",
              "       [12, 13, 14, 15],\n",
              "       [16, 17, 18, 19],\n",
              "       [20, 21, 22, 23],\n",
              "       [24, 25, 26, 27],\n",
              "       [28, 29, 30, 31]])"
            ]
          },
          "metadata": {},
          "execution_count": 44
        }
      ],
      "source": [
        "a"
      ]
    },
    {
      "cell_type": "code",
      "execution_count": 45,
      "metadata": {
        "colab": {
          "base_uri": "https://localhost:8080/"
        },
        "id": "XT1gAF3jadvH",
        "outputId": "27d30694-f9c5-4913-df61-d714e826d96d"
      },
      "outputs": [
        {
          "output_type": "execute_result",
          "data": {
            "text/plain": [
              "array([[ 4,  5,  6,  7],\n",
              "       [20, 21, 22, 23],\n",
              "       [28, 29, 30, 31],\n",
              "       [ 8,  9, 10, 11]])"
            ]
          },
          "metadata": {},
          "execution_count": 45
        }
      ],
      "source": [
        "a[[1, 5, 7, 2]]"
      ]
    },
    {
      "cell_type": "markdown",
      "metadata": {
        "id": "cv3zZNkCadvI"
      },
      "source": [
        "#### Работа с осями с помощью функции np.ix_()"
      ]
    },
    {
      "cell_type": "code",
      "execution_count": 46,
      "metadata": {
        "colab": {
          "base_uri": "https://localhost:8080/"
        },
        "id": "Va7HVabmadvI",
        "outputId": "68e1971e-cbcc-4487-b4a0-987515c84c9a"
      },
      "outputs": [
        {
          "output_type": "execute_result",
          "data": {
            "text/plain": [
              "array([[ 0,  1,  2,  3],\n",
              "       [ 4,  5,  6,  7],\n",
              "       [ 8,  9, 10, 11],\n",
              "       [12, 13, 14, 15],\n",
              "       [16, 17, 18, 19],\n",
              "       [20, 21, 22, 23],\n",
              "       [24, 25, 26, 27],\n",
              "       [28, 29, 30, 31]])"
            ]
          },
          "metadata": {},
          "execution_count": 46
        }
      ],
      "source": [
        "a"
      ]
    },
    {
      "cell_type": "code",
      "execution_count": 47,
      "metadata": {
        "colab": {
          "base_uri": "https://localhost:8080/"
        },
        "id": "aZx78FW-advI",
        "outputId": "34439f7d-79e0-4599-8573-9de49af0c0e3"
      },
      "outputs": [
        {
          "output_type": "execute_result",
          "data": {
            "text/plain": [
              "array([[ 0,  1,  2,  3],\n",
              "       [ 4,  5,  6,  7],\n",
              "       [ 8,  9, 10, 11],\n",
              "       [12, 13, 14, 15],\n",
              "       [16, 17, 18, 19],\n",
              "       [20, 21, 22, 23],\n",
              "       [24, 25, 26, 27],\n",
              "       [28, 29, 30, 31]])"
            ]
          },
          "metadata": {},
          "execution_count": 47
        },
        {
          "output_type": "execute_result",
          "data": {
            "text/plain": [
              "array([[ 4,  5,  6,  7],\n",
              "       [20, 21, 22, 23],\n",
              "       [28, 29, 30, 31],\n",
              "       [ 8,  9, 10, 11]])"
            ]
          },
          "metadata": {},
          "execution_count": 47
        },
        {
          "output_type": "execute_result",
          "data": {
            "text/plain": [
              "array([[ 4,  4,  7,  5,  6,  4],\n",
              "       [20, 20, 23, 21, 22, 20],\n",
              "       [28, 28, 31, 29, 30, 28],\n",
              "       [ 8,  8, 11,  9, 10,  8]])"
            ]
          },
          "metadata": {},
          "execution_count": 47
        }
      ],
      "source": [
        "a\n",
        "a[[1, 5, 7, 2]]\n",
        "## Работа с осями\n",
        "a[np.ix_([1, 5, 7, 2], [0, 0, 3, 1, 2, 0])]"
      ]
    },
    {
      "cell_type": "code",
      "execution_count": 48,
      "metadata": {
        "colab": {
          "base_uri": "https://localhost:8080/"
        },
        "id": "3PRDzk58advI",
        "outputId": "f69eb0fd-3f2d-4ae7-ab93-5a2dfa0d26fd"
      },
      "outputs": [
        {
          "output_type": "execute_result",
          "data": {
            "text/plain": [
              "array([[ 4, 20, 28,  8],\n",
              "       [ 4, 20, 28,  8],\n",
              "       [ 7, 23, 31, 11],\n",
              "       [ 5, 21, 29,  9],\n",
              "       [ 6, 22, 30, 10],\n",
              "       [ 4, 20, 28,  8]])"
            ]
          },
          "metadata": {},
          "execution_count": 48
        }
      ],
      "source": [
        "# Изменение порядка осей. В данном случае тоже самое, что и transpose()\n",
        "a[np.ix_([1, 5, 7, 2], [0, 0, 3, 1, 2, 0])].swapaxes(1, 0)"
      ]
    },
    {
      "cell_type": "markdown",
      "metadata": {
        "id": "1OyVGhQ8advI"
      },
      "source": [
        "### Функции np.put() и np.take()"
      ]
    },
    {
      "cell_type": "code",
      "execution_count": 49,
      "metadata": {
        "colab": {
          "base_uri": "https://localhost:8080/"
        },
        "id": "RgIsBxKjadvJ",
        "outputId": "061b327a-24c0-4d48-e63f-aa31b581bb6b"
      },
      "outputs": [
        {
          "output_type": "stream",
          "name": "stdout",
          "text": [
            "[[  0   1   4   9]\n",
            " [ 16  25  36  49]\n",
            " [ 64  81 100 121]\n",
            " [144 169 196 225]]\n",
            "[  0   1   4   9  16  25  36  49  64  81 100 121 144 169 196 225]\n"
          ]
        }
      ],
      "source": [
        "a = np.arange(16) ** 2\n",
        "a = a.reshape(4, 4)\n",
        "print(a)\n",
        "print(a.ravel())"
      ]
    },
    {
      "cell_type": "code",
      "execution_count": 50,
      "metadata": {
        "colab": {
          "base_uri": "https://localhost:8080/"
        },
        "id": "gu3Z97yEadvJ",
        "outputId": "5ec172a3-4615-40a3-bcff-18d761e8dcc8"
      },
      "outputs": [
        {
          "output_type": "execute_result",
          "data": {
            "text/plain": [
              "array([[  0,   1,   4,   9],\n",
              "       [ 16,  25,  36,  49],\n",
              "       [ 64,  81, 100, 121],\n",
              "       [144, 169, 196, 225]])"
            ]
          },
          "metadata": {},
          "execution_count": 50
        },
        {
          "output_type": "execute_result",
          "data": {
            "text/plain": [
              "array([  9,  25,  49, 225])"
            ]
          },
          "metadata": {},
          "execution_count": 50
        }
      ],
      "source": [
        "a\n",
        "## Индексы вектор-строки (плоские индексы)\n",
        "b = a.take([3, 5, 7, 15]); b"
      ]
    },
    {
      "cell_type": "code",
      "execution_count": 51,
      "metadata": {
        "colab": {
          "base_uri": "https://localhost:8080/"
        },
        "id": "tERueXfHadvJ",
        "outputId": "53928359-ddc7-45e8-826f-b4c890a32ad6"
      },
      "outputs": [
        {
          "output_type": "execute_result",
          "data": {
            "text/plain": [
              "array([[  0,   1,   4,   9],\n",
              "       [ 16,  25,  36,  49],\n",
              "       [ 64,  81, 100, 121],\n",
              "       [144, 169, 196, 225]])"
            ]
          },
          "metadata": {},
          "execution_count": 51
        }
      ],
      "source": [
        "a"
      ]
    },
    {
      "cell_type": "code",
      "execution_count": 52,
      "metadata": {
        "colab": {
          "base_uri": "https://localhost:8080/"
        },
        "id": "m3G8F3keadvJ",
        "outputId": "cccb11d6-b84b-43f7-9570-44276e5fcd72"
      },
      "outputs": [
        {
          "output_type": "execute_result",
          "data": {
            "text/plain": [
              "array([  1, 169])"
            ]
          },
          "metadata": {},
          "execution_count": 52
        }
      ],
      "source": [
        "a.take([1, 13])"
      ]
    },
    {
      "cell_type": "code",
      "execution_count": 53,
      "metadata": {
        "colab": {
          "base_uri": "https://localhost:8080/"
        },
        "id": "isTyPQmzadvJ",
        "outputId": "1a6b460d-9e1d-4213-fc09-82fa8ab6df55"
      },
      "outputs": [
        {
          "output_type": "execute_result",
          "data": {
            "text/plain": [
              "array([[  0,   1,   4,   9],\n",
              "       [ 16,  25,  36,  49],\n",
              "       [ 64,  81, 100, 121],\n",
              "       [144, 169, 196, 225]])"
            ]
          },
          "metadata": {},
          "execution_count": 53
        }
      ],
      "source": [
        "a"
      ]
    },
    {
      "cell_type": "code",
      "execution_count": 54,
      "metadata": {
        "colab": {
          "base_uri": "https://localhost:8080/"
        },
        "id": "1FQ35PCFadvJ",
        "outputId": "1dc3b763-710c-4495-cf36-a79c943d3362"
      },
      "outputs": [
        {
          "output_type": "execute_result",
          "data": {
            "text/plain": [
              "array([[  0,   1,  33,   9],\n",
              "       [ 16,  25,  36,  49],\n",
              "       [ 64,  81,  44, 121],\n",
              "       [144, 169, 196, 225]])"
            ]
          },
          "metadata": {},
          "execution_count": 54
        }
      ],
      "source": [
        "## Меняем значения у элементов с индексами 2 и 10\n",
        "a.put([2, 10], [33, 44]); a   # Индексы вектор-строки"
      ]
    },
    {
      "cell_type": "code",
      "execution_count": 55,
      "metadata": {
        "colab": {
          "base_uri": "https://localhost:8080/"
        },
        "id": "_YHPHc-RadvJ",
        "outputId": "9aa2cd3c-2f4e-40d9-87a9-25173c17a8e4"
      },
      "outputs": [
        {
          "output_type": "execute_result",
          "data": {
            "text/plain": [
              "array([[43, 44, 14, 11, 12],\n",
              "       [ 3, 16, 11, 21, 41],\n",
              "       [37, 46, 23,  7, 22]])"
            ]
          },
          "metadata": {},
          "execution_count": 55
        }
      ],
      "source": [
        "a2d = np.random.randint(50, size=[3, 5]); a2d"
      ]
    },
    {
      "cell_type": "code",
      "execution_count": 56,
      "metadata": {
        "colab": {
          "base_uri": "https://localhost:8080/"
        },
        "id": "F2GZap6AadvJ",
        "outputId": "ba28adc0-7e49-4ece-d056-28209c0eb7f5"
      },
      "outputs": [
        {
          "output_type": "execute_result",
          "data": {
            "text/plain": [
              "(3, 5)"
            ]
          },
          "metadata": {},
          "execution_count": 56
        }
      ],
      "source": [
        "a2d.shape"
      ]
    },
    {
      "cell_type": "code",
      "execution_count": 57,
      "metadata": {
        "colab": {
          "base_uri": "https://localhost:8080/"
        },
        "id": "G1T38jw1advJ",
        "outputId": "6c5914b1-9295-4f15-b0de-73ddb4f300a5"
      },
      "outputs": [
        {
          "output_type": "execute_result",
          "data": {
            "text/plain": [
              "array([[100,  44,  14,  11, 104],\n",
              "       [  3, 101,  11, 103,  41],\n",
              "       [ 37,  46, 102,   7,  22]])"
            ]
          },
          "metadata": {},
          "execution_count": 57
        }
      ],
      "source": [
        "a2d.put(\n",
        "    [0, (1 * 5 + 1), (2 * 5 + 2), (1 * 5 + 3), 4],\n",
        "    [100, 101, 102, 103, 104]\n",
        ")\n",
        "a2d"
      ]
    },
    {
      "cell_type": "code",
      "execution_count": 58,
      "metadata": {
        "colab": {
          "base_uri": "https://localhost:8080/"
        },
        "id": "PUNjgD1_advK",
        "outputId": "f14764bc-613c-430c-c717-b488fc6f7e09"
      },
      "outputs": [
        {
          "output_type": "execute_result",
          "data": {
            "text/plain": [
              "array([[100,  44,  14,  11, 104],\n",
              "       [  3, 101,  11, 103,  41],\n",
              "       [ 37,  46, 102,   7,  22]])"
            ]
          },
          "metadata": {},
          "execution_count": 58
        },
        {
          "output_type": "stream",
          "name": "stdout",
          "text": [
            "min_idx = 5\n"
          ]
        },
        {
          "output_type": "execute_result",
          "data": {
            "text/plain": [
              "3"
            ]
          },
          "metadata": {},
          "execution_count": 58
        }
      ],
      "source": [
        "a2d\n",
        "## Индекс минимального элемента массива-ленточки(flatten)\n",
        "min_idx = np.argmin(a2d);\n",
        "print(f'{min_idx = !s}') # !s -> str\n",
        "np.take(a2d, min_idx)"
      ]
    },
    {
      "cell_type": "code",
      "execution_count": 59,
      "metadata": {
        "colab": {
          "base_uri": "https://localhost:8080/"
        },
        "id": "nERLKz2uadvK",
        "outputId": "9a7c1b99-5f6b-4684-e3d1-784534224685"
      },
      "outputs": [
        {
          "output_type": "execute_result",
          "data": {
            "text/plain": [
              "(3, 5)"
            ]
          },
          "metadata": {},
          "execution_count": 59
        }
      ],
      "source": [
        "a2d.shape"
      ]
    },
    {
      "cell_type": "code",
      "execution_count": 60,
      "metadata": {
        "colab": {
          "base_uri": "https://localhost:8080/"
        },
        "id": "GKZOBFqQadvK",
        "outputId": "0a19ab45-0371-40f2-819a-a2c7f740cc6c"
      },
      "outputs": [
        {
          "output_type": "execute_result",
          "data": {
            "text/plain": [
              "(3, 5)"
            ]
          },
          "metadata": {},
          "execution_count": 60
        },
        {
          "output_type": "stream",
          "name": "stdout",
          "text": [
            "(1, 0)\n"
          ]
        }
      ],
      "source": [
        "a2d.shape\n",
        "index = int(min_idx // a2d.shape[1]), int(min_idx % a2d.shape[1])\n",
        "print(index)"
      ]
    },
    {
      "cell_type": "code",
      "execution_count": 61,
      "metadata": {
        "colab": {
          "base_uri": "https://localhost:8080/"
        },
        "id": "o5AeqaiIadvK",
        "outputId": "72a54add-9a7e-47b6-cdc3-0133092534c9"
      },
      "outputs": [
        {
          "output_type": "stream",
          "name": "stdout",
          "text": [
            "3\n"
          ]
        }
      ],
      "source": [
        "print(a2d[index])"
      ]
    },
    {
      "cell_type": "code",
      "execution_count": 62,
      "metadata": {
        "colab": {
          "base_uri": "https://localhost:8080/"
        },
        "id": "lkH17waUadvL",
        "outputId": "13b1fc36-0cec-485f-c066-3a83a1fcfb13"
      },
      "outputs": [
        {
          "output_type": "execute_result",
          "data": {
            "text/plain": [
              "(1, 0)"
            ]
          },
          "metadata": {},
          "execution_count": 62
        }
      ],
      "source": [
        "## Изменяет значение линейного индекса в индекс нужной размерности\n",
        "np.unravel_index(min_idx, a2d.shape)"
      ]
    },
    {
      "cell_type": "code",
      "execution_count": 63,
      "metadata": {
        "colab": {
          "base_uri": "https://localhost:8080/"
        },
        "id": "e8zb0ZCNadvL",
        "outputId": "97edd16f-6746-441b-f6d0-c0aecc9fe7f7"
      },
      "outputs": [
        {
          "output_type": "execute_result",
          "data": {
            "text/plain": [
              "4"
            ]
          },
          "metadata": {},
          "execution_count": 63
        }
      ],
      "source": [
        "max_idx = np.argmax(a2d);max_idx  ## Индекс максимального элемента массива"
      ]
    },
    {
      "cell_type": "code",
      "execution_count": 64,
      "metadata": {
        "colab": {
          "base_uri": "https://localhost:8080/"
        },
        "id": "T1eed-xqadvL",
        "outputId": "759dd5a1-c0c7-45e8-dd00-59a2e28eb8b9"
      },
      "outputs": [
        {
          "output_type": "execute_result",
          "data": {
            "text/plain": [
              "(0, 4)"
            ]
          },
          "metadata": {},
          "execution_count": 64
        }
      ],
      "source": [
        "np.unravel_index(max_idx, a2d.shape)"
      ]
    },
    {
      "cell_type": "code",
      "execution_count": 65,
      "metadata": {
        "colab": {
          "base_uri": "https://localhost:8080/"
        },
        "id": "w1YrmUqcadvL",
        "outputId": "288ecab6-a5bb-4786-ddaf-138ce0f41ffc"
      },
      "outputs": [
        {
          "output_type": "stream",
          "name": "stdout",
          "text": [
            "1,1,2\n"
          ]
        }
      ],
      "source": [
        "min_idx = 14\n",
        "axis0, others_axis = divmod(min_idx, 2 * 4)  # min_idx // 8, min_idx % 8\n",
        "axis1, offset_axis2 = divmod(others_axis, 4)\n",
        "print(axis0, axis1, offset_axis2, sep=',')"
      ]
    },
    {
      "cell_type": "code",
      "execution_count": 66,
      "metadata": {
        "colab": {
          "base_uri": "https://localhost:8080/"
        },
        "id": "jT0yowizadvL",
        "outputId": "d177b977-7f67-4c66-e4d7-738fcd16432c"
      },
      "outputs": [
        {
          "output_type": "execute_result",
          "data": {
            "text/plain": [
              "(1, 1, 2)"
            ]
          },
          "metadata": {},
          "execution_count": 66
        }
      ],
      "source": [
        "# Изменяет значение линейного индекса в индекс нужной размерности\n",
        "np.unravel_index(min_idx, (3, 2, 4))  # Вспомнить и проверить"
      ]
    },
    {
      "cell_type": "code",
      "execution_count": 67,
      "metadata": {
        "colab": {
          "base_uri": "https://localhost:8080/"
        },
        "id": "mr3SeIWjadvL",
        "outputId": "ead81a85-93d2-41e6-a231-d2a27bc28d39"
      },
      "outputs": [
        {
          "output_type": "execute_result",
          "data": {
            "text/plain": [
              "(1, 0, 2)"
            ]
          },
          "metadata": {},
          "execution_count": 67
        }
      ],
      "source": [
        "np.unravel_index(11, (3, 3, 3))  # (1, 0, 2)"
      ]
    },
    {
      "cell_type": "code",
      "execution_count": 68,
      "metadata": {
        "colab": {
          "base_uri": "https://localhost:8080/"
        },
        "id": "S1KaWveVadvM",
        "outputId": "610cd506-61e7-4e46-c899-3ec198526758"
      },
      "outputs": [
        {
          "output_type": "execute_result",
          "data": {
            "text/plain": [
              "array([[100,  44,  14,  11, 104],\n",
              "       [  3, 101,  11, 103,  41],\n",
              "       [ 37,  46, 102,   7,  22]])"
            ]
          },
          "metadata": {},
          "execution_count": 68
        },
        {
          "output_type": "execute_result",
          "data": {
            "text/plain": [
              "104"
            ]
          },
          "metadata": {},
          "execution_count": 68
        }
      ],
      "source": [
        "a2d\n",
        "# Максимальный элемент массива\n",
        "a2d[np.unravel_index(max_idx, a2d.shape)]"
      ]
    },
    {
      "cell_type": "code",
      "execution_count": 69,
      "metadata": {
        "colab": {
          "base_uri": "https://localhost:8080/"
        },
        "id": "0R9R8ioNadvM",
        "outputId": "340e9d06-7a3d-4392-e0e8-4b1347e233c2"
      },
      "outputs": [
        {
          "output_type": "execute_result",
          "data": {
            "text/plain": [
              "(0, 4)"
            ]
          },
          "metadata": {},
          "execution_count": 69
        }
      ],
      "source": [
        "# Индекс максимального элемент массива\n",
        "np.unravel_index(max_idx, (3, 5))"
      ]
    },
    {
      "cell_type": "code",
      "execution_count": 70,
      "metadata": {
        "colab": {
          "base_uri": "https://localhost:8080/"
        },
        "id": "iW47S2SoadvM",
        "outputId": "691621e5-bddf-4b0b-8346-2c8af5cbfb60"
      },
      "outputs": [
        {
          "output_type": "execute_result",
          "data": {
            "text/plain": [
              "104"
            ]
          },
          "metadata": {},
          "execution_count": 70
        }
      ],
      "source": [
        "# тот же самый результат, но с помощью flat индекса\n",
        "np.take(a2d, max_idx)"
      ]
    },
    {
      "cell_type": "markdown",
      "metadata": {
        "id": "dzVCs16sadvM"
      },
      "source": [
        "### Numpy.where()\n",
        "Векторный вариант тернарного выражения **x if condition else y**"
      ]
    },
    {
      "cell_type": "code",
      "execution_count": 71,
      "metadata": {
        "colab": {
          "base_uri": "https://localhost:8080/"
        },
        "id": "Z7T6FR1-advN",
        "outputId": "f981c1f7-1083-416c-c153-44e274d30581"
      },
      "outputs": [
        {
          "output_type": "stream",
          "name": "stdout",
          "text": [
            "good\n",
            "good\n",
            "bad line\n",
            "27\n"
          ]
        }
      ],
      "source": [
        "# 1 Вариант\n",
        "if len('hello') > 4:\n",
        "    print('good')\n",
        "else:\n",
        "    print('bad')\n",
        "\n",
        "# 2 Вариант: a if True else b\n",
        "print('good') if len('hello') > 4 else print('bad')\n",
        "\n",
        "res = 'good line' if len('hello') > 5 else 'bad line'\n",
        "print(res)\n",
        "\n",
        "i = 3\n",
        "result = i ** 2 if i > 4 else i ** 3\n",
        "print(result)"
      ]
    },
    {
      "cell_type": "code",
      "execution_count": 72,
      "metadata": {
        "id": "hQWLL_zmadvN"
      },
      "outputs": [],
      "source": [
        "x_array = np.array([1.1, 1.2, 1.3, 1.4, 1.5])\n",
        "y_array = np.array([2.1, 2.2, 2.3, 2.4, 2.5])\n",
        "condition = np.array([True, False, True, True, False])"
      ]
    },
    {
      "cell_type": "code",
      "execution_count": 73,
      "metadata": {
        "colab": {
          "base_uri": "https://localhost:8080/"
        },
        "id": "30AmDVpcadvN",
        "outputId": "9fb59159-7dfe-40c1-f617-c309405e9f2b"
      },
      "outputs": [
        {
          "output_type": "execute_result",
          "data": {
            "text/plain": [
              "[(1.1, 2.1, True),\n",
              " (1.2, 2.2, False),\n",
              " (1.3, 2.3, True),\n",
              " (1.4, 2.4, True),\n",
              " (1.5, 2.5, False)]"
            ]
          },
          "metadata": {},
          "execution_count": 73
        }
      ],
      "source": [
        "list(zip(x_array, y_array, condition))"
      ]
    },
    {
      "cell_type": "code",
      "execution_count": 74,
      "metadata": {
        "colab": {
          "base_uri": "https://localhost:8080/"
        },
        "id": "M8v0_p4CadvN",
        "outputId": "1a6f876b-7b2f-481e-e5fc-2c63ffba9791"
      },
      "outputs": [
        {
          "output_type": "execute_result",
          "data": {
            "text/plain": [
              "array([1.1, 1.2, 1.3, 1.4, 1.5])"
            ]
          },
          "metadata": {},
          "execution_count": 74
        },
        {
          "output_type": "execute_result",
          "data": {
            "text/plain": [
              "array([2.1, 2.2, 2.3, 2.4, 2.5])"
            ]
          },
          "metadata": {},
          "execution_count": 74
        },
        {
          "output_type": "execute_result",
          "data": {
            "text/plain": [
              "array([ True, False,  True,  True, False])"
            ]
          },
          "metadata": {},
          "execution_count": 74
        },
        {
          "output_type": "execute_result",
          "data": {
            "text/plain": [
              "[1.1, 2.2, 1.3, 1.4, 2.5]"
            ]
          },
          "metadata": {},
          "execution_count": 74
        }
      ],
      "source": [
        "x_array\n",
        "y_array\n",
        "condition\n",
        "result = [(x if c else y) for x, y, c in zip(x_array, y_array, condition)]\n",
        "result"
      ]
    },
    {
      "cell_type": "code",
      "execution_count": 75,
      "metadata": {
        "colab": {
          "base_uri": "https://localhost:8080/"
        },
        "id": "-CfEkTAyadvN",
        "outputId": "d77055d4-9922-4903-ad67-27a0a3420461"
      },
      "outputs": [
        {
          "output_type": "execute_result",
          "data": {
            "text/plain": [
              "array([ True, False,  True,  True, False])"
            ]
          },
          "metadata": {},
          "execution_count": 75
        },
        {
          "output_type": "execute_result",
          "data": {
            "text/plain": [
              "(array([0, 2, 3]),)"
            ]
          },
          "metadata": {},
          "execution_count": 75
        }
      ],
      "source": [
        "condition\n",
        "## Результат - это индексы, в которых значение True\n",
        "np.where(condition)"
      ]
    },
    {
      "cell_type": "code",
      "execution_count": 76,
      "metadata": {
        "colab": {
          "base_uri": "https://localhost:8080/"
        },
        "id": "Zr7UsPgzadvN",
        "outputId": "7126be4d-c86e-4119-d178-bde1bcc0244b"
      },
      "outputs": [
        {
          "output_type": "execute_result",
          "data": {
            "text/plain": [
              "array([1.1, 2.2, 1.3, 1.4, 2.5])"
            ]
          },
          "metadata": {},
          "execution_count": 76
        }
      ],
      "source": [
        "# Если condition == True тогда берем элемент из x_array, иначе из y_array\n",
        "result = np.where(condition, x_array, y_array)\n",
        "result"
      ]
    },
    {
      "cell_type": "code",
      "execution_count": 77,
      "metadata": {
        "colab": {
          "base_uri": "https://localhost:8080/"
        },
        "id": "1TmSVKRcadvN",
        "outputId": "fb27cc68-1e8e-4856-e120-60078be770bd"
      },
      "outputs": [
        {
          "output_type": "execute_result",
          "data": {
            "text/plain": [
              "(array([3, 4]),)"
            ]
          },
          "metadata": {},
          "execution_count": 77
        }
      ],
      "source": [
        "# Возращает индексы элементов, для которых верно условие (x_array > 1.3)\n",
        "idx = np.where(x_array > 1.3); idx"
      ]
    },
    {
      "cell_type": "code",
      "execution_count": 78,
      "metadata": {
        "colab": {
          "base_uri": "https://localhost:8080/"
        },
        "id": "LHEozP50advO",
        "outputId": "54e90d7f-4b79-4468-bfc2-a32ec4c0e0d6"
      },
      "outputs": [
        {
          "output_type": "execute_result",
          "data": {
            "text/plain": [
              "array([1.4, 1.5])"
            ]
          },
          "metadata": {},
          "execution_count": 78
        }
      ],
      "source": [
        "x_array[idx]"
      ]
    },
    {
      "cell_type": "code",
      "execution_count": 79,
      "metadata": {
        "colab": {
          "base_uri": "https://localhost:8080/"
        },
        "id": "e1C8eVOkadvO",
        "outputId": "13668810-00be-4af0-911d-3921e7d39488"
      },
      "outputs": [
        {
          "output_type": "execute_result",
          "data": {
            "text/plain": [
              "array([[ 0.44122749, -0.33087015,  2.43077119, -0.25209213],\n",
              "       [ 0.10960984,  1.58248112, -0.9092324 , -0.59163666],\n",
              "       [ 0.18760323, -0.32986996, -1.19276461, -0.20487651],\n",
              "       [-0.35882895,  0.6034716 , -1.66478853, -0.70017904]])"
            ]
          },
          "metadata": {},
          "execution_count": 79
        }
      ],
      "source": [
        "np.random.seed(5)\n",
        "a = np.random.randn(4, 4); a"
      ]
    },
    {
      "cell_type": "code",
      "execution_count": 80,
      "metadata": {
        "colab": {
          "base_uri": "https://localhost:8080/"
        },
        "id": "eUlRBm0sadvO",
        "outputId": "dcd35f53-6e72-448d-f5ac-e76d1bbd7bb0"
      },
      "outputs": [
        {
          "output_type": "execute_result",
          "data": {
            "text/plain": [
              "array([[ 2, -2,  2, -2],\n",
              "       [ 2,  2, -2, -2],\n",
              "       [ 2, -2, -2, -2],\n",
              "       [-2,  2, -2, -2]])"
            ]
          },
          "metadata": {},
          "execution_count": 80
        }
      ],
      "source": [
        "np.where(a > 0, 2, -2) # положительные меняем на 2, отрицательные на -2"
      ]
    },
    {
      "cell_type": "code",
      "execution_count": 81,
      "metadata": {
        "colab": {
          "base_uri": "https://localhost:8080/"
        },
        "id": "wabap8wPadvO",
        "outputId": "b7a5c309-f7f2-4b4a-aa62-fd1370579a79"
      },
      "outputs": [
        {
          "output_type": "execute_result",
          "data": {
            "text/plain": [
              "array([[ 0.44122749, 99.        ,  2.43077119, 99.        ],\n",
              "       [ 0.10960984,  1.58248112, 99.        , 99.        ],\n",
              "       [ 0.18760323, 99.        , -1.19276461, 99.        ],\n",
              "       [99.        ,  0.6034716 , -1.66478853, 99.        ]])"
            ]
          },
          "metadata": {},
          "execution_count": 81
        }
      ],
      "source": [
        "# Для чисел из интервала (-1;0) установим значение 99\n",
        "np.where((a > -1) & ( a < 0), 99, a)"
      ]
    },
    {
      "cell_type": "code",
      "execution_count": 82,
      "metadata": {
        "colab": {
          "base_uri": "https://localhost:8080/"
        },
        "id": "6ykuBJMladvO",
        "outputId": "793b8741-245f-45a2-fc2f-a162368b0431"
      },
      "outputs": [
        {
          "output_type": "execute_result",
          "data": {
            "text/plain": [
              "array([ 0.44122749, 99.        ,  2.43077119, 99.        ])"
            ]
          },
          "metadata": {},
          "execution_count": 82
        }
      ],
      "source": [
        "np.where((a[0] > -1) & ( a[0] < 0), 99, a[0])"
      ]
    },
    {
      "cell_type": "code",
      "execution_count": 83,
      "metadata": {
        "colab": {
          "base_uri": "https://localhost:8080/"
        },
        "id": "HnOclx1NadvO",
        "outputId": "32b59ab0-56c0-4bff-f7b7-b74d7a038948"
      },
      "outputs": [
        {
          "output_type": "execute_result",
          "data": {
            "text/plain": [
              "array([[ 0.44122749],\n",
              "       [ 0.10960984],\n",
              "       [ 0.18760323],\n",
              "       [99.        ]])"
            ]
          },
          "metadata": {},
          "execution_count": 83
        }
      ],
      "source": [
        "np.where((a[:, 0] > -1) & ( a[:, 0] < 0), 99, a[:, 0])[:, None]"
      ]
    }
  ],
  "metadata": {
    "celltoolbar": "Слайд-шоу",
    "kernelspec": {
      "display_name": "Python 3 (ipykernel)",
      "language": "python",
      "name": "python3"
    },
    "language_info": {
      "codemirror_mode": {
        "name": "ipython",
        "version": 3
      },
      "file_extension": ".py",
      "mimetype": "text/x-python",
      "name": "python",
      "nbconvert_exporter": "python",
      "pygments_lexer": "ipython3",
      "version": "3.11.11"
    },
    "colab": {
      "provenance": []
    }
  },
  "nbformat": 4,
  "nbformat_minor": 0
}