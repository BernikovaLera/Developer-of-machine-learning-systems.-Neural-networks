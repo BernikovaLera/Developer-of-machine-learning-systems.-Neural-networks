{
  "cells": [
    {
      "cell_type": "markdown",
      "metadata": {
        "id": "OlyP8wJZSzWZ"
      },
      "source": [
        "## Анализ и визуализация данных на языке Python."
      ]
    },
    {
      "cell_type": "code",
      "execution_count": 1,
      "metadata": {
        "id": "xqkL72qQSzWa"
      },
      "outputs": [],
      "source": [
        "import numpy as np\n",
        "np.set_printoptions(linewidth=110, legacy=\"1.25\") # Для вывода чисел без явного указания типа"
      ]
    },
    {
      "cell_type": "markdown",
      "metadata": {
        "id": "VVqoV5FMSzWb"
      },
      "source": [
        "#### Нужные параметры для вывода всех значений, а не только последнего(по умолчанию)"
      ]
    },
    {
      "cell_type": "code",
      "execution_count": 2,
      "metadata": {
        "id": "SCkF_DxnSzWc"
      },
      "outputs": [],
      "source": [
        "from IPython.core.interactiveshell import InteractiveShell\n",
        "InteractiveShell.ast_node_interactivity = \"all\"     # Вывод всех строк без принтов\n",
        "# InteractiveShell.ast_node_interactivity = \"last\"  # Только последний вывод"
      ]
    },
    {
      "cell_type": "markdown",
      "metadata": {
        "id": "ZdNlBGbhSzWc"
      },
      "source": [
        "### Изменение размерности\n",
        "\n",
        "Функции __ravel()__, __reshape()__, __flatten()__ и __resize()__"
      ]
    },
    {
      "cell_type": "code",
      "execution_count": null,
      "metadata": {
        "id": "0nt0X_DnSzWc"
      },
      "outputs": [],
      "source": [
        "import numpy as np"
      ]
    },
    {
      "cell_type": "code",
      "execution_count": 3,
      "metadata": {
        "colab": {
          "base_uri": "https://localhost:8080/"
        },
        "id": "Ui_L4LxvSzWc",
        "outputId": "4c01eb63-4f1b-438b-9038-56acb7166136"
      },
      "outputs": [
        {
          "output_type": "execute_result",
          "data": {
            "text/plain": [
              "array([[[ 0,  1,  2,  3],\n",
              "        [ 4,  5,  6,  7],\n",
              "        [ 8,  9, 10, 11]],\n",
              "\n",
              "       [[12, 13, 14, 15],\n",
              "        [16, 17, 18, 19],\n",
              "        [20, 21, 22, 23]]])"
            ]
          },
          "metadata": {},
          "execution_count": 3
        }
      ],
      "source": [
        "b = np.arange(24).reshape(2, 3, 4)\n",
        "b"
      ]
    },
    {
      "cell_type": "code",
      "execution_count": 4,
      "metadata": {
        "colab": {
          "base_uri": "https://localhost:8080/"
        },
        "id": "Evaxxv9bSzWc",
        "outputId": "c933360e-e1da-4e79-c63f-d9359ca7c9ad"
      },
      "outputs": [
        {
          "output_type": "execute_result",
          "data": {
            "text/plain": [
              "array([ 0,  1,  2,  3,  4,  5,  6,  7,  8,  9, 10, 11, 12, 13, 14, 15, 16, 17, 18, 19, 20, 21, 22, 23])"
            ]
          },
          "metadata": {},
          "execution_count": 4
        }
      ],
      "source": [
        "# Результат - одномерный массив\n",
        "b.ravel()"
      ]
    },
    {
      "cell_type": "code",
      "execution_count": 5,
      "metadata": {
        "colab": {
          "base_uri": "https://localhost:8080/"
        },
        "id": "BE4QXwNYSzWd",
        "outputId": "f70b9aaf-f02a-4c44-9212-8fc4bc3f1179"
      },
      "outputs": [
        {
          "output_type": "execute_result",
          "data": {
            "text/plain": [
              "array([[[ 0,  1,  2,  3],\n",
              "        [ 4,  5,  6,  7],\n",
              "        [ 8,  9, 10, 11]],\n",
              "\n",
              "       [[12, 13, 14, 15],\n",
              "        [16, 17, 18, 19],\n",
              "        [20, 21, 22, 23]]])"
            ]
          },
          "metadata": {},
          "execution_count": 5
        }
      ],
      "source": [
        "b"
      ]
    },
    {
      "cell_type": "code",
      "execution_count": 6,
      "metadata": {
        "colab": {
          "base_uri": "https://localhost:8080/"
        },
        "id": "Sun-H6z2SzWd",
        "outputId": "f6141e2a-e130-4468-a668-a3d666ce248a"
      },
      "outputs": [
        {
          "output_type": "execute_result",
          "data": {
            "text/plain": [
              "array([ 0,  1,  2,  3,  4,  5,  6,  7,  8,  9, 10, 11, 12, 13, 14, 15, 16, 17, 18, 19, 20, 21, 22, 23])"
            ]
          },
          "metadata": {},
          "execution_count": 6
        }
      ],
      "source": [
        "b.flatten() # возращает копию"
      ]
    },
    {
      "cell_type": "code",
      "execution_count": 7,
      "metadata": {
        "colab": {
          "base_uri": "https://localhost:8080/"
        },
        "id": "04DU--ELSzWd",
        "outputId": "1b14c9c8-08c3-4c79-f18a-7de012946259"
      },
      "outputs": [
        {
          "output_type": "execute_result",
          "data": {
            "text/plain": [
              "array([[[ 0,  1,  2,  3],\n",
              "        [ 4,  5,  6,  7],\n",
              "        [ 8,  9, 10, 11]],\n",
              "\n",
              "       [[12, 13, 14, 15],\n",
              "        [16, 17, 18, 19],\n",
              "        [20, 21, 22, 23]]])"
            ]
          },
          "metadata": {},
          "execution_count": 7
        }
      ],
      "source": [
        "b"
      ]
    },
    {
      "cell_type": "code",
      "execution_count": 8,
      "metadata": {
        "colab": {
          "base_uri": "https://localhost:8080/"
        },
        "id": "vCuingUiSzWd",
        "outputId": "b280081e-2da8-48c5-9e24-0d89d32f402d"
      },
      "outputs": [
        {
          "output_type": "execute_result",
          "data": {
            "text/plain": [
              "(2, 3, 4)"
            ]
          },
          "metadata": {},
          "execution_count": 8
        },
        {
          "output_type": "execute_result",
          "data": {
            "text/plain": [
              "(6, 4)"
            ]
          },
          "metadata": {},
          "execution_count": 8
        }
      ],
      "source": [
        "b.shape\n",
        "b.shape = (6, 4)  ## то же самое, что и b.reshape(6, 4)\n",
        "b.shape"
      ]
    },
    {
      "cell_type": "code",
      "execution_count": 9,
      "metadata": {
        "colab": {
          "base_uri": "https://localhost:8080/"
        },
        "id": "0u7uVENKSzWd",
        "outputId": "1fca8cfd-8569-40ac-f867-b1f1b8775fbb"
      },
      "outputs": [
        {
          "output_type": "execute_result",
          "data": {
            "text/plain": [
              "array([[ 0,  1,  2,  3],\n",
              "       [ 4,  5,  6,  7],\n",
              "       [ 8,  9, 10, 11],\n",
              "       [12, 13, 14, 15],\n",
              "       [16, 17, 18, 19],\n",
              "       [20, 21, 22, 23]])"
            ]
          },
          "metadata": {},
          "execution_count": 9
        }
      ],
      "source": [
        "b"
      ]
    },
    {
      "cell_type": "code",
      "execution_count": 10,
      "metadata": {
        "colab": {
          "base_uri": "https://localhost:8080/"
        },
        "id": "hZrKDnxQSzWd",
        "outputId": "8fc355f9-1420-4434-8291-0c6e945237e2"
      },
      "outputs": [
        {
          "output_type": "execute_result",
          "data": {
            "text/plain": [
              "array([[ 0,  4,  8, 12, 16, 20],\n",
              "       [ 1,  5,  9, 13, 17, 21],\n",
              "       [ 2,  6, 10, 14, 18, 22],\n",
              "       [ 3,  7, 11, 15, 19, 23]])"
            ]
          },
          "metadata": {},
          "execution_count": 10
        }
      ],
      "source": [
        "# Транспонирование матрицы: строки -> столбцы, столбцы -> строки\n",
        "# можно и так b.T\n",
        "b.transpose()"
      ]
    },
    {
      "cell_type": "code",
      "execution_count": 11,
      "metadata": {
        "colab": {
          "base_uri": "https://localhost:8080/"
        },
        "id": "baGCOU0QSzWe",
        "outputId": "8173e148-518d-4093-f6a2-ae8dec7f649a"
      },
      "outputs": [
        {
          "output_type": "execute_result",
          "data": {
            "text/plain": [
              "array([[ 0,  1,  2,  3],\n",
              "       [ 4,  5,  6,  7],\n",
              "       [ 8,  9, 10, 11],\n",
              "       [12, 13, 14, 15],\n",
              "       [16, 17, 18, 19],\n",
              "       [20, 21, 22, 23]])"
            ]
          },
          "metadata": {},
          "execution_count": 11
        }
      ],
      "source": [
        "b"
      ]
    },
    {
      "cell_type": "code",
      "execution_count": 12,
      "metadata": {
        "colab": {
          "base_uri": "https://localhost:8080/"
        },
        "id": "ffqjKhYlSzWe",
        "outputId": "3086f51c-573a-4b0c-ba84-2e6d8203116a"
      },
      "outputs": [
        {
          "output_type": "execute_result",
          "data": {
            "text/plain": [
              "array([[[ 0,  1,  2,  3],\n",
              "        [ 4,  5,  6,  7],\n",
              "        [ 8,  9, 10, 11]],\n",
              "\n",
              "       [[12, 13, 14, 15],\n",
              "        [16, 17, 18, 19],\n",
              "        [20, 21, 22, 23]]])"
            ]
          },
          "metadata": {},
          "execution_count": 12
        },
        {
          "output_type": "execute_result",
          "data": {
            "text/plain": [
              "(96, 32, 8)"
            ]
          },
          "metadata": {},
          "execution_count": 12
        }
      ],
      "source": [
        "# https://numpy.org/doc/stable/reference/generated/numpy.lib.stride_tricks.as_strided.html\n",
        "# Warning: This function has to be used with extreme care, see notes.\n",
        "b = np.arange(24).reshape(2, 3, 4)\n",
        "b\n",
        "b.strides # Смещение в байтах каждой оси(измерения)"
      ]
    },
    {
      "cell_type": "code",
      "execution_count": 13,
      "metadata": {
        "colab": {
          "base_uri": "https://localhost:8080/"
        },
        "id": "IcvTzdDBSzWe",
        "outputId": "e2ae74d5-241d-40c6-8146-3fa5d9314cce"
      },
      "outputs": [
        {
          "output_type": "execute_result",
          "data": {
            "text/plain": [
              "array([[[ 0, 12],\n",
              "        [ 1, 13],\n",
              "        [ 2, 14],\n",
              "        [ 3, 15]],\n",
              "\n",
              "       [[ 4, 16],\n",
              "        [ 5, 17],\n",
              "        [ 6, 18],\n",
              "        [ 7, 19]],\n",
              "\n",
              "       [[ 8, 20],\n",
              "        [ 9, 21],\n",
              "        [10, 22],\n",
              "        [11, 23]]])"
            ]
          },
          "metadata": {},
          "execution_count": 13
        },
        {
          "output_type": "execute_result",
          "data": {
            "text/plain": [
              "(32, 8, 96)"
            ]
          },
          "metadata": {},
          "execution_count": 13
        }
      ],
      "source": [
        "# 1-е измерение становится 0-м, второе - первым, нулевое - вторым\n",
        "new_b = b.transpose(1, 2, 0)\n",
        "new_b\n",
        "new_b.strides"
      ]
    },
    {
      "cell_type": "markdown",
      "metadata": {
        "id": "8Mdt5_4xSzWe"
      },
      "source": [
        "#### Изменение размера массива"
      ]
    },
    {
      "cell_type": "code",
      "execution_count": 14,
      "metadata": {
        "colab": {
          "base_uri": "https://localhost:8080/"
        },
        "id": "JNytZFl2SzWe",
        "outputId": "a7f547ba-a34d-4cd1-cc18-1a492e56f9bb"
      },
      "outputs": [
        {
          "output_type": "execute_result",
          "data": {
            "text/plain": [
              "array([[82,  5, 45, 93, 24, 56, 40, 69, 39, 48, 84, 40],\n",
              "       [ 1, 71, 76, 89,  2, 19, 71, 64, 72, 40, 92, 74]])"
            ]
          },
          "metadata": {},
          "execution_count": 14
        }
      ],
      "source": [
        "d = np.random.randint(1, 100, (2, 12)); d"
      ]
    },
    {
      "cell_type": "code",
      "execution_count": 15,
      "metadata": {
        "colab": {
          "base_uri": "https://localhost:8080/"
        },
        "id": "o08Dyk86SzWe",
        "outputId": "1ccc894f-246c-4993-91af-d4f0801a0830"
      },
      "outputs": [
        {
          "output_type": "execute_result",
          "data": {
            "text/plain": [
              "array([[82,  5, 45, 93, 24, 56, 40, 69, 39, 48, 84, 40,  1, 71, 76],\n",
              "       [89,  2, 19, 71, 64, 72, 40, 92, 74,  0,  0,  0,  0,  0,  0],\n",
              "       [ 0,  0,  0,  0,  0,  0,  0,  0,  0,  0,  0,  0,  0,  0,  0]])"
            ]
          },
          "metadata": {},
          "execution_count": 15
        }
      ],
      "source": [
        "# resize() как метод - новые элементы заполнены нулями\n",
        "d.resize((3, 15), refcheck=False); d"
      ]
    },
    {
      "cell_type": "code",
      "execution_count": 16,
      "metadata": {
        "colab": {
          "base_uri": "https://localhost:8080/"
        },
        "id": "-p0wwxcRSzWe",
        "outputId": "ff80ce4c-361c-4ed0-d0c5-cb01b8fe9169"
      },
      "outputs": [
        {
          "output_type": "execute_result",
          "data": {
            "text/plain": [
              "array([[ 0,  1,  2],\n",
              "       [ 3,  4,  5],\n",
              "       [ 6,  7,  8],\n",
              "       [ 9, 10, 11],\n",
              "       [12, 13, 14],\n",
              "       [15, 16, 17],\n",
              "       [18, 19, 20],\n",
              "       [21, 22, 23]])"
            ]
          },
          "metadata": {},
          "execution_count": 16
        }
      ],
      "source": [
        "c = np.arange(24)\n",
        "c.shape = 8, 3\n",
        "c"
      ]
    },
    {
      "cell_type": "code",
      "execution_count": 17,
      "metadata": {
        "colab": {
          "base_uri": "https://localhost:8080/"
        },
        "id": "RlU8_xvNSzWe",
        "outputId": "cfe2d082-f0bd-44cd-ddee-1e1273f93b35"
      },
      "outputs": [
        {
          "output_type": "execute_result",
          "data": {
            "text/plain": [
              "array([[ 0,  1,  2],\n",
              "       [ 3,  4,  5],\n",
              "       [ 6,  7,  8],\n",
              "       [ 9, 10, 11],\n",
              "       [12, 13, 14],\n",
              "       [15, 16, 17],\n",
              "       [18, 19, 20],\n",
              "       [21, 22, 23],\n",
              "       [ 0,  0,  0]])"
            ]
          },
          "metadata": {},
          "execution_count": 17
        }
      ],
      "source": [
        "c.resize(9, 3, refcheck=False)\n",
        "c"
      ]
    },
    {
      "cell_type": "code",
      "execution_count": 18,
      "metadata": {
        "scrolled": true,
        "id": "FWppUv7fSzWe"
      },
      "outputs": [],
      "source": [
        "c.resize?"
      ]
    },
    {
      "cell_type": "code",
      "execution_count": 19,
      "metadata": {
        "colab": {
          "base_uri": "https://localhost:8080/"
        },
        "id": "MSDeHDg_SzWf",
        "outputId": "3dc97ea4-eff0-4b89-90fb-d813ff8870f3"
      },
      "outputs": [
        {
          "output_type": "execute_result",
          "data": {
            "text/plain": [
              "array([[ 0,  1,  2],\n",
              "       [ 3,  4,  5],\n",
              "       [ 6,  7,  8],\n",
              "       [ 9, 10, 11],\n",
              "       [12, 13, 14],\n",
              "       [15, 16, 17],\n",
              "       [18, 19, 20],\n",
              "       [21, 22, 23],\n",
              "       [ 0,  0,  0],\n",
              "       [ 0,  0,  0],\n",
              "       [ 0,  0,  0],\n",
              "       [ 0,  0,  0],\n",
              "       [ 0,  0,  0],\n",
              "       [ 0,  0,  0],\n",
              "       [ 0,  0,  0]])"
            ]
          },
          "metadata": {},
          "execution_count": 19
        }
      ],
      "source": [
        "## Новые элементы массива будут иметь значение 0,\n",
        "## когда вызываем у массива\n",
        "c1 = c.copy()\n",
        "c1.resize(15, 3)\n",
        "c1"
      ]
    },
    {
      "cell_type": "code",
      "execution_count": 20,
      "metadata": {
        "colab": {
          "base_uri": "https://localhost:8080/"
        },
        "id": "5sdd2YVhSzWf",
        "outputId": "2f3561e3-2ea5-455f-b07f-d7030ea5678e"
      },
      "outputs": [
        {
          "output_type": "execute_result",
          "data": {
            "text/plain": [
              "(9, 3)"
            ]
          },
          "metadata": {},
          "execution_count": 20
        },
        {
          "output_type": "execute_result",
          "data": {
            "text/plain": [
              "array([[ 0,  1,  2],\n",
              "       [ 3,  4,  5],\n",
              "       [ 6,  7,  8],\n",
              "       [ 9, 10, 11],\n",
              "       [12, 13, 14],\n",
              "       [15, 16, 17],\n",
              "       [18, 19, 20],\n",
              "       [21, 22, 23],\n",
              "       [ 0,  0,  0],\n",
              "       [ 0,  1,  2],\n",
              "       [ 3,  4,  5],\n",
              "       [ 6,  7,  8]])"
            ]
          },
          "metadata": {},
          "execution_count": 20
        }
      ],
      "source": [
        "c.shape\n",
        "# resize() как функция numpy - новые элементы массива берут значения из старого массива\n",
        "c2 = np.resize(c, (12, 3))\n",
        "c2"
      ]
    },
    {
      "cell_type": "markdown",
      "metadata": {
        "id": "ALJS6Em-SzWf"
      },
      "source": [
        "### Добавление элементов. Оси(axes)."
      ]
    },
    {
      "cell_type": "code",
      "execution_count": 21,
      "metadata": {
        "colab": {
          "base_uri": "https://localhost:8080/"
        },
        "id": "2zHpzWl7SzWf",
        "outputId": "43578180-190b-4e22-9d4b-a31899dd7142"
      },
      "outputs": [
        {
          "output_type": "execute_result",
          "data": {
            "text/plain": [
              "array([0, 1, 2, 3, 4, 5, 6, 7, 8, 9])"
            ]
          },
          "metadata": {},
          "execution_count": 21
        }
      ],
      "source": [
        "a = np.arange(10); a"
      ]
    },
    {
      "cell_type": "code",
      "execution_count": 22,
      "metadata": {
        "colab": {
          "base_uri": "https://localhost:8080/"
        },
        "id": "o2tgPzj5SzWf",
        "outputId": "ab267fc9-bcfd-4891-e3b1-65dbf921ffcb"
      },
      "outputs": [
        {
          "output_type": "execute_result",
          "data": {
            "text/plain": [
              "array([0, 1, 2, 3, 4, 5, 6, 7, 8, 9, 1, 3, 4, 4])"
            ]
          },
          "metadata": {},
          "execution_count": 22
        }
      ],
      "source": [
        "a = np.append(a, [1, 3, 4, 4]); a   # Похож на метод extend для списка"
      ]
    },
    {
      "cell_type": "code",
      "execution_count": 23,
      "metadata": {
        "colab": {
          "base_uri": "https://localhost:8080/"
        },
        "id": "tX6e5RoZSzWf",
        "outputId": "bbb2a4ae-5c4a-4639-98f0-3e77ea39dfc3"
      },
      "outputs": [
        {
          "output_type": "execute_result",
          "data": {
            "text/plain": [
              "array([[ 0,  1,  2,  3],\n",
              "       [ 4,  5,  6,  7],\n",
              "       [ 8,  9, 10, 11]])"
            ]
          },
          "metadata": {},
          "execution_count": 23
        }
      ],
      "source": [
        "e = np.arange(12).reshape(3, 4); e"
      ]
    },
    {
      "cell_type": "code",
      "execution_count": 24,
      "metadata": {
        "colab": {
          "base_uri": "https://localhost:8080/"
        },
        "id": "8DPSpaO2SzWf",
        "outputId": "11536d80-1e30-4429-e492-7713d05adeab"
      },
      "outputs": [
        {
          "output_type": "execute_result",
          "data": {
            "text/plain": [
              "array([[ 0,  1,  2,  3],\n",
              "       [ 4,  5,  6,  7],\n",
              "       [ 8,  9, 10, 11],\n",
              "       [99, 97, 96, 95]])"
            ]
          },
          "metadata": {},
          "execution_count": 24
        }
      ],
      "source": [
        "# 0-я ось - это строки в 2-мерном массиве\n",
        "e = np.append(e, [[99, 97, 96, 95]], axis=0)\n",
        "e"
      ]
    },
    {
      "cell_type": "code",
      "execution_count": 25,
      "metadata": {
        "colab": {
          "base_uri": "https://localhost:8080/"
        },
        "id": "zZ_Jq7miSzWf",
        "outputId": "80acfeb3-1fe8-42fb-b998-b6c05a36c852"
      },
      "outputs": [
        {
          "output_type": "execute_result",
          "data": {
            "text/plain": [
              "array([[ 0,  1,  2,  3, 99],\n",
              "       [ 4,  5,  6,  7, 97],\n",
              "       [ 8,  9, 10, 11, 96],\n",
              "       [99, 97, 96, 95, 95]])"
            ]
          },
          "metadata": {},
          "execution_count": 25
        }
      ],
      "source": [
        "e = np.append(e, [[99],\n",
        "                  [97],\n",
        "                  [96],\n",
        "                  [95]], axis=1) # 1-я ось - это столбцы в 2-мерном массиве\n",
        "e"
      ]
    },
    {
      "cell_type": "code",
      "execution_count": 26,
      "metadata": {
        "colab": {
          "base_uri": "https://localhost:8080/"
        },
        "id": "EDysrwhPSzWf",
        "outputId": "06def8c1-b8cb-46cc-e095-298f3ec07291"
      },
      "outputs": [
        {
          "output_type": "execute_result",
          "data": {
            "text/plain": [
              "array([[99, 97, 96, 95]])"
            ]
          },
          "metadata": {},
          "execution_count": 26
        }
      ],
      "source": [
        "temp = np.array([[99, 97, 96, 95]]); temp"
      ]
    },
    {
      "cell_type": "code",
      "execution_count": 27,
      "metadata": {
        "colab": {
          "base_uri": "https://localhost:8080/"
        },
        "id": "HIupI7C-SzWf",
        "outputId": "820d661c-b361-406b-d60f-6487eb12b606"
      },
      "outputs": [
        {
          "output_type": "execute_result",
          "data": {
            "text/plain": [
              "(1, 4)"
            ]
          },
          "metadata": {},
          "execution_count": 27
        }
      ],
      "source": [
        "temp.shape"
      ]
    },
    {
      "cell_type": "code",
      "execution_count": 28,
      "metadata": {
        "colab": {
          "base_uri": "https://localhost:8080/"
        },
        "id": "dCsxEWZgSzWf",
        "outputId": "3b87493c-8487-4f3f-b1a7-e32899c01d25"
      },
      "outputs": [
        {
          "output_type": "execute_result",
          "data": {
            "text/plain": [
              "array([[99],\n",
              "       [97],\n",
              "       [96],\n",
              "       [95]])"
            ]
          },
          "metadata": {},
          "execution_count": 28
        }
      ],
      "source": [
        "temp1 = np.array([[99], [97], [96], [95]]); temp1"
      ]
    },
    {
      "cell_type": "code",
      "execution_count": 29,
      "metadata": {
        "colab": {
          "base_uri": "https://localhost:8080/"
        },
        "id": "RzyZA81SSzWg",
        "outputId": "9d985627-1cc0-40d8-fbc0-9435bf56d937"
      },
      "outputs": [
        {
          "output_type": "execute_result",
          "data": {
            "text/plain": [
              "(4, 1)"
            ]
          },
          "metadata": {},
          "execution_count": 29
        }
      ],
      "source": [
        "temp1.shape"
      ]
    },
    {
      "cell_type": "code",
      "execution_count": 30,
      "metadata": {
        "colab": {
          "base_uri": "https://localhost:8080/"
        },
        "id": "rXEfYT1LSzWg",
        "outputId": "7afb63b5-20fc-4f8b-85e0-c5ef1696b0e5"
      },
      "outputs": [
        {
          "output_type": "execute_result",
          "data": {
            "text/plain": [
              "array([[[ 0,  1,  2],\n",
              "        [ 3,  4,  5],\n",
              "        [ 6,  7,  8]],\n",
              "\n",
              "       [[ 9, 10, 11],\n",
              "        [12, 13, 14],\n",
              "        [15, 16, 17]],\n",
              "\n",
              "       [[18, 19, 20],\n",
              "        [21, 22, 23],\n",
              "        [24, 25, 26]]])"
            ]
          },
          "metadata": {},
          "execution_count": 30
        }
      ],
      "source": [
        "a3d = np.arange(27).reshape(3, 3, 3); a3d"
      ]
    },
    {
      "cell_type": "code",
      "execution_count": 31,
      "metadata": {
        "colab": {
          "base_uri": "https://localhost:8080/"
        },
        "id": "HsFyjYlFSzWg",
        "outputId": "ece69bba-8069-4fc8-fb00-42c153288426"
      },
      "outputs": [
        {
          "output_type": "execute_result",
          "data": {
            "text/plain": [
              "array([[[100],\n",
              "        [101],\n",
              "        [102]],\n",
              "\n",
              "       [[103],\n",
              "        [104],\n",
              "        [105]],\n",
              "\n",
              "       [[106],\n",
              "        [107],\n",
              "        [108]]])"
            ]
          },
          "metadata": {},
          "execution_count": 31
        }
      ],
      "source": [
        "add_mas = np.arange(100, 109).reshape(3, 3, 1); add_mas"
      ]
    },
    {
      "cell_type": "code",
      "execution_count": 32,
      "metadata": {
        "colab": {
          "base_uri": "https://localhost:8080/"
        },
        "id": "tQTenT0zSzWg",
        "outputId": "ab679a1b-8d16-44ed-f640-95e88e38c93f"
      },
      "outputs": [
        {
          "output_type": "execute_result",
          "data": {
            "text/plain": [
              "array([[[  0,   1,   2, 100],\n",
              "        [  3,   4,   5, 101],\n",
              "        [  6,   7,   8, 102]],\n",
              "\n",
              "       [[  9,  10,  11, 103],\n",
              "        [ 12,  13,  14, 104],\n",
              "        [ 15,  16,  17, 105]],\n",
              "\n",
              "       [[ 18,  19,  20, 106],\n",
              "        [ 21,  22,  23, 107],\n",
              "        [ 24,  25,  26, 108]]])"
            ]
          },
          "metadata": {},
          "execution_count": 32
        }
      ],
      "source": [
        "a3d_new = np.append(a3d, add_mas, axis=2)   # 0-я ось - это глубина\n",
        "a3d_new"
      ]
    },
    {
      "cell_type": "code",
      "execution_count": 33,
      "metadata": {
        "colab": {
          "base_uri": "https://localhost:8080/"
        },
        "id": "WHtCKsJ-SzWg",
        "outputId": "5142ab29-1b3f-4dfc-8d04-0a26fca5f4ea"
      },
      "outputs": [
        {
          "output_type": "execute_result",
          "data": {
            "text/plain": [
              "(array([[4, 5, 6]]), (1, 3))"
            ]
          },
          "metadata": {},
          "execution_count": 33
        }
      ],
      "source": [
        "vector = np.array([[4, 5, 6]])\n",
        "vector, vector.shape"
      ]
    },
    {
      "cell_type": "code",
      "execution_count": 34,
      "metadata": {
        "colab": {
          "base_uri": "https://localhost:8080/",
          "height": 280
        },
        "id": "ybcUOqj_SzWq",
        "outputId": "6d254664-853b-4d1b-8638-88b14af4a1f4"
      },
      "outputs": [
        {
          "output_type": "error",
          "ename": "ValueError",
          "evalue": "all the input arrays must have same number of dimensions, but the array at index 0 has 3 dimension(s) and the array at index 1 has 2 dimension(s)",
          "traceback": [
            "\u001b[0;31m---------------------------------------------------------------------------\u001b[0m",
            "\u001b[0;31mValueError\u001b[0m                                Traceback (most recent call last)",
            "\u001b[0;32m<ipython-input-34-cc2e18ec8c69>\u001b[0m in \u001b[0;36m<cell line: 0>\u001b[0;34m()\u001b[0m\n\u001b[0;32m----> 1\u001b[0;31m \u001b[0mfoo\u001b[0m \u001b[0;34m=\u001b[0m \u001b[0mnp\u001b[0m\u001b[0;34m.\u001b[0m\u001b[0mappend\u001b[0m\u001b[0;34m(\u001b[0m\u001b[0ma3d_new\u001b[0m\u001b[0;34m,\u001b[0m \u001b[0mvector\u001b[0m\u001b[0;34m,\u001b[0m \u001b[0;36m0\u001b[0m\u001b[0;34m)\u001b[0m\u001b[0;34m;\u001b[0m \u001b[0mfoo\u001b[0m \u001b[0;31m## Error\u001b[0m\u001b[0;34m\u001b[0m\u001b[0;34m\u001b[0m\u001b[0m\n\u001b[0m",
            "\u001b[0;32m/usr/local/lib/python3.11/dist-packages/numpy/lib/_function_base_impl.py\u001b[0m in \u001b[0;36mappend\u001b[0;34m(arr, values, axis)\u001b[0m\n\u001b[1;32m   5819\u001b[0m         \u001b[0mvalues\u001b[0m \u001b[0;34m=\u001b[0m \u001b[0mravel\u001b[0m\u001b[0;34m(\u001b[0m\u001b[0mvalues\u001b[0m\u001b[0;34m)\u001b[0m\u001b[0;34m\u001b[0m\u001b[0;34m\u001b[0m\u001b[0m\n\u001b[1;32m   5820\u001b[0m         \u001b[0maxis\u001b[0m \u001b[0;34m=\u001b[0m \u001b[0marr\u001b[0m\u001b[0;34m.\u001b[0m\u001b[0mndim\u001b[0m\u001b[0;34m-\u001b[0m\u001b[0;36m1\u001b[0m\u001b[0;34m\u001b[0m\u001b[0;34m\u001b[0m\u001b[0m\n\u001b[0;32m-> 5821\u001b[0;31m     \u001b[0;32mreturn\u001b[0m \u001b[0mconcatenate\u001b[0m\u001b[0;34m(\u001b[0m\u001b[0;34m(\u001b[0m\u001b[0marr\u001b[0m\u001b[0;34m,\u001b[0m \u001b[0mvalues\u001b[0m\u001b[0;34m)\u001b[0m\u001b[0;34m,\u001b[0m \u001b[0maxis\u001b[0m\u001b[0;34m=\u001b[0m\u001b[0maxis\u001b[0m\u001b[0;34m)\u001b[0m\u001b[0;34m\u001b[0m\u001b[0;34m\u001b[0m\u001b[0m\n\u001b[0m\u001b[1;32m   5822\u001b[0m \u001b[0;34m\u001b[0m\u001b[0m\n\u001b[1;32m   5823\u001b[0m \u001b[0;34m\u001b[0m\u001b[0m\n",
            "\u001b[0;31mValueError\u001b[0m: all the input arrays must have same number of dimensions, but the array at index 0 has 3 dimension(s) and the array at index 1 has 2 dimension(s)"
          ]
        }
      ],
      "source": [
        "foo = np.append(a3d_new, vector, 0); foo ## Error"
      ]
    },
    {
      "cell_type": "markdown",
      "metadata": {
        "id": "BNACeZTOSzWq"
      },
      "source": [
        "### Вставка элементов"
      ]
    },
    {
      "cell_type": "code",
      "execution_count": 35,
      "metadata": {
        "colab": {
          "base_uri": "https://localhost:8080/"
        },
        "id": "Dd7PeRjdSzWq",
        "outputId": "119fce6e-f6a7-4f47-eff9-03e0b7ff9f03"
      },
      "outputs": [
        {
          "output_type": "execute_result",
          "data": {
            "text/plain": [
              "array([0, 1, 2, 3, 4, 5, 6, 7, 8, 9])"
            ]
          },
          "metadata": {},
          "execution_count": 35
        }
      ],
      "source": [
        "a = np.arange(10); a"
      ]
    },
    {
      "cell_type": "code",
      "execution_count": 36,
      "metadata": {
        "colab": {
          "base_uri": "https://localhost:8080/"
        },
        "id": "DfTGatkNSzWq",
        "outputId": "d18d25fe-3877-4704-8e4f-899e84b195b4"
      },
      "outputs": [
        {
          "output_type": "execute_result",
          "data": {
            "text/plain": [
              "array([  0,   1,  99, 101,   2,   3,   4,   5,   6,   7,   8,   9])"
            ]
          },
          "metadata": {},
          "execution_count": 36
        }
      ],
      "source": [
        "# 2 - это индекс элемента, но не значение\n",
        "# при вставке изменился тип элементов на тип массива\n",
        "a = np.insert(a, 2, np.asarray([99.7, 101.09])); a"
      ]
    },
    {
      "cell_type": "code",
      "execution_count": 37,
      "metadata": {
        "colab": {
          "base_uri": "https://localhost:8080/"
        },
        "id": "T5OoTOtPSzWq",
        "outputId": "85d09d64-74b9-4b85-a2d1-e89210a20fc8"
      },
      "outputs": [
        {
          "output_type": "execute_result",
          "data": {
            "text/plain": [
              "array([[1, 1],\n",
              "       [2, 2],\n",
              "       [3, 3]])"
            ]
          },
          "metadata": {},
          "execution_count": 37
        }
      ],
      "source": [
        "# Вставка в массив NxM\n",
        "a1 = np.array([[1, 1], [2, 2], [3, 3]])\n",
        "a1"
      ]
    },
    {
      "cell_type": "code",
      "execution_count": 38,
      "metadata": {
        "colab": {
          "base_uri": "https://localhost:8080/"
        },
        "id": "7oRdzW-SSzWq",
        "outputId": "0b9ff5c8-305c-41a0-c095-98dacd08255a"
      },
      "outputs": [
        {
          "output_type": "execute_result",
          "data": {
            "text/plain": [
              "array([1, 1, 2, 2, 5, 3, 3])"
            ]
          },
          "metadata": {},
          "execution_count": 38
        }
      ],
      "source": [
        "np.insert(a1, 4, 5)  # Сейчас массив будет представлен в виде единой ленточки(flatten)"
      ]
    },
    {
      "cell_type": "code",
      "execution_count": 39,
      "metadata": {
        "colab": {
          "base_uri": "https://localhost:8080/"
        },
        "id": "f7TPCk4VSzWr",
        "outputId": "d8ad673f-4091-4543-eefe-023898b13442"
      },
      "outputs": [
        {
          "output_type": "execute_result",
          "data": {
            "text/plain": [
              "array([[1, 5, 1],\n",
              "       [2, 5, 2],\n",
              "       [3, 5, 3]])"
            ]
          },
          "metadata": {},
          "execution_count": 39
        }
      ],
      "source": [
        "# Явно указали ось(измерение), по которой работаем(столбцы) и получили вектор из 5-ок\n",
        "np.insert(a1, 1, 5, axis=1)"
      ]
    },
    {
      "cell_type": "code",
      "execution_count": 40,
      "metadata": {
        "colab": {
          "base_uri": "https://localhost:8080/"
        },
        "id": "9ZSOGO0HSzWr",
        "outputId": "023dee22-9130-4479-83f3-374422a3bdfc"
      },
      "outputs": [
        {
          "output_type": "execute_result",
          "data": {
            "text/plain": [
              "array([  0,   1,  99, 101,   2,   3,   4,   5,   6,   7,   8,   9])"
            ]
          },
          "metadata": {},
          "execution_count": 40
        }
      ],
      "source": [
        "a"
      ]
    },
    {
      "cell_type": "code",
      "execution_count": 41,
      "metadata": {
        "colab": {
          "base_uri": "https://localhost:8080/"
        },
        "id": "I2xp0SJvSzWr",
        "outputId": "1a82da98-8ea7-4ded-e1e6-5fcaa5f82f75"
      },
      "outputs": [
        {
          "output_type": "execute_result",
          "data": {
            "text/plain": [
              "array([  0,   1,  99, 101,   2,   3,   1,   0,   5,   0,  -9,   0,   7,   1,   0,   4,   4,   5,   6,   7,\n",
              "         8,   9])"
            ]
          },
          "metadata": {},
          "execution_count": 41
        }
      ],
      "source": [
        "## Hовые элементы неявно будет преобразованы к типу элементов массива\n",
        "a = np.insert(a, 6, np.random.randn(10) * 3); a"
      ]
    },
    {
      "cell_type": "code",
      "execution_count": 42,
      "metadata": {
        "colab": {
          "base_uri": "https://localhost:8080/"
        },
        "id": "XIg7iHZDSzWr",
        "outputId": "b7a6cb97-444f-437a-f885-8f1c8bb68649"
      },
      "outputs": [
        {
          "output_type": "execute_result",
          "data": {
            "text/plain": [
              "array([  0,   1,  99, 101,   2,   3,   1,   0,   5,   0,  -9,   0,   7,   1,   0,   4,   4,   5,   6,   7,\n",
              "         8,   9])"
            ]
          },
          "metadata": {},
          "execution_count": 42
        },
        {
          "output_type": "execute_result",
          "data": {
            "text/plain": [
              "array([  0,   1,  20,  21,  22,  99, 101,   2,   3,   1,   0,   5,   0,  -9,   0,   7,   1,   0,   4,   4,\n",
              "         5,   6,   7,   8,   9])"
            ]
          },
          "metadata": {},
          "execution_count": 42
        }
      ],
      "source": [
        "a\n",
        "new_a = np.insert(a, 2, [20, 21, 22], axis=0); new_a"
      ]
    },
    {
      "cell_type": "markdown",
      "metadata": {
        "id": "eT_Oe6dDSzWr"
      },
      "source": [
        "### Удаление элементов"
      ]
    },
    {
      "cell_type": "code",
      "execution_count": 43,
      "metadata": {
        "colab": {
          "base_uri": "https://localhost:8080/"
        },
        "id": "tDB4T54QSzWr",
        "outputId": "4c0c55ff-5995-4dde-9d0f-082e58dcd8ba"
      },
      "outputs": [
        {
          "output_type": "execute_result",
          "data": {
            "text/plain": [
              "array([  0,   1,  99, 101,   2,   3,   1,   0,   5,   0,  -9,   0,   7,   1,   0,   4,   4,   5,   6,   7,\n",
              "         8,   9])"
            ]
          },
          "metadata": {},
          "execution_count": 43
        },
        {
          "output_type": "execute_result",
          "data": {
            "text/plain": [
              "array([  0,   1, 101,   2,   3,   1,   0,   5,   0,  -9,   0,   7,   1,   0,   4,   4,   5,   6,   7,   8,\n",
              "         9])"
            ]
          },
          "metadata": {},
          "execution_count": 43
        }
      ],
      "source": [
        "a\n",
        "np.delete(a, 2, axis=0) # a[2, :]"
      ]
    },
    {
      "cell_type": "code",
      "execution_count": 44,
      "metadata": {
        "colab": {
          "base_uri": "https://localhost:8080/",
          "height": 315
        },
        "id": "xGaqUfquSzWr",
        "outputId": "c64044ee-2e21-4610-aa4a-dc6eed2e77c4"
      },
      "outputs": [
        {
          "output_type": "execute_result",
          "data": {
            "text/plain": [
              "array([  0,   1,  99, 101,   2,   3,   1,   0,   5,   0,  -9,   0,   7,   1,   0,   4,   4,   5,   6,   7,\n",
              "         8,   9])"
            ]
          },
          "metadata": {},
          "execution_count": 44
        },
        {
          "output_type": "error",
          "ename": "AxisError",
          "evalue": "axis 1 is out of bounds for array of dimension 1",
          "traceback": [
            "\u001b[0;31m---------------------------------------------------------------------------\u001b[0m",
            "\u001b[0;31mAxisError\u001b[0m                                 Traceback (most recent call last)",
            "\u001b[0;32m<ipython-input-44-28a5ffddca7f>\u001b[0m in \u001b[0;36m<cell line: 0>\u001b[0;34m()\u001b[0m\n\u001b[1;32m      1\u001b[0m \u001b[0ma\u001b[0m\u001b[0;34m\u001b[0m\u001b[0;34m\u001b[0m\u001b[0m\n\u001b[0;32m----> 2\u001b[0;31m \u001b[0mnp\u001b[0m\u001b[0;34m.\u001b[0m\u001b[0mdelete\u001b[0m\u001b[0;34m(\u001b[0m\u001b[0ma\u001b[0m\u001b[0;34m,\u001b[0m \u001b[0;36m2\u001b[0m\u001b[0;34m,\u001b[0m \u001b[0maxis\u001b[0m\u001b[0;34m=\u001b[0m\u001b[0;36m1\u001b[0m\u001b[0;34m)\u001b[0m\u001b[0;34m\u001b[0m\u001b[0;34m\u001b[0m\u001b[0m\n\u001b[0m",
            "\u001b[0;32m/usr/local/lib/python3.11/dist-packages/numpy/lib/_function_base_impl.py\u001b[0m in \u001b[0;36mdelete\u001b[0;34m(arr, obj, axis)\u001b[0m\n\u001b[1;32m   5471\u001b[0m         \u001b[0maxis\u001b[0m \u001b[0;34m=\u001b[0m \u001b[0mndim\u001b[0m \u001b[0;34m-\u001b[0m \u001b[0;36m1\u001b[0m\u001b[0;34m\u001b[0m\u001b[0;34m\u001b[0m\u001b[0m\n\u001b[1;32m   5472\u001b[0m     \u001b[0;32melse\u001b[0m\u001b[0;34m:\u001b[0m\u001b[0;34m\u001b[0m\u001b[0;34m\u001b[0m\u001b[0m\n\u001b[0;32m-> 5473\u001b[0;31m         \u001b[0maxis\u001b[0m \u001b[0;34m=\u001b[0m \u001b[0mnormalize_axis_index\u001b[0m\u001b[0;34m(\u001b[0m\u001b[0maxis\u001b[0m\u001b[0;34m,\u001b[0m \u001b[0mndim\u001b[0m\u001b[0;34m)\u001b[0m\u001b[0;34m\u001b[0m\u001b[0;34m\u001b[0m\u001b[0m\n\u001b[0m\u001b[1;32m   5474\u001b[0m \u001b[0;34m\u001b[0m\u001b[0m\n\u001b[1;32m   5475\u001b[0m     \u001b[0mslobj\u001b[0m \u001b[0;34m=\u001b[0m \u001b[0;34m[\u001b[0m\u001b[0mslice\u001b[0m\u001b[0;34m(\u001b[0m\u001b[0;32mNone\u001b[0m\u001b[0;34m)\u001b[0m\u001b[0;34m]\u001b[0m\u001b[0;34m*\u001b[0m\u001b[0mndim\u001b[0m\u001b[0;34m\u001b[0m\u001b[0;34m\u001b[0m\u001b[0m\n",
            "\u001b[0;31mAxisError\u001b[0m: axis 1 is out of bounds for array of dimension 1"
          ]
        }
      ],
      "source": [
        "a\n",
        "np.delete(a, 2, axis=1)"
      ]
    }
  ],
  "metadata": {
    "celltoolbar": "Слайд-шоу",
    "kernelspec": {
      "display_name": "Python 3",
      "language": "python",
      "name": "python3"
    },
    "language_info": {
      "codemirror_mode": {
        "name": "ipython",
        "version": 3
      },
      "file_extension": ".py",
      "mimetype": "text/x-python",
      "name": "python",
      "nbconvert_exporter": "python",
      "pygments_lexer": "ipython3",
      "version": "3.10.11"
    },
    "colab": {
      "provenance": []
    }
  },
  "nbformat": 4,
  "nbformat_minor": 0
}