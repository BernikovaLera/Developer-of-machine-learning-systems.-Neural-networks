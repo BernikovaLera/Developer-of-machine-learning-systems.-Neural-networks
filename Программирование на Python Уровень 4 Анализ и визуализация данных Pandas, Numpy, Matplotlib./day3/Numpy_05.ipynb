{
  "cells": [
    {
      "cell_type": "markdown",
      "metadata": {
        "id": "WeElksKQbSov"
      },
      "source": [
        "\n",
        "## Анализ и визуализация данных на языке Python.\n"
      ]
    },
    {
      "cell_type": "code",
      "execution_count": 1,
      "metadata": {
        "id": "IFkG4oJ_bSox"
      },
      "outputs": [],
      "source": [
        "import numpy as np\n",
        "import matplotlib.pyplot as plt\n",
        "from matplotlib.pyplot import figure\n",
        "plt.rcParams[\"figure.figsize\"] = (12,5)\n",
        "from IPython.core.interactiveshell import InteractiveShell\n",
        "InteractiveShell.ast_node_interactivity = \"all\"\n",
        "np.set_printoptions(linewidth=110)\n",
        "np.set_printoptions(legacy=\"1.25\")"
      ]
    },
    {
      "cell_type": "markdown",
      "metadata": {
        "id": "p0rCcZgCbSoy"
      },
      "source": [
        "### Агрегирующие функции"
      ]
    },
    {
      "cell_type": "code",
      "execution_count": 2,
      "metadata": {
        "colab": {
          "base_uri": "https://localhost:8080/"
        },
        "id": "DsH_PapYbSoy",
        "outputId": "02f2b1aa-6360-42d0-c17b-30cace003db2"
      },
      "outputs": [
        {
          "output_type": "execute_result",
          "data": {
            "text/plain": [
              "array([[[7, 4, 8],\n",
              "        [5, 7, 3],\n",
              "        [7, 8, 5],\n",
              "        [4, 8, 8]],\n",
              "\n",
              "       [[3, 6, 5],\n",
              "        [2, 8, 6],\n",
              "        [2, 5, 1],\n",
              "        [6, 9, 1]]])"
            ]
          },
          "metadata": {},
          "execution_count": 2
        }
      ],
      "source": [
        "np.random.seed(42)\n",
        "a = np.random.randint(1, 10, (2, 4, 3))\n",
        "a"
      ]
    },
    {
      "cell_type": "code",
      "execution_count": 3,
      "metadata": {
        "colab": {
          "base_uri": "https://localhost:8080/"
        },
        "id": "Qad8AhaobSoz",
        "outputId": "c9dbccda-0bd3-4a94-c4b6-30a17121b300"
      },
      "outputs": [
        {
          "output_type": "execute_result",
          "data": {
            "text/plain": [
              "5.333333333333333"
            ]
          },
          "metadata": {},
          "execution_count": 3
        }
      ],
      "source": [
        "# Среднее массива\n",
        "a.mean() # np.mean(a)"
      ]
    },
    {
      "cell_type": "code",
      "execution_count": 4,
      "metadata": {
        "colab": {
          "base_uri": "https://localhost:8080/"
        },
        "id": "NXDpDNkqbSoz",
        "outputId": "e3fdf3ec-5510-4ed8-d558-1f6bae565d93"
      },
      "outputs": [
        {
          "output_type": "execute_result",
          "data": {
            "text/plain": [
              "5.333333333333333"
            ]
          },
          "metadata": {},
          "execution_count": 4
        }
      ],
      "source": [
        "# Второй способ\n",
        "np.mean(a)"
      ]
    },
    {
      "cell_type": "code",
      "execution_count": 5,
      "metadata": {
        "colab": {
          "base_uri": "https://localhost:8080/"
        },
        "id": "pnwRsrBrbSoz",
        "outputId": "c82373be-8e9e-4295-88bb-d0fe28724804"
      },
      "outputs": [
        {
          "output_type": "execute_result",
          "data": {
            "text/plain": [
              "(2, 4, 3)"
            ]
          },
          "metadata": {},
          "execution_count": 5
        }
      ],
      "source": [
        "a.shape"
      ]
    },
    {
      "cell_type": "code",
      "execution_count": 6,
      "metadata": {
        "colab": {
          "base_uri": "https://localhost:8080/"
        },
        "id": "iCi6JL44bSo0",
        "outputId": "148013b4-8f63-4d81-8807-596f1c2014d5"
      },
      "outputs": [
        {
          "output_type": "execute_result",
          "data": {
            "text/plain": [
              "array([[[7, 4, 8],\n",
              "        [5, 7, 3],\n",
              "        [7, 8, 5],\n",
              "        [4, 8, 8]],\n",
              "\n",
              "       [[3, 6, 5],\n",
              "        [2, 8, 6],\n",
              "        [2, 5, 1],\n",
              "        [6, 9, 1]]])"
            ]
          },
          "metadata": {},
          "execution_count": 6
        },
        {
          "output_type": "execute_result",
          "data": {
            "text/plain": [
              "array([[5.75, 6.75, 6.  ],\n",
              "       [3.25, 7.  , 3.25]])"
            ]
          },
          "metadata": {},
          "execution_count": 6
        }
      ],
      "source": [
        "a\n",
        "a.mean(axis=1) # Вдоль столбца, по строкам"
      ]
    },
    {
      "cell_type": "code",
      "execution_count": 7,
      "metadata": {
        "colab": {
          "base_uri": "https://localhost:8080/"
        },
        "id": "PBj5YKe8bSo0",
        "outputId": "c714a952-2fcb-47f6-963d-c5e1dc4d2f15"
      },
      "outputs": [
        {
          "output_type": "execute_result",
          "data": {
            "text/plain": [
              "nan"
            ]
          },
          "metadata": {},
          "execution_count": 7
        },
        {
          "output_type": "execute_result",
          "data": {
            "text/plain": [
              "121.0"
            ]
          },
          "metadata": {},
          "execution_count": 7
        },
        {
          "output_type": "execute_result",
          "data": {
            "text/plain": [
              "128"
            ]
          },
          "metadata": {},
          "execution_count": 7
        },
        {
          "output_type": "execute_result",
          "data": {
            "text/plain": [
              "array([[[7, 4, 8],\n",
              "        [5, 7, 3],\n",
              "        [7, 8, 5],\n",
              "        [4, 8, 8]],\n",
              "\n",
              "       [[3, 6, 5],\n",
              "        [2, 8, 6],\n",
              "        [2, 5, 1],\n",
              "        [6, 9, 1]]])"
            ]
          },
          "metadata": {},
          "execution_count": 7
        }
      ],
      "source": [
        "a_copy = a.astype(np.float64)\n",
        "a_copy[0, 0, 0] = np.nan\n",
        "a_copy.sum() # Итого - это np.nan. Решение: np.nansum(a_copy)\n",
        "np.nansum(a_copy)\n",
        "a.sum() # np.sum(a)\n",
        "a"
      ]
    },
    {
      "cell_type": "code",
      "execution_count": 8,
      "metadata": {
        "colab": {
          "base_uri": "https://localhost:8080/"
        },
        "id": "R_4-2UCGbSo0",
        "outputId": "2ec1e600-61d1-42ef-c7fd-d79224712b27"
      },
      "outputs": [
        {
          "output_type": "execute_result",
          "data": {
            "text/plain": [
              "array([[10, 10, 13],\n",
              "       [ 7, 15,  9],\n",
              "       [ 9, 13,  6],\n",
              "       [10, 17,  9]])"
            ]
          },
          "metadata": {},
          "execution_count": 8
        }
      ],
      "source": [
        "a.sum(0) # Указание оси"
      ]
    },
    {
      "cell_type": "code",
      "execution_count": 9,
      "metadata": {
        "colab": {
          "base_uri": "https://localhost:8080/"
        },
        "id": "QriVGn9hbSo0",
        "outputId": "9ddab0ca-f046-4436-ff09-554d09b0f5b8"
      },
      "outputs": [
        {
          "output_type": "execute_result",
          "data": {
            "text/plain": [
              "array([[[7, 4, 8],\n",
              "        [5, 7, 3],\n",
              "        [7, 8, 5],\n",
              "        [4, 8, 8]],\n",
              "\n",
              "       [[3, 6, 5],\n",
              "        [2, 8, 6],\n",
              "        [2, 5, 1],\n",
              "        [6, 9, 1]]])"
            ]
          },
          "metadata": {},
          "execution_count": 9
        }
      ],
      "source": [
        "a"
      ]
    },
    {
      "cell_type": "code",
      "execution_count": 10,
      "metadata": {
        "colab": {
          "base_uri": "https://localhost:8080/"
        },
        "id": "qx0Q4s02bSo0",
        "outputId": "eaade57a-1a66-477f-f203-16e46af8a363"
      },
      "outputs": [
        {
          "output_type": "execute_result",
          "data": {
            "text/plain": [
              "array([[5.75, 6.75, 6.  ],\n",
              "       [3.25, 7.  , 3.25]])"
            ]
          },
          "metadata": {},
          "execution_count": 10
        }
      ],
      "source": [
        "a2d = a.mean(axis=1); a2d"
      ]
    },
    {
      "cell_type": "code",
      "execution_count": 11,
      "metadata": {
        "colab": {
          "base_uri": "https://localhost:8080/"
        },
        "id": "E_tRPnWHbSo1",
        "outputId": "fb1ace75-f478-4967-c491-76d4d31c093c"
      },
      "outputs": [
        {
          "output_type": "execute_result",
          "data": {
            "text/plain": [
              "array([ 9.  , 13.75,  9.25])"
            ]
          },
          "metadata": {},
          "execution_count": 11
        }
      ],
      "source": [
        "np.sum(a2d, axis=0) # shape = (3,)"
      ]
    },
    {
      "cell_type": "code",
      "execution_count": 12,
      "metadata": {
        "colab": {
          "base_uri": "https://localhost:8080/"
        },
        "id": "SUmvNi-kbSo1",
        "outputId": "41c38c1e-15ee-4e60-a4e5-90d86aa46533"
      },
      "outputs": [
        {
          "output_type": "execute_result",
          "data": {
            "text/plain": [
              "array([[5.75, 6.75, 6.  ],\n",
              "       [3.25, 7.  , 3.25]])"
            ]
          },
          "metadata": {},
          "execution_count": 12
        }
      ],
      "source": [
        "a2d"
      ]
    },
    {
      "cell_type": "code",
      "execution_count": 13,
      "metadata": {
        "colab": {
          "base_uri": "https://localhost:8080/"
        },
        "id": "AjS21lDZbSo1",
        "outputId": "68964bf4-68f3-4fe1-d7c3-fc5c5acfc49e"
      },
      "outputs": [
        {
          "output_type": "execute_result",
          "data": {
            "text/plain": [
              "array([[5.75, 6.75, 6.  ],\n",
              "       [3.25, 7.  , 3.25]])"
            ]
          },
          "metadata": {},
          "execution_count": 13
        },
        {
          "output_type": "execute_result",
          "data": {
            "text/plain": [
              "array([12.5 , 10.25])"
            ]
          },
          "metadata": {},
          "execution_count": 13
        }
      ],
      "source": [
        "a2d\n",
        "a2d[:, :2].sum(1) # Out: вспомнить всё и проверить"
      ]
    },
    {
      "cell_type": "code",
      "execution_count": 14,
      "metadata": {
        "colab": {
          "base_uri": "https://localhost:8080/"
        },
        "id": "Zc2kkaTNbSo1",
        "outputId": "d97746b1-4f6c-4b7a-8ad3-ddfd70606ecb"
      },
      "outputs": [
        {
          "output_type": "execute_result",
          "data": {
            "text/plain": [
              "array([[5.75, 6.75, 6.  ],\n",
              "       [3.25, 7.  , 3.25]])"
            ]
          },
          "metadata": {},
          "execution_count": 14
        }
      ],
      "source": [
        "a2d"
      ]
    },
    {
      "cell_type": "code",
      "execution_count": 15,
      "metadata": {
        "colab": {
          "base_uri": "https://localhost:8080/"
        },
        "id": "p9v2CGIrbSo1",
        "outputId": "f1a324c9-8d6c-4cdc-881b-401bd8066d88"
      },
      "outputs": [
        {
          "output_type": "execute_result",
          "data": {
            "text/plain": [
              "array([5.75, 3.25])"
            ]
          },
          "metadata": {},
          "execution_count": 15
        }
      ],
      "source": [
        "a2d.min(axis=1) # Out: Вспомнить всё и проверить"
      ]
    },
    {
      "cell_type": "code",
      "execution_count": 16,
      "metadata": {
        "colab": {
          "base_uri": "https://localhost:8080/"
        },
        "id": "tyiGWgDEbSo1",
        "outputId": "17e3c9a5-8c42-427a-ff82-46095ce4f15e"
      },
      "outputs": [
        {
          "output_type": "execute_result",
          "data": {
            "text/plain": [
              "array([5.75, 7.  , 6.  ])"
            ]
          },
          "metadata": {},
          "execution_count": 16
        }
      ],
      "source": [
        "a2d.max(0) # axis=0"
      ]
    },
    {
      "cell_type": "code",
      "execution_count": 17,
      "metadata": {
        "colab": {
          "base_uri": "https://localhost:8080/"
        },
        "id": "3aP7VmzqbSo2",
        "outputId": "bf0b81ef-1d7e-48e3-b847-c7d2b5e23e86"
      },
      "outputs": [
        {
          "output_type": "execute_result",
          "data": {
            "text/plain": [
              "array([[[7, 4, 8],\n",
              "        [5, 7, 3],\n",
              "        [7, 8, 5],\n",
              "        [4, 8, 8]],\n",
              "\n",
              "       [[3, 6, 5],\n",
              "        [2, 8, 6],\n",
              "        [2, 5, 1],\n",
              "        [6, 9, 1]]])"
            ]
          },
          "metadata": {},
          "execution_count": 17
        }
      ],
      "source": [
        "a"
      ]
    },
    {
      "cell_type": "code",
      "execution_count": 18,
      "metadata": {
        "colab": {
          "base_uri": "https://localhost:8080/"
        },
        "id": "N1xaWBADbSo2",
        "outputId": "9dd4937b-2ef7-459e-d58d-2c0bb7ad1067"
      },
      "outputs": [
        {
          "output_type": "execute_result",
          "data": {
            "text/plain": [
              "array([[[7, 4, 8],\n",
              "        [5, 7, 3],\n",
              "        [7, 8, 5],\n",
              "        [4, 8, 8]],\n",
              "\n",
              "       [[3, 6, 5],\n",
              "        [2, 8, 6],\n",
              "        [2, 5, 1],\n",
              "        [6, 9, 1]]])"
            ]
          },
          "metadata": {},
          "execution_count": 18
        },
        {
          "output_type": "execute_result",
          "data": {
            "text/plain": [
              "array([[23, 27, 24],\n",
              "       [13, 28, 13]])"
            ]
          },
          "metadata": {},
          "execution_count": 18
        }
      ],
      "source": [
        "a\n",
        "# Аргумент keepdims=True сохраняет размерность итогового массива.\n",
        "b = a.sum(1, keepdims=False)\n",
        "b"
      ]
    },
    {
      "cell_type": "code",
      "execution_count": 19,
      "metadata": {
        "colab": {
          "base_uri": "https://localhost:8080/"
        },
        "id": "lEcOaVyfbSo2",
        "outputId": "69b64ac6-f732-4855-9228-57421d8f6aa4"
      },
      "outputs": [
        {
          "output_type": "execute_result",
          "data": {
            "text/plain": [
              "array([[23, 24, 27],\n",
              "       [13, 13, 28]])"
            ]
          },
          "metadata": {},
          "execution_count": 19
        }
      ],
      "source": [
        "# Функция sort() выполняет in-place(на месте) сортировку\n",
        "# b.sort() тоже самое, что и b.sort(-1)\n",
        "b.sort(); b"
      ]
    },
    {
      "cell_type": "code",
      "execution_count": 20,
      "metadata": {
        "colab": {
          "base_uri": "https://localhost:8080/"
        },
        "id": "LKxP_iXSbSo2",
        "outputId": "5cddb6a5-e353-4c89-ae66-5c321ad18ffb"
      },
      "outputs": [
        {
          "output_type": "execute_result",
          "data": {
            "text/plain": [
              "array([[13, 13, 27],\n",
              "       [23, 24, 28]])"
            ]
          },
          "metadata": {},
          "execution_count": 20
        },
        {
          "output_type": "execute_result",
          "data": {
            "text/plain": [
              "array([[28, 24, 23],\n",
              "       [27, 13, 13]])"
            ]
          },
          "metadata": {},
          "execution_count": 20
        }
      ],
      "source": [
        "b.sort(0) # Сортировка с указанием оси\n",
        "b\n",
        "np.flip(b) # Reverse"
      ]
    },
    {
      "cell_type": "code",
      "execution_count": 21,
      "metadata": {
        "colab": {
          "base_uri": "https://localhost:8080/"
        },
        "id": "rClgsz1SbSo2",
        "outputId": "95cebc82-df9d-4912-a0c9-cc3a205fc948"
      },
      "outputs": [
        {
          "output_type": "execute_result",
          "data": {
            "text/plain": [
              "array([[27, 42, 28, 16, 15],\n",
              "       [47, 44,  3, 37,  7],\n",
              "       [21,  9, 39, 18,  4],\n",
              "       [25, 14,  9, 26,  2],\n",
              "       [20, 28, 47,  7, 44],\n",
              "       [ 8, 47, 35, 14, 17]])"
            ]
          },
          "metadata": {},
          "execution_count": 21
        },
        {
          "output_type": "execute_result",
          "data": {
            "text/plain": [
              "array([[15, 27, 42, 16, 28],\n",
              "       [ 4, 21,  9, 18, 39],\n",
              "       [44, 20, 28,  7, 47],\n",
              "       [17,  8, 47, 14, 35],\n",
              "       [ 7, 47, 44, 37,  3],\n",
              "       [ 2, 25, 14, 26,  9]])"
            ]
          },
          "metadata": {},
          "execution_count": 21
        }
      ],
      "source": [
        "c = np.random.randint(1, 50, (6, 5))\n",
        "c\n",
        "np.random.shuffle(c)\n",
        "c = c[:, [4, 0, 1, 3, 2]]\n",
        "c"
      ]
    },
    {
      "cell_type": "code",
      "execution_count": 22,
      "metadata": {
        "colab": {
          "base_uri": "https://localhost:8080/"
        },
        "id": "VzdAu7FfbSo2",
        "outputId": "4d9fc6f3-848f-49cb-f29e-b4ee17ce0a9f"
      },
      "outputs": [
        {
          "output_type": "execute_result",
          "data": {
            "text/plain": [
              "array([[15, 16, 27, 28, 42],\n",
              "       [ 4,  9, 18, 21, 39],\n",
              "       [ 7, 20, 28, 44, 47],\n",
              "       [ 8, 14, 17, 35, 47],\n",
              "       [ 3,  7, 37, 44, 47],\n",
              "       [ 2,  9, 14, 25, 26]])"
            ]
          },
          "metadata": {},
          "execution_count": 22
        }
      ],
      "source": [
        "# Будет отсортирована каждая строка\n",
        "c.sort(1) # c.sort(), c.sort(-1)\n",
        "c"
      ]
    },
    {
      "cell_type": "code",
      "execution_count": 23,
      "metadata": {
        "colab": {
          "base_uri": "https://localhost:8080/"
        },
        "id": "pbSXsKEAbSo2",
        "outputId": "bbfce236-9652-4edb-95f9-0916c7afae07"
      },
      "outputs": [
        {
          "output_type": "execute_result",
          "data": {
            "text/plain": [
              "array([[ 0,  1,  2,  3],\n",
              "       [ 4,  5,  6,  7],\n",
              "       [ 8,  9, 10, 11],\n",
              "       [12, 13, 14, 15]])"
            ]
          },
          "metadata": {},
          "execution_count": 23
        }
      ],
      "source": [
        "new_a = np.arange(16).reshape(4,4); new_a"
      ]
    },
    {
      "cell_type": "code",
      "execution_count": 24,
      "metadata": {
        "colab": {
          "base_uri": "https://localhost:8080/"
        },
        "id": "46Y-asIHbSo3",
        "outputId": "04e50d6e-780a-4e77-c079-a70d6a112db5"
      },
      "outputs": [
        {
          "output_type": "execute_result",
          "data": {
            "text/plain": [
              "array([[ 0,  1,  2,  3],\n",
              "       [ 4,  6,  8, 10],\n",
              "       [12, 15, 18, 21],\n",
              "       [24, 28, 32, 36]])"
            ]
          },
          "metadata": {},
          "execution_count": 24
        }
      ],
      "source": [
        "# Редуцирование происходит по строкам вдоль каждого столбца\n",
        "# Кумулятивная сумма по нарастанию вдоль каждого столбца\n",
        "new_a.cumsum(0)"
      ]
    },
    {
      "cell_type": "code",
      "execution_count": 25,
      "metadata": {
        "colab": {
          "base_uri": "https://localhost:8080/"
        },
        "id": "kuwBeQ-GbSo3",
        "outputId": "d753ae52-2d2d-46db-b06d-f3dd01e0ad08"
      },
      "outputs": [
        {
          "output_type": "execute_result",
          "data": {
            "text/plain": [
              "array([[ 0,  1,  2,  3],\n",
              "       [ 4,  5,  6,  7],\n",
              "       [ 8,  9, 10, 11],\n",
              "       [12, 13, 14, 15]])"
            ]
          },
          "metadata": {},
          "execution_count": 25
        }
      ],
      "source": [
        "new_a"
      ]
    },
    {
      "cell_type": "code",
      "execution_count": 26,
      "metadata": {
        "colab": {
          "base_uri": "https://localhost:8080/"
        },
        "id": "9w1x_K5lbSo3",
        "outputId": "5bd43d8f-984f-405c-d592-3cbc697943ed"
      },
      "outputs": [
        {
          "output_type": "execute_result",
          "data": {
            "text/plain": [
              "array([[ 0,  1,  3,  6],\n",
              "       [ 4,  9, 15, 22],\n",
              "       [ 8, 17, 27, 38],\n",
              "       [12, 25, 39, 54]])"
            ]
          },
          "metadata": {},
          "execution_count": 26
        }
      ],
      "source": [
        "new_a.cumsum(1)"
      ]
    },
    {
      "cell_type": "code",
      "execution_count": 27,
      "metadata": {
        "colab": {
          "base_uri": "https://localhost:8080/"
        },
        "id": "O0X5piArbSo3",
        "outputId": "666dc4c9-1235-4c69-d19c-ae21bee6d7d6"
      },
      "outputs": [
        {
          "output_type": "execute_result",
          "data": {
            "text/plain": [
              "array([[ 0,  1,  2,  3],\n",
              "       [ 4,  5,  6,  7],\n",
              "       [ 8,  9, 10, 11],\n",
              "       [12, 13, 14, 15]])"
            ]
          },
          "metadata": {},
          "execution_count": 27
        }
      ],
      "source": [
        "new_a"
      ]
    },
    {
      "cell_type": "code",
      "execution_count": 28,
      "metadata": {
        "colab": {
          "base_uri": "https://localhost:8080/"
        },
        "id": "eB8hQUG8bSo3",
        "outputId": "d7f264db-21c4-4523-ea40-a79ca1db17ae"
      },
      "outputs": [
        {
          "output_type": "execute_result",
          "data": {
            "text/plain": [
              "array([[    1,     1,     2,     6],\n",
              "       [    4,    20,   120,   840],\n",
              "       [    8,    72,   720,  7920],\n",
              "       [   12,   156,  2184, 32760]])"
            ]
          },
          "metadata": {},
          "execution_count": 28
        }
      ],
      "source": [
        "new_aa = new_a.copy()\n",
        "new_aa[0,0] = 1\n",
        "# Кумулятивное произведение\n",
        "res = new_aa.cumprod(1); res"
      ]
    },
    {
      "cell_type": "code",
      "execution_count": 29,
      "metadata": {
        "colab": {
          "base_uri": "https://localhost:8080/"
        },
        "id": "lGiWtV9xbSo4",
        "outputId": "bb516b37-5dd9-4a1b-9c14-f464cb142233"
      },
      "outputs": [
        {
          "output_type": "execute_result",
          "data": {
            "text/plain": [
              "array([[    1,     1,     2,     6],\n",
              "       [    4,    20,   120,   840],\n",
              "       [    8,    72,   720,  7920],\n",
              "       [   12,   156,  2184, 32760]])"
            ]
          },
          "metadata": {},
          "execution_count": 29
        }
      ],
      "source": [
        "res"
      ]
    },
    {
      "cell_type": "code",
      "execution_count": 30,
      "metadata": {
        "colab": {
          "base_uri": "https://localhost:8080/"
        },
        "id": "4-9qrphxbSo4",
        "outputId": "85b94c17-d30c-41d5-ba39-b3fab7cac9ab"
      },
      "outputs": [
        {
          "output_type": "execute_result",
          "data": {
            "text/plain": [
              "2801.625"
            ]
          },
          "metadata": {},
          "execution_count": 30
        },
        {
          "output_type": "execute_result",
          "data": {
            "text/plain": [
              "46.0"
            ]
          },
          "metadata": {},
          "execution_count": 30
        }
      ],
      "source": [
        "res.mean() # Среднее\n",
        "np.median(res) # Медиана"
      ]
    },
    {
      "cell_type": "code",
      "execution_count": 31,
      "metadata": {
        "colab": {
          "base_uri": "https://localhost:8080/"
        },
        "id": "6XUnVpS5bSo4",
        "outputId": "ca42b56f-cb18-4b93-f524-690eccea3e7d"
      },
      "outputs": [
        {
          "output_type": "execute_result",
          "data": {
            "text/plain": [
              "7970.2446627675745"
            ]
          },
          "metadata": {},
          "execution_count": 31
        }
      ],
      "source": [
        "res.std() # стандартное отклонение"
      ]
    },
    {
      "cell_type": "code",
      "execution_count": 32,
      "metadata": {
        "colab": {
          "base_uri": "https://localhost:8080/"
        },
        "id": "rim79Q39bSo4",
        "outputId": "f4297908-3965-481a-c064-4408836d2247"
      },
      "outputs": [
        {
          "output_type": "execute_result",
          "data": {
            "text/plain": [
              "63524799.984375"
            ]
          },
          "metadata": {},
          "execution_count": 32
        }
      ],
      "source": [
        "res.var()  # дисперсия"
      ]
    },
    {
      "cell_type": "markdown",
      "metadata": {
        "id": "S6pLysgIbSo4"
      },
      "source": [
        "## Работа с датами"
      ]
    },
    {
      "cell_type": "code",
      "execution_count": 33,
      "metadata": {
        "colab": {
          "base_uri": "https://localhost:8080/"
        },
        "id": "HlGNh2xqbSo5",
        "outputId": "53ee96ef-1f5c-462a-a710-e0360cbba3b8"
      },
      "outputs": [
        {
          "output_type": "execute_result",
          "data": {
            "text/plain": [
              "numpy.datetime64('2025-06-01')"
            ]
          },
          "metadata": {},
          "execution_count": 33
        }
      ],
      "source": [
        "np.datetime64('today')"
      ]
    },
    {
      "cell_type": "code",
      "execution_count": 34,
      "metadata": {
        "colab": {
          "base_uri": "https://localhost:8080/"
        },
        "id": "6gR7_s_TbSo5",
        "outputId": "150f52bd-6ddf-4583-bfee-d6e2e39a138e"
      },
      "outputs": [
        {
          "output_type": "execute_result",
          "data": {
            "text/plain": [
              "(numpy.datetime64('2025-05-31'),\n",
              " numpy.datetime64('2025-06-01'),\n",
              " numpy.datetime64('2025-06-02'))"
            ]
          },
          "metadata": {},
          "execution_count": 34
        }
      ],
      "source": [
        "yesterday = np.datetime64('today') - np.timedelta64(1)\n",
        "today     = np.datetime64('today')\n",
        "tomorrow  = np.datetime64('today') + np.timedelta64(1)\n",
        "yesterday, today, tomorrow"
      ]
    },
    {
      "cell_type": "code",
      "execution_count": 35,
      "metadata": {
        "colab": {
          "base_uri": "https://localhost:8080/",
          "height": 106
        },
        "id": "7pnYc_mTbSo5",
        "outputId": "65de3c28-0a09-44de-8b1a-174764b42880"
      },
      "outputs": [
        {
          "output_type": "execute_result",
          "data": {
            "text/plain": [
              "'2025-06-01'"
            ],
            "application/vnd.google.colaboratory.intrinsic+json": {
              "type": "string"
            }
          },
          "metadata": {},
          "execution_count": 35
        },
        {
          "output_type": "execute_result",
          "data": {
            "text/plain": [
              "'2025-06-01T00:00:00.000'"
            ],
            "application/vnd.google.colaboratory.intrinsic+json": {
              "type": "string"
            }
          },
          "metadata": {},
          "execution_count": 35
        },
        {
          "output_type": "stream",
          "name": "stdout",
          "text": [
            "2025-06-01T12:19:04.326\n",
            "326905\n",
            "1748780344.326986\n"
          ]
        }
      ],
      "source": [
        "# Дата как строка\n",
        "# https://strftime.org/\n",
        "np.datetime_as_string(today, unit='D') # datetime -> np.str_\n",
        "np.datetime_as_string(today, unit='ms')\n",
        "\n",
        "from datetime import datetime\n",
        "\n",
        "print(np.datetime_as_string(np.datetime64(datetime.now()), unit='ms'))\n",
        "print(datetime.now().microsecond)\n",
        "print(datetime.now().timestamp()) # Кол-во секунд от начала эпохи UNIX(01.01.1970)"
      ]
    },
    {
      "cell_type": "code",
      "execution_count": 36,
      "metadata": {
        "scrolled": true,
        "colab": {
          "base_uri": "https://localhost:8080/"
        },
        "id": "8oDmryOubSo5",
        "outputId": "efa85bed-d80a-437b-d835-b150a6e5446b"
      },
      "outputs": [
        {
          "output_type": "execute_result",
          "data": {
            "text/plain": [
              "array(['2020-08-01', '2020-08-02', '2020-08-03', '2020-08-04', '2020-08-05', '2020-08-06', '2020-08-07',\n",
              "       '2020-08-08', '2020-08-09', '2020-08-10', '2020-08-11', '2020-08-12', '2020-08-13', '2020-08-14',\n",
              "       '2020-08-15', '2020-08-16', '2020-08-17', '2020-08-18', '2020-08-19', '2020-08-20', '2020-08-21',\n",
              "       '2020-08-22', '2020-08-23', '2020-08-24', '2020-08-25', '2020-08-26', '2020-08-27', '2020-08-28',\n",
              "       '2020-08-29', '2020-08-30', '2020-08-31'], dtype='datetime64[D]')"
            ]
          },
          "metadata": {},
          "execution_count": 36
        }
      ],
      "source": [
        "data = np.arange('2020-08', '2020-09', dtype='datetime64[D]'); data"
      ]
    },
    {
      "cell_type": "code",
      "execution_count": 37,
      "metadata": {
        "colab": {
          "base_uri": "https://localhost:8080/"
        },
        "id": "dWZp9swZbSo5",
        "outputId": "d9f04f38-89de-448b-e59b-32ddd2a99687"
      },
      "outputs": [
        {
          "output_type": "execute_result",
          "data": {
            "text/plain": [
              "array(['2021-07-01', '2021-07-08', '2021-07-15', '2021-07-22'], dtype='datetime64[W]')"
            ]
          },
          "metadata": {},
          "execution_count": 37
        }
      ],
      "source": [
        "data3 = np.arange('2021-07', '2021-08', dtype='datetime64[W]'); data3"
      ]
    },
    {
      "cell_type": "code",
      "execution_count": 38,
      "metadata": {
        "colab": {
          "base_uri": "https://localhost:8080/"
        },
        "id": "7xZUig7BbSo5",
        "outputId": "256650c0-e170-42e7-974b-0938b2fdb0f0"
      },
      "outputs": [
        {
          "output_type": "execute_result",
          "data": {
            "text/plain": [
              "array(['2020-01', '2020-02', '2020-03', '2020-04', '2020-05', '2020-06', '2020-07', '2020-08', '2020-09',\n",
              "       '2020-10', '2020-11', '2020-12'], dtype='datetime64[M]')"
            ]
          },
          "metadata": {},
          "execution_count": 38
        }
      ],
      "source": [
        "data1 = np.arange('2020', '2021', dtype='datetime64[M]'); data1"
      ]
    },
    {
      "cell_type": "code",
      "execution_count": 39,
      "metadata": {
        "colab": {
          "base_uri": "https://localhost:8080/"
        },
        "id": "hcpIPqLEbSo5",
        "outputId": "1d83a667-ec40-41a6-8d4e-fbb13e26cbef"
      },
      "outputs": [
        {
          "output_type": "execute_result",
          "data": {
            "text/plain": [
              "array(['2020', '2021', '2022', '2023', '2024', '2025', '2026', '2027', '2028'], dtype='datetime64[Y]')"
            ]
          },
          "metadata": {},
          "execution_count": 39
        }
      ],
      "source": [
        "data2 = np.arange('2020', '2029', dtype='datetime64[Y]'); data2"
      ]
    },
    {
      "cell_type": "code",
      "execution_count": 40,
      "metadata": {
        "colab": {
          "base_uri": "https://localhost:8080/"
        },
        "id": "HlDjHPEcbSo5",
        "outputId": "b4380482-bff4-4c3e-b0ae-9f5e8b6258eb"
      },
      "outputs": [
        {
          "output_type": "execute_result",
          "data": {
            "text/plain": [
              "array(['2020-08-01', '2020-08-02', '2020-08-03', '2020-08-04', '2020-08-05', '2020-08-06', '2020-08-07',\n",
              "       '2020-08-08', '2020-08-09', '2020-08-10', '2020-08-11', '2020-08-12', '2020-08-13', '2020-08-14',\n",
              "       '2020-08-15', '2020-08-16', '2020-08-17', '2020-08-18', '2020-08-19', '2020-08-20', '2020-08-21',\n",
              "       '2020-08-22', '2020-08-23', '2020-08-24', '2020-08-25', '2020-08-26', '2020-08-27', '2020-08-28',\n",
              "       '2020-08-29', '2020-08-30', '2020-08-31'], dtype='<U28')"
            ]
          },
          "metadata": {},
          "execution_count": 40
        }
      ],
      "source": [
        "data.astype(np.str_)"
      ]
    },
    {
      "cell_type": "markdown",
      "metadata": {
        "id": "0fSqYTmfbSo6"
      },
      "source": [
        "## Файловый ввод и вывод массивов"
      ]
    },
    {
      "cell_type": "code",
      "execution_count": 41,
      "metadata": {
        "colab": {
          "base_uri": "https://localhost:8080/"
        },
        "id": "4355XcOYbSo6",
        "outputId": "7a6cde55-8239-4a38-e51d-1e4cdee98347"
      },
      "outputs": [
        {
          "output_type": "execute_result",
          "data": {
            "text/plain": [
              "array([[    1,     1,     2,     6],\n",
              "       [    4,    20,   120,   840],\n",
              "       [    8,    72,   720,  7920],\n",
              "       [   12,   156,  2184, 32760]])"
            ]
          },
          "metadata": {},
          "execution_count": 41
        }
      ],
      "source": [
        "res"
      ]
    },
    {
      "cell_type": "code",
      "execution_count": 42,
      "metadata": {
        "colab": {
          "base_uri": "https://localhost:8080/"
        },
        "id": "t1jXnzclbSo6",
        "outputId": "a57f1c65-2977-4b97-d005-991327dc6266"
      },
      "outputs": [
        {
          "output_type": "execute_result",
          "data": {
            "text/plain": [
              "array(['2020-08-01', '2020-08-02', '2020-08-03', '2020-08-04', '2020-08-05', '2020-08-06', '2020-08-07',\n",
              "       '2020-08-08', '2020-08-09', '2020-08-10', '2020-08-11', '2020-08-12', '2020-08-13', '2020-08-14',\n",
              "       '2020-08-15', '2020-08-16', '2020-08-17', '2020-08-18', '2020-08-19', '2020-08-20', '2020-08-21',\n",
              "       '2020-08-22', '2020-08-23', '2020-08-24', '2020-08-25', '2020-08-26', '2020-08-27', '2020-08-28',\n",
              "       '2020-08-29', '2020-08-30', '2020-08-31'], dtype='datetime64[D]')"
            ]
          },
          "metadata": {},
          "execution_count": 42
        }
      ],
      "source": [
        "data"
      ]
    },
    {
      "cell_type": "markdown",
      "metadata": {
        "id": "eF0dDdbubSo6"
      },
      "source": [
        "#### Сохранение в текстовый файл"
      ]
    },
    {
      "cell_type": "code",
      "execution_count": 43,
      "metadata": {
        "id": "PutvCPBJbSo6"
      },
      "outputs": [],
      "source": [
        "np.savetxt('out_res.txt', res, delimiter=';', fmt='%.2f')\n",
        "np.savetxt('out_data.txt', data, fmt='%s')"
      ]
    },
    {
      "cell_type": "markdown",
      "metadata": {
        "id": "NjG2hJ1tbSo6"
      },
      "source": [
        "#### Загрузка из файла"
      ]
    },
    {
      "cell_type": "code",
      "execution_count": 44,
      "metadata": {
        "colab": {
          "base_uri": "https://localhost:8080/"
        },
        "id": "PeTYni1vbSo6",
        "outputId": "5f88398c-6afe-4c98-fe1a-343c7693187e"
      },
      "outputs": [
        {
          "output_type": "execute_result",
          "data": {
            "text/plain": [
              "array(['2020-08-01', '2020-08-02', '2020-08-03', '2020-08-04', '2020-08-05', '2020-08-06', '2020-08-07',\n",
              "       '2020-08-08', '2020-08-09', '2020-08-10', '2020-08-11', '2020-08-12', '2020-08-13', '2020-08-14',\n",
              "       '2020-08-15', '2020-08-16', '2020-08-17', '2020-08-18', '2020-08-19', '2020-08-20', '2020-08-21',\n",
              "       '2020-08-22', '2020-08-23', '2020-08-24', '2020-08-25', '2020-08-26', '2020-08-27', '2020-08-28',\n",
              "       '2020-08-29', '2020-08-30', '2020-08-31'], dtype='datetime64[D]')"
            ]
          },
          "metadata": {},
          "execution_count": 44
        }
      ],
      "source": [
        "# По умолчанию np.float64\n",
        "data_in = np.loadtxt('out_data.txt', dtype=np.datetime64); data_in"
      ]
    },
    {
      "cell_type": "code",
      "execution_count": 45,
      "metadata": {
        "colab": {
          "base_uri": "https://localhost:8080/"
        },
        "id": "b_32z3tgbSo6",
        "outputId": "ab1c4eb4-a510-4617-b317-24da685501c9"
      },
      "outputs": [
        {
          "output_type": "execute_result",
          "data": {
            "text/plain": [
              "array([[    1,     1,     2,     6],\n",
              "       [    4,    20,   120,   840],\n",
              "       [    8,    72,   720,  7920],\n",
              "       [   12,   156,  2184, 32760]])"
            ]
          },
          "metadata": {},
          "execution_count": 45
        }
      ],
      "source": [
        "res_in = np.loadtxt('out_res.txt', delimiter=';'); res_in.astype(np.int64)"
      ]
    },
    {
      "cell_type": "markdown",
      "metadata": {
        "id": "zn6eEUj0bSo6"
      },
      "source": [
        "#### Сохранение в специальный формат numpy"
      ]
    },
    {
      "cell_type": "code",
      "execution_count": 46,
      "metadata": {
        "colab": {
          "base_uri": "https://localhost:8080/"
        },
        "id": "EfcqU-uRbSo6",
        "outputId": "7f1ffbaa-5e43-4103-9c87-ccf68aa6adb6"
      },
      "outputs": [
        {
          "output_type": "execute_result",
          "data": {
            "text/plain": [
              "array([[ 2.77831304,  1.19363972,  0.21863832,  0.88176104],\n",
              "       [-1.00908534, -1.58329421,  0.77370042, -0.53814166],\n",
              "       [-1.3466781 , -0.88059127, -1.1305523 ,  0.13442888],\n",
              "       [ 0.58212279,  0.88774846,  0.89433233,  0.7549978 ],\n",
              "       [-0.20716589, -0.62347739, -1.50815329,  1.09964698]])"
            ]
          },
          "metadata": {},
          "execution_count": 46
        }
      ],
      "source": [
        "a = np.random.randn(20).reshape(5, 4);a"
      ]
    },
    {
      "cell_type": "code",
      "execution_count": 47,
      "metadata": {
        "id": "Sfgtqy2EbSo7"
      },
      "outputs": [],
      "source": [
        "# сохранить в файл с расширением npy(формат библиотеки numpy)\n",
        "np.save('array_5x4.npy', a)"
      ]
    },
    {
      "cell_type": "code",
      "execution_count": 48,
      "metadata": {
        "colab": {
          "base_uri": "https://localhost:8080/"
        },
        "id": "PF39FRhebSo7",
        "outputId": "894e85d3-405c-4e1d-847d-da4e5f2c0a0f"
      },
      "outputs": [
        {
          "output_type": "execute_result",
          "data": {
            "text/plain": [
              "array([[ 2.77831304,  1.19363972,  0.21863832,  0.88176104],\n",
              "       [-1.00908534, -1.58329421,  0.77370042, -0.53814166],\n",
              "       [-1.3466781 , -0.88059127, -1.1305523 ,  0.13442888],\n",
              "       [ 0.58212279,  0.88774846,  0.89433233,  0.7549978 ],\n",
              "       [-0.20716589, -0.62347739, -1.50815329,  1.09964698]])"
            ]
          },
          "metadata": {},
          "execution_count": 48
        }
      ],
      "source": [
        "a_in = np.load('array_5x4.npy'); a_in"
      ]
    },
    {
      "cell_type": "code",
      "execution_count": 49,
      "metadata": {
        "id": "INC_oRgEbSo7"
      },
      "outputs": [],
      "source": [
        "np.savetxt('array_out.csv', a, delimiter=',')"
      ]
    },
    {
      "cell_type": "code",
      "execution_count": 50,
      "metadata": {
        "colab": {
          "base_uri": "https://localhost:8080/"
        },
        "id": "eBzxAZEUbSo7",
        "outputId": "1635de0d-1f5b-49a4-9f82-1c0b488f91a8"
      },
      "outputs": [
        {
          "output_type": "execute_result",
          "data": {
            "text/plain": [
              "array([[ 2.77831304,  1.19363972,  0.21863832,  0.88176104],\n",
              "       [-1.00908534, -1.58329421,  0.77370042, -0.53814166],\n",
              "       [-1.3466781 , -0.88059127, -1.1305523 ,  0.13442888],\n",
              "       [ 0.58212279,  0.88774846,  0.89433233,  0.7549978 ],\n",
              "       [-0.20716589, -0.62347739, -1.50815329,  1.09964698]])"
            ]
          },
          "metadata": {},
          "execution_count": 50
        }
      ],
      "source": [
        "a_txt = np.loadtxt('array_out.csv', delimiter=','); a_txt"
      ]
    },
    {
      "cell_type": "markdown",
      "metadata": {
        "id": "p9t-kcXhbSo7"
      },
      "source": [
        "#### Пару тестов"
      ]
    },
    {
      "cell_type": "code",
      "execution_count": 51,
      "metadata": {
        "id": "AmLWvpgcbSo7"
      },
      "outputs": [],
      "source": [
        "e6 = np.random.randn(1_000_000).reshape(10, 100_000)\n",
        "np.save('array_e6.npy', e6)"
      ]
    },
    {
      "cell_type": "code",
      "execution_count": 52,
      "metadata": {
        "colab": {
          "base_uri": "https://localhost:8080/"
        },
        "id": "sdkrJQwCbSo7",
        "outputId": "94a0c955-19d1-483c-9857-cb3343423e43"
      },
      "outputs": [
        {
          "output_type": "stream",
          "name": "stdout",
          "text": [
            "2.65 ms ± 169 µs per loop (mean ± std. dev. of 7 runs, 100 loops each)\n"
          ]
        }
      ],
      "source": [
        "%timeit e6_in = np.load('array_e6.npy')"
      ]
    },
    {
      "cell_type": "code",
      "execution_count": 53,
      "metadata": {
        "id": "50vuEJ5xbSo7"
      },
      "outputs": [],
      "source": [
        "np.savetxt('array_e6.csv', e6, delimiter=',')"
      ]
    },
    {
      "cell_type": "code",
      "execution_count": 54,
      "metadata": {
        "colab": {
          "base_uri": "https://localhost:8080/"
        },
        "id": "f4iXgjZhbSo7",
        "outputId": "09a0cd0d-df13-4532-8259-1c08ebecadfa"
      },
      "outputs": [
        {
          "output_type": "stream",
          "name": "stdout",
          "text": [
            "492 ms ± 23.2 ms per loop (mean ± std. dev. of 7 runs, 1 loop each)\n"
          ]
        }
      ],
      "source": [
        "%timeit e6_csv = np.loadtxt('array_e6.csv', delimiter=',')"
      ]
    },
    {
      "cell_type": "code",
      "execution_count": 55,
      "metadata": {
        "id": "_Q6Eo7oRbSo7"
      },
      "outputs": [],
      "source": [
        "e7 = np.random.randn(10_000_000).reshape(1_000_000, 10)\n",
        "np.save('array_e7.npy', e7)"
      ]
    },
    {
      "cell_type": "code",
      "execution_count": 56,
      "metadata": {
        "colab": {
          "base_uri": "https://localhost:8080/"
        },
        "id": "03Ek4ivsbSo8",
        "outputId": "f63c3637-f2ee-49d4-e439-39d12f9d3847"
      },
      "outputs": [
        {
          "output_type": "stream",
          "name": "stdout",
          "text": [
            "34.6 ms ± 3.1 ms per loop (mean ± std. dev. of 7 runs, 10 loops each)\n"
          ]
        }
      ],
      "source": [
        "%timeit e7_in = np.load('array_e7.npy')"
      ]
    },
    {
      "cell_type": "code",
      "execution_count": 57,
      "metadata": {
        "id": "Jwqc9jgLbSo8"
      },
      "outputs": [],
      "source": [
        "np.savetxt('array_e7.csv', e7)"
      ]
    },
    {
      "cell_type": "code",
      "execution_count": 58,
      "metadata": {
        "colab": {
          "base_uri": "https://localhost:8080/"
        },
        "id": "VmYd38APbSo8",
        "outputId": "107a7876-9703-4cc1-f4b7-6aa9c903223a"
      },
      "outputs": [
        {
          "output_type": "stream",
          "name": "stdout",
          "text": [
            "CPU times: user 5.84 s, sys: 181 ms, total: 6.02 s\n",
            "Wall time: 6.02 s\n"
          ]
        }
      ],
      "source": [
        "%time e7_csv = np.loadtxt('array_e7.csv')"
      ]
    },
    {
      "cell_type": "markdown",
      "metadata": {
        "id": "OBkg4Eh4bSo8"
      },
      "source": [
        "#### Сохранение в виде архива"
      ]
    },
    {
      "cell_type": "code",
      "execution_count": 59,
      "metadata": {
        "colab": {
          "base_uri": "https://localhost:8080/"
        },
        "id": "yPuL5cbcbSo8",
        "outputId": "cc7db5a7-9c9f-4190-ada0-2638bd21474a"
      },
      "outputs": [
        {
          "output_type": "execute_result",
          "data": {
            "text/plain": [
              "array(['2020-08-01', '2020-08-02', '2020-08-03', '2020-08-04', '2020-08-05', '2020-08-06', '2020-08-07',\n",
              "       '2020-08-08', '2020-08-09', '2020-08-10', '2020-08-11', '2020-08-12', '2020-08-13', '2020-08-14',\n",
              "       '2020-08-15', '2020-08-16', '2020-08-17', '2020-08-18', '2020-08-19', '2020-08-20', '2020-08-21',\n",
              "       '2020-08-22', '2020-08-23', '2020-08-24', '2020-08-25', '2020-08-26', '2020-08-27', '2020-08-28',\n",
              "       '2020-08-29', '2020-08-30', '2020-08-31'], dtype='datetime64[D]')"
            ]
          },
          "metadata": {},
          "execution_count": 59
        }
      ],
      "source": [
        "data_in"
      ]
    },
    {
      "cell_type": "code",
      "execution_count": 60,
      "metadata": {
        "colab": {
          "base_uri": "https://localhost:8080/"
        },
        "id": "_L63HrB6bSo8",
        "outputId": "b453f987-ba31-4f75-e792-9bc5453ff6f5"
      },
      "outputs": [
        {
          "output_type": "execute_result",
          "data": {
            "text/plain": [
              "array([[ 2.77831304,  1.19363972,  0.21863832,  0.88176104],\n",
              "       [-1.00908534, -1.58329421,  0.77370042, -0.53814166],\n",
              "       [-1.3466781 , -0.88059127, -1.1305523 ,  0.13442888],\n",
              "       [ 0.58212279,  0.88774846,  0.89433233,  0.7549978 ],\n",
              "       [-0.20716589, -0.62347739, -1.50815329,  1.09964698]])"
            ]
          },
          "metadata": {},
          "execution_count": 60
        }
      ],
      "source": [
        "a_in"
      ]
    },
    {
      "cell_type": "code",
      "execution_count": 61,
      "metadata": {
        "id": "l3r-WwXfbSo8"
      },
      "outputs": [],
      "source": [
        "# Сохраняем несколько массивов в один файл\n",
        "np.savez('array_archive.npz', a=data_in, b=a_in)"
      ]
    },
    {
      "cell_type": "code",
      "execution_count": 62,
      "metadata": {
        "id": "x21ydpjvbSo8"
      },
      "outputs": [],
      "source": [
        "# Загрузка из файла\n",
        "archive = np.load('array_archive.npz')"
      ]
    },
    {
      "cell_type": "code",
      "execution_count": 63,
      "metadata": {
        "colab": {
          "base_uri": "https://localhost:8080/"
        },
        "id": "TUEqz6UWbSo8",
        "outputId": "8461e7cc-4731-4ad2-fb50-64f0d74d97b7"
      },
      "outputs": [
        {
          "output_type": "execute_result",
          "data": {
            "text/plain": [
              "{'_files': ['a.npy', 'b.npy'],\n",
              " 'files': ['a', 'b'],\n",
              " 'allow_pickle': False,\n",
              " 'max_header_size': 10000,\n",
              " 'pickle_kwargs': {'encoding': 'ASCII', 'fix_imports': True},\n",
              " 'zip': <zipfile.ZipFile file=<_io.BufferedReader name='array_archive.npz'> mode='r'>,\n",
              " 'f': <numpy.lib._npyio_impl.BagObj at 0x7c115f792010>,\n",
              " 'fid': <_io.BufferedReader name='array_archive.npz'>}"
            ]
          },
          "metadata": {},
          "execution_count": 63
        }
      ],
      "source": [
        "archive.__dict__"
      ]
    },
    {
      "cell_type": "code",
      "execution_count": 64,
      "metadata": {
        "colab": {
          "base_uri": "https://localhost:8080/"
        },
        "id": "iQxaMzu7bSo9",
        "outputId": "017d0281-ad00-4688-9fe8-39bff7729117"
      },
      "outputs": [
        {
          "output_type": "execute_result",
          "data": {
            "text/plain": [
              "(numpy.lib.npyio.NpzFile,\n",
              " collections.abc.Mapping,\n",
              " collections.abc.Collection,\n",
              " collections.abc.Sized,\n",
              " collections.abc.Iterable,\n",
              " collections.abc.Container,\n",
              " object)"
            ]
          },
          "metadata": {},
          "execution_count": 64
        }
      ],
      "source": [
        "archive.__class__.__mro__"
      ]
    },
    {
      "cell_type": "code",
      "execution_count": 65,
      "metadata": {
        "colab": {
          "base_uri": "https://localhost:8080/"
        },
        "id": "UWb7ypWfbSo9",
        "outputId": "92510fc4-12ea-47aa-fd9f-20d88a3a7bcf"
      },
      "outputs": [
        {
          "output_type": "stream",
          "name": "stdout",
          "text": [
            "['2020-08-01' '2020-08-02' '2020-08-03' '2020-08-04' '2020-08-05' '2020-08-06' '2020-08-07' '2020-08-08'\n",
            " '2020-08-09' '2020-08-10' '2020-08-11' '2020-08-12' '2020-08-13' '2020-08-14' '2020-08-15' '2020-08-16'\n",
            " '2020-08-17' '2020-08-18' '2020-08-19' '2020-08-20' '2020-08-21' '2020-08-22' '2020-08-23' '2020-08-24'\n",
            " '2020-08-25' '2020-08-26' '2020-08-27' '2020-08-28' '2020-08-29' '2020-08-30' '2020-08-31']\n",
            "[[ 2.77831304  1.19363972  0.21863832  0.88176104]\n",
            " [-1.00908534 -1.58329421  0.77370042 -0.53814166]\n",
            " [-1.3466781  -0.88059127 -1.1305523   0.13442888]\n",
            " [ 0.58212279  0.88774846  0.89433233  0.7549978 ]\n",
            " [-0.20716589 -0.62347739 -1.50815329  1.09964698]]\n"
          ]
        }
      ],
      "source": [
        "vals = archive.values()  # dict\n",
        "for item in vals:\n",
        "    print(item)"
      ]
    },
    {
      "cell_type": "code",
      "execution_count": 66,
      "metadata": {
        "colab": {
          "base_uri": "https://localhost:8080/"
        },
        "id": "UAJI4ZQ1bSo9",
        "outputId": "594d1beb-470f-4d84-c83b-278bd56fcef8"
      },
      "outputs": [
        {
          "output_type": "execute_result",
          "data": {
            "text/plain": [
              "array([[ 2.77831304,  1.19363972,  0.21863832,  0.88176104],\n",
              "       [-1.00908534, -1.58329421,  0.77370042, -0.53814166],\n",
              "       [-1.3466781 , -0.88059127, -1.1305523 ,  0.13442888],\n",
              "       [ 0.58212279,  0.88774846,  0.89433233,  0.7549978 ],\n",
              "       [-0.20716589, -0.62347739, -1.50815329,  1.09964698]])"
            ]
          },
          "metadata": {},
          "execution_count": 66
        }
      ],
      "source": [
        "archive['b']"
      ]
    },
    {
      "cell_type": "code",
      "execution_count": 67,
      "metadata": {
        "colab": {
          "base_uri": "https://localhost:8080/"
        },
        "id": "wLxOHrRSbSo9",
        "outputId": "717f9354-d247-4eec-cf29-66b15fcd71b3"
      },
      "outputs": [
        {
          "output_type": "execute_result",
          "data": {
            "text/plain": [
              "array(['2020-08-01', '2020-08-02', '2020-08-03', '2020-08-04', '2020-08-05', '2020-08-06', '2020-08-07',\n",
              "       '2020-08-08', '2020-08-09', '2020-08-10', '2020-08-11', '2020-08-12', '2020-08-13', '2020-08-14',\n",
              "       '2020-08-15', '2020-08-16', '2020-08-17', '2020-08-18', '2020-08-19', '2020-08-20', '2020-08-21',\n",
              "       '2020-08-22', '2020-08-23', '2020-08-24', '2020-08-25', '2020-08-26', '2020-08-27', '2020-08-28',\n",
              "       '2020-08-29', '2020-08-30', '2020-08-31'], dtype='datetime64[D]')"
            ]
          },
          "metadata": {},
          "execution_count": 67
        }
      ],
      "source": [
        "archive['a']"
      ]
    },
    {
      "cell_type": "markdown",
      "metadata": {
        "id": "EazeJCKlbSo9"
      },
      "source": [
        "### Немного статистики:\n",
        "Квантили, квартили, процентили"
      ]
    },
    {
      "cell_type": "code",
      "execution_count": 68,
      "metadata": {
        "colab": {
          "base_uri": "https://localhost:8080/"
        },
        "id": "nQa5JHPtbSo9",
        "outputId": "837f1376-6db6-47e4-faea-efdb090f28fd"
      },
      "outputs": [
        {
          "output_type": "stream",
          "name": "stdout",
          "text": [
            "[[10  7  4]\n",
            " [ 3  2  1]]\n"
          ]
        },
        {
          "output_type": "execute_result",
          "data": {
            "text/plain": [
              "array([5.5, 1.5])"
            ]
          },
          "metadata": {},
          "execution_count": 68
        }
      ],
      "source": [
        "a = np.array([[10, 7, 4], [3, 2, 1]])\n",
        "print(a)\n",
        "np.percentile(a, 25, axis=1)"
      ]
    },
    {
      "cell_type": "code",
      "execution_count": 69,
      "metadata": {
        "colab": {
          "base_uri": "https://localhost:8080/"
        },
        "id": "lSvN-LkHbSo9",
        "outputId": "425bebde-21bd-4f1b-a7dd-8d081e9a6f9d"
      },
      "outputs": [
        {
          "output_type": "stream",
          "name": "stdout",
          "text": [
            "[[10  7  4]\n",
            " [ 3  2  1]]\n"
          ]
        },
        {
          "output_type": "execute_result",
          "data": {
            "text/plain": [
              "array([4.75, 3.25, 1.75])"
            ]
          },
          "metadata": {},
          "execution_count": 69
        }
      ],
      "source": [
        "print(a)\n",
        "np.percentile(a, 25, axis=0)"
      ]
    },
    {
      "cell_type": "code",
      "execution_count": 70,
      "metadata": {
        "colab": {
          "base_uri": "https://localhost:8080/"
        },
        "id": "BKW63cNMbSo9",
        "outputId": "6f532984-04af-430c-a5da-f188af83ff11"
      },
      "outputs": [
        {
          "output_type": "execute_result",
          "data": {
            "text/plain": [
              "(-6.576253236805279, 10.519884946017015)"
            ]
          },
          "metadata": {},
          "execution_count": 70
        }
      ],
      "source": [
        "large_array = np.random.normal(0.0, 5.0, (100,))\n",
        "per_95 = np.percentile(large_array, 95)\n",
        "per_05 = np.percentile(large_array, 5)\n",
        "per_05, per_95"
      ]
    },
    {
      "cell_type": "code",
      "execution_count": 71,
      "metadata": {
        "colab": {
          "base_uri": "https://localhost:8080/",
          "height": 446
        },
        "id": "hio3ekbnbSo9",
        "outputId": "667695ee-cd9e-4b29-89be-114c7fb4efaa"
      },
      "outputs": [
        {
          "output_type": "display_data",
          "data": {
            "text/plain": [
              "<Figure size 1200x500 with 1 Axes>"
            ],
            "image/png": "[encoded data removed]"
          },
          "metadata": {}
        }
      ],
      "source": [
        "plt.plot(large_array)\n",
        "plt.hlines([per_95, per_05], xmin=0, xmax=100, colors='red')\n",
        "plt.grid();"
      ]
    },
    {
      "cell_type": "markdown",
      "metadata": {
        "id": "Qsve6RkKbSo-"
      },
      "source": [
        "---"
      ]
    }
  ],
  "metadata": {
    "celltoolbar": "Слайд-шоу",
    "kernelspec": {
      "display_name": "Python 3 (ipykernel)",
      "language": "python",
      "name": "python3"
    },
    "language_info": {
      "codemirror_mode": {
        "name": "ipython",
        "version": 3
      },
      "file_extension": ".py",
      "mimetype": "text/x-python",
      "name": "python",
      "nbconvert_exporter": "python",
      "pygments_lexer": "ipython3",
      "version": "3.11.11"
    },
    "colab": {
      "provenance": []
    }
  },
  "nbformat": 4,
  "nbformat_minor": 0
}