{
  "cells": [
    {
      "cell_type": "markdown",
      "id": "1535de37",
      "metadata": {
        "id": "1535de37"
      },
      "source": [
        "### Практика 3."
      ]
    },
    {
      "cell_type": "markdown",
      "id": "fac7ca46",
      "metadata": {
        "id": "fac7ca46"
      },
      "source": [
        "#### Задача 1\n",
        "\n",
        "Создать массив 10x10 со случайными значениями(int64):\n",
        "- Найти минимум и максимум всего массива\n",
        "- Вывести разницу между max и min для всего массива  \n",
        "- Вывести разницу между max и min для каждой оси  \n",
        "\n",
        "**Out:**   \n",
        "разница в строках: `array([...])`  \n",
        "разница в столбцах: `array([...])`"
      ]
    },
    {
      "cell_type": "markdown",
      "id": "dd009724",
      "metadata": {
        "id": "dd009724"
      },
      "source": [
        "#### Решение:"
      ]
    },
    {
      "cell_type": "code",
      "source": [
        "import numpy as np"
      ],
      "metadata": {
        "id": "Yz3iAHImxfJF"
      },
      "id": "Yz3iAHImxfJF",
      "execution_count": 2,
      "outputs": []
    },
    {
      "cell_type": "code",
      "execution_count": 4,
      "id": "71082e26",
      "metadata": {
        "colab": {
          "base_uri": "https://localhost:8080/"
        },
        "id": "71082e26",
        "outputId": "f85134fe-2e09-40db-da09-305965280de8"
      },
      "outputs": [
        {
          "output_type": "execute_result",
          "data": {
            "text/plain": [
              "array([[ 82,  46,  44,  48,  19,  64,  93,  86,  94,  68],\n",
              "       [ 40,  13,  29,  95,  17,  37,  19,  32,  96,  58],\n",
              "       [ 47,  44,  33,  73, 100,  68,  68,  28,   9,  67],\n",
              "       [100,  15,  68,  44,  43,  62,  46,  62,  30,  26],\n",
              "       [ 19,  97,  76,  82,  78,  47,  43,  80,  87,  12],\n",
              "       [ 44,  47,  35,  80,  74,  16,  45,   5,  69,  25],\n",
              "       [  3,  71,  45,   1,  51,  58,  21,  93,  97,   9],\n",
              "       [ 12,  38,  76,  51,  61,  48,  73,  18,  35,  12],\n",
              "       [ 78,  16,  49,  47,  16,  62,  43,  63,  19,  18],\n",
              "       [ 41,  63,  68,   1,  69,  23,  72,  30,  32,  76]])"
            ]
          },
          "metadata": {},
          "execution_count": 4
        }
      ],
      "source": [
        "# Ваш код\n",
        "arr = np.random.randint(1, 101, size=(10, 10), dtype=np.int64); arr"
      ]
    },
    {
      "cell_type": "code",
      "source": [
        "# Находим минимум и максимум всего массива\n",
        "arr_min = np.min(arr)\n",
        "arr_max = np.max(arr)\n",
        "print(\"\\nМинимум всего массива:\", arr_min)\n",
        "print(\"Максимум всего массива:\", arr_max)"
      ],
      "metadata": {
        "colab": {
          "base_uri": "https://localhost:8080/"
        },
        "id": "Zbqqs5zUxitY",
        "outputId": "8fa3cf4c-bede-44f5-dc66-044c81af91cc"
      },
      "id": "Zbqqs5zUxitY",
      "execution_count": 6,
      "outputs": [
        {
          "output_type": "stream",
          "name": "stdout",
          "text": [
            "\n",
            "Минимум всего массива: 1\n",
            "Максимум всего массива: 100\n"
          ]
        }
      ]
    },
    {
      "cell_type": "code",
      "source": [
        "# Разница между max и min для всего массива\n",
        "total_diff = arr_max - arr_min\n",
        "print(\"Разница между max и min для всего массива:\", total_diff)"
      ],
      "metadata": {
        "colab": {
          "base_uri": "https://localhost:8080/"
        },
        "id": "9pi9SoKfxnHq",
        "outputId": "06f9351a-e477-426a-8c59-b4896e08c05c"
      },
      "id": "9pi9SoKfxnHq",
      "execution_count": 7,
      "outputs": [
        {
          "output_type": "stream",
          "name": "stdout",
          "text": [
            "Разница между max и min для всего массива: 99\n"
          ]
        }
      ]
    },
    {
      "cell_type": "code",
      "source": [
        "# Разница между max и min для каждой оси\n",
        "row_diff = np.max(arr, axis=1) - np.min(arr, axis=1)  # по строкам (axis=1)\n",
        "col_diff = np.max(arr, axis=0) - np.min(arr, axis=0)  # по столбцам (axis=0)\n",
        "print(\"\\nРазница в строках:\", np.array2string(row_diff, separator=', '))\n",
        "print(\"Разница в столбцах:\", np.array2string(col_diff, separator=', '))"
      ],
      "metadata": {
        "colab": {
          "base_uri": "https://localhost:8080/"
        },
        "id": "ltSO8pWDxpjx",
        "outputId": "d0077a2a-d10d-40df-bdb3-fb1d87c083b0"
      },
      "id": "ltSO8pWDxpjx",
      "execution_count": 10,
      "outputs": [
        {
          "output_type": "stream",
          "name": "stdout",
          "text": [
            "\n",
            "Разница в строках: [75, 83, 91, 85, 85, 75, 96, 64, 62, 75]\n",
            "Разница в столбцах: [97, 84, 47, 94, 84, 52, 74, 88, 88, 67]\n"
          ]
        }
      ]
    }
  ],
  "metadata": {
    "kernelspec": {
      "display_name": "Python 3 (ipykernel)",
      "language": "python",
      "name": "python3"
    },
    "language_info": {
      "codemirror_mode": {
        "name": "ipython",
        "version": 3
      },
      "file_extension": ".py",
      "mimetype": "text/x-python",
      "name": "python",
      "nbconvert_exporter": "python",
      "pygments_lexer": "ipython3",
      "version": "3.11.11"
    },
    "colab": {
      "provenance": []
    }
  },
  "nbformat": 4,
  "nbformat_minor": 5
}