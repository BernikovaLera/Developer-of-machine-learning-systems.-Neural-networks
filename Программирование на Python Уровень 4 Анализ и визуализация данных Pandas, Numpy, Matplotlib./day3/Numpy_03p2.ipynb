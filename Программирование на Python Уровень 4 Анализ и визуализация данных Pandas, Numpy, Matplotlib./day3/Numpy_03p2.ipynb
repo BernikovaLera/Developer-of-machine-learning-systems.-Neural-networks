{
  "cells": [
    {
      "cell_type": "markdown",
      "metadata": {
        "id": "jtUpOad4Xn8z"
      },
      "source": [
        "## Анализ и визуализация данных на языке Python."
      ]
    },
    {
      "cell_type": "code",
      "execution_count": 1,
      "metadata": {
        "id": "tg-zUmyHXn81"
      },
      "outputs": [],
      "source": [
        "import numpy as np"
      ]
    },
    {
      "cell_type": "code",
      "execution_count": 2,
      "metadata": {
        "id": "EfwFJwuUXn83"
      },
      "outputs": [],
      "source": [
        "np.set_printoptions(linewidth=110, legacy=\"1.25\")"
      ]
    },
    {
      "cell_type": "code",
      "execution_count": 3,
      "metadata": {
        "id": "I8vNy757Xn84"
      },
      "outputs": [],
      "source": [
        "from IPython.core.interactiveshell import InteractiveShell\n",
        "InteractiveShell.ast_node_interactivity = \"all\""
      ]
    },
    {
      "cell_type": "markdown",
      "metadata": {
        "id": "o6bW2dHsXn85"
      },
      "source": [
        "### Стекинг(Stacking)"
      ]
    },
    {
      "cell_type": "markdown",
      "metadata": {
        "id": "STIGgtZ5Xn85"
      },
      "source": [
        "Function|Description\n",
        "---|:---\n",
        "vstack()|Функция соединяет массивы вертикально\n",
        "row_stack()|Функция соединяет массивы вертикально\n",
        "hstack()|Функция соединяет массивы горизонтально\n",
        "dstack()|Функция соединяет массивы в глубину, используя третье измерение(ось)\n",
        "column_stack()|Функция соединяет одномерные массивы как колонки в двумерном массиве\n",
        "concatenate()|Функция соединяет список или кортеж массивов"
      ]
    },
    {
      "cell_type": "code",
      "execution_count": 4,
      "metadata": {
        "colab": {
          "base_uri": "https://localhost:8080/"
        },
        "id": "ep-BRLCaXn86",
        "outputId": "b8fb84bc-8088-4557-eb80-f8bb85a2c434"
      },
      "outputs": [
        {
          "data": {
            "text/plain": [
              "array([[0, 1, 2],\n",
              "       [3, 4, 5],\n",
              "       [6, 7, 8]])"
            ]
          },
          "execution_count": 4,
          "metadata": {},
          "output_type": "execute_result"
        }
      ],
      "source": [
        "a = np.arange(9).reshape(3, 3); a"
      ]
    },
    {
      "cell_type": "code",
      "execution_count": 5,
      "metadata": {
        "colab": {
          "base_uri": "https://localhost:8080/"
        },
        "id": "LXSyxeRaXn86",
        "outputId": "7b523fc3-ebca-45a1-f634-8357a6c65abd"
      },
      "outputs": [
        {
          "data": {
            "text/plain": [
              "array([[ 0,  2,  4],\n",
              "       [ 6,  8, 10],\n",
              "       [12, 14, 16]])"
            ]
          },
          "execution_count": 5,
          "metadata": {},
          "output_type": "execute_result"
        }
      ],
      "source": [
        "b = 2 * a; b"
      ]
    },
    {
      "cell_type": "code",
      "execution_count": 6,
      "metadata": {
        "colab": {
          "base_uri": "https://localhost:8080/"
        },
        "id": "nTFq1H8QXn87",
        "outputId": "0f57e7bc-e020-4a1f-a488-f1b48780a62c"
      },
      "outputs": [
        {
          "data": {
            "text/plain": [
              "array([[ 0,  1,  2,  0,  2,  4],\n",
              "       [ 3,  4,  5,  6,  8, 10],\n",
              "       [ 6,  7,  8, 12, 14, 16]])"
            ]
          },
          "execution_count": 6,
          "metadata": {},
          "output_type": "execute_result"
        }
      ],
      "source": [
        "# объединяем по горизонтали, аргументы должны быть указаны в виде кортежа!\n",
        "np.hstack((a, b))"
      ]
    },
    {
      "cell_type": "code",
      "execution_count": 7,
      "metadata": {
        "colab": {
          "base_uri": "https://localhost:8080/"
        },
        "id": "XkG5Zj7wXn87",
        "outputId": "2d28ca30-6de8-43b2-fda3-b308ac7024ad"
      },
      "outputs": [
        {
          "data": {
            "text/plain": [
              "array([[  0,   1,   2, 100, 101, 102, 103, 104, 105, 106, 107],\n",
              "       [  3,   4,   5, 108, 109, 110, 111, 112, 113, 114, 115],\n",
              "       [  6,   7,   8, 116, 117, 118, 119, 120, 121, 122, 123]])"
            ]
          },
          "execution_count": 7,
          "metadata": {},
          "output_type": "execute_result"
        }
      ],
      "source": [
        "np.hstack((a, np.arange(100, 124).reshape(3, 8)))"
      ]
    },
    {
      "cell_type": "code",
      "execution_count": 8,
      "metadata": {
        "colab": {
          "base_uri": "https://localhost:8080/"
        },
        "id": "4K66hgEtXn88",
        "outputId": "c7ae49ee-a93c-4ba7-8930-1dd088e78ed5"
      },
      "outputs": [
        {
          "data": {
            "text/plain": [
              "array([[ 0,  1,  2,  0,  1,  2,  0,  2,  4,  0,  2,  4],\n",
              "       [ 3,  4,  5,  3,  4,  5,  6,  8, 10,  6,  8, 10],\n",
              "       [ 6,  7,  8,  6,  7,  8, 12, 14, 16, 12, 14, 16]])"
            ]
          },
          "execution_count": 8,
          "metadata": {},
          "output_type": "execute_result"
        }
      ],
      "source": [
        "np.hstack((a, a, b, b))"
      ]
    },
    {
      "cell_type": "code",
      "execution_count": 9,
      "metadata": {
        "colab": {
          "base_uri": "https://localhost:8080/"
        },
        "id": "VVY_5ACZXn88",
        "outputId": "66536fe3-7796-43f1-ad38-901c1ba0f299"
      },
      "outputs": [
        {
          "data": {
            "text/plain": [
              "array([[ 0,  1,  2,  0,  2,  4],\n",
              "       [ 3,  4,  5,  6,  8, 10],\n",
              "       [ 6,  7,  8, 12, 14, 16]])"
            ]
          },
          "execution_count": 9,
          "metadata": {},
          "output_type": "execute_result"
        }
      ],
      "source": [
        "# Та же самая операция\n",
        "# Строки - это axis(ось)=0, столбцы - это axis(ось)=1\n",
        "np.concatenate((a, b), axis=1)"
      ]
    },
    {
      "cell_type": "code",
      "execution_count": 10,
      "metadata": {
        "colab": {
          "base_uri": "https://localhost:8080/"
        },
        "id": "ahqaosV9Xn89",
        "outputId": "980753cc-ad4b-49e6-ede3-7be94aadfa79"
      },
      "outputs": [
        {
          "data": {
            "text/plain": [
              "array([[  0,   1,   2],\n",
              "       [  3,   4,   5],\n",
              "       [  6,   7,   8],\n",
              "       [100, 101, 102],\n",
              "       [103, 104, 105],\n",
              "       [106, 107, 108],\n",
              "       [109, 110, 111],\n",
              "       [112, 113, 114],\n",
              "       [115, 116, 117],\n",
              "       [118, 119, 120],\n",
              "       [121, 122, 123]])"
            ]
          },
          "execution_count": 10,
          "metadata": {},
          "output_type": "execute_result"
        }
      ],
      "source": [
        "np.vstack((a, np.arange(100, 124).reshape(8, 3))) # по вертикали"
      ]
    },
    {
      "cell_type": "code",
      "execution_count": 11,
      "metadata": {
        "colab": {
          "base_uri": "https://localhost:8080/"
        },
        "id": "dKox7jA-Xn89",
        "outputId": "475dda0a-81f5-4c98-dd0f-72b1f1adc44d"
      },
      "outputs": [
        {
          "data": {
            "text/plain": [
              "array([[ 0,  1,  2],\n",
              "       [ 3,  4,  5],\n",
              "       [ 6,  7,  8],\n",
              "       [ 0,  2,  4],\n",
              "       [ 6,  8, 10],\n",
              "       [12, 14, 16],\n",
              "       [ 0,  3,  6],\n",
              "       [ 9, 12, 15],\n",
              "       [18, 21, 24]])"
            ]
          },
          "execution_count": 11,
          "metadata": {},
          "output_type": "execute_result"
        }
      ],
      "source": [
        "np.vstack((a, b, a * 3))"
      ]
    },
    {
      "cell_type": "code",
      "execution_count": 12,
      "metadata": {
        "colab": {
          "base_uri": "https://localhost:8080/"
        },
        "id": "kwo3E0KmXn89",
        "outputId": "38192bab-ab54-4b39-e6b0-74fc4266c27c"
      },
      "outputs": [
        {
          "data": {
            "text/plain": [
              "array([[ 0,  1,  2],\n",
              "       [ 3,  4,  5],\n",
              "       [ 6,  7,  8],\n",
              "       [ 0,  2,  4],\n",
              "       [ 6,  8, 10],\n",
              "       [12, 14, 16]])"
            ]
          },
          "execution_count": 12,
          "metadata": {},
          "output_type": "execute_result"
        }
      ],
      "source": [
        "# Та же самая операция\n",
        "np.concatenate((a, b), axis=0)"
      ]
    },
    {
      "cell_type": "code",
      "execution_count": 13,
      "metadata": {
        "colab": {
          "base_uri": "https://localhost:8080/"
        },
        "id": "vm1riuKGXn89",
        "outputId": "84c56ccd-f1e4-4af7-83bb-5a4514cc9aa9"
      },
      "outputs": [
        {
          "data": {
            "text/plain": [
              "array([[[ 1,  2,  3,  4],\n",
              "        [ 5,  6,  7,  8],\n",
              "        [ 9, 10, 11, 12]],\n",
              "\n",
              "       [[13, 14, 15, 16],\n",
              "        [17, 18, 19, 20],\n",
              "        [21, 22, 23, 24]]])"
            ]
          },
          "execution_count": 13,
          "metadata": {},
          "output_type": "execute_result"
        }
      ],
      "source": [
        "a3d1 = np.arange(1, 25).reshape(2, 3, 4); a3d1"
      ]
    },
    {
      "cell_type": "code",
      "execution_count": 14,
      "metadata": {
        "colab": {
          "base_uri": "https://localhost:8080/"
        },
        "id": "PkP6b8vpXn8-",
        "outputId": "db840613-c11b-466b-e278-3807a9bae36a"
      },
      "outputs": [
        {
          "data": {
            "text/plain": [
              "array([[[100, 101, 102, 103],\n",
              "        [104, 105, 106, 107],\n",
              "        [108, 109, 110, 111]],\n",
              "\n",
              "       [[112, 113, 114, 115],\n",
              "        [116, 117, 118, 119],\n",
              "        [120, 121, 122, 123]],\n",
              "\n",
              "       [[124, 125, 126, 127],\n",
              "        [128, 129, 130, 131],\n",
              "        [132, 133, 134, 135]]])"
            ]
          },
          "execution_count": 14,
          "metadata": {},
          "output_type": "execute_result"
        }
      ],
      "source": [
        "a3d2 = np.arange(100, 136).reshape(3, 3, 4)\n",
        "a3d2"
      ]
    },
    {
      "cell_type": "code",
      "execution_count": 15,
      "metadata": {
        "colab": {
          "base_uri": "https://localhost:8080/"
        },
        "id": "KObZN5NnXn8-",
        "outputId": "036dde55-5370-48a4-f2b1-127775863c09"
      },
      "outputs": [
        {
          "data": {
            "text/plain": [
              "array([[[  1,   2,   3,   4],\n",
              "        [  5,   6,   7,   8],\n",
              "        [  9,  10,  11,  12]],\n",
              "\n",
              "       [[ 13,  14,  15,  16],\n",
              "        [ 17,  18,  19,  20],\n",
              "        [ 21,  22,  23,  24]],\n",
              "\n",
              "       [[100, 101, 102, 103],\n",
              "        [104, 105, 106, 107],\n",
              "        [108, 109, 110, 111]],\n",
              "\n",
              "       [[112, 113, 114, 115],\n",
              "        [116, 117, 118, 119],\n",
              "        [120, 121, 122, 123]],\n",
              "\n",
              "       [[124, 125, 126, 127],\n",
              "        [128, 129, 130, 131],\n",
              "        [132, 133, 134, 135]]])"
            ]
          },
          "execution_count": 15,
          "metadata": {},
          "output_type": "execute_result"
        }
      ],
      "source": [
        "res = np.vstack((a3d1, a3d2)); res"
      ]
    },
    {
      "cell_type": "code",
      "execution_count": 16,
      "metadata": {
        "colab": {
          "base_uri": "https://localhost:8080/"
        },
        "id": "k4XQ7gQKXn8_",
        "outputId": "1b419360-0069-426a-f6a3-bc99dd618576"
      },
      "outputs": [
        {
          "data": {
            "text/plain": [
              "(5, 3, 4)"
            ]
          },
          "execution_count": 16,
          "metadata": {},
          "output_type": "execute_result"
        }
      ],
      "source": [
        "res.shape"
      ]
    },
    {
      "cell_type": "code",
      "execution_count": 17,
      "metadata": {
        "colab": {
          "base_uri": "https://localhost:8080/"
        },
        "id": "55hYRpvUXn8_",
        "outputId": "a8ea944a-7efb-4707-a473-8165625ed70f"
      },
      "outputs": [
        {
          "data": {
            "text/plain": [
              "(array([[0, 1, 2],\n",
              "        [3, 4, 5],\n",
              "        [6, 7, 8]]),\n",
              " array([[ 0,  2,  4],\n",
              "        [ 6,  8, 10],\n",
              "        [12, 14, 16]]))"
            ]
          },
          "execution_count": 17,
          "metadata": {},
          "output_type": "execute_result"
        }
      ],
      "source": [
        "a, b"
      ]
    },
    {
      "cell_type": "code",
      "execution_count": 18,
      "metadata": {
        "colab": {
          "base_uri": "https://localhost:8080/"
        },
        "id": "gokS7XOPXn8_",
        "outputId": "58c5a64d-1ca1-4df0-9314-b5fbb5fad2d0"
      },
      "outputs": [
        {
          "data": {
            "text/plain": [
              "array([[[ 0,  0],\n",
              "        [ 1,  2],\n",
              "        [ 2,  4]],\n",
              "\n",
              "       [[ 3,  6],\n",
              "        [ 4,  8],\n",
              "        [ 5, 10]],\n",
              "\n",
              "       [[ 6, 12],\n",
              "        [ 7, 14],\n",
              "        [ 8, 16]]])"
            ]
          },
          "execution_count": 18,
          "metadata": {},
          "output_type": "execute_result"
        }
      ],
      "source": [
        "np.dstack((a, b)) # axis=2 - это новая новая ось, результат \"склейки\""
      ]
    },
    {
      "cell_type": "code",
      "execution_count": 19,
      "metadata": {
        "colab": {
          "base_uri": "https://localhost:8080/"
        },
        "id": "GoYtPKYyXn8_",
        "outputId": "05c3bdae-e357-45db-ac1b-bef40d032ad5"
      },
      "outputs": [
        {
          "data": {
            "text/plain": [
              "array([[[ 0,  1,  2],\n",
              "        [ 3,  4,  5],\n",
              "        [ 6,  7,  8]],\n",
              "\n",
              "       [[ 0,  2,  4],\n",
              "        [ 6,  8, 10],\n",
              "        [12, 14, 16]]])"
            ]
          },
          "execution_count": 19,
          "metadata": {},
          "output_type": "execute_result"
        }
      ],
      "source": [
        "np.dstack((a, b)).transpose(2, 0, 1)"
      ]
    },
    {
      "cell_type": "code",
      "execution_count": 20,
      "metadata": {
        "colab": {
          "base_uri": "https://localhost:8080/"
        },
        "id": "Y5_86YMuXn8_",
        "outputId": "4be52114-7009-41fd-9164-966638266620"
      },
      "outputs": [
        {
          "data": {
            "text/plain": [
              "array([[ 0,  1,  2,  3],\n",
              "       [ 4,  5,  6,  7],\n",
              "       [ 8,  9, 10, 11]])"
            ]
          },
          "execution_count": 20,
          "metadata": {},
          "output_type": "execute_result"
        }
      ],
      "source": [
        "c1 = np.arange(12).reshape(3, 4); c1"
      ]
    },
    {
      "cell_type": "code",
      "execution_count": 21,
      "metadata": {
        "colab": {
          "base_uri": "https://localhost:8080/"
        },
        "id": "1BPj1qNSXn8_",
        "outputId": "f34273b2-2c31-481c-bedf-0c1dbd2d4399"
      },
      "outputs": [
        {
          "data": {
            "text/plain": [
              "array([[100, 101, 102, 103],\n",
              "       [104, 105, 106, 107],\n",
              "       [108, 109, 110, 111]])"
            ]
          },
          "execution_count": 21,
          "metadata": {},
          "output_type": "execute_result"
        }
      ],
      "source": [
        "c2 = np.arange(100, 112).reshape(3, 4); c2"
      ]
    },
    {
      "cell_type": "code",
      "execution_count": 22,
      "metadata": {
        "colab": {
          "base_uri": "https://localhost:8080/"
        },
        "id": "xQW5owtkXn9A",
        "outputId": "bcac63a5-e7c2-4143-850d-22ff246e4df4"
      },
      "outputs": [
        {
          "data": {
            "text/plain": [
              "array([[[  0, 100],\n",
              "        [  1, 101],\n",
              "        [  2, 102],\n",
              "        [  3, 103]],\n",
              "\n",
              "       [[  4, 104],\n",
              "        [  5, 105],\n",
              "        [  6, 106],\n",
              "        [  7, 107]],\n",
              "\n",
              "       [[  8, 108],\n",
              "        [  9, 109],\n",
              "        [ 10, 110],\n",
              "        [ 11, 111]]])"
            ]
          },
          "execution_count": 22,
          "metadata": {},
          "output_type": "execute_result"
        }
      ],
      "source": [
        "np.dstack((c1, c2)) # deep stack объединяет по глубине. Добавляем новое измерение"
      ]
    },
    {
      "cell_type": "code",
      "execution_count": 23,
      "metadata": {
        "colab": {
          "base_uri": "https://localhost:8080/",
          "height": 263
        },
        "id": "1HKVELkjXn9A",
        "outputId": "55c49a03-a1eb-4ce0-a8f4-52c278930e0c"
      },
      "outputs": [
        {
          "ename": "ValueError",
          "evalue": "all the input array dimensions except for the concatenation axis must match exactly, but along dimension 0, the array at index 0 has size 2 and the array at index 1 has size 3",
          "output_type": "error",
          "traceback": [
            "\u001b[0;31m---------------------------------------------------------------------------\u001b[0m",
            "\u001b[0;31mValueError\u001b[0m                                Traceback (most recent call last)",
            "\u001b[0;32m<ipython-input-23-09e4fc2cdbd3>\u001b[0m in \u001b[0;36m<cell line: 0>\u001b[0;34m()\u001b[0m\n\u001b[0;32m----> 1\u001b[0;31m \u001b[0mnp\u001b[0m\u001b[0;34m.\u001b[0m\u001b[0mdstack\u001b[0m\u001b[0;34m(\u001b[0m\u001b[0;34m(\u001b[0m\u001b[0ma3d1\u001b[0m\u001b[0;34m,\u001b[0m \u001b[0ma3d2\u001b[0m\u001b[0;34m)\u001b[0m\u001b[0;34m)\u001b[0m  \u001b[0;31m# Error\u001b[0m\u001b[0;34m\u001b[0m\u001b[0;34m\u001b[0m\u001b[0m\n\u001b[0m",
            "\u001b[0;32m/usr/local/lib/python3.11/dist-packages/numpy/lib/_shape_base_impl.py\u001b[0m in \u001b[0;36mdstack\u001b[0;34m(tup)\u001b[0m\n\u001b[1;32m    723\u001b[0m     \u001b[0;32mif\u001b[0m \u001b[0;32mnot\u001b[0m \u001b[0misinstance\u001b[0m\u001b[0;34m(\u001b[0m\u001b[0marrs\u001b[0m\u001b[0;34m,\u001b[0m \u001b[0mtuple\u001b[0m\u001b[0;34m)\u001b[0m\u001b[0;34m:\u001b[0m\u001b[0;34m\u001b[0m\u001b[0;34m\u001b[0m\u001b[0m\n\u001b[1;32m    724\u001b[0m         \u001b[0marrs\u001b[0m \u001b[0;34m=\u001b[0m \u001b[0;34m(\u001b[0m\u001b[0marrs\u001b[0m\u001b[0;34m,\u001b[0m\u001b[0;34m)\u001b[0m\u001b[0;34m\u001b[0m\u001b[0;34m\u001b[0m\u001b[0m\n\u001b[0;32m--> 725\u001b[0;31m     \u001b[0;32mreturn\u001b[0m \u001b[0m_nx\u001b[0m\u001b[0;34m.\u001b[0m\u001b[0mconcatenate\u001b[0m\u001b[0;34m(\u001b[0m\u001b[0marrs\u001b[0m\u001b[0;34m,\u001b[0m \u001b[0;36m2\u001b[0m\u001b[0;34m)\u001b[0m\u001b[0;34m\u001b[0m\u001b[0;34m\u001b[0m\u001b[0m\n\u001b[0m\u001b[1;32m    726\u001b[0m \u001b[0;34m\u001b[0m\u001b[0m\n\u001b[1;32m    727\u001b[0m \u001b[0;34m\u001b[0m\u001b[0m\n",
            "\u001b[0;31mValueError\u001b[0m: all the input array dimensions except for the concatenation axis must match exactly, but along dimension 0, the array at index 0 has size 2 and the array at index 1 has size 3"
          ]
        }
      ],
      "source": [
        "np.dstack((a3d1, a3d2))  # Error"
      ]
    },
    {
      "cell_type": "code",
      "execution_count": 24,
      "metadata": {
        "colab": {
          "base_uri": "https://localhost:8080/"
        },
        "id": "Gnat6GtaXn9A",
        "outputId": "f08b52b4-b844-436c-8011-17cebdd7dfdf"
      },
      "outputs": [
        {
          "name": "stderr",
          "output_type": "stream",
          "text": [
            "<ipython-input-24-f4983b79349c>:1: DeprecationWarning: `row_stack` alias is deprecated. Use `np.vstack` directly.\n",
            "  np.row_stack((a, b))\n"
          ]
        },
        {
          "data": {
            "text/plain": [
              "array([[ 0,  1,  2],\n",
              "       [ 3,  4,  5],\n",
              "       [ 6,  7,  8],\n",
              "       [ 0,  2,  4],\n",
              "       [ 6,  8, 10],\n",
              "       [12, 14, 16]])"
            ]
          },
          "execution_count": 24,
          "metadata": {},
          "output_type": "execute_result"
        }
      ],
      "source": [
        "np.row_stack((a, b))"
      ]
    },
    {
      "cell_type": "markdown",
      "metadata": {
        "id": "4Ro43O28Xn9A"
      },
      "source": [
        "#### Проверка на равенство элементов"
      ]
    },
    {
      "cell_type": "code",
      "execution_count": 25,
      "metadata": {
        "colab": {
          "base_uri": "https://localhost:8080/"
        },
        "id": "aGVxdtPgXn9A",
        "outputId": "fda6b4c9-a811-4165-9021-9369ec1abbd7"
      },
      "outputs": [
        {
          "name": "stderr",
          "output_type": "stream",
          "text": [
            "<ipython-input-25-d719708ed006>:1: DeprecationWarning: `row_stack` alias is deprecated. Use `np.vstack` directly.\n",
            "  np.row_stack((a, b)) == np.vstack((a, b))  # матрица True, shape=(6,3)\n"
          ]
        },
        {
          "data": {
            "text/plain": [
              "array([[ True,  True,  True],\n",
              "       [ True,  True,  True],\n",
              "       [ True,  True,  True],\n",
              "       [ True,  True,  True],\n",
              "       [ True,  True,  True],\n",
              "       [ True,  True,  True]])"
            ]
          },
          "execution_count": 25,
          "metadata": {},
          "output_type": "execute_result"
        }
      ],
      "source": [
        "np.row_stack((a, b)) == np.vstack((a, b))  # матрица True, shape=(6,3)"
      ]
    },
    {
      "cell_type": "code",
      "execution_count": 26,
      "metadata": {
        "colab": {
          "base_uri": "https://localhost:8080/"
        },
        "id": "akdGVYWNXn9A",
        "outputId": "2e82042d-b7d0-4e6f-f02e-059a18f39799"
      },
      "outputs": [
        {
          "data": {
            "text/plain": [
              "array([[ True, False, False],\n",
              "       [False, False, False],\n",
              "       [False, False, False]])"
            ]
          },
          "execution_count": 26,
          "metadata": {},
          "output_type": "execute_result"
        }
      ],
      "source": [
        "a == b"
      ]
    },
    {
      "cell_type": "code",
      "execution_count": 27,
      "metadata": {
        "colab": {
          "base_uri": "https://localhost:8080/"
        },
        "id": "-GbfhRG2Xn9A",
        "outputId": "64691a97-57f1-438e-e47b-ee2cc3d3a944"
      },
      "outputs": [
        {
          "data": {
            "text/plain": [
              "(numpy.ndarray, dtype('bool'))"
            ]
          },
          "execution_count": 27,
          "metadata": {},
          "output_type": "execute_result"
        }
      ],
      "source": [
        "res = a == b\n",
        "type(res), res.dtype"
      ]
    },
    {
      "cell_type": "code",
      "execution_count": 28,
      "metadata": {
        "colab": {
          "base_uri": "https://localhost:8080/"
        },
        "id": "4XhGj0B4Xn9A",
        "outputId": "526aca71-5a0e-480a-e328-924163717833"
      },
      "outputs": [
        {
          "data": {
            "text/plain": [
              "(False, True)"
            ]
          },
          "execution_count": 28,
          "metadata": {},
          "output_type": "execute_result"
        }
      ],
      "source": [
        "# np.all() вернет Тrue, если все элементы массива True, иначе False\n",
        "# np.any() вернет Тrue, если хотя бы один элемент массива True иначе False\n",
        "np.all(a == b), np.any(a == b)"
      ]
    },
    {
      "cell_type": "code",
      "execution_count": 29,
      "metadata": {
        "colab": {
          "base_uri": "https://localhost:8080/"
        },
        "id": "3j3dvUKNXn9B",
        "outputId": "8121dc4f-a04a-4d98-9ec6-81ef1679aa71"
      },
      "outputs": [
        {
          "name": "stderr",
          "output_type": "stream",
          "text": [
            "<ipython-input-29-2172ea76305a>:1: DeprecationWarning: `row_stack` alias is deprecated. Use `np.vstack` directly.\n",
            "  np.all(np.row_stack((a, b)) == np.vstack((a, b)))\n"
          ]
        },
        {
          "data": {
            "text/plain": [
              "True"
            ]
          },
          "execution_count": 29,
          "metadata": {},
          "output_type": "execute_result"
        }
      ],
      "source": [
        "np.all(np.row_stack((a, b)) == np.vstack((a, b)))"
      ]
    },
    {
      "cell_type": "code",
      "execution_count": 30,
      "metadata": {
        "colab": {
          "base_uri": "https://localhost:8080/"
        },
        "id": "JDpW67JeXn9B",
        "outputId": "f5df1327-07b0-49ff-af44-94ed0cb4f58e"
      },
      "outputs": [
        {
          "data": {
            "text/plain": [
              "array([0, 1])"
            ]
          },
          "execution_count": 30,
          "metadata": {},
          "output_type": "execute_result"
        }
      ],
      "source": [
        "c = np.arange(2); c"
      ]
    },
    {
      "cell_type": "code",
      "execution_count": 31,
      "metadata": {
        "colab": {
          "base_uri": "https://localhost:8080/"
        },
        "id": "wX8V_9t6Xn9B",
        "outputId": "554e7b6f-c096-4bee-9f00-910c4d1da9bc"
      },
      "outputs": [
        {
          "data": {
            "text/plain": [
              "array([0, 2])"
            ]
          },
          "execution_count": 31,
          "metadata": {},
          "output_type": "execute_result"
        }
      ],
      "source": [
        "twice_c = 2 * c; twice_c"
      ]
    },
    {
      "cell_type": "code",
      "execution_count": 32,
      "metadata": {
        "colab": {
          "base_uri": "https://localhost:8080/"
        },
        "id": "OogkxZlTXn9B",
        "outputId": "04235b2f-bfcb-4149-937c-80a18b54260a"
      },
      "outputs": [
        {
          "data": {
            "text/plain": [
              "array([[0, 0],\n",
              "       [1, 2]])"
            ]
          },
          "execution_count": 32,
          "metadata": {},
          "output_type": "execute_result"
        }
      ],
      "source": [
        "np.column_stack((c, twice_c))"
      ]
    },
    {
      "cell_type": "code",
      "execution_count": 33,
      "metadata": {
        "colab": {
          "base_uri": "https://localhost:8080/"
        },
        "id": "GQ1nrF9oXn9C",
        "outputId": "d3090f00-afe3-440b-c384-7e0362236e59"
      },
      "outputs": [
        {
          "data": {
            "text/plain": [
              "array([[ 0,  1,  2,  0,  2,  4],\n",
              "       [ 3,  4,  5,  6,  8, 10],\n",
              "       [ 6,  7,  8, 12, 14, 16]])"
            ]
          },
          "execution_count": 33,
          "metadata": {},
          "output_type": "execute_result"
        }
      ],
      "source": [
        "np.column_stack((a, b))"
      ]
    },
    {
      "cell_type": "code",
      "execution_count": 34,
      "metadata": {
        "colab": {
          "base_uri": "https://localhost:8080/"
        },
        "id": "wPvzwc1_Xn9C",
        "outputId": "194da2ae-420d-442b-9aa0-187b02116c8c"
      },
      "outputs": [
        {
          "data": {
            "text/plain": [
              "array([[ True,  True,  True,  True,  True,  True],\n",
              "       [ True,  True,  True,  True,  True,  True],\n",
              "       [ True,  True,  True,  True,  True,  True]])"
            ]
          },
          "execution_count": 34,
          "metadata": {},
          "output_type": "execute_result"
        }
      ],
      "source": [
        "np.column_stack((a, b)) == np.hstack((a, b))"
      ]
    },
    {
      "cell_type": "markdown",
      "metadata": {
        "id": "qE9kJyRkXn9C"
      },
      "source": [
        "### Разделение (Splitting).\n",
        "#### hsplit(), vsplit(), dsplit(), split()"
      ]
    },
    {
      "cell_type": "code",
      "execution_count": 35,
      "metadata": {
        "colab": {
          "base_uri": "https://localhost:8080/"
        },
        "id": "ws90qXIUXn9D",
        "outputId": "a789a3e9-829c-4fff-a075-cb854d76d5f6"
      },
      "outputs": [
        {
          "data": {
            "text/plain": [
              "array([[0, 1, 2],\n",
              "       [3, 4, 5],\n",
              "       [6, 7, 8]])"
            ]
          },
          "execution_count": 35,
          "metadata": {},
          "output_type": "execute_result"
        }
      ],
      "source": [
        "a"
      ]
    },
    {
      "cell_type": "code",
      "execution_count": 36,
      "metadata": {
        "colab": {
          "base_uri": "https://localhost:8080/"
        },
        "id": "Ik3LnNgeXn9D",
        "outputId": "a9f574af-0fe6-4e43-a392-aeab626960aa"
      },
      "outputs": [
        {
          "data": {
            "text/plain": [
              "array([[ 1,  2,  3,  4],\n",
              "       [ 5,  6,  7,  8],\n",
              "       [ 9, 10, 11, 12]])"
            ]
          },
          "execution_count": 36,
          "metadata": {},
          "output_type": "execute_result"
        }
      ],
      "source": [
        "a2 = np.arange(1, 13).reshape(3, 4); a2"
      ]
    },
    {
      "cell_type": "code",
      "execution_count": 37,
      "metadata": {
        "colab": {
          "base_uri": "https://localhost:8080/"
        },
        "id": "OFW_QuvVXn9E",
        "outputId": "97121ab3-777b-4ae4-96ac-c3bc92f7501f"
      },
      "outputs": [
        {
          "data": {
            "text/plain": [
              "(3, 1)"
            ]
          },
          "execution_count": 37,
          "metadata": {},
          "output_type": "execute_result"
        }
      ],
      "source": [
        "# Разделяет на три массива по горизонтальной оси\n",
        "# Второй аргумент - это количество частей(матриц)\n",
        "res1, res2, res3 = np.hsplit(a, 3); res1.shape"
      ]
    },
    {
      "cell_type": "code",
      "execution_count": 38,
      "metadata": {
        "colab": {
          "base_uri": "https://localhost:8080/"
        },
        "id": "jkuexiKpXn9E",
        "outputId": "0d7e51d6-1bdd-405f-ce52-b02120287afc"
      },
      "outputs": [
        {
          "data": {
            "text/plain": [
              "array([[0, 1, 2],\n",
              "       [3, 4, 5],\n",
              "       [6, 7, 8]])"
            ]
          },
          "execution_count": 38,
          "metadata": {},
          "output_type": "execute_result"
        },
        {
          "data": {
            "text/plain": [
              "[array([[0],\n",
              "        [3],\n",
              "        [6]]),\n",
              " array([[1],\n",
              "        [4],\n",
              "        [7]]),\n",
              " array([[2],\n",
              "        [5],\n",
              "        [8]])]"
            ]
          },
          "execution_count": 38,
          "metadata": {},
          "output_type": "execute_result"
        }
      ],
      "source": [
        "a\n",
        "np.hsplit(a, 3)"
      ]
    },
    {
      "cell_type": "code",
      "execution_count": 39,
      "metadata": {
        "colab": {
          "base_uri": "https://localhost:8080/"
        },
        "id": "zgnWBumTXn9E",
        "outputId": "76b34b01-83cf-4903-9b2e-eb3fa4362728"
      },
      "outputs": [
        {
          "data": {
            "text/plain": [
              "array([[ 1,  2,  3,  4],\n",
              "       [ 5,  6,  7,  8],\n",
              "       [ 9, 10, 11, 12]])"
            ]
          },
          "execution_count": 39,
          "metadata": {},
          "output_type": "execute_result"
        },
        {
          "data": {
            "text/plain": [
              "[array([[ 1,  2],\n",
              "        [ 5,  6],\n",
              "        [ 9, 10]]),\n",
              " array([[ 3,  4],\n",
              "        [ 7,  8],\n",
              "        [11, 12]])]"
            ]
          },
          "execution_count": 39,
          "metadata": {},
          "output_type": "execute_result"
        }
      ],
      "source": [
        "a2\n",
        "# Разделяет на два массива по горизонтальной оси\n",
        "np.hsplit(a2, 2)"
      ]
    },
    {
      "cell_type": "code",
      "execution_count": 40,
      "metadata": {
        "colab": {
          "base_uri": "https://localhost:8080/",
          "height": 287
        },
        "id": "UBnSAcqmXn9E",
        "outputId": "c3c1a314-1117-4546-a9e2-444f2f909d5e"
      },
      "outputs": [
        {
          "ename": "ValueError",
          "evalue": "array split does not result in an equal division",
          "output_type": "error",
          "traceback": [
            "\u001b[0;31m---------------------------------------------------------------------------\u001b[0m",
            "\u001b[0;31mValueError\u001b[0m                                Traceback (most recent call last)",
            "\u001b[0;32m<ipython-input-40-4a6ce3b50da3>\u001b[0m in \u001b[0;36m<cell line: 0>\u001b[0;34m()\u001b[0m\n\u001b[0;32m----> 1\u001b[0;31m \u001b[0mnp\u001b[0m\u001b[0;34m.\u001b[0m\u001b[0mhsplit\u001b[0m\u001b[0;34m(\u001b[0m\u001b[0ma\u001b[0m\u001b[0;34m,\u001b[0m \u001b[0;36m2\u001b[0m\u001b[0;34m)\u001b[0m \u001b[0;31m# Error\u001b[0m\u001b[0;34m\u001b[0m\u001b[0;34m\u001b[0m\u001b[0m\n\u001b[0m",
            "\u001b[0;32m/usr/local/lib/python3.11/dist-packages/numpy/lib/_shape_base_impl.py\u001b[0m in \u001b[0;36mhsplit\u001b[0;34m(ary, indices_or_sections)\u001b[0m\n\u001b[1;32m    946\u001b[0m         \u001b[0;32mraise\u001b[0m \u001b[0mValueError\u001b[0m\u001b[0;34m(\u001b[0m\u001b[0;34m'hsplit only works on arrays of 1 or more dimensions'\u001b[0m\u001b[0;34m)\u001b[0m\u001b[0;34m\u001b[0m\u001b[0;34m\u001b[0m\u001b[0m\n\u001b[1;32m    947\u001b[0m     \u001b[0;32mif\u001b[0m \u001b[0mary\u001b[0m\u001b[0;34m.\u001b[0m\u001b[0mndim\u001b[0m \u001b[0;34m>\u001b[0m \u001b[0;36m1\u001b[0m\u001b[0;34m:\u001b[0m\u001b[0;34m\u001b[0m\u001b[0;34m\u001b[0m\u001b[0m\n\u001b[0;32m--> 948\u001b[0;31m         \u001b[0;32mreturn\u001b[0m \u001b[0msplit\u001b[0m\u001b[0;34m(\u001b[0m\u001b[0mary\u001b[0m\u001b[0;34m,\u001b[0m \u001b[0mindices_or_sections\u001b[0m\u001b[0;34m,\u001b[0m \u001b[0;36m1\u001b[0m\u001b[0;34m)\u001b[0m\u001b[0;34m\u001b[0m\u001b[0;34m\u001b[0m\u001b[0m\n\u001b[0m\u001b[1;32m    949\u001b[0m     \u001b[0;32melse\u001b[0m\u001b[0;34m:\u001b[0m\u001b[0;34m\u001b[0m\u001b[0;34m\u001b[0m\u001b[0m\n\u001b[1;32m    950\u001b[0m         \u001b[0;32mreturn\u001b[0m \u001b[0msplit\u001b[0m\u001b[0;34m(\u001b[0m\u001b[0mary\u001b[0m\u001b[0;34m,\u001b[0m \u001b[0mindices_or_sections\u001b[0m\u001b[0;34m,\u001b[0m \u001b[0;36m0\u001b[0m\u001b[0;34m)\u001b[0m\u001b[0;34m\u001b[0m\u001b[0;34m\u001b[0m\u001b[0m\n",
            "\u001b[0;32m/usr/local/lib/python3.11/dist-packages/numpy/lib/_shape_base_impl.py\u001b[0m in \u001b[0;36msplit\u001b[0;34m(ary, indices_or_sections, axis)\u001b[0m\n\u001b[1;32m    872\u001b[0m         \u001b[0mN\u001b[0m \u001b[0;34m=\u001b[0m \u001b[0mary\u001b[0m\u001b[0;34m.\u001b[0m\u001b[0mshape\u001b[0m\u001b[0;34m[\u001b[0m\u001b[0maxis\u001b[0m\u001b[0;34m]\u001b[0m\u001b[0;34m\u001b[0m\u001b[0;34m\u001b[0m\u001b[0m\n\u001b[1;32m    873\u001b[0m         \u001b[0;32mif\u001b[0m \u001b[0mN\u001b[0m \u001b[0;34m%\u001b[0m \u001b[0msections\u001b[0m\u001b[0;34m:\u001b[0m\u001b[0;34m\u001b[0m\u001b[0;34m\u001b[0m\u001b[0m\n\u001b[0;32m--> 874\u001b[0;31m             raise ValueError(\n\u001b[0m\u001b[1;32m    875\u001b[0m                 'array split does not result in an equal division') from None\n\u001b[1;32m    876\u001b[0m     \u001b[0;32mreturn\u001b[0m \u001b[0marray_split\u001b[0m\u001b[0;34m(\u001b[0m\u001b[0mary\u001b[0m\u001b[0;34m,\u001b[0m \u001b[0mindices_or_sections\u001b[0m\u001b[0;34m,\u001b[0m \u001b[0maxis\u001b[0m\u001b[0;34m)\u001b[0m\u001b[0;34m\u001b[0m\u001b[0;34m\u001b[0m\u001b[0m\n",
            "\u001b[0;31mValueError\u001b[0m: array split does not result in an equal division"
          ]
        }
      ],
      "source": [
        "np.hsplit(a, 2) # Error"
      ]
    },
    {
      "cell_type": "code",
      "execution_count": 41,
      "metadata": {
        "colab": {
          "base_uri": "https://localhost:8080/"
        },
        "id": "BzQQ7ujBXn9F",
        "outputId": "830b3299-bec2-4c12-f0d3-4a14ce5a970b"
      },
      "outputs": [
        {
          "data": {
            "text/plain": [
              "[array([[0],\n",
              "        [3],\n",
              "        [6]]),\n",
              " array([[1],\n",
              "        [4],\n",
              "        [7]]),\n",
              " array([[2],\n",
              "        [5],\n",
              "        [8]])]"
            ]
          },
          "execution_count": 41,
          "metadata": {},
          "output_type": "execute_result"
        }
      ],
      "source": [
        "# то же самое, что и np.hsplit(a, 3)\n",
        "np.split(a, 3, axis=1)"
      ]
    },
    {
      "cell_type": "code",
      "execution_count": 42,
      "metadata": {
        "colab": {
          "base_uri": "https://localhost:8080/"
        },
        "id": "BSMA-IS-Xn9F",
        "outputId": "d69b96de-9868-4427-e7d4-a43097461e35"
      },
      "outputs": [
        {
          "data": {
            "text/plain": [
              "array([[0, 1, 2],\n",
              "       [3, 4, 5],\n",
              "       [6, 7, 8]])"
            ]
          },
          "execution_count": 42,
          "metadata": {},
          "output_type": "execute_result"
        }
      ],
      "source": [
        "a"
      ]
    },
    {
      "cell_type": "code",
      "execution_count": 43,
      "metadata": {
        "colab": {
          "base_uri": "https://localhost:8080/"
        },
        "id": "MVASD7dJXn9F",
        "outputId": "ae07d955-1e3e-474d-cbc7-79c83f1ba4ea"
      },
      "outputs": [
        {
          "data": {
            "text/plain": [
              "[array([[0, 1, 2]]), array([[3, 4, 5]]), array([[6, 7, 8]])]"
            ]
          },
          "execution_count": 43,
          "metadata": {},
          "output_type": "execute_result"
        }
      ],
      "source": [
        "# Разделяет на три массива по вертикальной оси\n",
        "np.vsplit(a, 3)"
      ]
    },
    {
      "cell_type": "code",
      "execution_count": 44,
      "metadata": {
        "id": "LC3wqtIHXn9F"
      },
      "outputs": [],
      "source": [
        "a1, a2, a3 = np.vsplit(a, 3)"
      ]
    },
    {
      "cell_type": "code",
      "execution_count": 45,
      "metadata": {
        "colab": {
          "base_uri": "https://localhost:8080/"
        },
        "id": "2cS8U7hVXn9G",
        "outputId": "47b18632-defa-464f-be98-7805a3ca7b03"
      },
      "outputs": [
        {
          "data": {
            "text/plain": [
              "array([[0, 1, 2]])"
            ]
          },
          "execution_count": 45,
          "metadata": {},
          "output_type": "execute_result"
        }
      ],
      "source": [
        "a1"
      ]
    },
    {
      "cell_type": "code",
      "execution_count": 46,
      "metadata": {
        "colab": {
          "base_uri": "https://localhost:8080/"
        },
        "id": "mglQpFMlXn9G",
        "outputId": "ad04b321-342c-42fc-9cff-f897ae5e865e"
      },
      "outputs": [
        {
          "data": {
            "text/plain": [
              "(1, 3)"
            ]
          },
          "execution_count": 46,
          "metadata": {},
          "output_type": "execute_result"
        }
      ],
      "source": [
        "a1.shape"
      ]
    },
    {
      "cell_type": "code",
      "execution_count": 47,
      "metadata": {
        "colab": {
          "base_uri": "https://localhost:8080/"
        },
        "id": "fDi4h-dEXn9G",
        "outputId": "da841fff-e91a-43fe-f19d-9c3e18ee275c"
      },
      "outputs": [
        {
          "data": {
            "text/plain": [
              "[array([[0, 1, 2]]), array([[3, 4, 5]]), array([[6, 7, 8]])]"
            ]
          },
          "execution_count": 47,
          "metadata": {},
          "output_type": "execute_result"
        }
      ],
      "source": [
        "# то же самое, что и np.vsplit(a, 3)\n",
        "np.split(a, 3, axis=0)"
      ]
    },
    {
      "cell_type": "code",
      "execution_count": 48,
      "metadata": {
        "colab": {
          "base_uri": "https://localhost:8080/"
        },
        "id": "n7rQVkBpXn9H",
        "outputId": "59bef20d-e329-41cd-f17a-c8076fdef291"
      },
      "outputs": [
        {
          "data": {
            "text/plain": [
              "array([[[ 0,  1,  2],\n",
              "        [ 3,  4,  5],\n",
              "        [ 6,  7,  8]],\n",
              "\n",
              "       [[ 9, 10, 11],\n",
              "        [12, 13, 14],\n",
              "        [15, 16, 17]],\n",
              "\n",
              "       [[18, 19, 20],\n",
              "        [21, 22, 23],\n",
              "        [24, 25, 26]]])"
            ]
          },
          "execution_count": 48,
          "metadata": {},
          "output_type": "execute_result"
        }
      ],
      "source": [
        "c = np.arange(27).reshape(3, 3, 3); c"
      ]
    },
    {
      "cell_type": "code",
      "execution_count": 49,
      "metadata": {
        "colab": {
          "base_uri": "https://localhost:8080/"
        },
        "id": "3eW_82mOXn9I",
        "outputId": "de8be958-b184-44ac-ef04-fac1970477ea"
      },
      "outputs": [
        {
          "data": {
            "text/plain": [
              "[array([[[ 0],\n",
              "         [ 3],\n",
              "         [ 6]],\n",
              " \n",
              "        [[ 9],\n",
              "         [12],\n",
              "         [15]],\n",
              " \n",
              "        [[18],\n",
              "         [21],\n",
              "         [24]]]),\n",
              " array([[[ 1],\n",
              "         [ 4],\n",
              "         [ 7]],\n",
              " \n",
              "        [[10],\n",
              "         [13],\n",
              "         [16]],\n",
              " \n",
              "        [[19],\n",
              "         [22],\n",
              "         [25]]]),\n",
              " array([[[ 2],\n",
              "         [ 5],\n",
              "         [ 8]],\n",
              " \n",
              "        [[11],\n",
              "         [14],\n",
              "         [17]],\n",
              " \n",
              "        [[20],\n",
              "         [23],\n",
              "         [26]]])]"
            ]
          },
          "execution_count": 49,
          "metadata": {},
          "output_type": "execute_result"
        }
      ],
      "source": [
        "np.dsplit(c, 3) # С двумерными массивами выдаст ошибку"
      ]
    },
    {
      "cell_type": "code",
      "execution_count": 50,
      "metadata": {
        "id": "PcQooXRtXn9J"
      },
      "outputs": [],
      "source": [
        "c1, c2, c3 = np.dsplit(c, 3)"
      ]
    },
    {
      "cell_type": "code",
      "execution_count": 51,
      "metadata": {
        "colab": {
          "base_uri": "https://localhost:8080/"
        },
        "id": "-DjgVzrKXn9J",
        "outputId": "0cf0fae6-1b42-41ec-c6ae-f0135d78171e"
      },
      "outputs": [
        {
          "data": {
            "text/plain": [
              "array([[[ 0],\n",
              "        [ 3],\n",
              "        [ 6]],\n",
              "\n",
              "       [[ 9],\n",
              "        [12],\n",
              "        [15]],\n",
              "\n",
              "       [[18],\n",
              "        [21],\n",
              "        [24]]])"
            ]
          },
          "execution_count": 51,
          "metadata": {},
          "output_type": "execute_result"
        }
      ],
      "source": [
        "c1"
      ]
    },
    {
      "cell_type": "code",
      "execution_count": 52,
      "metadata": {
        "colab": {
          "base_uri": "https://localhost:8080/"
        },
        "id": "X4_eUfVUXn9J",
        "outputId": "05d6904e-dc85-4dee-cd41-0a6550163aa8"
      },
      "outputs": [
        {
          "data": {
            "text/plain": [
              "(3, 3, 1)"
            ]
          },
          "execution_count": 52,
          "metadata": {},
          "output_type": "execute_result"
        },
        {
          "data": {
            "text/plain": [
              "array([[[ 0,  3,  6],\n",
              "        [ 9, 12, 15],\n",
              "        [18, 21, 24]]])"
            ]
          },
          "execution_count": 52,
          "metadata": {},
          "output_type": "execute_result"
        }
      ],
      "source": [
        "c1.shape\n",
        "c1.transpose(2, 0, 1)"
      ]
    },
    {
      "cell_type": "markdown",
      "metadata": {
        "id": "iJhJBqrGXn9K"
      },
      "source": [
        "### Деление на ноль и np.nan"
      ]
    },
    {
      "cell_type": "code",
      "execution_count": 53,
      "metadata": {
        "colab": {
          "base_uri": "https://localhost:8080/"
        },
        "id": "wJ1abibfXn9K",
        "outputId": "860f1eb2-a7aa-465c-8a73-8da9f3df4c7d"
      },
      "outputs": [
        {
          "data": {
            "text/plain": [
              "array([[0, 1, 2],\n",
              "       [3, 4, 5],\n",
              "       [6, 7, 8]])"
            ]
          },
          "execution_count": 53,
          "metadata": {},
          "output_type": "execute_result"
        }
      ],
      "source": [
        "a"
      ]
    },
    {
      "cell_type": "code",
      "execution_count": 54,
      "metadata": {
        "colab": {
          "base_uri": "https://localhost:8080/"
        },
        "id": "z9KGH9pJXn9K",
        "outputId": "c6997cd8-7ce3-4ead-892f-1195481392e9"
      },
      "outputs": [
        {
          "name": "stderr",
          "output_type": "stream",
          "text": [
            "<ipython-input-54-4f74cdd1c1e6>:1: RuntimeWarning: divide by zero encountered in divide\n",
            "  a / 0\n",
            "<ipython-input-54-4f74cdd1c1e6>:1: RuntimeWarning: invalid value encountered in divide\n",
            "  a / 0\n"
          ]
        },
        {
          "data": {
            "text/plain": [
              "array([[nan, inf, inf],\n",
              "       [inf, inf, inf],\n",
              "       [inf, inf, inf]])"
            ]
          },
          "execution_count": 54,
          "metadata": {},
          "output_type": "execute_result"
        }
      ],
      "source": [
        "a / 0"
      ]
    },
    {
      "cell_type": "code",
      "execution_count": 55,
      "metadata": {
        "colab": {
          "base_uri": "https://localhost:8080/"
        },
        "id": "xMmlLQFPXn9K",
        "outputId": "aebe2b37-e703-4cef-f6bf-08102427436a"
      },
      "outputs": [
        {
          "name": "stdout",
          "output_type": "stream",
          "text": [
            "nan\n",
            "nan\n",
            "False\n",
            "False\n",
            "==============================\n",
            "False\n",
            "True\n",
            "False\n",
            "nan\n",
            "==============================\n",
            "True\n"
          ]
        },
        {
          "data": {
            "text/plain": [
              "{4, frozenset()}"
            ]
          },
          "execution_count": 55,
          "metadata": {},
          "output_type": "execute_result"
        }
      ],
      "source": [
        "print(1 * np.nan)\n",
        "print(np.nan + 5)\n",
        "print(4 < np.nan)\n",
        "print(4 > np.nan)\n",
        "print(\"=\" * 30)\n",
        "print(np.nan == np.nan)  # False\n",
        "print(np.nan is np.nan)  # True\n",
        "print(np.inf > np.nan)\n",
        "print(np.nan - np.nan)\n",
        "print('=' * 30)\n",
        "print(np.nan in set([np.nan]))\n",
        "s = set([frozenset(), 4])\n",
        "s"
      ]
    },
    {
      "cell_type": "code",
      "execution_count": 56,
      "metadata": {
        "colab": {
          "base_uri": "https://localhost:8080/"
        },
        "id": "cCJy0KZUXn9L",
        "outputId": "66275deb-0333-485a-8215-189023302bde"
      },
      "outputs": [
        {
          "data": {
            "text/plain": [
              "135826192333968"
            ]
          },
          "execution_count": 56,
          "metadata": {},
          "output_type": "execute_result"
        }
      ],
      "source": [
        "id(np.nan)"
      ]
    },
    {
      "cell_type": "code",
      "execution_count": 57,
      "metadata": {
        "colab": {
          "base_uri": "https://localhost:8080/"
        },
        "id": "dv8aRLlkXn9L",
        "outputId": "1b5cf505-c9c3-4f12-c247-fcdcd8d5d7f5"
      },
      "outputs": [
        {
          "data": {
            "text/plain": [
              "array([False, False, False,  True])"
            ]
          },
          "execution_count": 57,
          "metadata": {},
          "output_type": "execute_result"
        },
        {
          "data": {
            "text/plain": [
              "True"
            ]
          },
          "execution_count": 57,
          "metadata": {},
          "output_type": "execute_result"
        },
        {
          "data": {
            "text/plain": [
              "nan"
            ]
          },
          "execution_count": 57,
          "metadata": {},
          "output_type": "execute_result"
        },
        {
          "data": {
            "text/plain": [
              "2.0"
            ]
          },
          "execution_count": 57,
          "metadata": {},
          "output_type": "execute_result"
        }
      ],
      "source": [
        "a = np.array([4, 9, 2, np.nan])\n",
        "np.isnan(a)\n",
        "np.isnan(a).any()\n",
        "# Если есть хоть один nan, необходимо вызывать функции, в которых добавляется nan\n",
        "# np.nanmin, np.nansum, etc\n",
        "np.min(a)\n",
        "np.nanmin(a)"
      ]
    },
    {
      "cell_type": "markdown",
      "metadata": {
        "id": "whmXNyeUXn9L"
      },
      "source": [
        "### Создание фиктивных осей"
      ]
    },
    {
      "cell_type": "code",
      "execution_count": 58,
      "metadata": {
        "colab": {
          "base_uri": "https://localhost:8080/"
        },
        "id": "HZ1X8Ko9Xn9L",
        "outputId": "a737c2a1-8c89-4283-bfec-949b0679cef4"
      },
      "outputs": [
        {
          "data": {
            "text/plain": [
              "array([ 0.10404218, -0.20903785,  0.50630784, -0.66928985,  0.67104666, -0.75114575])"
            ]
          },
          "execution_count": 58,
          "metadata": {},
          "output_type": "execute_result"
        }
      ],
      "source": [
        "d = np.random.randn(6)\n",
        "d"
      ]
    },
    {
      "cell_type": "code",
      "execution_count": 59,
      "metadata": {
        "colab": {
          "base_uri": "https://localhost:8080/"
        },
        "id": "VuwF-jQCXn9M",
        "outputId": "cf23e384-5107-44f9-de57-13ec2743e50a"
      },
      "outputs": [
        {
          "data": {
            "text/plain": [
              "(6,)"
            ]
          },
          "execution_count": 59,
          "metadata": {},
          "output_type": "execute_result"
        }
      ],
      "source": [
        "d.shape"
      ]
    },
    {
      "cell_type": "code",
      "execution_count": 60,
      "metadata": {
        "colab": {
          "base_uri": "https://localhost:8080/"
        },
        "id": "9KFB2OLUXn9M",
        "outputId": "699301b3-821c-4885-e6b7-4407d60e32f8"
      },
      "outputs": [
        {
          "data": {
            "text/plain": [
              "1"
            ]
          },
          "execution_count": 60,
          "metadata": {},
          "output_type": "execute_result"
        }
      ],
      "source": [
        "d.ndim"
      ]
    },
    {
      "cell_type": "code",
      "execution_count": 61,
      "metadata": {
        "colab": {
          "base_uri": "https://localhost:8080/"
        },
        "id": "I73do0m6Xn9M",
        "outputId": "69f37f26-21c2-41e9-8507-93812b3d5cc3"
      },
      "outputs": [
        {
          "data": {
            "text/plain": [
              "array([[[ 0.10404218]],\n",
              "\n",
              "       [[-0.20903785]],\n",
              "\n",
              "       [[ 0.50630784]],\n",
              "\n",
              "       [[-0.66928985]],\n",
              "\n",
              "       [[ 0.67104666]],\n",
              "\n",
              "       [[-0.75114575]]])"
            ]
          },
          "execution_count": 61,
          "metadata": {},
          "output_type": "execute_result"
        }
      ],
      "source": [
        "# Создание фиктивных осей: можно np.newaxis можно None\n",
        "d1 = d[:, np.newaxis, None]\n",
        "d1"
      ]
    },
    {
      "cell_type": "code",
      "execution_count": 62,
      "metadata": {
        "colab": {
          "base_uri": "https://localhost:8080/"
        },
        "id": "gn9cf1CIXn9N",
        "outputId": "da9050d0-ff25-4eb6-c59f-23809f38d4af"
      },
      "outputs": [
        {
          "data": {
            "text/plain": [
              "(3, (6, 1, 1))"
            ]
          },
          "execution_count": 62,
          "metadata": {},
          "output_type": "execute_result"
        }
      ],
      "source": [
        "d1.ndim, d1.shape"
      ]
    },
    {
      "cell_type": "code",
      "execution_count": 63,
      "metadata": {
        "colab": {
          "base_uri": "https://localhost:8080/"
        },
        "id": "B-CWdSW-Xn9N",
        "outputId": "b851d6b2-c437-4c55-9799-c941ce19a1c6"
      },
      "outputs": [
        {
          "data": {
            "text/plain": [
              "(1, 6, 1)"
            ]
          },
          "execution_count": 63,
          "metadata": {},
          "output_type": "execute_result"
        },
        {
          "data": {
            "text/plain": [
              "array([[[ 0.10404218],\n",
              "        [-0.20903785],\n",
              "        [ 0.50630784],\n",
              "        [-0.66928985],\n",
              "        [ 0.67104666],\n",
              "        [-0.75114575]]])"
            ]
          },
          "execution_count": 63,
          "metadata": {},
          "output_type": "execute_result"
        }
      ],
      "source": [
        "d2 = d[None, :, None]\n",
        "d2.shape\n",
        "d2"
      ]
    },
    {
      "cell_type": "code",
      "execution_count": 64,
      "metadata": {
        "colab": {
          "base_uri": "https://localhost:8080/"
        },
        "id": "GTMHoK0BXn9O",
        "outputId": "22939002-a9b8-44b4-a186-aa1a42d131e0"
      },
      "outputs": [
        {
          "data": {
            "text/plain": [
              "(1, 1, 6)"
            ]
          },
          "execution_count": 64,
          "metadata": {},
          "output_type": "execute_result"
        }
      ],
      "source": [
        "d3 = d[None, None, :]\n",
        "d3.shape"
      ]
    },
    {
      "cell_type": "code",
      "execution_count": 65,
      "metadata": {
        "colab": {
          "base_uri": "https://localhost:8080/"
        },
        "id": "cnHUXgbKXn9O",
        "outputId": "99cbc117-d4c3-4ffe-cf24-92b3dbe5eb49"
      },
      "outputs": [
        {
          "data": {
            "text/plain": [
              "array([[[ 0.10404218, -0.20903785,  0.50630784, -0.66928985,  0.67104666, -0.75114575]]])"
            ]
          },
          "execution_count": 65,
          "metadata": {},
          "output_type": "execute_result"
        }
      ],
      "source": [
        "d3"
      ]
    },
    {
      "cell_type": "code",
      "execution_count": 66,
      "metadata": {
        "colab": {
          "base_uri": "https://localhost:8080/"
        },
        "id": "D6P88cFOXn9O",
        "outputId": "48063e5a-64a1-4e6a-8562-d4dbb6b52218"
      },
      "outputs": [
        {
          "data": {
            "text/plain": [
              "array([[1., 1., 1., 1.],\n",
              "       [1., 1., 1., 1.],\n",
              "       [1., 1., 1., 1.]])"
            ]
          },
          "execution_count": 66,
          "metadata": {},
          "output_type": "execute_result"
        }
      ],
      "source": [
        "m1 = np.ones((3, 4));m1"
      ]
    },
    {
      "cell_type": "code",
      "execution_count": 67,
      "metadata": {
        "id": "BTIGsKhLXn9O"
      },
      "outputs": [],
      "source": [
        "m1_new = m1[np.newaxis, :, :]"
      ]
    },
    {
      "cell_type": "code",
      "execution_count": 68,
      "metadata": {
        "colab": {
          "base_uri": "https://localhost:8080/"
        },
        "id": "SGY4RCXcXn9P",
        "outputId": "7c93479d-1edf-44e8-ba85-131dea5478f5"
      },
      "outputs": [
        {
          "data": {
            "text/plain": [
              "(1, 3, 4)"
            ]
          },
          "execution_count": 68,
          "metadata": {},
          "output_type": "execute_result"
        }
      ],
      "source": [
        "m1_new.shape"
      ]
    },
    {
      "cell_type": "code",
      "execution_count": 69,
      "metadata": {
        "colab": {
          "base_uri": "https://localhost:8080/"
        },
        "id": "ItYL8rCNXn9P",
        "outputId": "cce1ccfa-f8f6-48d5-9e8b-e3fcedd83d10"
      },
      "outputs": [
        {
          "data": {
            "text/plain": [
              "array([[[1., 1., 1., 1.],\n",
              "        [1., 1., 1., 1.],\n",
              "        [1., 1., 1., 1.]]])"
            ]
          },
          "execution_count": 69,
          "metadata": {},
          "output_type": "execute_result"
        }
      ],
      "source": [
        "m1_new"
      ]
    },
    {
      "cell_type": "code",
      "execution_count": 70,
      "metadata": {
        "colab": {
          "base_uri": "https://localhost:8080/"
        },
        "id": "hU8zodtcXn9P",
        "outputId": "406b8c42-4421-480f-b66f-74defe92b463"
      },
      "outputs": [
        {
          "data": {
            "text/plain": [
              "(3, 4, 1)"
            ]
          },
          "execution_count": 70,
          "metadata": {},
          "output_type": "execute_result"
        },
        {
          "data": {
            "text/plain": [
              "array([[[1.],\n",
              "        [1.],\n",
              "        [1.],\n",
              "        [1.]],\n",
              "\n",
              "       [[1.],\n",
              "        [1.],\n",
              "        [1.],\n",
              "        [1.]],\n",
              "\n",
              "       [[1.],\n",
              "        [1.],\n",
              "        [1.],\n",
              "        [1.]]])"
            ]
          },
          "execution_count": 70,
          "metadata": {},
          "output_type": "execute_result"
        }
      ],
      "source": [
        "m1[:, :, None].shape # (3, 4, 1)\n",
        "m1[:, :, None]"
      ]
    },
    {
      "cell_type": "code",
      "execution_count": 71,
      "metadata": {
        "colab": {
          "base_uri": "https://localhost:8080/"
        },
        "id": "J6HsZaJfXn9P",
        "outputId": "2aeba81a-92bc-4993-e5e0-3fa5da8660de"
      },
      "outputs": [
        {
          "data": {
            "text/plain": [
              "array([[1., 1., 1., 1., 1.],\n",
              "       [1., 1., 1., 1., 1.],\n",
              "       [1., 1., 1., 1., 1.]])"
            ]
          },
          "execution_count": 71,
          "metadata": {},
          "output_type": "execute_result"
        }
      ],
      "source": [
        "m2 = np.ones((3, 5));m2"
      ]
    },
    {
      "cell_type": "code",
      "execution_count": 72,
      "metadata": {
        "colab": {
          "base_uri": "https://localhost:8080/"
        },
        "id": "4z5r2MIGXn9Q",
        "outputId": "17c5c9a0-ed73-45b7-cb7f-97e406ab5202"
      },
      "outputs": [
        {
          "data": {
            "text/plain": [
              "array([[[1., 1., 1., 1., 1.]],\n",
              "\n",
              "       [[1., 1., 1., 1., 1.]],\n",
              "\n",
              "       [[1., 1., 1., 1., 1.]]])"
            ]
          },
          "execution_count": 72,
          "metadata": {},
          "output_type": "execute_result"
        }
      ],
      "source": [
        "m2[:, None, :]  # (3, 1, 5)"
      ]
    },
    {
      "cell_type": "markdown",
      "metadata": {
        "id": "y4rJMhvlXn9Q"
      },
      "source": [
        "### Broadcast"
      ]
    },
    {
      "cell_type": "markdown",
      "metadata": {
        "id": "-FPIFwpgXn9R"
      },
      "source": [
        "![first.PNG](attachment:first.PNG)"
      ]
    },
    {
      "cell_type": "markdown",
      "metadata": {
        "id": "PjDsNoGXXn9R"
      },
      "source": [
        "![second.PNG](attachment:second.PNG)"
      ]
    },
    {
      "cell_type": "markdown",
      "metadata": {
        "id": "wnotCkl5Xn9R"
      },
      "source": [
        "![third.PNG](attachment:third.PNG)"
      ]
    },
    {
      "cell_type": "code",
      "execution_count": 73,
      "metadata": {
        "colab": {
          "base_uri": "https://localhost:8080/"
        },
        "id": "LanEg6nhXn9R",
        "outputId": "00b1f0bc-b23b-4159-983c-3f3f8ba0b097"
      },
      "outputs": [
        {
          "data": {
            "text/plain": [
              "array([[1., 1., 1., 1.],\n",
              "       [1., 1., 1., 1.],\n",
              "       [1., 1., 1., 1.]])"
            ]
          },
          "execution_count": 73,
          "metadata": {},
          "output_type": "execute_result"
        }
      ],
      "source": [
        "m1"
      ]
    },
    {
      "cell_type": "code",
      "execution_count": 74,
      "metadata": {
        "colab": {
          "base_uri": "https://localhost:8080/"
        },
        "id": "Q2bydLjRXn9S",
        "outputId": "d04ac0d7-21eb-4ca3-aecd-c9e5d2c93e51"
      },
      "outputs": [
        {
          "data": {
            "text/plain": [
              "array([[1., 1., 1., 1., 1.],\n",
              "       [1., 1., 1., 1., 1.],\n",
              "       [1., 1., 1., 1., 1.]])"
            ]
          },
          "execution_count": 74,
          "metadata": {},
          "output_type": "execute_result"
        }
      ],
      "source": [
        "m2"
      ]
    },
    {
      "cell_type": "code",
      "execution_count": 75,
      "metadata": {
        "colab": {
          "base_uri": "https://localhost:8080/"
        },
        "id": "iVEbfaVSXn9S",
        "outputId": "32b43651-8bdf-49af-e5fc-19d7da31201a"
      },
      "outputs": [
        {
          "data": {
            "text/plain": [
              "array([[1., 1., 1., 1.],\n",
              "       [1., 1., 1., 1.],\n",
              "       [1., 1., 1., 1.]])"
            ]
          },
          "execution_count": 75,
          "metadata": {},
          "output_type": "execute_result"
        },
        {
          "data": {
            "text/plain": [
              "array([[1., 1., 1., 1., 1.],\n",
              "       [1., 1., 1., 1., 1.],\n",
              "       [1., 1., 1., 1., 1.]])"
            ]
          },
          "execution_count": 75,
          "metadata": {},
          "output_type": "execute_result"
        },
        {
          "data": {
            "text/plain": [
              "array([[[2., 2., 2., 2., 2.],\n",
              "        [2., 2., 2., 2., 2.],\n",
              "        [2., 2., 2., 2., 2.],\n",
              "        [2., 2., 2., 2., 2.]],\n",
              "\n",
              "       [[2., 2., 2., 2., 2.],\n",
              "        [2., 2., 2., 2., 2.],\n",
              "        [2., 2., 2., 2., 2.],\n",
              "        [2., 2., 2., 2., 2.]],\n",
              "\n",
              "       [[2., 2., 2., 2., 2.],\n",
              "        [2., 2., 2., 2., 2.],\n",
              "        [2., 2., 2., 2., 2.],\n",
              "        [2., 2., 2., 2., 2.]]])"
            ]
          },
          "execution_count": 75,
          "metadata": {},
          "output_type": "execute_result"
        }
      ],
      "source": [
        "# m1[0] *= 5\n",
        "# m1[1] *= 2\n",
        "m1\n",
        "# m2 = m2 * 3\n",
        "m2\n",
        "m3 = m1[:, :, None] + m2[:, None, :] # (3, 4, 1) + (3, 1, 5)\n",
        "m3"
      ]
    },
    {
      "cell_type": "code",
      "execution_count": 76,
      "metadata": {
        "colab": {
          "base_uri": "https://localhost:8080/"
        },
        "id": "X-hG6zkYXn9T",
        "outputId": "549b6a46-98a2-42a7-e95d-cf8cd45eafd5"
      },
      "outputs": [
        {
          "data": {
            "text/plain": [
              "(3, 4, 5)"
            ]
          },
          "execution_count": 76,
          "metadata": {},
          "output_type": "execute_result"
        }
      ],
      "source": [
        "m3.shape"
      ]
    },
    {
      "cell_type": "code",
      "execution_count": 77,
      "metadata": {
        "colab": {
          "base_uri": "https://localhost:8080/"
        },
        "id": "UftlAmgAXn9T",
        "outputId": "9718ec77-84f4-41e3-e024-8d44abc19ef3"
      },
      "outputs": [
        {
          "data": {
            "text/plain": [
              "array([ 0.10404218, -0.20903785,  0.50630784, -0.66928985,  0.67104666, -0.75114575])"
            ]
          },
          "execution_count": 77,
          "metadata": {},
          "output_type": "execute_result"
        }
      ],
      "source": [
        "d"
      ]
    },
    {
      "cell_type": "code",
      "execution_count": 78,
      "metadata": {
        "colab": {
          "base_uri": "https://localhost:8080/"
        },
        "id": "6jVDQAurXn9T",
        "outputId": "b9dba8d5-0532-493b-9daf-e5f15ff3259f"
      },
      "outputs": [
        {
          "data": {
            "text/plain": [
              "array([[ 0.10404218, -0.20903785,  0.50630784, -0.66928985,  0.67104666, -0.75114575]])"
            ]
          },
          "execution_count": 78,
          "metadata": {},
          "output_type": "execute_result"
        }
      ],
      "source": [
        "# Создать фиктивную ось для строк\n",
        "new_d2 = np.expand_dims(d, axis=0); new_d2"
      ]
    },
    {
      "cell_type": "code",
      "execution_count": 79,
      "metadata": {
        "colab": {
          "base_uri": "https://localhost:8080/"
        },
        "id": "muekUzgoXn9U",
        "outputId": "e66e8be6-bd2f-42a1-fa5a-52f13486fd07"
      },
      "outputs": [
        {
          "data": {
            "text/plain": [
              "(1, 6)"
            ]
          },
          "execution_count": 79,
          "metadata": {},
          "output_type": "execute_result"
        }
      ],
      "source": [
        "new_d2.shape"
      ]
    },
    {
      "cell_type": "code",
      "execution_count": 80,
      "metadata": {
        "colab": {
          "base_uri": "https://localhost:8080/"
        },
        "id": "yjUsszV5Xn9U",
        "outputId": "c896a411-2e3c-42b6-bf66-32d6c1d6f8e2"
      },
      "outputs": [
        {
          "data": {
            "text/plain": [
              "array([[ 0.10404218],\n",
              "       [-0.20903785],\n",
              "       [ 0.50630784],\n",
              "       [-0.66928985],\n",
              "       [ 0.67104666],\n",
              "       [-0.75114575]])"
            ]
          },
          "execution_count": 80,
          "metadata": {},
          "output_type": "execute_result"
        }
      ],
      "source": [
        "# Можно, но не рекомендую\n",
        "d.reshape(*d.shape, 1) # d[..., np.newaxis]"
      ]
    },
    {
      "cell_type": "code",
      "execution_count": 81,
      "metadata": {
        "colab": {
          "base_uri": "https://localhost:8080/"
        },
        "id": "rmzlTGddXn9U",
        "outputId": "ad9b512e-fc4b-413a-9482-52c0c4376feb"
      },
      "outputs": [
        {
          "data": {
            "text/plain": [
              "(6, 1, 1)"
            ]
          },
          "execution_count": 81,
          "metadata": {},
          "output_type": "execute_result"
        }
      ],
      "source": [
        "d[:, np.newaxis, np.newaxis].shape"
      ]
    },
    {
      "cell_type": "code",
      "execution_count": 82,
      "metadata": {
        "colab": {
          "base_uri": "https://localhost:8080/"
        },
        "id": "n77WwSPaXn9U",
        "outputId": "5232ced8-0ce1-4352-9566-bb2b6174ad9d"
      },
      "outputs": [
        {
          "data": {
            "text/plain": [
              "array([[2, 2, 2],\n",
              "       [2, 2, 2],\n",
              "       [2, 2, 2]])"
            ]
          },
          "execution_count": 82,
          "metadata": {},
          "output_type": "execute_result"
        }
      ],
      "source": [
        "arr1 = np.full((3, 3), 2); arr1"
      ]
    },
    {
      "cell_type": "code",
      "execution_count": 83,
      "metadata": {
        "colab": {
          "base_uri": "https://localhost:8080/"
        },
        "id": "g5yVWDxWXn9V",
        "outputId": "94716027-69b5-410c-c67e-808e3b0b41b8"
      },
      "outputs": [
        {
          "data": {
            "text/plain": [
              "array([10, 11, 12])"
            ]
          },
          "execution_count": 83,
          "metadata": {},
          "output_type": "execute_result"
        }
      ],
      "source": [
        "arr2 = np.arange(10, 13); arr2"
      ]
    },
    {
      "cell_type": "code",
      "execution_count": 84,
      "metadata": {
        "colab": {
          "base_uri": "https://localhost:8080/"
        },
        "id": "p9I7m6ZEXn9V",
        "outputId": "2500fa88-5419-4cc1-a7c0-3f65f448b2f0"
      },
      "outputs": [
        {
          "data": {
            "text/plain": [
              "array([[10, 11, 12]])"
            ]
          },
          "execution_count": 84,
          "metadata": {},
          "output_type": "execute_result"
        }
      ],
      "source": [
        "arr2 = arr2[None, :]; arr2   # Фиктивная ось для строк. Лучше делать это явно!"
      ]
    },
    {
      "cell_type": "code",
      "execution_count": 85,
      "metadata": {
        "colab": {
          "base_uri": "https://localhost:8080/"
        },
        "id": "5rKbZ1siXn9V",
        "outputId": "0d740009-9e84-4445-e9e6-b0408ca1e298"
      },
      "outputs": [
        {
          "data": {
            "text/plain": [
              "array([[2, 2, 2],\n",
              "       [2, 2, 2],\n",
              "       [2, 2, 2]])"
            ]
          },
          "execution_count": 85,
          "metadata": {},
          "output_type": "execute_result"
        },
        {
          "data": {
            "text/plain": [
              "array([[10, 11, 12]])"
            ]
          },
          "execution_count": 85,
          "metadata": {},
          "output_type": "execute_result"
        },
        {
          "data": {
            "text/plain": [
              "array([[12, 13, 14],\n",
              "       [12, 13, 14],\n",
              "       [12, 13, 14]])"
            ]
          },
          "execution_count": 85,
          "metadata": {},
          "output_type": "execute_result"
        }
      ],
      "source": [
        "arr1\n",
        "arr2\n",
        "arr1 + arr2  # broadcasting: (1, 3) -> (3, 3) -> (3, 3) + (3, 3)"
      ]
    },
    {
      "cell_type": "code",
      "execution_count": 86,
      "metadata": {
        "colab": {
          "base_uri": "https://localhost:8080/"
        },
        "id": "x_JfbHS7Xn9W",
        "outputId": "be4cacd6-db12-4a72-ece7-4087d3307d96"
      },
      "outputs": [
        {
          "data": {
            "text/plain": [
              "array([[10],\n",
              "       [11],\n",
              "       [12]])"
            ]
          },
          "execution_count": 86,
          "metadata": {},
          "output_type": "execute_result"
        }
      ],
      "source": [
        "arr3 = np.arange(10, 13)\n",
        "arr3 = arr3[:, None]; arr3   # Фиктивная ось для столбцов"
      ]
    },
    {
      "cell_type": "code",
      "execution_count": 87,
      "metadata": {
        "colab": {
          "base_uri": "https://localhost:8080/"
        },
        "id": "N1kWBI5uXn9W",
        "outputId": "74359c02-8ee2-4c21-dca2-0735736f668e"
      },
      "outputs": [
        {
          "data": {
            "text/plain": [
              "array([[12, 12, 12],\n",
              "       [13, 13, 13],\n",
              "       [14, 14, 14]])"
            ]
          },
          "execution_count": 87,
          "metadata": {},
          "output_type": "execute_result"
        }
      ],
      "source": [
        "arr1 + arr3"
      ]
    },
    {
      "cell_type": "code",
      "execution_count": 88,
      "metadata": {
        "colab": {
          "base_uri": "https://localhost:8080/"
        },
        "id": "kAN8aNh0Xn9X",
        "outputId": "cc22df3c-642f-488d-d5a5-da8105051c00"
      },
      "outputs": [
        {
          "data": {
            "text/plain": [
              "array([[[ 0,  1,  2,  3],\n",
              "        [ 4,  5,  6,  7],\n",
              "        [ 8,  9, 10, 11]],\n",
              "\n",
              "       [[12, 13, 14, 15],\n",
              "        [16, 17, 18, 19],\n",
              "        [20, 21, 22, 23]]])"
            ]
          },
          "execution_count": 88,
          "metadata": {},
          "output_type": "execute_result"
        }
      ],
      "source": [
        "ex1 = np.arange(24).reshape(2, 3, 4)\n",
        "ex1"
      ]
    },
    {
      "cell_type": "code",
      "execution_count": 89,
      "metadata": {
        "colab": {
          "base_uri": "https://localhost:8080/"
        },
        "id": "sAk98VtnXn9X",
        "outputId": "be251848-5532-40d5-fafe-9f53d01d2c29"
      },
      "outputs": [
        {
          "data": {
            "text/plain": [
              "array([[[ 0,  1,  2,  3],\n",
              "        [ 4,  5,  6,  7],\n",
              "        [ 8,  9, 10, 11]],\n",
              "\n",
              "       [[12, 13, 14, 15],\n",
              "        [16, 17, 18, 19],\n",
              "        [20, 21, 22, 23]]])"
            ]
          },
          "execution_count": 89,
          "metadata": {},
          "output_type": "execute_result"
        },
        {
          "data": {
            "text/plain": [
              "array([[[100, 101, 102, 103],\n",
              "        [104, 105, 106, 107],\n",
              "        [108, 109, 110, 111]],\n",
              "\n",
              "       [[113, 114, 115, 116],\n",
              "        [117, 118, 119, 120],\n",
              "        [121, 122, 123, 124]]])"
            ]
          },
          "execution_count": 89,
          "metadata": {},
          "output_type": "execute_result"
        }
      ],
      "source": [
        "ex1\n",
        "ex1 + np.arange(100, 102)[:, None, None]  # (2, 3, 4) + (2, 1, 1)"
      ]
    },
    {
      "cell_type": "markdown",
      "metadata": {
        "id": "0yp38jDDXn9Y"
      },
      "source": [
        "### Удаление фиктивных осей"
      ]
    },
    {
      "cell_type": "code",
      "execution_count": 90,
      "metadata": {
        "colab": {
          "base_uri": "https://localhost:8080/"
        },
        "id": "BzMt3cj5Xn9Z",
        "outputId": "c87b9bc6-b06a-4899-c5c6-ac316b8c4f06"
      },
      "outputs": [
        {
          "data": {
            "text/plain": [
              "(array([[[ 0.10404218]],\n",
              " \n",
              "        [[-0.20903785]],\n",
              " \n",
              "        [[ 0.50630784]],\n",
              " \n",
              "        [[-0.66928985]],\n",
              " \n",
              "        [[ 0.67104666]],\n",
              " \n",
              "        [[-0.75114575]]]),\n",
              " (6, 1, 1))"
            ]
          },
          "execution_count": 90,
          "metadata": {},
          "output_type": "execute_result"
        }
      ],
      "source": [
        "d1, d1.shape"
      ]
    },
    {
      "cell_type": "code",
      "execution_count": 91,
      "metadata": {
        "colab": {
          "base_uri": "https://localhost:8080/"
        },
        "id": "ac014ckXXn9Z",
        "outputId": "6e560c6c-62ca-4551-d1a0-3491b7c20ecc"
      },
      "outputs": [
        {
          "data": {
            "text/plain": [
              "array([ 0.10404218, -0.20903785,  0.50630784, -0.66928985,  0.67104666, -0.75114575])"
            ]
          },
          "execution_count": 91,
          "metadata": {},
          "output_type": "execute_result"
        }
      ],
      "source": [
        "# Удалить лишнее оси\n",
        "new_d1 = np.squeeze(d1)\n",
        "new_d1"
      ]
    },
    {
      "cell_type": "markdown",
      "metadata": {
        "id": "Qb4ooDg3Xn9a"
      },
      "source": [
        "## Операции между массивами и скалярами.\n"
      ]
    },
    {
      "cell_type": "markdown",
      "metadata": {
        "id": "OnKlLDxyXn9a"
      },
      "source": [
        "#### Операции выполняются поэлементно"
      ]
    },
    {
      "cell_type": "code",
      "execution_count": 92,
      "metadata": {
        "colab": {
          "base_uri": "https://localhost:8080/"
        },
        "id": "lZG7OvbrXn9b",
        "outputId": "251f1e39-ba1e-449a-c76c-0053e8782712"
      },
      "outputs": [
        {
          "data": {
            "text/plain": [
              "array([[1, 2, 3],\n",
              "       [4, 5, 6]])"
            ]
          },
          "execution_count": 92,
          "metadata": {},
          "output_type": "execute_result"
        }
      ],
      "source": [
        "vec = np.arange(1, 7).reshape(2, 3); vec"
      ]
    },
    {
      "cell_type": "code",
      "execution_count": 93,
      "metadata": {
        "colab": {
          "base_uri": "https://localhost:8080/"
        },
        "id": "Ej9OCYgMXn9b",
        "outputId": "fa9b05cc-0174-4468-9d39-8427c926d858"
      },
      "outputs": [
        {
          "data": {
            "text/plain": [
              "array([[3, 4, 5],\n",
              "       [6, 7, 8]])"
            ]
          },
          "execution_count": 93,
          "metadata": {},
          "output_type": "execute_result"
        }
      ],
      "source": [
        "2 + vec"
      ]
    },
    {
      "cell_type": "code",
      "execution_count": 94,
      "metadata": {
        "colab": {
          "base_uri": "https://localhost:8080/"
        },
        "id": "ekGD_gZKXn9b",
        "outputId": "9d7200de-d730-4d7a-cf9b-e88f821aa552"
      },
      "outputs": [
        {
          "data": {
            "text/plain": [
              "array([[ 1,  4,  9],\n",
              "       [16, 25, 36]])"
            ]
          },
          "execution_count": 94,
          "metadata": {},
          "output_type": "execute_result"
        }
      ],
      "source": [
        "vec * vec"
      ]
    },
    {
      "cell_type": "code",
      "execution_count": 95,
      "metadata": {
        "colab": {
          "base_uri": "https://localhost:8080/"
        },
        "id": "JBIG0qpRXn9b",
        "outputId": "bc2cf2ab-3fdb-4c2e-b90a-fccc979336ed"
      },
      "outputs": [
        {
          "data": {
            "text/plain": [
              "array([[0, 0, 0],\n",
              "       [0, 0, 0]])"
            ]
          },
          "execution_count": 95,
          "metadata": {},
          "output_type": "execute_result"
        }
      ],
      "source": [
        "vec - vec"
      ]
    },
    {
      "cell_type": "code",
      "execution_count": 96,
      "metadata": {
        "colab": {
          "base_uri": "https://localhost:8080/"
        },
        "id": "bnfRDtVbXn9b",
        "outputId": "a3a9b9bf-a43d-4526-df8c-bc156a30d144"
      },
      "outputs": [
        {
          "data": {
            "text/plain": [
              "array([[1.        , 0.5       , 0.33333333],\n",
              "       [0.25      , 0.2       , 0.16666667]])"
            ]
          },
          "execution_count": 96,
          "metadata": {},
          "output_type": "execute_result"
        }
      ],
      "source": [
        "# Тип элементов при делении всегда np.float64\n",
        "1 / vec"
      ]
    },
    {
      "cell_type": "code",
      "execution_count": 97,
      "metadata": {
        "colab": {
          "base_uri": "https://localhost:8080/"
        },
        "id": "VVLyGgbdXn9b",
        "outputId": "f26f25b2-5054-4395-cfbd-82e49d84f567"
      },
      "outputs": [
        {
          "data": {
            "text/plain": [
              "array([[1.        , 1.41421356, 1.73205081],\n",
              "       [2.        , 2.23606798, 2.44948974]])"
            ]
          },
          "execution_count": 97,
          "metadata": {},
          "output_type": "execute_result"
        }
      ],
      "source": [
        "a = vec ** 0.5\n",
        "a"
      ]
    },
    {
      "cell_type": "markdown",
      "metadata": {
        "id": "xIhX8uUqXn9b"
      },
      "source": [
        "## Унарные операции\n",
        "- abs, fabs (для вещественных)\n",
        "- sqrt, square,\n",
        "- exp, log, log10, log2,\n",
        "- sign, ceil, floor, rint,\n",
        "- modf,\n",
        "- isnan, isinf,\n",
        "- cos, sin и т.д."
      ]
    },
    {
      "cell_type": "code",
      "execution_count": 98,
      "metadata": {
        "colab": {
          "base_uri": "https://localhost:8080/"
        },
        "id": "U8UDpeelXn9c",
        "outputId": "896179ce-5a0b-42a9-b857-dc0e8f89dedd"
      },
      "outputs": [
        {
          "data": {
            "text/plain": [
              "array([[1.        , 1.41421356, 1.73205081],\n",
              "       [2.        , 2.23606798, 2.44948974]])"
            ]
          },
          "execution_count": 98,
          "metadata": {},
          "output_type": "execute_result"
        }
      ],
      "source": [
        "a"
      ]
    },
    {
      "cell_type": "code",
      "execution_count": 99,
      "metadata": {
        "colab": {
          "base_uri": "https://localhost:8080/"
        },
        "id": "Ob_rux4LXn9c",
        "outputId": "7b61c753-9d6d-4745-b259-bec418bf0c8b"
      },
      "outputs": [
        {
          "data": {
            "text/plain": [
              "array([[1., 2., 2.],\n",
              "       [2., 3., 3.]])"
            ]
          },
          "execution_count": 99,
          "metadata": {},
          "output_type": "execute_result"
        }
      ],
      "source": [
        "## Приводит значения вперед к ближайшему целому\n",
        "np.ceil(a)"
      ]
    },
    {
      "cell_type": "code",
      "execution_count": 100,
      "metadata": {
        "colab": {
          "base_uri": "https://localhost:8080/"
        },
        "id": "SD0oIYxWXn9c",
        "outputId": "559f5d8d-1321-4b6a-b3f4-12fd398df26c"
      },
      "outputs": [
        {
          "data": {
            "text/plain": [
              "array([[1., 1., 1.],\n",
              "       [2., 2., 2.]])"
            ]
          },
          "execution_count": 100,
          "metadata": {},
          "output_type": "execute_result"
        }
      ],
      "source": [
        "## Приводит значения назад к ближайшему целому\n",
        "np.floor(a)"
      ]
    },
    {
      "cell_type": "code",
      "execution_count": 101,
      "metadata": {
        "colab": {
          "base_uri": "https://localhost:8080/"
        },
        "id": "kX2gzq38Xn9c",
        "outputId": "d54d6928-fb69-47e4-cdd2-b2ed8e1d6872"
      },
      "outputs": [
        {
          "data": {
            "text/plain": [
              "array([[-1.        , -1.41421356, -1.73205081],\n",
              "       [-2.        , -2.23606798, -2.44948974]])"
            ]
          },
          "execution_count": 101,
          "metadata": {},
          "output_type": "execute_result"
        }
      ],
      "source": [
        "a_minus = -a\n",
        "a_minus"
      ]
    },
    {
      "cell_type": "code",
      "execution_count": 102,
      "metadata": {
        "colab": {
          "base_uri": "https://localhost:8080/"
        },
        "id": "yuJ0grqFXn9c",
        "outputId": "dcd08979-36c1-477a-9954-5b0426cf8d72"
      },
      "outputs": [
        {
          "data": {
            "text/plain": [
              "2.3333333333333335"
            ]
          },
          "execution_count": 102,
          "metadata": {},
          "output_type": "execute_result"
        }
      ],
      "source": [
        "7 / 3"
      ]
    },
    {
      "cell_type": "code",
      "execution_count": 103,
      "metadata": {
        "colab": {
          "base_uri": "https://localhost:8080/"
        },
        "id": "a3L70Cm5Xn9c",
        "outputId": "115c3524-8c0a-44c3-fa1e-269048f52017"
      },
      "outputs": [
        {
          "data": {
            "text/plain": [
              "2"
            ]
          },
          "execution_count": 103,
          "metadata": {},
          "output_type": "execute_result"
        }
      ],
      "source": [
        "7 // 3"
      ]
    },
    {
      "cell_type": "code",
      "execution_count": 104,
      "metadata": {
        "colab": {
          "base_uri": "https://localhost:8080/"
        },
        "id": "EJL2OJ0NXn9d",
        "outputId": "98d8719f-ff97-4bae-b591-b34a7c45bb1a"
      },
      "outputs": [
        {
          "data": {
            "text/plain": [
              "array([[-1., -1., -1.],\n",
              "       [-1., -2., -2.]])"
            ]
          },
          "execution_count": 104,
          "metadata": {},
          "output_type": "execute_result"
        },
        {
          "data": {
            "text/plain": [
              "-3"
            ]
          },
          "execution_count": 104,
          "metadata": {},
          "output_type": "execute_result"
        },
        {
          "data": {
            "text/plain": [
              "2"
            ]
          },
          "execution_count": 104,
          "metadata": {},
          "output_type": "execute_result"
        },
        {
          "data": {
            "text/plain": [
              "True"
            ]
          },
          "execution_count": 104,
          "metadata": {},
          "output_type": "execute_result"
        }
      ],
      "source": [
        "a_minus // 2\n",
        "-7 // 3 # -3\n",
        "-7 % 3 # 2\n",
        "-7 == 3 * (-3) + 2"
      ]
    },
    {
      "cell_type": "code",
      "execution_count": 105,
      "metadata": {
        "colab": {
          "base_uri": "https://localhost:8080/"
        },
        "id": "qZSKVQEOXn9d",
        "outputId": "57153519-ccf0-4784-b7e8-10d875f4d784"
      },
      "outputs": [
        {
          "data": {
            "text/plain": [
              "array([[-1.        , -1.41421356, -1.73205081],\n",
              "       [-2.        , -2.23606798, -2.44948974]])"
            ]
          },
          "execution_count": 105,
          "metadata": {},
          "output_type": "execute_result"
        },
        {
          "data": {
            "text/plain": [
              "array([[-1., -1., -1.],\n",
              "       [-2., -2., -2.]])"
            ]
          },
          "execution_count": 105,
          "metadata": {},
          "output_type": "execute_result"
        }
      ],
      "source": [
        "a_minus\n",
        "np.ceil(a_minus)"
      ]
    },
    {
      "cell_type": "code",
      "execution_count": 106,
      "metadata": {
        "colab": {
          "base_uri": "https://localhost:8080/"
        },
        "id": "XOVGQW87Xn9d",
        "outputId": "ff03705c-bac2-4bcd-be06-fc4edf23377e"
      },
      "outputs": [
        {
          "data": {
            "text/plain": [
              "array([[-1., -2., -2.],\n",
              "       [-2., -3., -3.]])"
            ]
          },
          "execution_count": 106,
          "metadata": {},
          "output_type": "execute_result"
        }
      ],
      "source": [
        "np.floor(a_minus)"
      ]
    },
    {
      "cell_type": "code",
      "execution_count": 107,
      "metadata": {
        "colab": {
          "base_uri": "https://localhost:8080/"
        },
        "id": "NmXK4vP4Xn9d",
        "outputId": "b9f75750-b1cd-4b2b-91ac-8f3c2b266d19"
      },
      "outputs": [
        {
          "name": "stdout",
          "output_type": "stream",
          "text": [
            "rint(x, /, out=None, *, where=True, casting='same_kind', order='K', dtype=None, subok=True[, signature])\n",
            "\n",
            "Round elements of the array to the nearest integer.\n",
            "\n",
            "Parameters\n",
            "----------\n",
            "x : array_like\n",
            "    Input array.\n",
            "out : ndarray, None, or tuple of ndarray and None, optional\n",
            "    A location into which the result is stored. If provided, it must have\n",
            "    a shape that the inputs broadcast to. If not provided or None,\n",
            "    a freshly-allocated array is returned. A tuple (possible only as a\n",
            "    keyword argument) must have length equal to the number of outputs.\n",
            "where : array_like, optional\n",
            "    This condition is broadcast over the input. At locations where the\n",
            "    condition is True, the `out` array will be set to the ufunc result.\n",
            "    Elsewhere, the `out` array will retain its original value.\n",
            "    Note that if an uninitialized `out` array is created via the default\n",
            "    ``out=None``, locations within it where the condition is False will\n",
            "    remain uninitialized.\n",
            "**kwargs\n",
            "    For other keyword-only arguments, see the\n",
            "    :ref:`ufunc docs <ufuncs.kwargs>`.\n",
            "\n",
            "Returns\n",
            "-------\n",
            "out : ndarray or scalar\n",
            "    Output array is same shape and type as `x`.\n",
            "    This is a scalar if `x` is a scalar.\n",
            "\n",
            "See Also\n",
            "--------\n",
            "fix, ceil, floor, trunc\n",
            "\n",
            "Notes\n",
            "-----\n",
            "For values exactly halfway between rounded decimal values, NumPy\n",
            "rounds to the nearest even value. Thus 1.5 and 2.5 round to 2.0,\n",
            "-0.5 and 0.5 round to 0.0, etc.\n",
            "\n",
            "Examples\n",
            "--------\n",
            ">>> a = np.array([-1.7, -1.5, -0.2, 0.2, 1.5, 1.7, 2.0])\n",
            ">>> np.rint(a)\n",
            "array([-2., -2., -0.,  0.,  2.,  2.,  2.])\n"
          ]
        }
      ],
      "source": [
        "np.info(np.rint)"
      ]
    },
    {
      "cell_type": "code",
      "execution_count": 108,
      "metadata": {
        "colab": {
          "base_uri": "https://localhost:8080/"
        },
        "id": "OtN2HPhcXn9d",
        "outputId": "c4fcaac1-aa41-474a-8b3c-20d35c1491b2"
      },
      "outputs": [
        {
          "data": {
            "text/plain": [
              "array([[1.        , 1.41421356, 1.73205081],\n",
              "       [2.        , 2.23606798, 2.44948974]])"
            ]
          },
          "execution_count": 108,
          "metadata": {},
          "output_type": "execute_result"
        }
      ],
      "source": [
        "a"
      ]
    },
    {
      "cell_type": "code",
      "execution_count": 109,
      "metadata": {
        "colab": {
          "base_uri": "https://localhost:8080/"
        },
        "id": "J4dpXxxlXn9d",
        "outputId": "7252d0ca-d465-4b76-e781-e237ae521d9b"
      },
      "outputs": [
        {
          "data": {
            "text/plain": [
              "array([[1., 1., 2.],\n",
              "       [2., 2., 2.]])"
            ]
          },
          "execution_count": 109,
          "metadata": {},
          "output_type": "execute_result"
        },
        {
          "data": {
            "text/plain": [
              "array([4., 4., 6., 7., 6.])"
            ]
          },
          "execution_count": 109,
          "metadata": {},
          "output_type": "execute_result"
        }
      ],
      "source": [
        "np.rint(a)\n",
        "np.rint(np.array([3.5, 4.5, 5.5, 6.500000000000001, 13 / 2]))"
      ]
    },
    {
      "cell_type": "code",
      "execution_count": 110,
      "metadata": {
        "colab": {
          "base_uri": "https://localhost:8080/"
        },
        "id": "-laUcUFwXn9d",
        "outputId": "19f0d4a9-5abe-49b8-c3a9-d7bb6c49a2f4"
      },
      "outputs": [
        {
          "data": {
            "text/plain": [
              "(array([[0.        , 0.41421356, 0.73205081],\n",
              "        [0.        , 0.23606798, 0.44948974]]),\n",
              " array([[1., 1., 1.],\n",
              "        [2., 2., 2.]]))"
            ]
          },
          "execution_count": 110,
          "metadata": {},
          "output_type": "execute_result"
        }
      ],
      "source": [
        "## Результат - это два отдельных массива, целые и дробные части\n",
        "np.modf(a)"
      ]
    },
    {
      "cell_type": "code",
      "execution_count": 111,
      "metadata": {
        "colab": {
          "base_uri": "https://localhost:8080/"
        },
        "id": "s3ygbLiPXn9e",
        "outputId": "cd91891a-cfd2-4280-a2e9-26d6498b9670"
      },
      "outputs": [
        {
          "data": {
            "text/plain": [
              "array([[0.        , 0.41421356, 0.73205081],\n",
              "       [0.        , 0.23606798, 0.44948974]])"
            ]
          },
          "execution_count": 111,
          "metadata": {},
          "output_type": "execute_result"
        },
        {
          "name": "stderr",
          "output_type": "stream",
          "text": [
            "<ipython-input-111-7f11c6860736>:3: RuntimeWarning: divide by zero encountered in divide\n",
            "  np.isnan(res1 / 0), np.isinf(res1 / 0)\n",
            "<ipython-input-111-7f11c6860736>:3: RuntimeWarning: invalid value encountered in divide\n",
            "  np.isnan(res1 / 0), np.isinf(res1 / 0)\n"
          ]
        },
        {
          "data": {
            "text/plain": [
              "(array([[ True, False, False],\n",
              "        [ True, False, False]]),\n",
              " array([[False,  True,  True],\n",
              "        [False,  True,  True]]))"
            ]
          },
          "execution_count": 111,
          "metadata": {},
          "output_type": "execute_result"
        }
      ],
      "source": [
        "res1, res2 = np.modf(a)\n",
        "res1\n",
        "np.isnan(res1 / 0), np.isinf(res1 / 0)"
      ]
    },
    {
      "cell_type": "markdown",
      "metadata": {
        "id": "Zur8yjIMXn9e"
      },
      "source": [
        "## Бинарные операции"
      ]
    },
    {
      "cell_type": "markdown",
      "metadata": {
        "id": "lvhcbJKcXn9e"
      },
      "source": [
        "### <center> Математические операции  </center>\n",
        "\n",
        "Функция | Операция\n",
        "---|---\n",
        "np.add(m1, m2) |  +\n",
        "np.multiply(m1, m2) | *\n",
        "np.subtract(m1, m2) | -\n",
        "np.divide(m1, m2) | /\n",
        "np.power(m1, m2) | **\n",
        "np.floor_divide(m1, m2) | //"
      ]
    },
    {
      "cell_type": "code",
      "execution_count": 112,
      "metadata": {
        "colab": {
          "base_uri": "https://localhost:8080/"
        },
        "id": "P9cZ6xzMXn9e",
        "outputId": "5308bb54-d91b-4aa7-f928-b6613c778b51"
      },
      "outputs": [
        {
          "name": "stdout",
          "output_type": "stream",
          "text": [
            "[0 1 2 3]\n",
            "(4,)\n",
            "[[4]\n",
            " [5]\n",
            " [6]\n",
            " [7]]\n",
            "(4, 1)\n"
          ]
        }
      ],
      "source": [
        "n = np.arange(4)\n",
        "n1 = np.arange(4, 8).reshape(4, 1)\n",
        "print(n)\n",
        "print(n.shape)\n",
        "print(n1)\n",
        "print(n1.shape)"
      ]
    },
    {
      "cell_type": "code",
      "execution_count": 113,
      "metadata": {
        "colab": {
          "base_uri": "https://localhost:8080/"
        },
        "id": "5HH3OIn0Xn9e",
        "outputId": "43712106-13cb-4908-f354-1e01ee9c7b23"
      },
      "outputs": [
        {
          "data": {
            "text/plain": [
              "array([[4],\n",
              "       [5],\n",
              "       [6],\n",
              "       [7]])"
            ]
          },
          "execution_count": 113,
          "metadata": {},
          "output_type": "execute_result"
        },
        {
          "data": {
            "text/plain": [
              "array([0, 1, 2, 3])"
            ]
          },
          "execution_count": 113,
          "metadata": {},
          "output_type": "execute_result"
        },
        {
          "data": {
            "text/plain": [
              "array([[ 4,  5,  6,  7],\n",
              "       [ 5,  6,  7,  8],\n",
              "       [ 6,  7,  8,  9],\n",
              "       [ 7,  8,  9, 10]])"
            ]
          },
          "execution_count": 113,
          "metadata": {},
          "output_type": "execute_result"
        }
      ],
      "source": [
        "n1\n",
        "n\n",
        "np.add(n1, n)  # Неявно n приводится к размерности(1, 4)"
      ]
    },
    {
      "cell_type": "code",
      "execution_count": 114,
      "metadata": {
        "colab": {
          "base_uri": "https://localhost:8080/"
        },
        "id": "HZJvTcdFXn9f",
        "outputId": "6dd1c9c2-91cd-4667-f33b-137d518d8c3e"
      },
      "outputs": [
        {
          "data": {
            "text/plain": [
              "array([[ 4,  5,  6,  7],\n",
              "       [ 5,  6,  7,  8],\n",
              "       [ 6,  7,  8,  9],\n",
              "       [ 7,  8,  9, 10]])"
            ]
          },
          "execution_count": 114,
          "metadata": {},
          "output_type": "execute_result"
        }
      ],
      "source": [
        "np.add(n, n1)"
      ]
    },
    {
      "cell_type": "code",
      "execution_count": 115,
      "metadata": {
        "colab": {
          "base_uri": "https://localhost:8080/"
        },
        "id": "KPbSFZ2EXn9f",
        "outputId": "b17ef9ef-26cc-4c62-961e-61677e8773d0"
      },
      "outputs": [
        {
          "data": {
            "text/plain": [
              "array([[ 2,  3,  4,  5],\n",
              "       [ 6,  7,  8,  9],\n",
              "       [10, 11, 12, 13]])"
            ]
          },
          "execution_count": 115,
          "metadata": {},
          "output_type": "execute_result"
        }
      ],
      "source": [
        "m1 = np.arange(2,14).reshape(3, 4); m1"
      ]
    },
    {
      "cell_type": "code",
      "execution_count": 116,
      "metadata": {
        "colab": {
          "base_uri": "https://localhost:8080/"
        },
        "id": "lApfrLFiXn9f",
        "outputId": "6b743427-2bbb-433a-f856-5477a6f6ba28"
      },
      "outputs": [
        {
          "data": {
            "text/plain": [
              "array([[ 1,  1,  2,  3],\n",
              "       [ 4,  5,  6,  7],\n",
              "       [ 8,  9, 10, 14]])"
            ]
          },
          "execution_count": 116,
          "metadata": {},
          "output_type": "execute_result"
        }
      ],
      "source": [
        "m2 = np.arange(12).reshape(3, 4)\n",
        "m2[0,0] = 1\n",
        "m2[2,3] = 14\n",
        "m2"
      ]
    },
    {
      "cell_type": "code",
      "execution_count": 117,
      "metadata": {
        "colab": {
          "base_uri": "https://localhost:8080/"
        },
        "id": "FeNvcjFjXn9f",
        "outputId": "854e7cd0-7a1b-41f0-b2a0-500c2925fd21"
      },
      "outputs": [
        {
          "data": {
            "text/plain": [
              "array([[2.        , 3.        , 2.        , 1.66666667],\n",
              "       [1.5       , 1.4       , 1.33333333, 1.28571429],\n",
              "       [1.25      , 1.22222222, 1.2       , 0.92857143]])"
            ]
          },
          "execution_count": 117,
          "metadata": {},
          "output_type": "execute_result"
        }
      ],
      "source": [
        "np.divide(m1, m2)"
      ]
    },
    {
      "cell_type": "code",
      "execution_count": 118,
      "metadata": {
        "colab": {
          "base_uri": "https://localhost:8080/"
        },
        "id": "NBnFMc4-Xn9f",
        "outputId": "aaa3ab15-0d0d-4c87-ec1c-11b78cca8e71"
      },
      "outputs": [
        {
          "data": {
            "text/plain": [
              "array([[2, 3, 2, 1],\n",
              "       [1, 1, 1, 1],\n",
              "       [1, 1, 1, 0]])"
            ]
          },
          "execution_count": 118,
          "metadata": {},
          "output_type": "execute_result"
        },
        {
          "data": {
            "text/plain": [
              "array([[2, 3, 2, 1],\n",
              "       [1, 1, 1, 1],\n",
              "       [1, 1, 1, 0]])"
            ]
          },
          "execution_count": 118,
          "metadata": {},
          "output_type": "execute_result"
        }
      ],
      "source": [
        "## Целочисленное деление\n",
        "np.floor_divide(m1, m2)\n",
        "m1 // m2"
      ]
    },
    {
      "cell_type": "code",
      "execution_count": 119,
      "metadata": {
        "colab": {
          "base_uri": "https://localhost:8080/"
        },
        "id": "F8cNhkVSXn9f",
        "outputId": "7564a347-d115-4995-fe57-039809286e66"
      },
      "outputs": [
        {
          "data": {
            "text/plain": [
              "array([[               2,                3,               16,              125],\n",
              "       [            1296,            16807,           262144,          4782969],\n",
              "       [       100000000,       2357947691,      61917364224, 3937376385699289]])"
            ]
          },
          "execution_count": 119,
          "metadata": {},
          "output_type": "execute_result"
        }
      ],
      "source": [
        "np.power(m1, m2, dtype=np.int64)"
      ]
    },
    {
      "cell_type": "markdown",
      "metadata": {
        "id": "m2wWRMKhXn9f"
      },
      "source": [
        "### Операторы сравнения"
      ]
    },
    {
      "cell_type": "markdown",
      "metadata": {
        "id": "HW-9x8SDXn9f"
      },
      "source": [
        "Функция | Операция\n",
        "---|---\n",
        "greater | >\n",
        "greater_equal |>=\n",
        "less | <\n",
        "less_equal | <=\n",
        "equal| ==\n",
        "not_equal | !=\n",
        "logical_and | &\n",
        "logical_or | \\|\n",
        "logical_xor | \\^\n",
        "\n"
      ]
    },
    {
      "cell_type": "markdown",
      "metadata": {
        "id": "LjCmWT6jXn9g"
      },
      "source": [
        "- np.maximum(m1, m2) и np.minimum(m1,m2) - поэлементнo\n",
        "- np.fmax(m1, m2) и np.fmin(m1,m2) - игнорируют значение NaN\n",
        "\n",
        "**операторы Python: and, or, not не поддерживаются!**"
      ]
    },
    {
      "cell_type": "code",
      "execution_count": 120,
      "metadata": {
        "colab": {
          "base_uri": "https://localhost:8080/"
        },
        "id": "B3v4oDp4Xn9g",
        "outputId": "0c5d2fcd-bdbd-4451-cd1b-3ee9d6ee374f"
      },
      "outputs": [
        {
          "data": {
            "text/plain": [
              "array([[ 2,  3,  4,  5],\n",
              "       [ 6,  7,  8,  9],\n",
              "       [10, 11, 12, 13]])"
            ]
          },
          "execution_count": 120,
          "metadata": {},
          "output_type": "execute_result"
        },
        {
          "data": {
            "text/plain": [
              "array([[ 1,  1,  2,  3],\n",
              "       [ 4,  5,  6,  7],\n",
              "       [ 8,  9, 10, 14]])"
            ]
          },
          "execution_count": 120,
          "metadata": {},
          "output_type": "execute_result"
        },
        {
          "data": {
            "text/plain": [
              "array([[ 2,  3,  4,  5],\n",
              "       [ 6,  7,  8,  9],\n",
              "       [10, 11, 12, 14]])"
            ]
          },
          "execution_count": 120,
          "metadata": {},
          "output_type": "execute_result"
        }
      ],
      "source": [
        "m1\n",
        "m2\n",
        "#### Из каждой пары элементов выбирает наибольший\n",
        "np.maximum(m1, m2)"
      ]
    },
    {
      "cell_type": "code",
      "execution_count": 121,
      "metadata": {
        "colab": {
          "base_uri": "https://localhost:8080/"
        },
        "id": "UkuvLEDeXn9g",
        "outputId": "4962f45c-1552-4b29-ac6b-c87796bb82f8"
      },
      "outputs": [
        {
          "data": {
            "text/plain": [
              "array([[ 1,  1,  2,  3],\n",
              "       [ 4,  5,  6,  7],\n",
              "       [ 8,  9, 10, 13]])"
            ]
          },
          "execution_count": 121,
          "metadata": {},
          "output_type": "execute_result"
        }
      ],
      "source": [
        "np.minimum(m1, m2)"
      ]
    },
    {
      "cell_type": "code",
      "execution_count": 122,
      "metadata": {
        "colab": {
          "base_uri": "https://localhost:8080/"
        },
        "id": "9OT7gzW3Xn9g",
        "outputId": "c3dac54c-b86a-493d-c22a-74b3236ac534"
      },
      "outputs": [
        {
          "data": {
            "text/plain": [
              "array([[100],\n",
              "       [101],\n",
              "       [102]])"
            ]
          },
          "execution_count": 122,
          "metadata": {},
          "output_type": "execute_result"
        }
      ],
      "source": [
        "m3 = np.arange(100, 103).reshape(3, 1); m3"
      ]
    },
    {
      "cell_type": "code",
      "execution_count": 123,
      "metadata": {
        "colab": {
          "base_uri": "https://localhost:8080/"
        },
        "id": "41FAW9HfXn9g",
        "outputId": "721e604e-0934-4e2e-a5d7-e9be781e07e5"
      },
      "outputs": [
        {
          "data": {
            "text/plain": [
              "array([[  2,   3,   4, 101],\n",
              "       [  6,   7,   8,   9],\n",
              "       [ 10,  11,  12,  13]])"
            ]
          },
          "execution_count": 123,
          "metadata": {},
          "output_type": "execute_result"
        }
      ],
      "source": [
        "m4 = m1.copy()\n",
        "m4[0,3] = 101\n",
        "m4"
      ]
    },
    {
      "cell_type": "markdown",
      "metadata": {
        "id": "FWD6rm7cXn9h"
      },
      "source": [
        "### broadcasing выполняется при двух условиях:\n",
        "1. Либо размерности совпадают\n",
        "2. Либо одна из размерностей равна 1"
      ]
    },
    {
      "cell_type": "code",
      "execution_count": 124,
      "metadata": {
        "colab": {
          "base_uri": "https://localhost:8080/"
        },
        "id": "RCdKSnNHXn9h",
        "outputId": "5d5a2d1a-624c-4980-bcc0-71a6cc3813d6"
      },
      "outputs": [
        {
          "data": {
            "text/plain": [
              "array([[100],\n",
              "       [101],\n",
              "       [102]])"
            ]
          },
          "execution_count": 124,
          "metadata": {},
          "output_type": "execute_result"
        },
        {
          "data": {
            "text/plain": [
              "array([[  2,   3,   4, 101],\n",
              "       [  6,   7,   8,   9],\n",
              "       [ 10,  11,  12,  13]])"
            ]
          },
          "execution_count": 124,
          "metadata": {},
          "output_type": "execute_result"
        },
        {
          "data": {
            "text/plain": [
              "array([[False, False, False,  True],\n",
              "       [False, False, False, False],\n",
              "       [False, False, False, False]])"
            ]
          },
          "execution_count": 124,
          "metadata": {},
          "output_type": "execute_result"
        }
      ],
      "source": [
        "m3\n",
        "m4\n",
        "m4 > m3 # broadcasting"
      ]
    },
    {
      "cell_type": "code",
      "execution_count": 125,
      "metadata": {
        "colab": {
          "base_uri": "https://localhost:8080/"
        },
        "id": "c2JaSK9lXn9h",
        "outputId": "9b264957-2206-44ff-a328-7c82f35521ed"
      },
      "outputs": [
        {
          "data": {
            "text/plain": [
              "array([[ 2,  3,  4,  5],\n",
              "       [ 6,  7,  8,  9],\n",
              "       [10, 11, 12, 13]])"
            ]
          },
          "execution_count": 125,
          "metadata": {},
          "output_type": "execute_result"
        },
        {
          "data": {
            "text/plain": [
              "array([[ 1,  1,  2,  3],\n",
              "       [ 4,  5,  6,  7],\n",
              "       [ 8,  9, 10, 14]])"
            ]
          },
          "execution_count": 125,
          "metadata": {},
          "output_type": "execute_result"
        },
        {
          "data": {
            "text/plain": [
              "array([[ True,  True,  True,  True],\n",
              "       [ True,  True,  True,  True],\n",
              "       [ True,  True,  True, False]])"
            ]
          },
          "execution_count": 125,
          "metadata": {},
          "output_type": "execute_result"
        }
      ],
      "source": [
        "m1\n",
        "m2\n",
        "m1 > m2"
      ]
    },
    {
      "cell_type": "code",
      "execution_count": 126,
      "metadata": {
        "colab": {
          "base_uri": "https://localhost:8080/"
        },
        "id": "-r_Rn3IyXn9h",
        "outputId": "d6cdaf08-f4ca-45cb-eb0f-1058d5e61e22"
      },
      "outputs": [
        {
          "data": {
            "text/plain": [
              "array([[False, False, False, False],\n",
              "       [False, False, False, False],\n",
              "       [False, False, False,  True]])"
            ]
          },
          "execution_count": 126,
          "metadata": {},
          "output_type": "execute_result"
        }
      ],
      "source": [
        "m1 < m2"
      ]
    },
    {
      "cell_type": "markdown",
      "metadata": {
        "id": "61c2Fm3yXn9h"
      },
      "source": [
        "#### <center>Логическое $ИЛИ$ над двумя массивами, операция: $|$ </center>\n",
        "Правый операнд | Левый операнд | Результат\n",
        "---|---|---\n",
        "True | False| True\n",
        "False | True | True\n",
        "True | True | True\n",
        "False | False| False"
      ]
    },
    {
      "cell_type": "code",
      "execution_count": 127,
      "metadata": {
        "colab": {
          "base_uri": "https://localhost:8080/"
        },
        "id": "O5LaYxMjXn9h",
        "outputId": "a92a18f9-35b2-4cd6-ce62-71f1a3f00e61"
      },
      "outputs": [
        {
          "data": {
            "text/plain": [
              "array([[ True,  True,  True,  True],\n",
              "       [ True,  True,  True,  True],\n",
              "       [ True,  True,  True,  True]])"
            ]
          },
          "execution_count": 127,
          "metadata": {},
          "output_type": "execute_result"
        }
      ],
      "source": [
        "(m1 > m2) | (m1 < m2)"
      ]
    },
    {
      "cell_type": "markdown",
      "metadata": {
        "id": "uJAbN8_yXn9i"
      },
      "source": [
        "#### <center>Логическое $И$ над двумя массивами, операция: $&$ </center>\n",
        "Правый операнд | Левый операнд | Результат\n",
        "---|---|---\n",
        "False | False| False\n",
        "True | False| False\n",
        "False | True | False\n",
        "True | True | True"
      ]
    },
    {
      "cell_type": "code",
      "execution_count": 128,
      "metadata": {
        "colab": {
          "base_uri": "https://localhost:8080/"
        },
        "id": "ZlWGJo5IXn9i",
        "outputId": "10d7d09d-d4b0-4b2c-b927-fccf88dcaa74"
      },
      "outputs": [
        {
          "data": {
            "text/plain": [
              "array([[False, False, False, False],\n",
              "       [False, False, False, False],\n",
              "       [False, False, False, False]])"
            ]
          },
          "execution_count": 128,
          "metadata": {},
          "output_type": "execute_result"
        }
      ],
      "source": [
        "(m1 > m2) & (m1 < m2)"
      ]
    },
    {
      "cell_type": "markdown",
      "metadata": {
        "id": "cz39bVqVXn9i"
      },
      "source": [
        "#### <center>Логическое $xor$ над двумя массивами, операция: $^$ </center>\n",
        "Правый операнд | Левый операнд | Результат\n",
        "---|---|---\n",
        "False | False| False\n",
        "True | False| True\n",
        "False | True | True\n",
        "True | True | False"
      ]
    },
    {
      "cell_type": "code",
      "execution_count": 129,
      "metadata": {
        "colab": {
          "base_uri": "https://localhost:8080/"
        },
        "id": "b2UKZ_VCXn9i",
        "outputId": "c3dc7873-c7c7-49e1-e082-e305d066e030"
      },
      "outputs": [
        {
          "data": {
            "text/plain": [
              "array([[ True, False,  True],\n",
              "       [ True,  True, False]])"
            ]
          },
          "execution_count": 129,
          "metadata": {},
          "output_type": "execute_result"
        }
      ],
      "source": [
        "a = np.array([[True, False, True], [True, True, False]]); a"
      ]
    },
    {
      "cell_type": "code",
      "execution_count": 130,
      "metadata": {
        "colab": {
          "base_uri": "https://localhost:8080/"
        },
        "id": "U-qGBL1-Xn9i",
        "outputId": "1c9c4918-6135-47c9-9096-a14b73f21745"
      },
      "outputs": [
        {
          "data": {
            "text/plain": [
              "array([[ True,  True,  True],\n",
              "       [False,  True, False]])"
            ]
          },
          "execution_count": 130,
          "metadata": {},
          "output_type": "execute_result"
        }
      ],
      "source": [
        "b = np.array([[True, True, True], [False, True, False]]); b"
      ]
    },
    {
      "cell_type": "code",
      "execution_count": 131,
      "metadata": {
        "colab": {
          "base_uri": "https://localhost:8080/"
        },
        "id": "TMMtR3QOXn9i",
        "outputId": "d58b01f8-a23a-4b9d-b1de-6cdc6d22ea1d"
      },
      "outputs": [
        {
          "data": {
            "text/plain": [
              "array([[False,  True, False],\n",
              "       [ True, False, False]])"
            ]
          },
          "execution_count": 131,
          "metadata": {},
          "output_type": "execute_result"
        }
      ],
      "source": [
        "a ^ b"
      ]
    },
    {
      "cell_type": "markdown",
      "metadata": {
        "id": "e13FD0b9Xn9i"
      },
      "source": [
        "#### Инверсия (тильда)"
      ]
    },
    {
      "cell_type": "code",
      "execution_count": 132,
      "metadata": {
        "colab": {
          "base_uri": "https://localhost:8080/"
        },
        "id": "sBCcJOicXn9j",
        "outputId": "54db7b2d-5237-4a4e-8fb8-190149f424de"
      },
      "outputs": [
        {
          "data": {
            "text/plain": [
              "array([[ True,  True,  True,  True],\n",
              "       [ True,  True,  True,  True],\n",
              "       [ True,  True,  True, False]])"
            ]
          },
          "execution_count": 132,
          "metadata": {},
          "output_type": "execute_result"
        }
      ],
      "source": [
        "m1 > m2"
      ]
    },
    {
      "cell_type": "code",
      "execution_count": 133,
      "metadata": {
        "colab": {
          "base_uri": "https://localhost:8080/"
        },
        "id": "dYLpT9laXn9j",
        "outputId": "11217cbc-3cfb-4c88-a40f-c292df6e6f25"
      },
      "outputs": [
        {
          "data": {
            "text/plain": [
              "array([[False, False, False, False],\n",
              "       [False, False, False, False],\n",
              "       [False, False, False,  True]])"
            ]
          },
          "execution_count": 133,
          "metadata": {},
          "output_type": "execute_result"
        }
      ],
      "source": [
        "~(m1 > m2)  # not, отрицание"
      ]
    },
    {
      "cell_type": "code",
      "execution_count": 134,
      "metadata": {
        "colab": {
          "base_uri": "https://localhost:8080/"
        },
        "id": "VJIuQEsDXn9j",
        "outputId": "278d7b2c-ae7e-4aa7-d14b-1a30876cf2c6"
      },
      "outputs": [
        {
          "data": {
            "text/plain": [
              "array([[ True,  True,  True,  True],\n",
              "       [ True,  True,  True,  True],\n",
              "       [ True,  True,  True,  True]])"
            ]
          },
          "execution_count": 134,
          "metadata": {},
          "output_type": "execute_result"
        }
      ],
      "source": [
        "~(m1 > m2) == (m2 > m1)"
      ]
    }
  ],
  "metadata": {
    "celltoolbar": "Слайд-шоу",
    "colab": {
      "provenance": []
    },
    "kernelspec": {
      "display_name": "base",
      "language": "python",
      "name": "python3"
    },
    "language_info": {
      "codemirror_mode": {
        "name": "ipython",
        "version": 3
      },
      "file_extension": ".py",
      "mimetype": "text/x-python",
      "name": "python",
      "nbconvert_exporter": "python",
      "pygments_lexer": "ipython3",
      "version": "3.12.7"
    }
  },
  "nbformat": 4,
  "nbformat_minor": 0
}
