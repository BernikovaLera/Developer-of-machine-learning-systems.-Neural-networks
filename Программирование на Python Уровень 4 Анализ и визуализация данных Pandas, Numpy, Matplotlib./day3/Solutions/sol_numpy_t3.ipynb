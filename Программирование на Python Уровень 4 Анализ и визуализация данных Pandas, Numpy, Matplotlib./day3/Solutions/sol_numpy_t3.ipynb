{
 "cells": [
  {
   "cell_type": "code",
   "execution_count": 1,
   "id": "fd81cc0f",
   "metadata": {
    "slideshow": {
     "slide_type": "slide"
    }
   },
   "outputs": [],
   "source": [
    "import numpy as np\n",
    "np.set_printoptions(linewidth=110, legacy=\"1.25\") # Для вывода чисел без явного указания типа\n",
    "from IPython.core.interactiveshell import InteractiveShell\n",
    "InteractiveShell.ast_node_interactivity = \"all\"     # Вывод всех строк без принтов"
   ]
  },
  {
   "cell_type": "markdown",
   "id": "1535de37",
   "metadata": {
    "slideshow": {
     "slide_type": "slide"
    }
   },
   "source": [
    "### Практика 3."
   ]
  },
  {
   "cell_type": "markdown",
   "id": "fac7ca46",
   "metadata": {
    "slideshow": {
     "slide_type": "slide"
    }
   },
   "source": [
    "#### Задача 1\n",
    "\n",
    "Создать массив 10x10 со случайными значениями(int64):\n",
    "- Найти минимум и максимум всего массива\n",
    "- Вывести разницу между max и min для всего массива  \n",
    "- Вывести разницу между max и min для каждой оси  \n",
    "\n",
    "**Out:**   \n",
    "разница в строках: `array([...])`  \n",
    "разница в столбцах: `array([...])`"
   ]
  },
  {
   "cell_type": "markdown",
   "id": "dd009724",
   "metadata": {
    "slideshow": {
     "slide_type": "slide"
    }
   },
   "source": [
    "### Решение 1:"
   ]
  },
  {
   "cell_type": "code",
   "execution_count": 2,
   "id": "71082e26",
   "metadata": {
    "slideshow": {
     "slide_type": "slide"
    }
   },
   "outputs": [
    {
     "data": {
      "text/plain": [
       "array([[ 6, 10,  7, 15, 23, 10, 16, 27,  3, 31],\n",
       "       [18, 10, 43,  6,  2, 39,  2, 22, 39, 30],\n",
       "       [13, 15, 14,  2, 48,  3, 28, 37,  9, 46],\n",
       "       [11, 32, 46, 48,  5, 49, 49, 15, 32,  7],\n",
       "       [ 5, 33, 41, 28,  6, 24, 28, 41, 42, 43],\n",
       "       [ 5, 30, 28, 42,  9, 18, 15, 35,  5, 15],\n",
       "       [ 4,  3, 24, 41, 30, 10, 44, 41, 19, 33],\n",
       "       [26, 13, 42, 41, 17,  8, 12, 12,  6, 22],\n",
       "       [ 6, 18,  7, 11, 12, 23, 46, 18, 29, 12],\n",
       "       [43, 10, 36, 48, 13, 42, 12, 40, 45, 46]])"
      ]
     },
     "execution_count": 2,
     "metadata": {},
     "output_type": "execute_result"
    }
   ],
   "source": [
    "array = np.random.randint(1, 50, (10, 10), dtype=np.int64); array"
   ]
  },
  {
   "cell_type": "code",
   "execution_count": 4,
   "id": "13ff0bd8",
   "metadata": {
    "slideshow": {
     "slide_type": "slide"
    }
   },
   "outputs": [
    {
     "name": "stdout",
     "output_type": "stream",
     "text": [
      "Минимум всего массива: 2\n",
      "Максимум всего массива: 49\n",
      "Разница всего массива: 47\n"
     ]
    }
   ],
   "source": [
    "print(\"Минимум всего массива:\", array.min())\n",
    "print(\"Максимум всего массива:\", np.max(array))\n",
    "print(\"Разница всего массива:\", array.max() - array.min())"
   ]
  },
  {
   "cell_type": "code",
   "execution_count": 8,
   "id": "7761c261",
   "metadata": {
    "slideshow": {
     "slide_type": "slide"
    }
   },
   "outputs": [
    {
     "name": "stdout",
     "output_type": "stream",
     "text": [
      "Разница в строках: [28 41 46 44 38 37 41 36 40 38]\n"
     ]
    },
    {
     "data": {
      "text/plain": [
       "28"
      ]
     },
     "execution_count": 8,
     "metadata": {},
     "output_type": "execute_result"
    },
    {
     "data": {
      "text/plain": [
       "38"
      ]
     },
     "execution_count": 8,
     "metadata": {},
     "output_type": "execute_result"
    }
   ],
   "source": [
    "max_rows = array.max(axis=1)\n",
    "min_rows = array.min(axis=1)\n",
    "difference_line = max_rows - min_rows\n",
    "print('Разница в строках:', difference_rows)\n",
    "array[0, :].max() - array[0, :].min()\n",
    "array[-1, :].max() - array[-1, :].min()"
   ]
  },
  {
   "cell_type": "code",
   "execution_count": 12,
   "id": "8e6e0836",
   "metadata": {
    "slideshow": {
     "slide_type": "slide"
    }
   },
   "outputs": [
    {
     "name": "stdout",
     "output_type": "stream",
     "text": [
      "Разница в столбцах: [39 30 39 46 46 46 47 29 42 39]\n"
     ]
    },
    {
     "data": {
      "text/plain": [
       "39"
      ]
     },
     "execution_count": 12,
     "metadata": {},
     "output_type": "execute_result"
    },
    {
     "data": {
      "text/plain": [
       "42"
      ]
     },
     "execution_count": 12,
     "metadata": {},
     "output_type": "execute_result"
    }
   ],
   "source": [
    "max_columns = array.max(axis=0)\n",
    "min_columns = array.min(axis=0)\n",
    "difference_columns = max_columns - min_columns\n",
    "print(\"Разница в столбцах:\", difference_columns)\n",
    "array[:, 0].max() - array[:, 0].min()\n",
    "array[:, -2].max() - array[:, -2].min()"
   ]
  },
  {
   "cell_type": "markdown",
   "id": "09ddd5a8",
   "metadata": {
    "slideshow": {
     "slide_type": "slide"
    }
   },
   "source": [
    "### Решение 2:\n",
    "```np.ptp(peak-to-peak)```"
   ]
  },
  {
   "cell_type": "code",
   "execution_count": 13,
   "id": "7c52ad20",
   "metadata": {
    "slideshow": {
     "slide_type": "slide"
    }
   },
   "outputs": [
    {
     "name": "stdout",
     "output_type": "stream",
     "text": [
      "Разница в строках: [28 41 46 44 38 37 41 36 40 38]\n"
     ]
    }
   ],
   "source": [
    "print(\"Разница в строках:\", np.ptp(array, axis=1))"
   ]
  },
  {
   "cell_type": "code",
   "execution_count": 14,
   "id": "c6759021",
   "metadata": {
    "slideshow": {
     "slide_type": "slide"
    }
   },
   "outputs": [
    {
     "name": "stdout",
     "output_type": "stream",
     "text": [
      "Разница в столбцах: [39 30 39 46 46 46 47 29 42 39]\n"
     ]
    }
   ],
   "source": [
    "print(\"Разница в столбцах:\", np.ptp(array, axis=0))"
   ]
  },
  {
   "cell_type": "code",
   "execution_count": null,
   "id": "cc2686d6",
   "metadata": {
    "slideshow": {
     "slide_type": "slide"
    }
   },
   "outputs": [],
   "source": []
  }
 ],
 "metadata": {
  "celltoolbar": "Слайд-шоу",
  "kernelspec": {
   "display_name": "Python 3 (ipykernel)",
   "language": "python",
   "name": "python3"
  },
  "language_info": {
   "codemirror_mode": {
    "name": "ipython",
    "version": 3
   },
   "file_extension": ".py",
   "mimetype": "text/x-python",
   "name": "python",
   "nbconvert_exporter": "python",
   "pygments_lexer": "ipython3",
   "version": "3.11.11"
  }
 },
 "nbformat": 4,
 "nbformat_minor": 5
}
