{
 "cells": [
  {
   "cell_type": "markdown",
   "id": "1ae2b30e",
   "metadata": {
    "slideshow": {
     "slide_type": "slide"
    }
   },
   "source": [
    "### Практика 2.\n",
    "#### Задача 1\n",
    "Создать функцию с аргументами N и M(размеры матрицы) и\n",
    "вывести эту матрицу с 0 внутри и 1 на границах.  \n",
    "1. Решить задачу с помощью слайсов.\n",
    "2. Решить задачу двумя способами и оценить время работы алгоритмов на матрице 100_000 x 100_000."
   ]
  },
  {
   "cell_type": "code",
   "execution_count": 1,
   "id": "cc879048",
   "metadata": {
    "slideshow": {
     "slide_type": "slide"
    }
   },
   "outputs": [],
   "source": [
    "import numpy as np"
   ]
  },
  {
   "cell_type": "code",
   "execution_count": 2,
   "id": "4b22d258",
   "metadata": {
    "slideshow": {
     "slide_type": "slide"
    }
   },
   "outputs": [],
   "source": [
    "N = M = 100_000"
   ]
  },
  {
   "cell_type": "code",
   "execution_count": 6,
   "id": "8146d6bb",
   "metadata": {
    "slideshow": {
     "slide_type": "slide"
    }
   },
   "outputs": [],
   "source": [
    "def matrix_one(m, n):\n",
    "    \"\"\" Создаем матрицу из нулей и \n",
    "        заполняем ее единицами по краю\"\"\"\n",
    "    arr = np.zeros((m, n), dtype=np.byte)  # np.int8, np.uint8\n",
    "    arr[:, 0] = arr[0, :] = arr[-1, :] = arr[:, -1] = 1\n",
    "    return arr"
   ]
  },
  {
   "cell_type": "code",
   "execution_count": 5,
   "id": "8ef42c3c-c483-408c-bbfb-6dc2c511e822",
   "metadata": {
    "slideshow": {
     "slide_type": "slide"
    }
   },
   "outputs": [],
   "source": [
    "def matrix_two(m, n):\n",
    "    \"\"\" Создаем матрицу из единиц и\n",
    "        заполняем ее нулями\"\"\"\n",
    "    arr = np.ones((m, n), dtype=np.int8)\n",
    "    arr[1:-1, 1:-1] = 0\n",
    "    return arr"
   ]
  },
  {
   "cell_type": "code",
   "execution_count": null,
   "id": "a7a111ef-363d-4beb-a3a5-bc24bdbc6661",
   "metadata": {
    "slideshow": {
     "slide_type": "slide"
    }
   },
   "outputs": [],
   "source": [
    "%timeit res_one = matrix_one(N, M)"
   ]
  },
  {
   "cell_type": "code",
   "execution_count": 7,
   "id": "5ceab96d-9500-46e8-91ad-75bc84a4ce3d",
   "metadata": {
    "slideshow": {
     "slide_type": "slide"
    }
   },
   "outputs": [
    {
     "name": "stdout",
     "output_type": "stream",
     "text": [
      "CPU times: total: 5.12 s\n",
      "Wall time: 6.72 s\n"
     ]
    }
   ],
   "source": [
    "%time res_two = matrix_two(N, M)"
   ]
  },
  {
   "cell_type": "code",
   "execution_count": 3,
   "id": "bd88c7d7",
   "metadata": {
    "slideshow": {
     "slide_type": "slide"
    }
   },
   "outputs": [],
   "source": [
    "def matrix_three(m: int, n: int):\n",
    "    \"\"\"Матрица размера m*n из нолей\"\"\"\n",
    "    mas = np.zeros((m, n), dtype='int8') # np.int8\n",
    "    mas[0, :] = 1\n",
    "    mas[:, 0] = 1\n",
    "    mas[-1, :] = 1\n",
    "    mas[:, -1] = 1\n",
    "    return mas"
   ]
  },
  {
   "cell_type": "code",
   "execution_count": 4,
   "id": "d0db318d",
   "metadata": {
    "slideshow": {
     "slide_type": "slide"
    }
   },
   "outputs": [
    {
     "name": "stdout",
     "output_type": "stream",
     "text": [
      "409 ms ± 18.1 ms per loop (mean ± std. dev. of 7 runs, 10 loops each)\n"
     ]
    }
   ],
   "source": [
    "%timeit res_three = matrix_three(N, M)"
   ]
  },
  {
   "cell_type": "markdown",
   "id": "a71ceb92",
   "metadata": {
    "slideshow": {
     "slide_type": "slide"
    }
   },
   "source": [
    "### Важное дополнение"
   ]
  },
  {
   "cell_type": "code",
   "execution_count": 8,
   "id": "9cced21f",
   "metadata": {
    "slideshow": {
     "slide_type": "slide"
    }
   },
   "outputs": [],
   "source": [
    "def matrix_one_improve(array):\n",
    "    array[:, 0] = array[0, :] = array[-1, :] = array[:, -1] = 1\n",
    "    return array"
   ]
  },
  {
   "cell_type": "code",
   "execution_count": 9,
   "id": "d4caed8b",
   "metadata": {
    "slideshow": {
     "slide_type": "slide"
    }
   },
   "outputs": [],
   "source": [
    "matrix = np.zeros((M, N), dtype=np.byte)"
   ]
  },
  {
   "cell_type": "code",
   "execution_count": 10,
   "id": "5944ce61",
   "metadata": {
    "slideshow": {
     "slide_type": "slide"
    }
   },
   "outputs": [
    {
     "name": "stdout",
     "output_type": "stream",
     "text": [
      "10.7 ms ± 698 μs per loop (mean ± std. dev. of 7 runs, 100 loops each)\n"
     ]
    }
   ],
   "source": [
    "%timeit res_four = matrix_one_improve(matrix)"
   ]
  },
  {
   "cell_type": "code",
   "execution_count": 11,
   "id": "8f5b6ea0",
   "metadata": {
    "slideshow": {
     "slide_type": "slide"
    }
   },
   "outputs": [],
   "source": [
    "def matrix_two_improve(array):\n",
    "    array[1:-1, 1:-1] = 0\n",
    "    return array"
   ]
  },
  {
   "cell_type": "code",
   "execution_count": 12,
   "id": "d1d6ef6e",
   "metadata": {
    "slideshow": {
     "slide_type": "slide"
    }
   },
   "outputs": [],
   "source": [
    "array_two = np.ones((M, N), dtype=np.int8)"
   ]
  },
  {
   "cell_type": "code",
   "execution_count": 13,
   "id": "07f741cd",
   "metadata": {
    "slideshow": {
     "slide_type": "slide"
    }
   },
   "outputs": [
    {
     "name": "stdout",
     "output_type": "stream",
     "text": [
      "856 ms ± 23.5 ms per loop (mean ± std. dev. of 7 runs, 1 loop each)\n"
     ]
    }
   ],
   "source": [
    "%timeit res_five = matrix_two_improve(array_two)"
   ]
  },
  {
   "cell_type": "markdown",
   "id": "afec57f9",
   "metadata": {
    "slideshow": {
     "slide_type": "slide"
    }
   },
   "source": [
    "### Очистка памяти"
   ]
  },
  {
   "cell_type": "code",
   "execution_count": 14,
   "id": "f4bb4c48",
   "metadata": {
    "slideshow": {
     "slide_type": "slide"
    }
   },
   "outputs": [],
   "source": [
    "import gc"
   ]
  },
  {
   "cell_type": "code",
   "execution_count": 15,
   "id": "7e8af687",
   "metadata": {
    "slideshow": {
     "slide_type": "slide"
    }
   },
   "outputs": [
    {
     "data": {
      "text/plain": [
       "34"
      ]
     },
     "execution_count": 15,
     "metadata": {},
     "output_type": "execute_result"
    }
   ],
   "source": [
    "gc.collect()  # Очистка памяти"
   ]
  },
  {
   "cell_type": "code",
   "execution_count": null,
   "id": "165205c1",
   "metadata": {
    "slideshow": {
     "slide_type": "slide"
    }
   },
   "outputs": [],
   "source": []
  }
 ],
 "metadata": {
  "celltoolbar": "Слайд-шоу",
  "kernelspec": {
   "display_name": "Python 3 (ipykernel)",
   "language": "python",
   "name": "python3"
  },
  "language_info": {
   "codemirror_mode": {
    "name": "ipython",
    "version": 3
   },
   "file_extension": ".py",
   "mimetype": "text/x-python",
   "name": "python",
   "nbconvert_exporter": "python",
   "pygments_lexer": "ipython3",
   "version": "3.11.11"
  }
 },
 "nbformat": 4,
 "nbformat_minor": 5
}
