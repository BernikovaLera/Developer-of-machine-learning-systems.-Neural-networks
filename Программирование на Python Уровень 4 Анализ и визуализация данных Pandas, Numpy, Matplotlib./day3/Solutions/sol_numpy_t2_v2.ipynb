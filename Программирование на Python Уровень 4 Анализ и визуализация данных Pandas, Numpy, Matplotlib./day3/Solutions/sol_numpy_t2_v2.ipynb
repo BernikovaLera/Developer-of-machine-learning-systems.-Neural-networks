{
 "cells": [
  {
   "cell_type": "markdown",
   "id": "1ae2b30e",
   "metadata": {},
   "source": [
    "### Практика 2.\n",
    "#### Задача 1\n",
    "Создать функцию с аргументами N и M(размеры матрицы) и\n",
    "вывести эту матрицу с 0 внутри и 1 на границах.  \n",
    "* Решить задачу с помощью слайсов.\n",
    "* $*$ Решить задачу двумя способами и оценить время работы алгоритмов на матрице 100_000 x 100_000."
   ]
  },
  {
   "cell_type": "code",
   "execution_count": 1,
   "id": "8146d6bb",
   "metadata": {},
   "outputs": [],
   "source": [
    "import numpy as np"
   ]
  },
  {
   "cell_type": "code",
   "execution_count": 2,
   "id": "bc020730-fb57-480b-b8ad-fdce6b2d6734",
   "metadata": {},
   "outputs": [],
   "source": [
    "def getm(N,M):\n",
    "    mt = np.ones((N, M),dtype=\"int8\")\n",
    "    mt[1:-1,1:-1] = 0\n",
    "    return mt"
   ]
  },
  {
   "cell_type": "code",
   "execution_count": 3,
   "id": "5daa3064-63ea-4e1c-92e9-b79a40246552",
   "metadata": {},
   "outputs": [
    {
     "name": "stdout",
     "output_type": "stream",
     "text": [
      "9.26 s ± 1.36 s per loop (mean ± std. dev. of 7 runs, 1 loop each)\n"
     ]
    }
   ],
   "source": [
    "%time res1 = getm(100_000,100_000)"
   ]
  },
  {
   "cell_type": "code",
   "execution_count": 4,
   "id": "60191aeb-9491-4028-b242-2f37afb3db82",
   "metadata": {},
   "outputs": [],
   "source": [
    "def getm2(N,M):\n",
    "    mt2 = np.zeros((N, M), dtype=\"i1\") # np.int8\n",
    "    mt2[0:, [0, -1]] = 1\n",
    "    mt2[[0, -1], :] = 1 \n",
    "    return mt2"
   ]
  },
  {
   "cell_type": "code",
   "execution_count": 5,
   "id": "b2e608bd-67d1-4bff-903a-fd7e9d498496",
   "metadata": {},
   "outputs": [
    {
     "name": "stdout",
     "output_type": "stream",
     "text": [
      "464 ms ± 40.1 ms per loop (mean ± std. dev. of 7 runs, 1 loop each)\n"
     ]
    }
   ],
   "source": [
    "%%timeit\n",
    "getm2(100_000,100_000)"
   ]
  }
 ],
 "metadata": {
  "kernelspec": {
   "display_name": "Python 3 (ipykernel)",
   "language": "python",
   "name": "python3"
  },
  "language_info": {
   "codemirror_mode": {
    "name": "ipython",
    "version": 3
   },
   "file_extension": ".py",
   "mimetype": "text/x-python",
   "name": "python",
   "nbconvert_exporter": "python",
   "pygments_lexer": "ipython3",
   "version": "3.11.11"
  }
 },
 "nbformat": 4,
 "nbformat_minor": 5
}
