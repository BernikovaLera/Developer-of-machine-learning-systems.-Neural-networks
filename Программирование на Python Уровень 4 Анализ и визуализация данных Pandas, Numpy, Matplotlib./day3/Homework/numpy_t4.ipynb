{
  "cells": [
    {
      "cell_type": "code",
      "execution_count": 2,
      "metadata": {
        "id": "-LmDu1kDp0IS"
      },
      "outputs": [],
      "source": [
        "# 1. Импортировать NumPy\n",
        "import numpy as np"
      ]
    },
    {
      "cell_type": "markdown",
      "metadata": {
        "id": "ldLBSky5p0IU"
      },
      "source": [
        "#### Задача 1\n",
        "\n",
        "**1.1** Создать массив 10 x 10 со случайными значениями от 1 до 100(int64)\n",
        "\n",
        "**1.2** Вычислить среднее значение всех элементов массива с помощью `np.mean()`\n",
        "\n",
        "**1.3** Вычислить среднее значение всех элементов для каждой строки с помощью `np.mean()` и добавить как новый столбец\n",
        "\n",
        "**1.4** Вычислить сумму значений всех элементов для каждого столбца с помощью `np.sum()`и добавить как новую строку, учитывая результат пункта `1.3`"
      ]
    },
    {
      "cell_type": "code",
      "execution_count": 44,
      "metadata": {
        "colab": {
          "base_uri": "https://localhost:8080/"
        },
        "id": "tm3yyTqGp0IV",
        "outputId": "df21d67b-1ecb-4acb-9c3b-8fc1518615ac"
      },
      "outputs": [
        {
          "output_type": "stream",
          "name": "stdout",
          "text": [
            "1.1 Исходный массив 10x10:\n",
            "[[ 76  26  16  51  86  57  29  78  92  69]\n",
            " [ 47  94  62  69  76  16  90  90  48  85]\n",
            " [ 39 100  33  94  23  10  69 100  34  52]\n",
            " [ 95  10  19  58  96   1  69   4  16  24]\n",
            " [ 80   2  92  32  91  84  24  12  50  35]\n",
            " [ 33  33  61  51  43  12  67  65  33  40]\n",
            " [ 74  43  44  29  13  12  95  46   2  35]\n",
            " [ 87  81  90   8  93  26  74  90  34   7]\n",
            " [ 68  58  75  29  36  89  21  36  10  73]\n",
            " [ 24  64  99  49  99  36  82  96  24  23]]\n",
            "\n",
            "==================================================\n",
            "\n"
          ]
        }
      ],
      "source": [
        "# Ваш код\n",
        "# 1.1 Создать массив 10 x 10 со случайными значениями от 1 до 100(int64)\n",
        "#np.random.seed(42)  # для воспроизводимости результатов\n",
        "array = np.random.randint(1, 101, size=(10, 10), dtype=np.int64)\n",
        "\n",
        "print(\"1.1 Исходный массив 10x10:\")\n",
        "print(array)\n",
        "print(\"\\n\" + \"=\"*50 + \"\\n\")"
      ]
    },
    {
      "cell_type": "code",
      "source": [
        "# 1.2 Вычислить среднее значение всех элементов массива\n",
        "total_mean = np.mean(array)\n",
        "print(f\"1.2 Среднее значение всех элементов: {total_mean:.2f}\")\n",
        "print(\"\\n\" + \"=\"*50 + \"\\n\")"
      ],
      "metadata": {
        "colab": {
          "base_uri": "https://localhost:8080/"
        },
        "id": "Oixjvf9dsdhX",
        "outputId": "ececef40-0dc7-4803-fab2-00af0ab16f47"
      },
      "execution_count": 48,
      "outputs": [
        {
          "output_type": "stream",
          "name": "stdout",
          "text": [
            "1.2 Среднее значение всех элементов: 52.17\n",
            "\n",
            "==================================================\n",
            "\n"
          ]
        }
      ]
    },
    {
      "cell_type": "code",
      "source": [
        "# 1.3 Вычислить среднее значение для каждой строки и добавить как новый столбец\n",
        "row_means = np.mean(array, axis=1, keepdims=True)\n",
        "array_with_row_means = np.hstack((array, row_means))\n",
        "\n",
        "print(\"1.3 Массив с добавленным столбцом средних значений строк:\")\n",
        "# Форматированный вывод с заголовками столбцов\n",
        "print(\"Столбцы 1-10\".ljust(12), \"Среднее\".ljust(10))\n",
        "for i, row in enumerate(array_with_row_means, 1):\n",
        "    cols = \" \".join(f\"{x:3}\" for x in row[:-1])\n",
        "    mean = f\"{row[-1]:6.2f}\"\n",
        "    print(f\"Строка {i:2}: {cols} | {mean}\")\n",
        "print(\"\\n\" + \"=\"*50 + \"\\n\")"
      ],
      "metadata": {
        "colab": {
          "base_uri": "https://localhost:8080/"
        },
        "id": "0FC4R27WshMq",
        "outputId": "621e7583-676e-438d-e0cf-b93c3e794391"
      },
      "execution_count": 49,
      "outputs": [
        {
          "output_type": "stream",
          "name": "stdout",
          "text": [
            "1.3 Массив с добавленным столбцом средних значений строк:\n",
            "Столбцы 1-10 Среднее   \n",
            "Строка  1: 76.0 26.0 16.0 51.0 86.0 57.0 29.0 78.0 92.0 69.0 |  58.00\n",
            "Строка  2: 47.0 94.0 62.0 69.0 76.0 16.0 90.0 90.0 48.0 85.0 |  67.70\n",
            "Строка  3: 39.0 100.0 33.0 94.0 23.0 10.0 69.0 100.0 34.0 52.0 |  55.40\n",
            "Строка  4: 95.0 10.0 19.0 58.0 96.0 1.0 69.0 4.0 16.0 24.0 |  39.20\n",
            "Строка  5: 80.0 2.0 92.0 32.0 91.0 84.0 24.0 12.0 50.0 35.0 |  50.20\n",
            "Строка  6: 33.0 33.0 61.0 51.0 43.0 12.0 67.0 65.0 33.0 40.0 |  43.80\n",
            "Строка  7: 74.0 43.0 44.0 29.0 13.0 12.0 95.0 46.0 2.0 35.0 |  39.30\n",
            "Строка  8: 87.0 81.0 90.0 8.0 93.0 26.0 74.0 90.0 34.0 7.0 |  59.00\n",
            "Строка  9: 68.0 58.0 75.0 29.0 36.0 89.0 21.0 36.0 10.0 73.0 |  49.50\n",
            "Строка 10: 24.0 64.0 99.0 49.0 99.0 36.0 82.0 96.0 24.0 23.0 |  59.60\n",
            "\n",
            "==================================================\n",
            "\n"
          ]
        }
      ]
    },
    {
      "cell_type": "code",
      "source": [
        "# 1.4 Вычислить сумму значений для каждого столбца и добавить как новую строку\n",
        "column_sums = np.sum(array_with_row_means, axis=0, keepdims=True)\n",
        "final_array = np.vstack((array_with_row_means, column_sums))\n",
        "\n",
        "print(\"1.4 Итоговый массив с суммами столбцов в последней строке:\")\n",
        "# Форматированный вывод с заголовками\n",
        "header = \" \".join(f\"Col{i:2}\" for i in range(1, 11)) + \"  Mean\"\n",
        "print(header)\n",
        "print(\"-\"*len(header))\n",
        "\n",
        "for i, row in enumerate(final_array[:-1], 1):\n",
        "    print(f\"Row{i:2} \" + \" \".join(f\"{x:4}\" for x in row))\n",
        "\n",
        "print(\"-\"*len(header))\n",
        "print(\"Sum  \" + \" \".join(f\"{int(x):4}\" for x in final_array[-1]))"
      ],
      "metadata": {
        "colab": {
          "base_uri": "https://localhost:8080/"
        },
        "id": "pa93caHmsyeU",
        "outputId": "c3be4907-2cc1-441b-a3c7-3e95870e7a8d"
      },
      "execution_count": 50,
      "outputs": [
        {
          "output_type": "stream",
          "name": "stdout",
          "text": [
            "1.4 Итоговый массив с суммами столбцов в последней строке:\n",
            "Col 1 Col 2 Col 3 Col 4 Col 5 Col 6 Col 7 Col 8 Col 9 Col10  Mean\n",
            "-----------------------------------------------------------------\n",
            "Row 1 76.0 26.0 16.0 51.0 86.0 57.0 29.0 78.0 92.0 69.0 58.0\n",
            "Row 2 47.0 94.0 62.0 69.0 76.0 16.0 90.0 90.0 48.0 85.0 67.7\n",
            "Row 3 39.0 100.0 33.0 94.0 23.0 10.0 69.0 100.0 34.0 52.0 55.4\n",
            "Row 4 95.0 10.0 19.0 58.0 96.0  1.0 69.0  4.0 16.0 24.0 39.2\n",
            "Row 5 80.0  2.0 92.0 32.0 91.0 84.0 24.0 12.0 50.0 35.0 50.2\n",
            "Row 6 33.0 33.0 61.0 51.0 43.0 12.0 67.0 65.0 33.0 40.0 43.8\n",
            "Row 7 74.0 43.0 44.0 29.0 13.0 12.0 95.0 46.0  2.0 35.0 39.3\n",
            "Row 8 87.0 81.0 90.0  8.0 93.0 26.0 74.0 90.0 34.0  7.0 59.0\n",
            "Row 9 68.0 58.0 75.0 29.0 36.0 89.0 21.0 36.0 10.0 73.0 49.5\n",
            "Row10 24.0 64.0 99.0 49.0 99.0 36.0 82.0 96.0 24.0 23.0 59.6\n",
            "-----------------------------------------------------------------\n",
            "Sum   623  511  591  470  656  343  620  617  343  443  521\n"
          ]
        }
      ]
    },
    {
      "cell_type": "markdown",
      "metadata": {
        "id": "9dpudAGpp0IW"
      },
      "source": [
        "#### Задача 2\n",
        "**2.1** Создать матрицу 7x7 с значениями `1,2,3,4,5,6,7` по главной диагонали, остальные нули.\n",
        "Два варианта решения: с помощью функции `np.diag()` и без(используя _broadcasting_)."
      ]
    },
    {
      "cell_type": "code",
      "execution_count": 52,
      "metadata": {
        "colab": {
          "base_uri": "https://localhost:8080/"
        },
        "id": "7sZLxtyqp0IW",
        "outputId": "e475800d-8651-4d60-aac3-9b7cf7652b31"
      },
      "outputs": [
        {
          "output_type": "stream",
          "name": "stdout",
          "text": [
            "Вариант 1 (с np.diag()):\n",
            "[[1 0 0 0 0 0 0]\n",
            " [0 2 0 0 0 0 0]\n",
            " [0 0 3 0 0 0 0]\n",
            " [0 0 0 4 0 0 0]\n",
            " [0 0 0 0 5 0 0]\n",
            " [0 0 0 0 0 6 0]\n",
            " [0 0 0 0 0 0 7]]\n"
          ]
        }
      ],
      "source": [
        "# Ваш код\n",
        "diagonal_values = np.array([1, 2, 3, 4, 5, 6, 7])\n",
        "matrix_diag = np.diag(diagonal_values)\n",
        "\n",
        "print(\"Вариант 1 (с np.diag()):\")\n",
        "print(matrix_diag)\n"
      ]
    },
    {
      "cell_type": "code",
      "source": [
        "rows, cols = np.indices((7, 7))\n",
        "matrix_broadcast = np.where(rows == cols, rows + 1, 0)  # rows+1 дает значения 1-7\n",
        "\n",
        "print(\"\\nВариант 2 (с broadcasting):\")\n",
        "print(matrix_broadcast)"
      ],
      "metadata": {
        "colab": {
          "base_uri": "https://localhost:8080/"
        },
        "id": "ZRqiUYosvGYi",
        "outputId": "4d843d1a-5b64-4d48-a2cf-4342ff041cd1"
      },
      "execution_count": 53,
      "outputs": [
        {
          "output_type": "stream",
          "name": "stdout",
          "text": [
            "\n",
            "Вариант 2 (с broadcasting):\n",
            "[[1 0 0 0 0 0 0]\n",
            " [0 2 0 0 0 0 0]\n",
            " [0 0 3 0 0 0 0]\n",
            " [0 0 0 4 0 0 0]\n",
            " [0 0 0 0 5 0 0]\n",
            " [0 0 0 0 0 6 0]\n",
            " [0 0 0 0 0 0 7]]\n"
          ]
        }
      ]
    },
    {
      "cell_type": "markdown",
      "metadata": {
        "id": "9ZpB115Fp0IW"
      },
      "source": [
        "#### Задача 3\n",
        "\n",
        "**3.1** Создать случайную матрицу 5x7 целых чисел от 1 до 100 и поменять местами 3-ю (индекс 2) и 5-ю (индекс 4) колонки"
      ]
    },
    {
      "cell_type": "code",
      "execution_count": 55,
      "metadata": {
        "colab": {
          "base_uri": "https://localhost:8080/"
        },
        "id": "3O_c1u3Op0IX",
        "outputId": "c902f865-2eb7-4b73-ca7c-da6b72fc553a"
      },
      "outputs": [
        {
          "output_type": "stream",
          "name": "stdout",
          "text": [
            "Исходная матрица:\n",
            "[[ 25  52  85 100  53  23  16]\n",
            " [ 57  39  53  42  58  39  14]\n",
            " [ 95   5  35  87  93  75  18]\n",
            " [ 76   9  74  58  17   7  46]\n",
            " [ 13  40  42   9  50  27  66]]\n",
            "\n",
            "Матрица после замены колонок:\n",
            "[[ 25  52  53 100  85  23  16]\n",
            " [ 57  39  58  42  53  39  14]\n",
            " [ 95   5  93  87  35  75  18]\n",
            " [ 76   9  17  58  74   7  46]\n",
            " [ 13  40  50   9  42  27  66]]\n"
          ]
        }
      ],
      "source": [
        "# Ваш код\n",
        "# Создаем случайную матрицу 5x7 с целыми числами от 1 до 100\n",
        "matrix = np.random.randint(1, 101, size=(5, 7))\n",
        "\n",
        "print(\"Исходная матрица:\")\n",
        "print(matrix)\n",
        "\n",
        "# Меняем местами 3-ю (индекс 2) и 5-ю (индекс 4) колонки\n",
        "matrix[:, [2, 4]] = matrix[:, [4, 2]]\n",
        "\n",
        "print(\"\\nМатрица после замены колонок:\")\n",
        "print(matrix)"
      ]
    }
  ],
  "metadata": {
    "kernelspec": {
      "display_name": "Python 3 (ipykernel)",
      "language": "python",
      "name": "python3"
    },
    "language_info": {
      "codemirror_mode": {
        "name": "ipython",
        "version": 3
      },
      "file_extension": ".py",
      "mimetype": "text/x-python",
      "name": "python",
      "nbconvert_exporter": "python",
      "pygments_lexer": "ipython3",
      "version": "3.11.11"
    },
    "colab": {
      "provenance": []
    }
  },
  "nbformat": 4,
  "nbformat_minor": 0
}