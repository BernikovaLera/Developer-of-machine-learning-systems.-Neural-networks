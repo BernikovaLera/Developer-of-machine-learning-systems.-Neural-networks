{
 "cells": [
  {
   "cell_type": "markdown",
   "metadata": {},
   "source": [
    "# Курс \"Программирование на языке Python. Уровень 4. Анализ и визуализация данных на языке Python. Библиотеки numpy, pandas, matplotlib\"\n",
    "\n",
    "Если вы читаете эти строки, значит вы успешно установили и запустили Jupyter Notebook.\n",
    "\n",
    "##  Особенности работы в Jupyter Notebook\n",
    "\n",
    "1. Код пишется в \"ячейках\" ```In []:```, результат исполнения - в \"ячейках\" ```Out []:```.\n",
    "2. Stack Trace тоже отображается в ячейках ```Out []:```.\n",
    "2. Цифра в квадратных скобках - порядковый номер исполнения данного фрагмента кода.\n",
    "2. Запуск кода: ```Shift - Enter``` - с переходом в следующую \"ячейкy\", ```Ctrl - Enter``` - без оного.\n",
    "3. Все переменные, объявленные в \"ячейке\" становятся видимыми внутри всей тетрадки.\n",
    "4. Все переменные, объявленные в тетрадке, видимы только внутри нее и не влияют на другие открытые тетрадки.\n",
    "\n",
    "### Если \"Что-то пошло не так...\"\n",
    "\n",
    "1. ```Ctrl - C``` прервет выполнение кода исключением ```KeyboardInterrupt```\n",
    "1. Если это не помогает - надо перезапустить ядро (меню Kernel / Restart), и потом последовательно выполнить все предыдущие \"клетки\".\n",
    "2. Если и это не помогает - снимите процесс python.\n",
    "\n",
    "\n",
    "### Синтаксис Python в Jupyter Notebook\n",
    "\n",
    "1. Есть подсветка синтаксиса.\n",
    "2. Отступы проставляются автоматически, можно использовать tab.\n",
    "3. По нажатию tab - автозаполнение.\n",
    "4. Символ \"?\", указанный до или после переменной, открывает окно с информацией о ней (будь это просто переменная или функция).\n",
    "5. Закомментировать строку можно сочетанием клавиш ```Ctrl - /```.\n"
   ]
  },
  {
   "cell_type": "code",
   "execution_count": null,
   "metadata": {},
   "outputs": [],
   "source": [
    "b = [1, 2, 3]\n",
    "b"
   ]
  },
  {
   "cell_type": "code",
   "execution_count": null,
   "metadata": {},
   "outputs": [],
   "source": [
    "s1 = 'python'\n",
    "s = 'Hello'\n",
    "print(s1)\n",
    "s"
   ]
  },
  {
   "cell_type": "code",
   "execution_count": null,
   "metadata": {
    "scrolled": true
   },
   "outputs": [],
   "source": [
    "print(s); b"
   ]
  },
  {
   "cell_type": "code",
   "execution_count": null,
   "metadata": {
    "scrolled": true
   },
   "outputs": [],
   "source": [
    "print(b)"
   ]
  },
  {
   "cell_type": "code",
   "execution_count": null,
   "metadata": {},
   "outputs": [],
   "source": [
    "?b"
   ]
  },
  {
   "cell_type": "code",
   "execution_count": null,
   "metadata": {},
   "outputs": [],
   "source": [
    "'1' + str(1)"
   ]
  },
  {
   "cell_type": "code",
   "execution_count": null,
   "metadata": {},
   "outputs": [],
   "source": [
    "'hello' * 3 # "
   ]
  },
  {
   "cell_type": "code",
   "execution_count": null,
   "metadata": {},
   "outputs": [],
   "source": [
    "(-3) * 'hello' # Вспомнить всё и проверить"
   ]
  },
  {
   "cell_type": "code",
   "execution_count": null,
   "metadata": {
    "scrolled": true
   },
   "outputs": [],
   "source": [
    "# Подсказка типов (type hinting)\n",
    "def mul_numbers(a: float, b: float) -> float:\n",
    "    \"\"\" Функция умножает два числа \"\"\"\n",
    "    return a * b"
   ]
  },
  {
   "cell_type": "code",
   "execution_count": null,
   "metadata": {
    "scrolled": true
   },
   "outputs": [],
   "source": [
    "mul_numbers?"
   ]
  },
  {
   "cell_type": "code",
   "execution_count": null,
   "metadata": {
    "scrolled": true
   },
   "outputs": [],
   "source": [
    "mul_numbers(2, 9)"
   ]
  },
  {
   "cell_type": "code",
   "execution_count": null,
   "metadata": {},
   "outputs": [],
   "source": [
    "mul_numbers('2', '9')"
   ]
  },
  {
   "cell_type": "code",
   "execution_count": null,
   "metadata": {
    "scrolled": true
   },
   "outputs": [],
   "source": [
    "# два знака вопроса откроют окно с исходным кодом\n",
    "mul_numbers??"
   ]
  },
  {
   "cell_type": "code",
   "execution_count": null,
   "metadata": {},
   "outputs": [],
   "source": [
    "import math"
   ]
  },
  {
   "cell_type": "code",
   "execution_count": null,
   "metadata": {
    "scrolled": true
   },
   "outputs": [],
   "source": [
    "math.sin??  "
   ]
  },
  {
   "cell_type": "code",
   "execution_count": null,
   "metadata": {},
   "outputs": [],
   "source": [
    "# Можно посмотреть исходный код любой функции или класса с помощью <??>\n",
    "import random as rnd\n",
    "rnd.randrange??"
   ]
  },
  {
   "cell_type": "code",
   "execution_count": null,
   "metadata": {
    "scrolled": true
   },
   "outputs": [],
   "source": [
    "'hello'.upper()"
   ]
  },
  {
   "cell_type": "code",
   "execution_count": null,
   "metadata": {},
   "outputs": [],
   "source": [
    "lsmagic"
   ]
  },
  {
   "cell_type": "code",
   "execution_count": null,
   "metadata": {},
   "outputs": [],
   "source": [
    "pwd"
   ]
  },
  {
   "cell_type": "markdown",
   "metadata": {},
   "source": [
    "### \"Волшебные команды\"\n",
    "\n",
    "#### Профайлинг и отладка\n",
    "\n",
    "- ```%time``` - показывает время выполнения строки кода\n",
    "- ```%%time``` - показывает время выполнения ячейки кода"
   ]
  },
  {
   "cell_type": "code",
   "execution_count": null,
   "metadata": {},
   "outputs": [],
   "source": [
    "# it's pythonic way. Change for i in range(len('hello')): ...\n",
    "for index, value in enumerate('hello'):\n",
    "    print(index, value)"
   ]
  },
  {
   "cell_type": "code",
   "execution_count": null,
   "metadata": {
    "scrolled": true
   },
   "outputs": [],
   "source": [
    "enum = enumerate('hello')\n",
    "print(enum)\n",
    "print(next(enum))  # (0, 'h')\n",
    "print(next(enum))  # (1, 'e')\n",
    "for item in enum:\n",
    "    print(item)  # (2, 'l'), (3, 'l'),(4, 'o')\n",
    "next(enum, \"I'm empty\") # Второй аргумент нужен для того, чтобы не было ошибки"
   ]
  },
  {
   "cell_type": "code",
   "execution_count": null,
   "metadata": {},
   "outputs": [],
   "source": [
    "enum = enumerate('hello')\n",
    "print((1, 'e') in enum) # True\n",
    "print(next(enum)) # (2, 'l')"
   ]
  },
  {
   "cell_type": "code",
   "execution_count": null,
   "metadata": {
    "scrolled": true
   },
   "outputs": [],
   "source": [
    "enum = enumerate('hello')\n",
    "print((1, 'w') in enum) # False\n",
    "print(next(enum)) # error"
   ]
  },
  {
   "cell_type": "code",
   "execution_count": null,
   "metadata": {
    "scrolled": true
   },
   "outputs": [],
   "source": [
    "a, b, c, d, e = 'hello'   # распаковка\n",
    "a"
   ]
  },
  {
   "cell_type": "code",
   "execution_count": null,
   "metadata": {},
   "outputs": [],
   "source": [
    "# s2 всегда список и он может быть пустым\n",
    "s1, *s2, s3 = 'abcde'  # "
   ]
  },
  {
   "cell_type": "code",
   "execution_count": null,
   "metadata": {},
   "outputs": [],
   "source": [
    "print(s1)\n",
    "print(s2)\n",
    "print(s3)"
   ]
  },
  {
   "cell_type": "code",
   "execution_count": null,
   "metadata": {},
   "outputs": [],
   "source": [
    "a1, a1, a1 = 'abc' # work\n",
    "a1"
   ]
  },
  {
   "cell_type": "code",
   "execution_count": null,
   "metadata": {},
   "outputs": [],
   "source": [
    "def func_two(x):\n",
    "    return x * 5"
   ]
  },
  {
   "cell_type": "code",
   "execution_count": null,
   "metadata": {},
   "outputs": [],
   "source": [
    "func_two"
   ]
  },
  {
   "cell_type": "code",
   "execution_count": null,
   "metadata": {},
   "outputs": [],
   "source": [
    "# Анонимные функции (нельзя использовать в теле функции оператор '=')\n",
    "(lambda x: x * 5)(10)  "
   ]
  },
  {
   "cell_type": "code",
   "execution_count": null,
   "metadata": {},
   "outputs": [],
   "source": [
    "func = lambda x: x * 5\n",
    "func(50)"
   ]
  },
  {
   "cell_type": "code",
   "execution_count": null,
   "metadata": {},
   "outputs": [],
   "source": [
    "func"
   ]
  },
  {
   "cell_type": "code",
   "execution_count": null,
   "metadata": {
    "scrolled": true
   },
   "outputs": [],
   "source": [
    "# map как конвейер: применит lambda функцию к каждом элементу последовательности\n",
    "res1, res2 = map(lambda x: x * 5, '4 5'.split())  # \n",
    "res1, res2  # 20, 25(1) vs '44444','55555'(5)"
   ]
  },
  {
   "cell_type": "code",
   "execution_count": null,
   "metadata": {},
   "outputs": [],
   "source": [
    "# map как конвейер: применит функцию func_two к каждом элементу последовательности\n",
    "res1, res2 = map(func_two, '4 5'.split())  # \n",
    "res1, res2   # "
   ]
  },
  {
   "cell_type": "code",
   "execution_count": null,
   "metadata": {},
   "outputs": [],
   "source": [
    "# list comprehension(генератор в списке)\n",
    "lst1 = []\n",
    "for x in range(10):\n",
    "    lst1.append(x ** x)\n",
    "    \n",
    "# Syntax sugar\n",
    "# Что(выражение) Откуда При каких условиях\n",
    "lst2 = [x ** x for x in range(10)]\n",
    "lst1 == lst2"
   ]
  },
  {
   "cell_type": "code",
   "execution_count": 1,
   "metadata": {
    "scrolled": true
   },
   "outputs": [],
   "source": [
    "def sum_exps(number):\n",
    "    return sum(x ** x for x in range(number))\n",
    "\n",
    "def sum_exps_naive(number):\n",
    "    summ = 0\n",
    "    for x in range(number):\n",
    "        poww = x\n",
    "        for y in range(x):\n",
    "            poww *= x\n",
    "        summ += poww\n",
    "    return summ\n"
   ]
  },
  {
   "cell_type": "code",
   "execution_count": 2,
   "metadata": {},
   "outputs": [
    {
     "name": "stdout",
     "output_type": "stream",
     "text": [
      "sum_exps\t sum_exps_naive\t \n"
     ]
    }
   ],
   "source": [
    "# Показывает все переменные, которые созданы на данных момент в этой \"тетрадке\"\n",
    "%who  "
   ]
  },
  {
   "cell_type": "code",
   "execution_count": null,
   "metadata": {},
   "outputs": [],
   "source": [
    "%whos"
   ]
  },
  {
   "cell_type": "code",
   "execution_count": null,
   "metadata": {
    "scrolled": true
   },
   "outputs": [],
   "source": [
    "%time print(\"Hello World\")  # Здесь только одна строка\n",
    "a = sum_exps_naive( 1000 )\n",
    "b = sum_exps( 1000 )"
   ]
  },
  {
   "cell_type": "code",
   "execution_count": null,
   "metadata": {
    "scrolled": true
   },
   "outputs": [],
   "source": [
    "%%time  \n",
    "print(\"Hello World\")\n",
    "a = sum_exps_naive( 1000 )\n",
    "b = sum_exps( 1000 )"
   ]
  },
  {
   "cell_type": "code",
   "execution_count": 4,
   "metadata": {},
   "outputs": [
    {
     "name": "stdout",
     "output_type": "stream",
     "text": [
      "CPU times: total: 141 ms\n",
      "Wall time: 164 ms\n"
     ]
    }
   ],
   "source": [
    "%time a = sum_exps_naive(1000)"
   ]
  },
  {
   "cell_type": "code",
   "execution_count": 3,
   "metadata": {
    "scrolled": true
   },
   "outputs": [
    {
     "name": "stdout",
     "output_type": "stream",
     "text": [
      "CPU times: total: 15.6 ms\n",
      "Wall time: 10.5 ms\n"
     ]
    }
   ],
   "source": [
    "%time b = sum_exps(1000)"
   ]
  },
  {
   "cell_type": "markdown",
   "metadata": {},
   "source": [
    "- ```%timeit``` - выполнить код несколько раз и показать среднее время выполнения кода. Запуск с ```%%``` приведет к \"прокручиванию\" кода всей клетки.\n",
    "\n",
    "Можно задать количество итерациий, запустив эту команду с параметром -nN, где N - количество циклов."
   ]
  },
  {
   "cell_type": "code",
   "execution_count": 5,
   "metadata": {
    "scrolled": true
   },
   "outputs": [
    {
     "name": "stdout",
     "output_type": "stream",
     "text": [
      "28.9 ms ± 120 μs per loop (mean ± std. dev. of 7 runs, 10 loops each)\n"
     ]
    }
   ],
   "source": [
    "%timeit sum_exps(1500)"
   ]
  },
  {
   "cell_type": "code",
   "execution_count": 6,
   "metadata": {
    "scrolled": true
   },
   "outputs": [
    {
     "name": "stdout",
     "output_type": "stream",
     "text": [
      "410 ms ± 14.3 ms per loop (mean ± std. dev. of 5 runs, 2 loops each)\n"
     ]
    }
   ],
   "source": [
    "%timeit -n2 -r5 sum_exps_naive( 1500 )"
   ]
  },
  {
   "cell_type": "markdown",
   "metadata": {},
   "source": [
    "- ```%prun``` - построчный профайлер"
   ]
  },
  {
   "cell_type": "code",
   "execution_count": 9,
   "metadata": {
    "collapsed": true,
    "jupyter": {
     "outputs_hidden": true
    },
    "scrolled": true
   },
   "outputs": [
    {
     "name": "stdout",
     "output_type": "stream",
     "text": [
      " "
     ]
    },
    {
     "data": {
      "text/plain": [
       "         1006 function calls in 0.014 seconds\n",
       "\n",
       "   Ordered by: internal time\n",
       "\n",
       "   ncalls  tottime  percall  cumtime  percall filename:lineno(function)\n",
       "     1001    0.009    0.000    0.009    0.000 1527435000.py:2(<genexpr>)\n",
       "        1    0.004    0.004    0.010    0.010 1527435000.py:1(sum_exps)\n",
       "        1    0.000    0.000    0.006    0.006 {built-in method builtins.sum}\n",
       "        1    0.000    0.000    0.000    0.000 {method 'disable' of '_lsprof.Profiler' objects}\n",
       "        1    0.000    0.000    0.010    0.010 {built-in method builtins.exec}\n",
       "        1    0.000    0.000    0.010    0.010 <string>:1(<module>)"
      ]
     },
     "metadata": {},
     "output_type": "display_data"
    }
   ],
   "source": [
    "%prun sum_exps(1000)"
   ]
  },
  {
   "cell_type": "code",
   "execution_count": 10,
   "metadata": {
    "scrolled": true
   },
   "outputs": [
    {
     "name": "stdout",
     "output_type": "stream",
     "text": [
      "Writing file.py\n"
     ]
    }
   ],
   "source": [
    "%%writefile file.py\n",
    "line = \"hello Jupyter\"\n",
    "print(line[::-1])"
   ]
  },
  {
   "cell_type": "code",
   "execution_count": 14,
   "metadata": {},
   "outputs": [
    {
     "name": "stdout",
     "output_type": "stream",
     "text": [
      "C:\\name\n"
     ]
    }
   ],
   "source": [
    "# Не забываем про '\\n', '\\t' и т.д.\n",
    "path = \"C:\\\\name\"\n",
    "print(path)"
   ]
  },
  {
   "cell_type": "code",
   "execution_count": 16,
   "metadata": {},
   "outputs": [
    {
     "data": {
      "text/plain": [
       "'olh'"
      ]
     },
     "execution_count": 16,
     "metadata": {},
     "output_type": "execute_result"
    }
   ],
   "source": [
    "# Срезы(slices) [start:stop:step]\n",
    "'hello'[::-2]  # "
   ]
  },
  {
   "cell_type": "code",
   "execution_count": 17,
   "metadata": {},
   "outputs": [
    {
     "data": {
      "text/plain": [
       "'hlo'"
      ]
     },
     "execution_count": 17,
     "metadata": {},
     "output_type": "execute_result"
    }
   ],
   "source": [
    "'hello'[::2] #"
   ]
  },
  {
   "cell_type": "code",
   "execution_count": 20,
   "metadata": {
    "scrolled": true
   },
   "outputs": [
    {
     "name": "stdout",
     "output_type": "stream",
     "text": [
      "retypuJ olleh\n"
     ]
    }
   ],
   "source": [
    "# %load file.py\n",
    "line = \"hello Jupyter\"\n",
    "print(line[::-1])\n"
   ]
  },
  {
   "cell_type": "code",
   "execution_count": 21,
   "metadata": {
    "scrolled": true
   },
   "outputs": [
    {
     "name": "stdout",
     "output_type": "stream",
     "text": [
      "retypuJ olleh\n"
     ]
    }
   ],
   "source": [
    "%run file.py"
   ]
  },
  {
   "cell_type": "markdown",
   "metadata": {},
   "source": [
    "---"
   ]
  },
  {
   "cell_type": "code",
   "execution_count": 22,
   "metadata": {
    "collapsed": true,
    "jupyter": {
     "outputs_hidden": true
    },
    "scrolled": true
   },
   "outputs": [
    {
     "name": "stdout",
     "output_type": "stream",
     "text": [
      "The following commands were written to file `result.py`:\n",
      "# Не забываем про '\\n', '\\t' и т.д.\n",
      "path = \"C:\\\\name\"\n",
      "print(path)\n",
      "get_ipython().run_line_magic('pwd', '')\n",
      "# Срезы(slices) [start:stop:step]\n",
      "'hello'[::-2]  # 'hel'(0) vs 'olh'(4) vs 'leh'(1) vs 'hlo'(0)\n",
      "'hello'[::2] #\n",
      "get_ipython().run_line_magic('load', 'file.py')\n",
      "get_ipython().run_line_magic('load', 'file.py')\n",
      "# %load file.py\n",
      "line = \"hello Jupyter\"\n",
      "print(line[::-1])\n"
     ]
    }
   ],
   "source": [
    "%save result.py 14-20"
   ]
  },
  {
   "cell_type": "code",
   "execution_count": 23,
   "metadata": {
    "scrolled": true
   },
   "outputs": [
    {
     "name": "stdout",
     "output_type": "stream",
     "text": [
      "line = \"hello Jupyter\"\n",
      "print(line[::-1])\n"
     ]
    }
   ],
   "source": [
    "!type file.py"
   ]
  },
  {
   "cell_type": "code",
   "execution_count": 24,
   "metadata": {
    "scrolled": true
   },
   "outputs": [],
   "source": [
    "!python file.py > out1.txt"
   ]
  },
  {
   "cell_type": "code",
   "execution_count": 25,
   "metadata": {
    "scrolled": true
   },
   "outputs": [],
   "source": [
    "# %load out1.txt\n",
    "retypuJ olleh\n"
   ]
  },
  {
   "cell_type": "code",
   "execution_count": 26,
   "metadata": {
    "scrolled": true
   },
   "outputs": [
    {
     "name": "stdout",
     "output_type": "stream",
     "text": [
      "retypuJ olleh\n",
      "Hello jupyter\n"
     ]
    }
   ],
   "source": [
    "line = \"hello Jupyter\"\n",
    "print(line[::-1])\n",
    "print(line.capitalize())"
   ]
  },
  {
   "cell_type": "code",
   "execution_count": 28,
   "metadata": {
    "collapsed": true,
    "jupyter": {
     "outputs_hidden": true
    },
    "scrolled": true
   },
   "outputs": [
    {
     "name": "stdout",
     "output_type": "stream",
     "text": [
      "File `file1.py` exists. Overwrite (y/[N])?   y\n"
     ]
    },
    {
     "name": "stdout",
     "output_type": "stream",
     "text": [
      "The following commands were written to file `file1.py`:\n",
      "line = \"hello Jupyter\"\n",
      "print(line[::-1])\n",
      "print(line.capitalize())\n"
     ]
    }
   ],
   "source": [
    "%save file1.py 26"
   ]
  },
  {
   "cell_type": "code",
   "execution_count": 29,
   "metadata": {},
   "outputs": [
    {
     "data": {
      "text/html": [
       "<img src=\"https://python.org/images/python-logo.gif\"/>"
      ],
      "text/plain": [
       "<IPython.core.display.Image object>"
      ]
     },
     "execution_count": 29,
     "metadata": {},
     "output_type": "execute_result"
    }
   ],
   "source": [
    "from IPython.display import display, Image, HTML, Math\n",
    "Image(url='https://python.org/images/python-logo.gif')"
   ]
  },
  {
   "cell_type": "markdown",
   "metadata": {},
   "source": [
    "Для запуска ячейки нужно установить две библиотеки:  \n",
    "```\n",
    "conda install scipy ipywidgets\n",
    "```  \n",
    "и полностью перезапустить `jupyterlab Server`"
   ]
  },
  {
   "cell_type": "code",
   "execution_count": 1,
   "metadata": {},
   "outputs": [
    {
     "data": {
      "application/vnd.jupyter.widget-view+json": {
       "model_id": "fb67d9d2774243b38e4b9a70b36ef979",
       "version_major": 2,
       "version_minor": 0
      },
      "text/plain": [
       "interactive(children=(FloatSlider(value=1.0, description='mu', max=20.0, min=1.0, step=1.0), Output()), _dom_c…"
      ]
     },
     "metadata": {},
     "output_type": "display_data"
    }
   ],
   "source": [
    "import matplotlib.pyplot as plt\n",
    "import numpy as np\n",
    "from scipy import stats\n",
    "\n",
    "def f(mu):\n",
    "    X = stats.norm(loc=mu, scale=np.sqrt(mu))\n",
    "    N = stats.poisson(mu)\n",
    "    x = np.linspace(0, X.ppf(0.999))\n",
    "    n = np.arange(0, x[-1])\n",
    "\n",
    "    fig, ax = plt.subplots()\n",
    "    ax.plot(x, X.pdf(x), color='black', lw=2, label=f\"Normal($\\\\mu={mu:.2f}, \\\\sigma^2={mu:.2f})$\")\n",
    "    ax.bar(n, N.pmf(n), align='edge', label=r\"Poisson($\\lambda=%2d$)\" % mu)\n",
    "    ax.set_ylim(0, X.pdf(x).max() * 1.25)\n",
    "    ax.legend(loc=2, ncol=2)\n",
    "    plt.close(fig)\n",
    "    return fig\n",
    "\n",
    "    \n",
    "from ipywidgets import interact\n",
    "import ipywidgets as widgets\n",
    "\n",
    "interact(f, mu=widgets.FloatSlider(min=1.0, max=20.0, step=1.0));"
   ]
  },
  {
   "cell_type": "markdown",
   "metadata": {},
   "source": [
    "### Встроенный debugger\n",
    "\n",
    "- ```%pdb``` - запускает дебаггер сразу после того, как появилось исключение\n",
    "- появляется приглашение ```ipdb>```, в котором можно вводить команды\n",
    "- чтобы посмотреть значение той или иной переменной, надо просто набрать ее имя\n",
    "- чтобы изменить значение - достаточно использовать операцию присваивания\n",
    "- чтобы выйти - нужно набрать команду ```exit```\n",
    "- чтобы посмотреть все команды дебаггера нужно набрать команду ```help```"
   ]
  },
  {
   "cell_type": "code",
   "execution_count": 2,
   "metadata": {
    "scrolled": true
   },
   "outputs": [],
   "source": [
    "def a_divider(dividend, divisors):\n",
    "    l = []\n",
    "    for divisor in divisors:\n",
    "        l.append(dividend // divisor)\n",
    "    return l    "
   ]
  },
  {
   "cell_type": "code",
   "execution_count": 3,
   "metadata": {
    "scrolled": true
   },
   "outputs": [
    {
     "name": "stdout",
     "output_type": "stream",
     "text": [
      "[500, 250, 166, 125, 100]\n"
     ]
    }
   ],
   "source": [
    "print(a_divider(500, [1,2,3,4,5]))"
   ]
  },
  {
   "cell_type": "code",
   "execution_count": 19,
   "metadata": {},
   "outputs": [
    {
     "name": "stdout",
     "output_type": "stream",
     "text": [
      "Automatic pdb calling has been turned OFF\n"
     ]
    },
    {
     "ename": "NameError",
     "evalue": "name 'a_divider' is not defined",
     "output_type": "error",
     "traceback": [
      "\u001b[31m--------------------------------------------------------------------\u001b[39m",
      "\u001b[31mNameError\u001b[39m                          Traceback (most recent call last)",
      "\u001b[36mCell\u001b[39m\u001b[36m \u001b[39m\u001b[32mIn[19]\u001b[39m\u001b[32m, line 2\u001b[39m\n\u001b[32m      1\u001b[39m get_ipython().run_line_magic(\u001b[33m'\u001b[39m\u001b[33mpdb\u001b[39m\u001b[33m'\u001b[39m, \u001b[33m'\u001b[39m\u001b[33m'\u001b[39m)\n\u001b[32m----> \u001b[39m\u001b[32m2\u001b[39m \u001b[38;5;28mprint\u001b[39m(\u001b[43ma_divider\u001b[49m(\u001b[32m500\u001b[39m, [\u001b[32m1\u001b[39m,\u001b[32m2\u001b[39m,\u001b[32m3\u001b[39m, \u001b[32m0\u001b[39m ,\u001b[32m4\u001b[39m,\u001b[32m5\u001b[39m]))\n",
      "\u001b[31mNameError\u001b[39m: name 'a_divider' is not defined"
     ]
    }
   ],
   "source": [
    "%pdb \n",
    "print(a_divider(500, [1,2,3, 0 ,4,5]))"
   ]
  },
  {
   "cell_type": "markdown",
   "metadata": {},
   "source": [
    "### Другие полезные \"волшебные\" функции\n",
    "\n",
    "Справка по всем \"магическим\" функциям - ```%magic```"
   ]
  },
  {
   "cell_type": "code",
   "execution_count": 6,
   "metadata": {
    "scrolled": true
   },
   "outputs": [
    {
     "name": "stdout",
     "output_type": "stream",
     "text": [
      "a_divider\t f\t interact\t np\t plt\t stats\t widgets\t \n"
     ]
    }
   ],
   "source": [
    "# список объявленных переменных\n",
    "%who"
   ]
  },
  {
   "cell_type": "code",
   "execution_count": 7,
   "metadata": {
    "collapsed": true,
    "jupyter": {
     "outputs_hidden": true
    },
    "scrolled": true
   },
   "outputs": [
    {
     "name": "stdout",
     "output_type": "stream",
     "text": [
      "import matplotlib.pyplot as plt\n",
      "import numpy as np\n",
      "from scipy import stats\n",
      "\n",
      "def f(mu):\n",
      "    X = stats.norm(loc=mu, scale=np.sqrt(mu))\n",
      "    N = stats.poisson(mu)\n",
      "    x = np.linspace(0, X.ppf(0.999))\n",
      "    n = np.arange(0, x[-1])\n",
      "\n",
      "    fig, ax = plt.subplots()\n",
      "    ax.plot(x, X.pdf(x), color='black', lw=2, label=f\"Normal($\\\\mu={mu:.2f}, \\\\sigma^2={mu:.2f})$\")\n",
      "    ax.bar(n, N.pmf(n), align='edge', label=r\"Poisson($\\lambda=%2d$)\" % mu)\n",
      "    ax.set_ylim(0, X.pdf(x).max() * 1.25)\n",
      "    ax.legend(loc=2, ncol=2)\n",
      "    plt.close(fig)\n",
      "    return fig\n",
      "\n",
      "    \n",
      "from ipywidgets import interact\n",
      "import ipywidgets as widgets\n",
      "\n",
      "interact(f, mu=widgets.FloatSlider(min=1.0, max=20.0, step=1.0));\n",
      "def a_divider(dividend, divisors):\n",
      "    l = []\n",
      "    for divisor in divisors:\n",
      "        l.append(dividend // divisor)\n",
      "    return l\n",
      "print(a_divider(500, [1,2,3,4,5]))\n",
      "# %pdb \n",
      "print(a_divider(500, [1,2,3, 0 ,4,5]))\n",
      "%pdb \n",
      "print(a_divider(500, [1,2,3, 0 ,4,5]))\n",
      "# список объявленных переменных\n",
      "%who\n",
      "# показать историю команд\n",
      "%hist\n"
     ]
    }
   ],
   "source": [
    "# показать историю команд\n",
    "%hist"
   ]
  },
  {
   "cell_type": "code",
   "execution_count": 8,
   "metadata": {},
   "outputs": [
    {
     "data": {
      "text/plain": [
       "'C:\\\\Users\\\\Admin\\\\Documents\\\\P4_30032025\\\\Day_1'"
      ]
     },
     "execution_count": 8,
     "metadata": {},
     "output_type": "execute_result"
    }
   ],
   "source": [
    "# текущий каталог можно узнать через команду %pwd\n",
    "x = %pwd\n",
    "x"
   ]
  },
  {
   "cell_type": "code",
   "execution_count": 9,
   "metadata": {
    "scrolled": true
   },
   "outputs": [],
   "source": [
    "# удалить переменную и попытаться очистить все ссылки на объект во внутреннем пространстве имен Jupyter Notebook\n",
    "%xdel f"
   ]
  },
  {
   "cell_type": "code",
   "execution_count": 10,
   "metadata": {
    "scrolled": true
   },
   "outputs": [
    {
     "name": "stdout",
     "output_type": "stream",
     "text": [
      "a_divider\t interact\t np\t plt\t stats\t widgets\t x\t \n"
     ]
    }
   ],
   "source": [
    "%who"
   ]
  },
  {
   "cell_type": "code",
   "execution_count": 11,
   "metadata": {
    "scrolled": true
   },
   "outputs": [
    {
     "name": "stdout",
     "output_type": "stream",
     "text": [
      "Once deleted, variables cannot be recovered. Proceed (y/[n])?  y\n"
     ]
    }
   ],
   "source": [
    "# удалить все переменные\n",
    "%reset "
   ]
  },
  {
   "cell_type": "code",
   "execution_count": 12,
   "metadata": {
    "scrolled": true
   },
   "outputs": [
    {
     "name": "stdout",
     "output_type": "stream",
     "text": [
      "Interactive namespace is empty.\n"
     ]
    }
   ],
   "source": [
    "whos"
   ]
  },
  {
   "cell_type": "code",
   "execution_count": 13,
   "metadata": {
    "scrolled": true
   },
   "outputs": [
    {
     "data": {
      "text/plain": [
       "4"
      ]
     },
     "execution_count": 13,
     "metadata": {},
     "output_type": "execute_result"
    }
   ],
   "source": [
    "a = 4; a"
   ]
  },
  {
   "cell_type": "code",
   "execution_count": 14,
   "metadata": {
    "scrolled": true
   },
   "outputs": [
    {
     "data": {
      "text/plain": [
       "'hello'"
      ]
     },
     "execution_count": 14,
     "metadata": {},
     "output_type": "execute_result"
    }
   ],
   "source": [
    "b = 'hello'; b"
   ]
  },
  {
   "cell_type": "code",
   "execution_count": 15,
   "metadata": {
    "scrolled": true
   },
   "outputs": [
    {
     "data": {
      "text/plain": [
       "True"
      ]
     },
     "execution_count": 15,
     "metadata": {},
     "output_type": "execute_result"
    }
   ],
   "source": [
    "c = True; c"
   ]
  },
  {
   "cell_type": "code",
   "execution_count": 16,
   "metadata": {
    "scrolled": true
   },
   "outputs": [
    {
     "data": {
      "text/plain": [
       "'hello'"
      ]
     },
     "execution_count": 16,
     "metadata": {},
     "output_type": "execute_result"
    }
   ],
   "source": [
    "__ # _ - последний вывод, __ - предпоследний, ___ - предпредпоследний"
   ]
  },
  {
   "cell_type": "code",
   "execution_count": 17,
   "metadata": {
    "scrolled": true
   },
   "outputs": [
    {
     "data": {
      "text/plain": [
       "6.6"
      ]
     },
     "execution_count": 17,
     "metadata": {},
     "output_type": "execute_result"
    }
   ],
   "source": [
    "1 == True  # Out: True\n",
    "0 == False # Out: True\n",
    "True + True + True  # Out: 3\n",
    "7.6 - True # 6.6"
   ]
  },
  {
   "cell_type": "code",
   "execution_count": 18,
   "metadata": {},
   "outputs": [
    {
     "data": {
      "text/plain": [
       "''"
      ]
     },
     "execution_count": 18,
     "metadata": {},
     "output_type": "execute_result"
    }
   ],
   "source": [
    "'Ivanov' * False  "
   ]
  },
  {
   "cell_type": "code",
   "execution_count": 21,
   "metadata": {},
   "outputs": [
    {
     "data": {
      "text/plain": [
       "2"
      ]
     },
     "execution_count": 21,
     "metadata": {},
     "output_type": "execute_result"
    }
   ],
   "source": [
    "lst = [3, 9, 1, 8.1, True, 'hello']\n",
    "lst.count(True)  # Out: 2"
   ]
  },
  {
   "cell_type": "markdown",
   "metadata": {},
   "source": [
    "### Подключение внешних модулей\n",
    "\n",
    "1. Если ```import module``` не может найти нужный модуль, используйте ```conda install ...```__ВНЕ ТЕТРАДИ__, то есть в командной строке.\n",
    "2. Запуск ```!conda install``` установит запрашиваемый модуль только для текущего сеанса.\n",
    "3. Если вы разрабатываете свой модуль во внешнем редакторе, а отлаживаете его в Jupyter, включите автообновление модуля по мере его сохранения:\n",
    "```python\n",
    "%load_ext autoreload\n",
    "%autoreload 2\n",
    "```"
   ]
  },
  {
   "cell_type": "code",
   "execution_count": 22,
   "metadata": {
    "scrolled": true
   },
   "outputs": [],
   "source": [
    "%load_ext autoreload\n",
    "%autoreload 2"
   ]
  },
  {
   "cell_type": "code",
   "execution_count": 23,
   "metadata": {
    "collapsed": true,
    "jupyter": {
     "outputs_hidden": true
    },
    "scrolled": true
   },
   "outputs": [
    {
     "data": {
      "text/plain": [
       "\u001b[31mDocstring:\u001b[39m\n",
       "::\n",
       "\n",
       "  %autoreload [-p] [-l] [--hide-errors] [--full] [mode]\n",
       "\n",
       "%autoreload => Reload modules automatically\n",
       "\n",
       "%autoreload or %autoreload now\n",
       "Reload all modules (except those excluded by %aimport) automatically\n",
       "now.\n",
       "\n",
       "%autoreload 0 or %autoreload off\n",
       "Disable automatic reloading.\n",
       "\n",
       "%autoreload 1 or %autoreload explicit\n",
       "Reload only modules imported with %aimport every time before executing\n",
       "the Python code typed.\n",
       "\n",
       "%autoreload 2 or %autoreload all\n",
       "Reload all modules (except those excluded by %aimport) every time\n",
       "before executing the Python code typed.\n",
       "\n",
       "%autoreload 3 or %autoreload complete\n",
       "Same as 2/all, but also but also adds any new objects in the module. See\n",
       "unit test at IPython/extensions/tests/test_autoreload.py::test_autoload_newly_added_objects\n",
       "\n",
       "The optional arguments --print and --log control display of autoreload activity. The default\n",
       "is to act silently; --print (or -p) will print out the names of modules that are being\n",
       "reloaded, and --log (or -l) outputs them to the log at INFO level.\n",
       "\n",
       "The optional argument --hide-errors hides any errors that can happen when trying to\n",
       "reload code.\n",
       "\n",
       "Reloading Python modules in a reliable way is in general\n",
       "difficult, and unexpected things may occur. %autoreload tries to\n",
       "work around common pitfalls by replacing function code objects and\n",
       "parts of classes previously in the module with new versions. This\n",
       "makes the following things to work:\n",
       "\n",
       "- Functions and classes imported via 'from xxx import foo' are upgraded\n",
       "  to new versions when 'xxx' is reloaded.\n",
       "\n",
       "- Methods and properties of classes are upgraded on reload, so that\n",
       "  calling 'c.foo()' on an object 'c' created before the reload causes\n",
       "  the new code for 'foo' to be executed.\n",
       "\n",
       "Some of the known remaining caveats are:\n",
       "\n",
       "- Replacing code objects does not always succeed: changing a @property\n",
       "  in a class to an ordinary method or a method to a member variable\n",
       "  can cause problems (but in old objects only).\n",
       "\n",
       "- Functions that are removed (eg. via monkey-patching) from a module\n",
       "  before it is reloaded are not upgraded.\n",
       "\n",
       "- C extension modules cannot be reloaded, and so cannot be\n",
       "  autoreloaded.\n",
       "\n",
       "positional arguments:\n",
       "  mode           blank or 'now' - Reload all modules (except those\n",
       "                 excluded by %aimport) automatically now. '0' or\n",
       "                 'off' - Disable automatic reloading. '1' or\n",
       "                 'explicit' - Reload only modules imported with\n",
       "                 %aimport every time before executing the Python\n",
       "                 code typed. '2' or 'all' - Reload all modules\n",
       "                 (except those excluded by %aimport) every time\n",
       "                 before executing the Python code typed. '3' or\n",
       "                 'complete' - Same as 2/all, but also adds any new\n",
       "                 objects in the module. By default, a newer\n",
       "                 autoreload algorithm that diffs the module's\n",
       "                 source code with the previous version and only\n",
       "                 reloads changed parts is applied for modes 2 and\n",
       "                 below. To use the original algorithm, add the `-`\n",
       "                 suffix to the mode, e.g. '{'option_strings': [],\n",
       "                 'dest': 'mode', 'nargs': '?', 'const': None,\n",
       "                 'default': 'now', 'type': 'str', 'choices': None,\n",
       "                 'required': False, 'help': \"blank or 'now' -\n",
       "                 Reload all modules (except those excluded by\n",
       "                 %%aimport)\\n automatically now.\\n\\n '0' or 'off'\n",
       "                 - Disable automatic reloading.\\n\\n '1' or\n",
       "                 'explicit' - Reload only modules imported with\n",
       "                 %%aimport every\\n time before executing the\n",
       "                 Python code typed.\\n\\n '2' or 'all' - Reload all\n",
       "                 modules (except those excluded by %%aimport)\\n\n",
       "                 every time before executing the Python code\n",
       "                 typed.\\n\\n '3' or 'complete' - Same as 2/all, but\n",
       "                 also adds any new\\n objects in the module.\\n \\n\n",
       "                 By default, a newer autoreload algorithm that\n",
       "                 diffs the module's source code\\n with the\n",
       "                 previous version and only reloads changed parts\n",
       "                 is applied for modes\\n 2 and below. To use the\n",
       "                 original algorithm, add the `-` suffix to the\n",
       "                 mode,\\n e.g. '%autoreload 2-', or pass in\n",
       "                 --full.\\n \", 'metavar': None, 'deprecated':\n",
       "                 False, 'container': <argparse._ArgumentGroup\n",
       "                 object at 0x000001DA5BE756D0>, 'prog':\n",
       "                 'autoreload'}utoreload 2-', or pass in --full.\n",
       "\n",
       "options:\n",
       "  -p, --print    Show autoreload activity using `print` statements\n",
       "  -l, --log      Show autoreload activity using the logger\n",
       "  --hide-errors  Hide autoreload errors\n",
       "  --full         Don't ever use new diffing algorithm\n",
       "\u001b[31mFile:\u001b[39m      c:\\users\\admin\\anaconda3\\envs\\data_one\\lib\\site-packages\\ipython\\extensions\\autoreload.py"
      ]
     },
     "metadata": {},
     "output_type": "display_data"
    }
   ],
   "source": [
    "%autoreload?"
   ]
  },
  {
   "cell_type": "code",
   "execution_count": 35,
   "metadata": {
    "scrolled": true
   },
   "outputs": [
    {
     "name": "stdout",
     "output_type": "stream",
     "text": [
      "Once deleted, variables cannot be recovered. Proceed (y/[n])?  n\n"
     ]
    },
    {
     "name": "stdout",
     "output_type": "stream",
     "text": [
      "Nothing done.\n"
     ]
    }
   ],
   "source": [
    "%reset"
   ]
  },
  {
   "cell_type": "code",
   "execution_count": 25,
   "metadata": {
    "scrolled": true
   },
   "outputs": [
    {
     "name": "stdout",
     "output_type": "stream",
     "text": [
      "Interactive namespace is empty.\n"
     ]
    }
   ],
   "source": [
    "who"
   ]
  },
  {
   "cell_type": "code",
   "execution_count": 26,
   "metadata": {},
   "outputs": [],
   "source": [
    "import sys"
   ]
  },
  {
   "cell_type": "code",
   "execution_count": 28,
   "metadata": {
    "scrolled": true
   },
   "outputs": [],
   "source": [
    "sys.path.append(\"C:\\\\Courses\")  # Добавляем нужную папку в системный список папок"
   ]
  },
  {
   "cell_type": "code",
   "execution_count": 29,
   "metadata": {},
   "outputs": [
    {
     "data": {
      "text/plain": [
       "['C:\\\\Users\\\\Admin\\\\anaconda3\\\\envs\\\\data_one\\\\python313.zip',\n",
       " 'C:\\\\Users\\\\Admin\\\\anaconda3\\\\envs\\\\data_one\\\\DLLs',\n",
       " 'C:\\\\Users\\\\Admin\\\\anaconda3\\\\envs\\\\data_one\\\\Lib',\n",
       " 'C:\\\\Users\\\\Admin\\\\anaconda3\\\\envs\\\\data_one',\n",
       " '',\n",
       " 'C:\\\\Users\\\\Admin\\\\anaconda3\\\\envs\\\\data_one\\\\Lib\\\\site-packages',\n",
       " 'C:\\\\Users\\\\Admin\\\\anaconda3\\\\envs\\\\data_one\\\\Lib\\\\site-packages\\\\win32',\n",
       " 'C:\\\\Users\\\\Admin\\\\anaconda3\\\\envs\\\\data_one\\\\Lib\\\\site-packages\\\\win32\\\\lib',\n",
       " 'C:\\\\Users\\\\Admin\\\\anaconda3\\\\envs\\\\data_one\\\\Lib\\\\site-packages\\\\Pythonwin',\n",
       " 'C:\\\\Courses']"
      ]
     },
     "execution_count": 29,
     "metadata": {},
     "output_type": "execute_result"
    }
   ],
   "source": [
    "sys.path"
   ]
  },
  {
   "cell_type": "code",
   "execution_count": 30,
   "metadata": {
    "scrolled": true
   },
   "outputs": [
    {
     "name": "stdout",
     "output_type": "stream",
     "text": [
      "Writing C:\\\\Courses\\\\my.py\n"
     ]
    }
   ],
   "source": [
    "%%writefile C:\\\\Courses\\\\my.py\n",
    "\n",
    "def ceil(x, y):\n",
    "    return (x + y - 1) // y"
   ]
  },
  {
   "cell_type": "code",
   "execution_count": 31,
   "metadata": {},
   "outputs": [],
   "source": [
    "import my"
   ]
  },
  {
   "cell_type": "code",
   "execution_count": 34,
   "metadata": {},
   "outputs": [
    {
     "data": {
      "text/plain": [
       "6"
      ]
     },
     "execution_count": 34,
     "metadata": {},
     "output_type": "execute_result"
    }
   ],
   "source": [
    "my.ceil(12, 2)"
   ]
  },
  {
   "cell_type": "markdown",
   "metadata": {},
   "source": [
    "## Язык Markdown\n",
    "\n",
    "Чтобы редактировать содержимое Markdown-клетки, дважды кликните по ней."
   ]
  },
  {
   "cell_type": "markdown",
   "metadata": {},
   "source": [
    "# Заголовок 1\n",
    "\n",
    "## Заголовок 2\n",
    "\n",
    "### _Заголовок 3_\n",
    "\n",
    "Quick brown fox __jumped__ _over_ lazy dog. Quick brown fox jumped over lazy dog.Quick brown fox jumped over lazy dog.Quick brown fox jumped over lazy dog.Quick brown fox jumped over lazy dog. Quick brown fox jumped over lazy dog. Quick brown fox jumped over lazy dog.  \n",
    "Quick brown fox jumped over lazy dog.\n",
    "\n",
    "**Quick** brown fox jumped over lazy https://www.dogs.com/. Quick brown fox jumped over lazy dog. Quick brown fox jumped over lazy dog. Quick brown fox jumped over lazy dog.\n",
    "\n",
    "1. Quick brown fox jumped over lazy dog. Quick brown fox jumped over lazy dog. Quick brown fox jumped over lazy dog.\n",
    "2. Quick brown fox jumped over lazy dog. Quick brown fox jumped over lazy dog.\n",
    "3. Quick brown fox jumped over lazy dog. Quick brown fox jumped over lazy dog.\n",
    "\n",
    "$\\begin{cases}\n",
    "2 + t^1*2 = 0 + t_2*(-1) \\\\\n",
    "3 + t_1*1 = 1 + t_2*1\n",
    "\\end{cases}\n",
    "$\n",
    "\n",
    "- first\n",
    "- second\n",
    "- third\n"
   ]
  },
  {
   "cell_type": "markdown",
   "metadata": {},
   "source": [
    "### Практика. Задание 1"
   ]
  },
  {
   "cell_type": "markdown",
   "metadata": {},
   "source": [
    "Введено натуральное число.  \n",
    "Сложить разряды числа до цифры.  \n",
    "\n",
    "\n",
    "_Пример 1:_  \n",
    "**In:**  \n",
    "    number = 1237  \n",
    "**Out:**  \n",
    "    result: 4 (1+2+3+7=13 -> 1+3=4)  \n",
    "\n",
    "_Пример 2:_  \n",
    "**In:**  \n",
    "    number = 16529  \n",
    "**Out:**  \n",
    "    result: 5 (1+6+5+2+9=23 -> 2+3=5)  \n"
   ]
  },
  {
   "cell_type": "markdown",
   "metadata": {},
   "source": [
    "#### Решение задачи"
   ]
  },
  {
   "cell_type": "code",
   "execution_count": 2,
   "metadata": {},
   "outputs": [
    {
     "name": "stdout",
     "output_type": "stream",
     "text": [
      "4\n",
      "5\n"
     ]
    }
   ],
   "source": [
    "# \n",
    "def digital_root(number):\n",
    "    while number >= 10:\n",
    "        number = sum(int(digit) for digit in str(number))\n",
    "    return number\n",
    "\n",
    "print(digital_root(1237))  \n",
    "print(digital_root(16529)) "
   ]
  },
  {
   "cell_type": "code",
   "execution_count": 53,
   "metadata": {},
   "outputs": [],
   "source": [
    "def summ(x: int):\n",
    "    s = 0\n",
    "    for digit in str(x):\n",
    "        s += int(digit)\n",
    "    return s\n",
    "\n",
    "\n",
    "def summ2(x: int):\n",
    "    s = 0\n",
    "    while x:\n",
    "        s += x % 10\n",
    "        x //= 10\n",
    "    return s\n",
    "\n",
    "def digits(s):\n",
    "    while (s > 9):\n",
    "        s = summ2(s)\n",
    "    return s"
   ]
  },
  {
   "cell_type": "code",
   "execution_count": 51,
   "metadata": {},
   "outputs": [],
   "source": [
    "# Ваш код\n",
    "n = 7 ** 3000"
   ]
  },
  {
   "cell_type": "code",
   "execution_count": 56,
   "metadata": {},
   "outputs": [
    {
     "data": {
      "text/plain": [
       "1"
      ]
     },
     "execution_count": 56,
     "metadata": {},
     "output_type": "execute_result"
    }
   ],
   "source": [
    "digits(n)"
   ]
  },
  {
   "cell_type": "code",
   "execution_count": 52,
   "metadata": {},
   "outputs": [
    {
     "name": "stdout",
     "output_type": "stream",
     "text": [
      "535 μs ± 45.4 μs per loop (mean ± std. dev. of 7 runs, 1,000 loops each)\n"
     ]
    }
   ],
   "source": [
    "%timeit digits(n)"
   ]
  },
  {
   "cell_type": "code",
   "execution_count": 54,
   "metadata": {},
   "outputs": [
    {
     "name": "stdout",
     "output_type": "stream",
     "text": [
      "CPU times: total: 15.6 ms\n",
      "Wall time: 9.37 ms\n"
     ]
    },
    {
     "data": {
      "text/plain": [
       "1"
      ]
     },
     "execution_count": 54,
     "metadata": {},
     "output_type": "execute_result"
    }
   ],
   "source": [
    "%time digits(n)"
   ]
  },
  {
   "cell_type": "code",
   "execution_count": 55,
   "metadata": {},
   "outputs": [],
   "source": [
    "# Variant 2\n",
    "def summa(number):\n",
    "    while number > 9:\n",
    "        digit_sum = 0\n",
    "        for digit in str(number):\n",
    "            digit_sum += int(digit)\n",
    "        number = digit_sum\n",
    "    return number"
   ]
  },
  {
   "cell_type": "code",
   "execution_count": 57,
   "metadata": {},
   "outputs": [
    {
     "data": {
      "text/plain": [
       "1"
      ]
     },
     "execution_count": 57,
     "metadata": {},
     "output_type": "execute_result"
    }
   ],
   "source": [
    "summa(n)"
   ]
  },
  {
   "cell_type": "code",
   "execution_count": null,
   "metadata": {},
   "outputs": [],
   "source": []
  }
 ],
 "metadata": {
  "kernelspec": {
   "display_name": "Python 3",
   "language": "python",
   "name": "python3"
  },
  "language_info": {
   "codemirror_mode": {
    "name": "ipython",
    "version": 3
   },
   "file_extension": ".py",
   "mimetype": "text/x-python",
   "name": "python",
   "nbconvert_exporter": "python",
   "pygments_lexer": "ipython3",
   "version": "3.10.11"
  }
 },
 "nbformat": 4,
 "nbformat_minor": 4
}
