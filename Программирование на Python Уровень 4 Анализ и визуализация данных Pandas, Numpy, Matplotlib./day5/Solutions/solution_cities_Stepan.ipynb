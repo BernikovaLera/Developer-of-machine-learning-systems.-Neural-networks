{
 "cells": [
  {
   "cell_type": "code",
   "execution_count": null,
   "metadata": {},
   "outputs": [],
   "source": [
    "import pandas as pd\n",
    "import numpy as np\n",
    "from IPython.core.interactiveshell import InteractiveShell\n",
    "InteractiveShell.ast_node_interactivity = \"all\"\n",
    "np.set_printoptions(legacy=\"1.25\")\n"
   ]
  },
  {
   "cell_type": "markdown",
   "metadata": {},
   "source": [
    " ### Загрузка данных"
   ]
  },
  {
   "cell_type": "code",
   "execution_count": null,
   "metadata": {},
   "outputs": [],
   "source": [
    "df = pd.read_csv('data/cities.csv')\n"
   ]
  },
  {
   "cell_type": "code",
   "execution_count": null,
   "metadata": {},
   "outputs": [],
   "source": [
    "# Координаты административных центров\n",
    "centers = {\n",
    "    'Москва': (55.7558, 37.6173),\n",
    "    'Новосибирск': (55.0084, 82.9357),\n",
    "    'Владивосток': (43.1155, 131.8855)\n",
    "}"
   ]
  },
  {
   "cell_type": "code",
   "execution_count": null,
   "metadata": {},
   "outputs": [],
   "source": [
    "# Функция для расчета расстояния между двумя точками на Земле\n",
    "def haversine(lat1, lon1, lat2, lon2):\n",
    "    RADIUS = 6371  # Радиус Земли в километрах\n",
    "    lat1, lon1, lat2, lon2 = map(np.deg2rad, [lat1, lon1, lat2, lon2])\n",
    "    dlat = lat2 - lat1\n",
    "    dlon = lon2 - lon1\n",
    "    a = np.sin(dlat / 2)**2 + np.cos(lat1) * np.cos(lat2) * np.sin(dlon / 2)**2\n",
    "    c = 2 * np.arcsin(np.sqrt(a))\n",
    "    total_km = RADIUS * c\n",
    "    return total_km\n",
    "\n",
    "# Функция для безопасного преобразования\n",
    "def safe_convert_population(population):\n",
    "    try:\n",
    "        return int(population.replace(' ', ''))\n",
    "    except ValueError:\n",
    "        return np.nan"
   ]
  },
  {
   "cell_type": "code",
   "execution_count": null,
   "metadata": {},
   "outputs": [],
   "source": [
    "df['Население'] = df['Население'].apply(safe_convert_population)"
   ]
  },
  {
   "cell_type": "code",
   "execution_count": null,
   "metadata": {},
   "outputs": [],
   "source": [
    "# 1. Города в Центральном федеральном округе в радиусе 100 км от Москвы с населением <= 50т.\n",
    "central_federal_district = df.query(\"`Федеральный округ` == 'Центральный' and `Население` <= 50000\")\n",
    "central_federal_district['Расстояние'] = haversine(55.7558, 37.6173, central_federal_district['Широта'].values, central_federal_district['Долгота'].values)\n",
    "result_central = central_federal_district[central_federal_district['Расстояние'] <= 100]\n",
    "result_central"
   ]
  },
  {
   "cell_type": "code",
   "execution_count": null,
   "metadata": {},
   "outputs": [],
   "source": [
    "# 2. Города в Сибирском федеральном округе в радиусе от 150 до 250 км от Новосибирска с населением от 100т. до 200т.\n",
    "siberian_federal_district = df.query(\"`Федеральный округ` == 'Сибирский' and `Население` >= 100000 and `Население` <= 200000\")\n",
    "siberian_federal_district['Расстояние'] = haversine(55.0084, 82.9357, siberian_federal_district['Широта'].values, siberian_federal_district['Долгота'].values)\n",
    "result_siberian = siberian_federal_district[(siberian_federal_district['Расстояние'] >= 150) & (siberian_federal_district['Расстояние'] <= 250)]\n",
    "result_siberian"
   ]
  },
  {
   "cell_type": "code",
   "execution_count": null,
   "metadata": {},
   "outputs": [],
   "source": [
    "# 3. Города в Дальневосточном федеральном округе ближе всего к Владивостоку с населением от 10т. до 20т.\n",
    "dalnevostochniy_federal_district = df.query(\"`Федеральный округ` == 'Дальневосточный' and `Население` >= 10000 and `Население` <= 20000\")\n",
    "dalnevostochniy_federal_district['Расстояние'] = haversine(43.1155, 131.8855, dalnevostochniy_federal_district['Широта'].values, dalnevostochniy_federal_district['Долгота'].values)\n",
    "result_dalnevostochniy = dalnevostochniy_federal_district.nsmallest(5, 'Расстояние')\n",
    "result_dalnevostochniy"
   ]
  },
  {
   "cell_type": "code",
   "execution_count": null,
   "metadata": {},
   "outputs": [],
   "source": [
    "# 4. Три самых многочисленных округа с радиусом 100 км от административного центра, \n",
    "# не считая ЦФО.\n",
    "\n",
    "# Фильтруем данные, исключая ЦФО\n",
    "df_non_cfo = df[~df['Федеральный округ'].str.contains('Центральный')]"
   ]
  },
  {
   "cell_type": "code",
   "execution_count": null,
   "metadata": {},
   "outputs": [],
   "source": [
    "# Находим административные центры (где Признак центра района или региона = 1)\n",
    "admin_centers = df_non_cfo[df_non_cfo['Признак центра района или региона'] == 1]"
   ]
  },
  {
   "cell_type": "code",
   "execution_count": null,
   "metadata": {},
   "outputs": [],
   "source": [
    "# Создаем список для хранения результатов\n",
    "results = []\n",
    "\n",
    "# Для каждого административного центра вычисляем расстояние до всех других регионов\n",
    "for index, center in admin_centers.iterrows():\n",
    "    center_lat = center['Широта']\n",
    "    center_lon = center['Долгота']\n",
    "\n",
    " # Вычисляем расстояние до всех регионов\n",
    "    df_non_cfo['Расстояние'] = haversine(center_lat, center_lon, df_non_cfo['Широта'], df_non_cfo['Долгота'])\n",
    "    # Фильтруем регионы в радиусе 100 км\n",
    "    nearby_regions = df_non_cfo[df_non_cfo['Расстояние'] <= 100]\n",
    "    # Считаем население для этих регионов\n",
    "    total_population = nearby_regions['Население'].sum()\n",
    "    results.append({'Федеральный округ': center['Федеральный округ'], 'Население': total_population})"
   ]
  },
  {
   "cell_type": "code",
   "execution_count": null,
   "metadata": {},
   "outputs": [],
   "source": [
    "# Преобразуем результаты в DataFrame\n",
    "results_df = pd.DataFrame(results)\n",
    "# Находим три самых многочисленных округа\n",
    "top_counties = results_df.groupby('Федеральный округ')['Население'].sum().nlargest(3)\n",
    "top_counties"
   ]
  }
 ],
 "metadata": {
  "language_info": {
   "codemirror_mode": {
    "name": "ipython",
    "version": 3
   },
   "file_extension": ".py",
   "mimetype": "text/x-python",
   "name": "python",
   "nbconvert_exporter": "python",
   "pygments_lexer": "ipython3",
   "version": 3
  }
 },
 "nbformat": 4,
 "nbformat_minor": 2
}
