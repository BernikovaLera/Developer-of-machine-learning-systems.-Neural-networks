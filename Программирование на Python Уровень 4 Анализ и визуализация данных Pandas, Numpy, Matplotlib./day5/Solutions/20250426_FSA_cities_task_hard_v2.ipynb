{
 "cells": [
  {
   "cell_type": "markdown",
   "id": "0f8b0ee8",
   "metadata": {
    "slideshow": {
     "slide_type": "slide"
    }
   },
   "source": [
    "## Задание\n",
    "\n",
    "  \n",
    "Используя датасет `cities.csv`, выполните следующие задания:\n",
    "\n",
    "1. Найдите города, которые расположены в Центральном федеральном округе в радиусе 100 км от административного центра(Москва) с населением <= 50т. человек  \n",
    "\n",
    "  \n",
    "2. Найдите города, которые расположены в Сибирском федеральном округе в радиусе от 150 до 250 км от административного центра(Новосибирск) с населением  от 100т. до 200т. человек  \n",
    "  \n",
    "  \n",
    "3. Найдите город(а), которые расположены в Дальневосточном федеральном округе  и ближе всего к административному центру(Владивосток) с населением  от 10т. до 20т. человек (5 городов)  \n",
    "  \n",
    "  \n",
    "4. Найдите три самых многочисленных округа с радиусом 100 км от административного центра, не считая ЦФО.  \n",
    "Подсказка для `.query`: имена с пробелами можно заключить в **\\`имя с пробелом\\`**"
   ]
  },
  {
   "cell_type": "code",
   "execution_count": 1,
   "id": "b767d400",
   "metadata": {
    "slideshow": {
     "slide_type": "slide"
    }
   },
   "outputs": [],
   "source": [
    "#импорт библиотек\n",
    "import pandas as pd\n",
    "import numpy as np"
   ]
  },
  {
   "cell_type": "code",
   "execution_count": 2,
   "id": "f4e16d55-b3bf-4968-be28-302d0a4946ca",
   "metadata": {
    "slideshow": {
     "slide_type": "slide"
    }
   },
   "outputs": [],
   "source": [
    "#импорт данных\n",
    "df = pd.read_csv('data/cities.csv')"
   ]
  },
  {
   "cell_type": "code",
   "execution_count": 3,
   "id": "e9158ae7-daee-4007-b881-0985206ae652",
   "metadata": {
    "slideshow": {
     "slide_type": "slide"
    }
   },
   "outputs": [
    {
     "name": "stdout",
     "output_type": "stream",
     "text": [
      "Заголовки\n"
     ]
    },
    {
     "data": {
      "text/html": [
       "<div>\n",
       "<style scoped>\n",
       "    .dataframe tbody tr th:only-of-type {\n",
       "        vertical-align: middle;\n",
       "    }\n",
       "\n",
       "    .dataframe tbody tr th {\n",
       "        vertical-align: top;\n",
       "    }\n",
       "\n",
       "    .dataframe thead th {\n",
       "        text-align: right;\n",
       "    }\n",
       "</style>\n",
       "<table border=\"1\" class=\"dataframe\">\n",
       "  <thead>\n",
       "    <tr style=\"text-align: right;\">\n",
       "      <th></th>\n",
       "      <th>Индекс</th>\n",
       "      <th>Тип региона</th>\n",
       "      <th>Регион</th>\n",
       "      <th>Тип района</th>\n",
       "      <th>Район</th>\n",
       "      <th>Тип города</th>\n",
       "      <th>Город</th>\n",
       "      <th>Тип н/п</th>\n",
       "      <th>Н/п</th>\n",
       "      <th>Код КЛАДР</th>\n",
       "      <th>...</th>\n",
       "      <th>Уровень по ФИАС</th>\n",
       "      <th>Признак центра района или региона</th>\n",
       "      <th>Код ОКАТО</th>\n",
       "      <th>Код ОКТМО</th>\n",
       "      <th>Код ИФНС</th>\n",
       "      <th>Часовой пояс</th>\n",
       "      <th>Широта</th>\n",
       "      <th>Долгота</th>\n",
       "      <th>Федеральный округ</th>\n",
       "      <th>Население</th>\n",
       "    </tr>\n",
       "  </thead>\n",
       "  <tbody>\n",
       "    <tr>\n",
       "      <th>0</th>\n",
       "      <td>385200.0</td>\n",
       "      <td>Респ</td>\n",
       "      <td>Адыгея</td>\n",
       "      <td>NaN</td>\n",
       "      <td>NaN</td>\n",
       "      <td>г</td>\n",
       "      <td>Адыгейск</td>\n",
       "      <td>NaN</td>\n",
       "      <td>NaN</td>\n",
       "      <td>100000200000</td>\n",
       "      <td>...</td>\n",
       "      <td>4: город</td>\n",
       "      <td>0</td>\n",
       "      <td>79403000000</td>\n",
       "      <td>7.970300e+10</td>\n",
       "      <td>107</td>\n",
       "      <td>UTC+3</td>\n",
       "      <td>44.878372</td>\n",
       "      <td>39.190172</td>\n",
       "      <td>Южный</td>\n",
       "      <td>12689</td>\n",
       "    </tr>\n",
       "    <tr>\n",
       "      <th>1</th>\n",
       "      <td>385000.0</td>\n",
       "      <td>Респ</td>\n",
       "      <td>Адыгея</td>\n",
       "      <td>NaN</td>\n",
       "      <td>NaN</td>\n",
       "      <td>г</td>\n",
       "      <td>Майкоп</td>\n",
       "      <td>NaN</td>\n",
       "      <td>NaN</td>\n",
       "      <td>100000100000</td>\n",
       "      <td>...</td>\n",
       "      <td>4: город</td>\n",
       "      <td>2</td>\n",
       "      <td>79401000000</td>\n",
       "      <td>7.970100e+10</td>\n",
       "      <td>105</td>\n",
       "      <td>UTC+3</td>\n",
       "      <td>44.609827</td>\n",
       "      <td>40.100653</td>\n",
       "      <td>Южный</td>\n",
       "      <td>144055</td>\n",
       "    </tr>\n",
       "    <tr>\n",
       "      <th>2</th>\n",
       "      <td>649000.0</td>\n",
       "      <td>Респ</td>\n",
       "      <td>Алтай</td>\n",
       "      <td>NaN</td>\n",
       "      <td>NaN</td>\n",
       "      <td>г</td>\n",
       "      <td>Горно-Алтайск</td>\n",
       "      <td>NaN</td>\n",
       "      <td>NaN</td>\n",
       "      <td>400000100000</td>\n",
       "      <td>...</td>\n",
       "      <td>4: город</td>\n",
       "      <td>2</td>\n",
       "      <td>84401000000</td>\n",
       "      <td>8.470100e+07</td>\n",
       "      <td>400</td>\n",
       "      <td>UTC+7</td>\n",
       "      <td>51.958268</td>\n",
       "      <td>85.960296</td>\n",
       "      <td>Сибирский</td>\n",
       "      <td>62861</td>\n",
       "    </tr>\n",
       "    <tr>\n",
       "      <th>3</th>\n",
       "      <td>658125.0</td>\n",
       "      <td>край</td>\n",
       "      <td>Алтайский</td>\n",
       "      <td>NaN</td>\n",
       "      <td>NaN</td>\n",
       "      <td>г</td>\n",
       "      <td>Алейск</td>\n",
       "      <td>NaN</td>\n",
       "      <td>NaN</td>\n",
       "      <td>2200000200000</td>\n",
       "      <td>...</td>\n",
       "      <td>4: город</td>\n",
       "      <td>0</td>\n",
       "      <td>1403000000</td>\n",
       "      <td>1.703000e+06</td>\n",
       "      <td>2201</td>\n",
       "      <td>UTC+7</td>\n",
       "      <td>52.492091</td>\n",
       "      <td>82.779415</td>\n",
       "      <td>Сибирский</td>\n",
       "      <td>28528</td>\n",
       "    </tr>\n",
       "    <tr>\n",
       "      <th>4</th>\n",
       "      <td>656000.0</td>\n",
       "      <td>край</td>\n",
       "      <td>Алтайский</td>\n",
       "      <td>NaN</td>\n",
       "      <td>NaN</td>\n",
       "      <td>г</td>\n",
       "      <td>Барнаул</td>\n",
       "      <td>NaN</td>\n",
       "      <td>NaN</td>\n",
       "      <td>2200000100000</td>\n",
       "      <td>...</td>\n",
       "      <td>4: город</td>\n",
       "      <td>2</td>\n",
       "      <td>1401000000</td>\n",
       "      <td>1.701000e+06</td>\n",
       "      <td>2200</td>\n",
       "      <td>UTC+7</td>\n",
       "      <td>53.348115</td>\n",
       "      <td>83.779836</td>\n",
       "      <td>Сибирский</td>\n",
       "      <td>635585</td>\n",
       "    </tr>\n",
       "  </tbody>\n",
       "</table>\n",
       "<p>5 rows × 21 columns</p>\n",
       "</div>"
      ],
      "text/plain": [
       "     Индекс Тип региона     Регион Тип района Район Тип города          Город  \\\n",
       "0  385200.0        Респ     Адыгея        NaN   NaN          г       Адыгейск   \n",
       "1  385000.0        Респ     Адыгея        NaN   NaN          г         Майкоп   \n",
       "2  649000.0        Респ      Алтай        NaN   NaN          г  Горно-Алтайск   \n",
       "3  658125.0        край  Алтайский        NaN   NaN          г         Алейск   \n",
       "4  656000.0        край  Алтайский        NaN   NaN          г        Барнаул   \n",
       "\n",
       "  Тип н/п  Н/п      Код КЛАДР  ... Уровень по ФИАС  \\\n",
       "0     NaN  NaN   100000200000  ...        4: город   \n",
       "1     NaN  NaN   100000100000  ...        4: город   \n",
       "2     NaN  NaN   400000100000  ...        4: город   \n",
       "3     NaN  NaN  2200000200000  ...        4: город   \n",
       "4     NaN  NaN  2200000100000  ...        4: город   \n",
       "\n",
       "  Признак центра района или региона    Код ОКАТО     Код ОКТМО  Код ИФНС  \\\n",
       "0                                 0  79403000000  7.970300e+10       107   \n",
       "1                                 2  79401000000  7.970100e+10       105   \n",
       "2                                 2  84401000000  8.470100e+07       400   \n",
       "3                                 0   1403000000  1.703000e+06      2201   \n",
       "4                                 2   1401000000  1.701000e+06      2200   \n",
       "\n",
       "   Часовой пояс     Широта    Долгота  Федеральный округ Население  \n",
       "0         UTC+3  44.878372  39.190172              Южный     12689  \n",
       "1         UTC+3  44.609827  40.100653              Южный    144055  \n",
       "2         UTC+7  51.958268  85.960296          Сибирский     62861  \n",
       "3         UTC+7  52.492091  82.779415          Сибирский     28528  \n",
       "4         UTC+7  53.348115  83.779836          Сибирский    635585  \n",
       "\n",
       "[5 rows x 21 columns]"
      ]
     },
     "execution_count": 3,
     "metadata": {},
     "output_type": "execute_result"
    }
   ],
   "source": [
    "#работа с данными\n",
    "#читаем заголовки\n",
    "print (\"Заголовки\")\n",
    "df.head()"
   ]
  },
  {
   "cell_type": "code",
   "execution_count": 4,
   "id": "bc4720e5-13ac-4048-bcfe-384de1913438",
   "metadata": {
    "slideshow": {
     "slide_type": "slide"
    }
   },
   "outputs": [
    {
     "name": "stdout",
     "output_type": "stream",
     "text": [
      "Типы данных\n",
      "<class 'pandas.core.frame.DataFrame'>\n",
      "RangeIndex: 1112 entries, 0 to 1111\n",
      "Data columns (total 21 columns):\n",
      " #   Column                             Non-Null Count  Dtype  \n",
      "---  ------                             --------------  -----  \n",
      " 0   Индекс                             1108 non-null   float64\n",
      " 1   Тип региона                        1112 non-null   object \n",
      " 2   Регион                             1112 non-null   object \n",
      " 3   Тип района                         629 non-null    object \n",
      " 4   Район                              629 non-null    object \n",
      " 5   Тип города                         1108 non-null   object \n",
      " 6   Город                              1108 non-null   object \n",
      " 7   Тип н/п                            2 non-null      object \n",
      " 8   Н/п                                2 non-null      object \n",
      " 9   Код КЛАДР                          1112 non-null   int64  \n",
      " 10  Код ФИАС                           1112 non-null   object \n",
      " 11  Уровень по ФИАС                    1112 non-null   object \n",
      " 12  Признак центра района или региона  1112 non-null   int64  \n",
      " 13  Код ОКАТО                          1112 non-null   int64  \n",
      " 14  Код ОКТМО                          1110 non-null   float64\n",
      " 15  Код ИФНС                           1112 non-null   int64  \n",
      " 16  Часовой пояс                       1112 non-null   object \n",
      " 17  Широта                             1112 non-null   float64\n",
      " 18  Долгота                            1112 non-null   float64\n",
      " 19  Федеральный округ                  1112 non-null   object \n",
      " 20  Население                          1112 non-null   object \n",
      "dtypes: float64(4), int64(4), object(13)\n",
      "memory usage: 182.6+ KB\n"
     ]
    }
   ],
   "source": [
    "#работа с данными\n",
    "#Получаем информацию по типам данных в ячейках\n",
    "print (\"Типы данных\")\n",
    "df.info()"
   ]
  },
  {
   "cell_type": "code",
   "execution_count": 5,
   "id": "9141fd71-f770-4f49-85e2-f8387c7a6d1d",
   "metadata": {
    "slideshow": {
     "slide_type": "slide"
    }
   },
   "outputs": [
    {
     "name": "stdout",
     "output_type": "stream",
     "text": [
      "Размерность данных\n"
     ]
    },
    {
     "data": {
      "text/plain": [
       "(1112, 21)"
      ]
     },
     "execution_count": 5,
     "metadata": {},
     "output_type": "execute_result"
    }
   ],
   "source": [
    "#работа с данными\n",
    "#Выводим размерность данных\n",
    "print (\"Размерность данных\")\n",
    "df.shape"
   ]
  },
  {
   "cell_type": "code",
   "execution_count": 13,
   "id": "5701b802-83ca-4df9-8c60-6636189754cb",
   "metadata": {
    "slideshow": {
     "slide_type": "slide"
    }
   },
   "outputs": [
    {
     "name": "stdout",
     "output_type": "stream",
     "text": [
      "<class 'pandas.core.frame.DataFrame'>\n",
      "RangeIndex: 1112 entries, 0 to 1111\n",
      "Data columns (total 21 columns):\n",
      " #   Column                             Non-Null Count  Dtype  \n",
      "---  ------                             --------------  -----  \n",
      " 0   Индекс                             1108 non-null   float64\n",
      " 1   Тип региона                        1112 non-null   object \n",
      " 2   Регион                             1112 non-null   object \n",
      " 3   Тип района                         629 non-null    object \n",
      " 4   Район                              629 non-null    object \n",
      " 5   Тип города                         1108 non-null   object \n",
      " 6   Город                              1108 non-null   object \n",
      " 7   Тип н/п                            2 non-null      object \n",
      " 8   Н/п                                2 non-null      object \n",
      " 9   Код КЛАДР                          1112 non-null   int64  \n",
      " 10  Код ФИАС                           1112 non-null   object \n",
      " 11  Уровень по ФИАС                    1112 non-null   object \n",
      " 12  Признак центра района или региона  1112 non-null   int64  \n",
      " 13  Код ОКАТО                          1112 non-null   int64  \n",
      " 14  Код ОКТМО                          1110 non-null   float64\n",
      " 15  Код ИФНС                           1112 non-null   int64  \n",
      " 16  Часовой пояс                       1112 non-null   object \n",
      " 17  Широта                             1112 non-null   float64\n",
      " 18  Долгота                            1112 non-null   float64\n",
      " 19  Федеральный округ                  1112 non-null   object \n",
      " 20  Население                          1112 non-null   int64  \n",
      "dtypes: float64(4), int64(5), object(12)\n",
      "memory usage: 182.6+ KB\n"
     ]
    }
   ],
   "source": [
    "#работа с данными\n",
    "#преобразуем население в int но для этого нужно в Иннополсе поменять занчение на 7600\n",
    "df['Население'] = np.where(df['Город'] == 'Иннополис', 7600, df['Население'])\n",
    "df[\"Население\"] = pd.to_numeric(df[\"Население\"], errors='coerce')\n",
    "df.info()"
   ]
  },
  {
   "cell_type": "code",
   "execution_count": 14,
   "id": "f086b24c-78af-4ad7-a285-63a1ad262504",
   "metadata": {
    "slideshow": {
     "slide_type": "slide"
    }
   },
   "outputs": [
    {
     "name": "stdout",
     "output_type": "stream",
     "text": [
      "Ячейки без данных\n"
     ]
    },
    {
     "data": {
      "text/plain": [
       "Индекс                                  4\n",
       "Тип региона                             0\n",
       "Регион                                  0\n",
       "Тип района                            483\n",
       "Район                                 483\n",
       "Тип города                              4\n",
       "Город                                   4\n",
       "Тип н/п                              1110\n",
       "Н/п                                  1110\n",
       "Код КЛАДР                               0\n",
       "Код ФИАС                                0\n",
       "Уровень по ФИАС                         0\n",
       "Признак центра района или региона       0\n",
       "Код ОКАТО                               0\n",
       "Код ОКТМО                               2\n",
       "Код ИФНС                                0\n",
       "Часовой пояс                            0\n",
       "Широта                                  0\n",
       "Долгота                                 0\n",
       "Федеральный округ                       0\n",
       "Население                               0\n",
       "dtype: int64"
      ]
     },
     "execution_count": 14,
     "metadata": {},
     "output_type": "execute_result"
    }
   ],
   "source": [
    "#работа с данными\n",
    "#Выводим информацию по \"нулевым\" ячейкам\n",
    "print (\"Ячейки без данных\")\n",
    "df.isnull().sum()"
   ]
  },
  {
   "cell_type": "code",
   "execution_count": 15,
   "id": "244ebb62-0882-4011-b56c-5bc2a49822e5",
   "metadata": {
    "slideshow": {
     "slide_type": "slide"
    }
   },
   "outputs": [
    {
     "data": {
      "text/plain": [
       "Федеральный округ\n",
       "Центральный          303\n",
       "Приволжский          199\n",
       "Северо-Западный      146\n",
       "Сибирский            130\n",
       "Уральский            115\n",
       "Южный                 97\n",
       "Дальневосточный       66\n",
       "Северо-Кавказский     56\n",
       "Name: count, dtype: int64"
      ]
     },
     "execution_count": 15,
     "metadata": {},
     "output_type": "execute_result"
    }
   ],
   "source": [
    "#работа с данными\n",
    "#данные по столбцам\n",
    "df[\"Федеральный округ\"].value_counts()"
   ]
  },
  {
   "cell_type": "code",
   "execution_count": 16,
   "id": "fe072961-e900-422f-9f5b-77d1439578f6",
   "metadata": {
    "slideshow": {
     "slide_type": "slide"
    }
   },
   "outputs": [
    {
     "name": "stderr",
     "output_type": "stream",
     "text": [
      "C:\\Users\\Admin\\AppData\\Local\\Temp\\ipykernel_4620\\682612411.py:3: FutureWarning: A value is trying to be set on a copy of a DataFrame or Series through chained assignment using an inplace method.\n",
      "The behavior will change in pandas 3.0. This inplace method will never work because the intermediate object on which we are setting values always behaves as a copy.\n",
      "\n",
      "For example, when doing 'df[col].method(value, inplace=True)', try using 'df.method({col: value}, inplace=True)' or df[col] = df[col].method(value) instead, to perform the operation inplace on the original object.\n",
      "\n",
      "\n",
      "  df['Город'].fillna(df['Регион'], inplace=True)\n"
     ]
    }
   ],
   "source": [
    "#работа с данными\n",
    "#заполняем в столбце Город нулевые значения значениями из поля Регион\n",
    "df['Город'].fillna(df['Регион'], inplace=True)"
   ]
  },
  {
   "cell_type": "code",
   "execution_count": 17,
   "id": "85bee346-5746-4e04-ac8b-d2e829edd23c",
   "metadata": {
    "slideshow": {
     "slide_type": "slide"
    }
   },
   "outputs": [],
   "source": [
    "#работа с данными\n",
    "#удаляем лишние столбцы\n",
    "df.drop(['Индекс','Тип района', 'Район', 'Тип города', 'Тип н/п', 'Код КЛАДР', 'Код ОКАТО', 'Код ОКТМО', 'Код ИФНС', 'Н/п', 'Код ФИАС', 'Уровень по ФИАС', 'Признак центра района или региона', 'Тип региона'], axis=1, inplace=True)\n",
    "\n"
   ]
  },
  {
   "cell_type": "code",
   "execution_count": 18,
   "id": "e6eee025-b6ad-4eaa-8359-da5894dbdfd6",
   "metadata": {
    "slideshow": {
     "slide_type": "slide"
    }
   },
   "outputs": [
    {
     "name": "stdout",
     "output_type": "stream",
     "text": [
      "Ячейки без данных\n"
     ]
    },
    {
     "data": {
      "text/plain": [
       "Регион               0\n",
       "Город                0\n",
       "Часовой пояс         0\n",
       "Широта               0\n",
       "Долгота              0\n",
       "Федеральный округ    0\n",
       "Население            0\n",
       "dtype: int64"
      ]
     },
     "execution_count": 18,
     "metadata": {},
     "output_type": "execute_result"
    }
   ],
   "source": [
    "#работа с данными\n",
    "#Выводим информацию по \"нулевым\" ячейкам\n",
    "print (\"Ячейки без данных\")\n",
    "df.isnull().sum()"
   ]
  },
  {
   "cell_type": "code",
   "execution_count": 19,
   "id": "9e6e27ad-adbf-492b-8647-5c223d29b39e",
   "metadata": {
    "slideshow": {
     "slide_type": "slide"
    }
   },
   "outputs": [
    {
     "data": {
      "text/plain": [
       "Федеральный округ\n",
       "Центральный          303\n",
       "Приволжский          199\n",
       "Северо-Западный      146\n",
       "Сибирский            130\n",
       "Уральский            115\n",
       "Южный                 97\n",
       "Дальневосточный       66\n",
       "Северо-Кавказский     56\n",
       "Name: count, dtype: int64"
      ]
     },
     "execution_count": 19,
     "metadata": {},
     "output_type": "execute_result"
    }
   ],
   "source": [
    "#работа с данными\n",
    "#Выводим информацию по Федеральным округам\n",
    "df[\"Федеральный округ\"].value_counts()"
   ]
  },
  {
   "cell_type": "code",
   "execution_count": 20,
   "id": "f66214fe-ba2a-454d-a8b0-d6c60959e019",
   "metadata": {
    "slideshow": {
     "slide_type": "slide"
    }
   },
   "outputs": [],
   "source": [
    "#работа с данными\n",
    "#добавляем столбец с наименованием административного центра федерального округа\n",
    "#определяем переменные\n",
    "c_centr = \"Москва\"\n",
    "c_privo = \"Нижний Новгород\"\n",
    "c_sevzap = \"Санкт-Петербург\"\n",
    "c_sib = \"Новосибирск\"\n",
    "c_ural = \"Екатеринбург\"\n",
    "с_yuzhn = \"Ростов-на-Дону\"\n",
    "c_vost = \"Владивосток\"\n",
    "c_sevkaz = \"Пятигорск\"\n",
    "#Добавляем столбец Административный центр\n",
    "df['Административный центр'] = \"Центр\"\n",
    "#Заполняем столбец Административный центрв зависимости от Федерального округа\n",
    "df['Административный центр'] = np.where(df['Федеральный округ'] == 'Центральный', c_centr, df['Административный центр'])\n",
    "df['Административный центр'] = np.where(df['Федеральный округ'] == 'Приволжский', c_privo, df['Административный центр'])\n",
    "df['Административный центр'] = np.where(df['Федеральный округ'] == 'Северо-Западный', c_sevzap, df['Административный центр'])\n",
    "df['Административный центр'] = np.where(df['Федеральный округ'] == 'Сибирский', c_sib, df['Административный центр'])\n",
    "df['Административный центр'] = np.where(df['Федеральный округ'] == 'Уральский', c_ural, df['Административный центр'])\n",
    "df['Административный центр'] = np.where(df['Федеральный округ'] == 'Южный', с_yuzhn, df['Административный центр'])\n",
    "df['Административный центр'] = np.where(df['Федеральный округ'] == 'Дальневосточный', c_vost, df['Административный центр'])\n",
    "df['Административный центр'] = np.where(df['Федеральный округ'] == 'Северо-Кавказский', c_sevkaz, df['Административный центр'])"
   ]
  },
  {
   "cell_type": "code",
   "execution_count": 22,
   "id": "8aadee5a-6d91-421c-85fe-0ddad8133de6",
   "metadata": {
    "slideshow": {
     "slide_type": "slide"
    }
   },
   "outputs": [
    {
     "data": {
      "text/plain": [
       "Административный центр\n",
       "Москва             303\n",
       "Нижний Новгород    199\n",
       "Санкт-Петербург    146\n",
       "Новосибирск        130\n",
       "Екатеринбург       115\n",
       "Ростов-на-Дону      97\n",
       "Владивосток         66\n",
       "Пятигорск           56\n",
       "Name: count, dtype: int64"
      ]
     },
     "execution_count": 22,
     "metadata": {},
     "output_type": "execute_result"
    }
   ],
   "source": [
    "#работа с данными\n",
    "# df.head(10)\n",
    "#Выводим информацию по Административным центрам\n",
    "df[\"Административный центр\"].value_counts()"
   ]
  },
  {
   "cell_type": "code",
   "execution_count": 23,
   "id": "bda4480e-0be0-43cf-bd4e-c5dc9be272ef",
   "metadata": {
    "slideshow": {
     "slide_type": "slide"
    }
   },
   "outputs": [],
   "source": [
    "# #работа с данными\n",
    "# пишем функцию, которая вычисляет формулу гаверсинусов\n",
    "def haversine(lat1, lon1, lat2, lon2):\n",
    "    RADIUS = 6371.2\n",
    "    lat1, lon1, lat2, lon2 = map(np.deg2rad, [lat1, lon1, lat2, lon2])\n",
    "    dlat = lat2 - lat1\n",
    "    dlon = lon2 - lon1\n",
    "    a = np.sin(dlat / 2) ** 2 + np.cos(lat1) * np.cos(lat2) * np.sin(dlon / 2) ** 2\n",
    "    c = 2 * np.arcsin(np.sqrt(a))\n",
    "    total_km = RADIUS * c\n",
    "    return total_km"
   ]
  },
  {
   "cell_type": "code",
   "execution_count": 24,
   "id": "7a3f7c58-678c-42d8-9814-781504da71a3",
   "metadata": {
    "slideshow": {
     "slide_type": "slide"
    }
   },
   "outputs": [],
   "source": [
    "#работа с данными\n",
    "#добавляем столбец Расстояние и заполняем его в зависимости от того какой Административный центр\n",
    "#df['Расстояние'] = haversine(55.7522, 37.6156, df['Широта'].values, df['Долгота'].values)\n",
    "df['АЦ_Расстояние'] = 100"
   ]
  },
  {
   "cell_type": "code",
   "execution_count": 25,
   "id": "2fa62cca-8568-46a9-903e-15ce6975abe4",
   "metadata": {
    "slideshow": {
     "slide_type": "slide"
    }
   },
   "outputs": [],
   "source": [
    "#Москва\n",
    "df['АЦ_Расстояние'] = np.where(\n",
    "    df['Административный центр'] == 'Москва', \n",
    "    haversine(\n",
    "        df.loc[df['Город'] == 'Москва', 'Широта'].item(), \n",
    "        df.loc[df['Город'] == 'Москва', 'Долгота'].item(), \n",
    "        df['Широта'].values, df['Долгота'].values\n",
    "        ), \n",
    "    df['АЦ_Расстояние']\n",
    ")\n",
    "#Нижний Новгород\n",
    "df['АЦ_Расстояние'] = np.where(df['Административный центр'] == 'Нижний Новгород', haversine(df.loc[df['Город'] == 'Нижний Новгород', 'Широта'].item(), df.loc[df['Город'] == 'Нижний Новгород', 'Долгота'].item(), df['Широта'].values, df['Долгота'].values), df['АЦ_Расстояние'])\n",
    "#Санкт-Петербург\n",
    "df['АЦ_Расстояние'] = np.where(df['Административный центр'] == 'Санкт-Петербург', haversine(df.loc[df['Город'] == 'Санкт-Петербург', 'Широта'].item(), df.loc[df['Город'] == 'Санкт-Петербург', 'Долгота'].item(), df['Широта'].values, df['Долгота'].values), df['АЦ_Расстояние'])\n",
    "#Новосибирск\n",
    "df['АЦ_Расстояние'] = np.where(df['Административный центр'] == 'Новосибирск', haversine(df.loc[df['Город'] == 'Новосибирск', 'Широта'].item(), df.loc[df['Город'] == 'Новосибирск', 'Долгота'].item(), df['Широта'].values, df['Долгота'].values), df['АЦ_Расстояние'])\n",
    "#Екатеринбург\n",
    "df['АЦ_Расстояние'] = np.where(df['Административный центр'] == 'Екатеринбург', haversine(df.loc[df['Город'] == 'Екатеринбург', 'Широта'].item(), df.loc[df['Город'] == 'Екатеринбург', 'Долгота'].item(), df['Широта'].values, df['Долгота'].values), df['АЦ_Расстояние'])\n",
    "#Ростов-на-Дону\n",
    "df['АЦ_Расстояние'] = np.where(df['Административный центр'] == 'Ростов-на-Дону', haversine(df.loc[df['Город'] == 'Ростов-на-Дону', 'Широта'].item(), df.loc[df['Город'] == 'Ростов-на-Дону', 'Долгота'].item(), df['Широта'].values, df['Долгота'].values), df['АЦ_Расстояние'])\n",
    "#Владивосток\n",
    "df['АЦ_Расстояние'] = np.where(df['Административный центр'] == 'Владивосток', haversine(df.loc[df['Город'] == 'Владивосток', 'Широта'].item(), df.loc[df['Город'] == 'Владивосток', 'Долгота'].item(), df['Широта'].values, df['Долгота'].values), df['АЦ_Расстояние'])\n",
    "#Пятигорск\n",
    "df['АЦ_Расстояние'] = np.where(df['Административный центр'] == 'Пятигорск', haversine(df.loc[df['Город'] == 'Пятигорск', 'Широта'].item(), df.loc[df['Город'] == 'Пятигорск', 'Долгота'].item(), df['Широта'].values, df['Долгота'].values), df['АЦ_Расстояние'])\n"
   ]
  },
  {
   "cell_type": "code",
   "execution_count": 30,
   "id": "8952231c-efc3-44ab-994f-486356a5f9f8",
   "metadata": {
    "slideshow": {
     "slide_type": "slide"
    }
   },
   "outputs": [
    {
     "data": {
      "text/html": [
       "<div>\n",
       "<style scoped>\n",
       "    .dataframe tbody tr th:only-of-type {\n",
       "        vertical-align: middle;\n",
       "    }\n",
       "\n",
       "    .dataframe tbody tr th {\n",
       "        vertical-align: top;\n",
       "    }\n",
       "\n",
       "    .dataframe thead th {\n",
       "        text-align: right;\n",
       "    }\n",
       "</style>\n",
       "<table border=\"1\" class=\"dataframe\">\n",
       "  <thead>\n",
       "    <tr style=\"text-align: right;\">\n",
       "      <th></th>\n",
       "      <th>Население</th>\n",
       "      <th>АЦ_Расстояние</th>\n",
       "    </tr>\n",
       "    <tr>\n",
       "      <th>Город</th>\n",
       "      <th></th>\n",
       "      <th></th>\n",
       "    </tr>\n",
       "  </thead>\n",
       "  <tbody>\n",
       "    <tr>\n",
       "      <th>Карабаново</th>\n",
       "      <td>14868</td>\n",
       "      <td>91.637821</td>\n",
       "    </tr>\n",
       "    <tr>\n",
       "      <th>Киржач</th>\n",
       "      <td>30044</td>\n",
       "      <td>88.970725</td>\n",
       "    </tr>\n",
       "    <tr>\n",
       "      <th>Покров</th>\n",
       "      <td>17762</td>\n",
       "      <td>98.651862</td>\n",
       "    </tr>\n",
       "    <tr>\n",
       "      <th>Струнино</th>\n",
       "      <td>14372</td>\n",
       "      <td>91.367132</td>\n",
       "    </tr>\n",
       "    <tr>\n",
       "      <th>Балабаново</th>\n",
       "      <td>26337</td>\n",
       "      <td>88.315661</td>\n",
       "    </tr>\n",
       "    <tr>\n",
       "      <th>Белоусово</th>\n",
       "      <td>8432</td>\n",
       "      <td>94.305506</td>\n",
       "    </tr>\n",
       "    <tr>\n",
       "      <th>Боровск</th>\n",
       "      <td>12283</td>\n",
       "      <td>93.081058</td>\n",
       "    </tr>\n",
       "    <tr>\n",
       "      <th>Ермолино</th>\n",
       "      <td>10409</td>\n",
       "      <td>89.470052</td>\n",
       "    </tr>\n",
       "    <tr>\n",
       "      <th>Жуков</th>\n",
       "      <td>12150</td>\n",
       "      <td>97.840069</td>\n",
       "    </tr>\n",
       "    <tr>\n",
       "      <th>Апрелевка</th>\n",
       "      <td>18467</td>\n",
       "      <td>42.979598</td>\n",
       "    </tr>\n",
       "    <tr>\n",
       "      <th>Бронницы</th>\n",
       "      <td>21102</td>\n",
       "      <td>54.489619</td>\n",
       "    </tr>\n",
       "    <tr>\n",
       "      <th>Высоковск</th>\n",
       "      <td>10642</td>\n",
       "      <td>93.909692</td>\n",
       "    </tr>\n",
       "    <tr>\n",
       "      <th>Голицыно</th>\n",
       "      <td>17447</td>\n",
       "      <td>42.526892</td>\n",
       "    </tr>\n",
       "    <tr>\n",
       "      <th>Дедовск</th>\n",
       "      <td>29280</td>\n",
       "      <td>33.588463</td>\n",
       "    </tr>\n",
       "    <tr>\n",
       "      <th>Дзержинский</th>\n",
       "      <td>47125</td>\n",
       "      <td>20.120490</td>\n",
       "    </tr>\n",
       "    <tr>\n",
       "      <th>Дрезна</th>\n",
       "      <td>11815</td>\n",
       "      <td>76.957066</td>\n",
       "    </tr>\n",
       "    <tr>\n",
       "      <th>Звенигород</th>\n",
       "      <td>16395</td>\n",
       "      <td>47.967404</td>\n",
       "    </tr>\n",
       "    <tr>\n",
       "      <th>Истра</th>\n",
       "      <td>35106</td>\n",
       "      <td>50.410303</td>\n",
       "    </tr>\n",
       "    <tr>\n",
       "      <th>Котельники</th>\n",
       "      <td>32347</td>\n",
       "      <td>18.461625</td>\n",
       "    </tr>\n",
       "    <tr>\n",
       "      <th>Краснозаводск</th>\n",
       "      <td>13432</td>\n",
       "      <td>85.294387</td>\n",
       "    </tr>\n",
       "    <tr>\n",
       "      <th>Краснознаменск</th>\n",
       "      <td>36057</td>\n",
       "      <td>40.340112</td>\n",
       "    </tr>\n",
       "    <tr>\n",
       "      <th>Кубинка</th>\n",
       "      <td>22918</td>\n",
       "      <td>61.317317</td>\n",
       "    </tr>\n",
       "    <tr>\n",
       "      <th>Куровское</th>\n",
       "      <td>21821</td>\n",
       "      <td>83.843041</td>\n",
       "    </tr>\n",
       "    <tr>\n",
       "      <th>Ликино-Дулево</th>\n",
       "      <td>31331</td>\n",
       "      <td>83.890567</td>\n",
       "    </tr>\n",
       "    <tr>\n",
       "      <th>Лосино-Петровский</th>\n",
       "      <td>22550</td>\n",
       "      <td>38.535211</td>\n",
       "    </tr>\n",
       "    <tr>\n",
       "      <th>Пересвет</th>\n",
       "      <td>14142</td>\n",
       "      <td>81.215997</td>\n",
       "    </tr>\n",
       "    <tr>\n",
       "      <th>Руза</th>\n",
       "      <td>13495</td>\n",
       "      <td>89.380426</td>\n",
       "    </tr>\n",
       "    <tr>\n",
       "      <th>Старая Купавна</th>\n",
       "      <td>21859</td>\n",
       "      <td>33.128321</td>\n",
       "    </tr>\n",
       "    <tr>\n",
       "      <th>Хотьково</th>\n",
       "      <td>21612</td>\n",
       "      <td>58.792625</td>\n",
       "    </tr>\n",
       "    <tr>\n",
       "      <th>Черноголовка</th>\n",
       "      <td>20986</td>\n",
       "      <td>55.243686</td>\n",
       "    </tr>\n",
       "    <tr>\n",
       "      <th>Электрогорск</th>\n",
       "      <td>22120</td>\n",
       "      <td>73.781551</td>\n",
       "    </tr>\n",
       "    <tr>\n",
       "      <th>Электроугли</th>\n",
       "      <td>20120</td>\n",
       "      <td>37.726193</td>\n",
       "    </tr>\n",
       "    <tr>\n",
       "      <th>Яхрома</th>\n",
       "      <td>13248</td>\n",
       "      <td>60.111447</td>\n",
       "    </tr>\n",
       "  </tbody>\n",
       "</table>\n",
       "</div>"
      ],
      "text/plain": [
       "                   Население  АЦ_Расстояние\n",
       "Город                                      \n",
       "Карабаново             14868      91.637821\n",
       "Киржач                 30044      88.970725\n",
       "Покров                 17762      98.651862\n",
       "Струнино               14372      91.367132\n",
       "Балабаново             26337      88.315661\n",
       "Белоусово               8432      94.305506\n",
       "Боровск                12283      93.081058\n",
       "Ермолино               10409      89.470052\n",
       "Жуков                  12150      97.840069\n",
       "Апрелевка              18467      42.979598\n",
       "Бронницы               21102      54.489619\n",
       "Высоковск              10642      93.909692\n",
       "Голицыно               17447      42.526892\n",
       "Дедовск                29280      33.588463\n",
       "Дзержинский            47125      20.120490\n",
       "Дрезна                 11815      76.957066\n",
       "Звенигород             16395      47.967404\n",
       "Истра                  35106      50.410303\n",
       "Котельники             32347      18.461625\n",
       "Краснозаводск          13432      85.294387\n",
       "Краснознаменск         36057      40.340112\n",
       "Кубинка                22918      61.317317\n",
       "Куровское              21821      83.843041\n",
       "Ликино-Дулево          31331      83.890567\n",
       "Лосино-Петровский      22550      38.535211\n",
       "Пересвет               14142      81.215997\n",
       "Руза                   13495      89.380426\n",
       "Старая Купавна         21859      33.128321\n",
       "Хотьково               21612      58.792625\n",
       "Черноголовка           20986      55.243686\n",
       "Электрогорск           22120      73.781551\n",
       "Электроугли            20120      37.726193\n",
       "Яхрома                 13248      60.111447"
      ]
     },
     "execution_count": 30,
     "metadata": {},
     "output_type": "execute_result"
    }
   ],
   "source": [
    "#решение задачи 1\n",
    "#Найдите города, которые расположены в Центральном федеральном округе в радиусе 100 км от административного центра(Москва) с населением <= 50т. человек\n",
    "#устанавливаем индекс Город\n",
    "df.set_index(['Город'], inplace=True)\n",
    "result1 = df.loc[\n",
    "    (df['Федеральный округ'] == 'Центральный') & (df['АЦ_Расстояние'] <= 100) & (df['Население'] <= 50_000)\n",
    "]\n",
    "result1[['Население','АЦ_Расстояние']]"
   ]
  },
  {
   "cell_type": "code",
   "execution_count": 31,
   "id": "2196309d-a32c-4d95-9ca2-c89fa4ecdbb1",
   "metadata": {
    "slideshow": {
     "slide_type": "slide"
    }
   },
   "outputs": [
    {
     "data": {
      "text/html": [
       "<div>\n",
       "<style scoped>\n",
       "    .dataframe tbody tr th:only-of-type {\n",
       "        vertical-align: middle;\n",
       "    }\n",
       "\n",
       "    .dataframe tbody tr th {\n",
       "        vertical-align: top;\n",
       "    }\n",
       "\n",
       "    .dataframe thead th {\n",
       "        text-align: right;\n",
       "    }\n",
       "</style>\n",
       "<table border=\"1\" class=\"dataframe\">\n",
       "  <thead>\n",
       "    <tr style=\"text-align: right;\">\n",
       "      <th></th>\n",
       "      <th>Регион</th>\n",
       "      <th>Часовой пояс</th>\n",
       "      <th>Широта</th>\n",
       "      <th>Долгота</th>\n",
       "      <th>Федеральный округ</th>\n",
       "      <th>Население</th>\n",
       "      <th>Административный центр</th>\n",
       "      <th>АЦ_Расстояние</th>\n",
       "    </tr>\n",
       "    <tr>\n",
       "      <th>Город</th>\n",
       "      <th></th>\n",
       "      <th></th>\n",
       "      <th></th>\n",
       "      <th></th>\n",
       "      <th></th>\n",
       "      <th></th>\n",
       "      <th></th>\n",
       "      <th></th>\n",
       "    </tr>\n",
       "  </thead>\n",
       "  <tbody>\n",
       "    <tr>\n",
       "      <th>Ленинск-Кузнецкий</th>\n",
       "      <td>Кемеровская</td>\n",
       "      <td>UTC+7</td>\n",
       "      <td>54.667409</td>\n",
       "      <td>86.179672</td>\n",
       "      <td>Сибирский</td>\n",
       "      <td>101666</td>\n",
       "      <td>Новосибирск</td>\n",
       "      <td>212.424632</td>\n",
       "    </tr>\n",
       "    <tr>\n",
       "      <th>Северск</th>\n",
       "      <td>Томская</td>\n",
       "      <td>UTC+7</td>\n",
       "      <td>56.603114</td>\n",
       "      <td>84.880969</td>\n",
       "      <td>Сибирский</td>\n",
       "      <td>108466</td>\n",
       "      <td>Новосибирск</td>\n",
       "      <td>213.681429</td>\n",
       "    </tr>\n",
       "  </tbody>\n",
       "</table>\n",
       "</div>"
      ],
      "text/plain": [
       "                        Регион Часовой пояс     Широта    Долгота  \\\n",
       "Город                                                               \n",
       "Ленинск-Кузнецкий  Кемеровская        UTC+7  54.667409  86.179672   \n",
       "Северск                Томская        UTC+7  56.603114  84.880969   \n",
       "\n",
       "                  Федеральный округ  Население Административный центр  \\\n",
       "Город                                                                   \n",
       "Ленинск-Кузнецкий         Сибирский     101666            Новосибирск   \n",
       "Северск                   Сибирский     108466            Новосибирск   \n",
       "\n",
       "                   АЦ_Расстояние  \n",
       "Город                             \n",
       "Ленинск-Кузнецкий     212.424632  \n",
       "Северск               213.681429  "
      ]
     },
     "execution_count": 31,
     "metadata": {},
     "output_type": "execute_result"
    }
   ],
   "source": [
    "#решение задачи 2\n",
    "#Найдите города, которые расположены в Сибирском федеральном округе в радиусе от 150 до 250 км\n",
    "#от административного центра(Новосибирск) с населением от 100т. до 200т. человек \n",
    "result2 = df.loc[\n",
    "    (df['Федеральный округ'] == 'Сибирский') & \n",
    "    (df['АЦ_Расстояние'] >= 150) & \n",
    "    (df['АЦ_Расстояние'] <= 250) & \n",
    "    (df['Население'] >= 100_000) & \n",
    "    (df['Население'] <= 200_000)\n",
    "]\n",
    "result2.sort_values(by=\"АЦ_Расстояние\").head()"
   ]
  },
  {
   "cell_type": "code",
   "execution_count": 32,
   "id": "11886a74-fa68-473a-ba8b-86db6bea9d34",
   "metadata": {
    "slideshow": {
     "slide_type": "slide"
    }
   },
   "outputs": [
    {
     "data": {
      "text/html": [
       "<div>\n",
       "<style scoped>\n",
       "    .dataframe tbody tr th:only-of-type {\n",
       "        vertical-align: middle;\n",
       "    }\n",
       "\n",
       "    .dataframe tbody tr th {\n",
       "        vertical-align: top;\n",
       "    }\n",
       "\n",
       "    .dataframe thead th {\n",
       "        text-align: right;\n",
       "    }\n",
       "</style>\n",
       "<table border=\"1\" class=\"dataframe\">\n",
       "  <thead>\n",
       "    <tr style=\"text-align: right;\">\n",
       "      <th></th>\n",
       "      <th>Регион</th>\n",
       "      <th>Часовой пояс</th>\n",
       "      <th>Широта</th>\n",
       "      <th>Долгота</th>\n",
       "      <th>Федеральный округ</th>\n",
       "      <th>Население</th>\n",
       "      <th>Административный центр</th>\n",
       "      <th>АЦ_Расстояние</th>\n",
       "    </tr>\n",
       "    <tr>\n",
       "      <th>Город</th>\n",
       "      <th></th>\n",
       "      <th></th>\n",
       "      <th></th>\n",
       "      <th></th>\n",
       "      <th></th>\n",
       "      <th></th>\n",
       "      <th></th>\n",
       "      <th></th>\n",
       "    </tr>\n",
       "  </thead>\n",
       "  <tbody>\n",
       "    <tr>\n",
       "      <th>Бикин</th>\n",
       "      <td>Хабаровский</td>\n",
       "      <td>UTC+10</td>\n",
       "      <td>46.818624</td>\n",
       "      <td>134.255105</td>\n",
       "      <td>Дальневосточный</td>\n",
       "      <td>17156</td>\n",
       "      <td>Владивосток</td>\n",
       "      <td>451.972952</td>\n",
       "    </tr>\n",
       "    <tr>\n",
       "      <th>Вяземский</th>\n",
       "      <td>Хабаровский</td>\n",
       "      <td>UTC+10</td>\n",
       "      <td>47.535442</td>\n",
       "      <td>134.755370</td>\n",
       "      <td>Дальневосточный</td>\n",
       "      <td>14556</td>\n",
       "      <td>Владивосток</td>\n",
       "      <td>540.195578</td>\n",
       "    </tr>\n",
       "    <tr>\n",
       "      <th>Завитинск</th>\n",
       "      <td>Амурская</td>\n",
       "      <td>UTC+9</td>\n",
       "      <td>50.106468</td>\n",
       "      <td>129.439290</td>\n",
       "      <td>Дальневосточный</td>\n",
       "      <td>11481</td>\n",
       "      <td>Владивосток</td>\n",
       "      <td>799.255575</td>\n",
       "    </tr>\n",
       "    <tr>\n",
       "      <th>Невельск</th>\n",
       "      <td>Сахалинская</td>\n",
       "      <td>UTC+11</td>\n",
       "      <td>46.652731</td>\n",
       "      <td>141.863174</td>\n",
       "      <td>Дальневосточный</td>\n",
       "      <td>11682</td>\n",
       "      <td>Владивосток</td>\n",
       "      <td>878.318109</td>\n",
       "    </tr>\n",
       "    <tr>\n",
       "      <th>Долинск</th>\n",
       "      <td>Сахалинская</td>\n",
       "      <td>UTC+11</td>\n",
       "      <td>47.325590</td>\n",
       "      <td>142.794599</td>\n",
       "      <td>Дальневосточный</td>\n",
       "      <td>12200</td>\n",
       "      <td>Владивосток</td>\n",
       "      <td>973.219125</td>\n",
       "    </tr>\n",
       "  </tbody>\n",
       "</table>\n",
       "</div>"
      ],
      "text/plain": [
       "                Регион Часовой пояс     Широта     Долгота Федеральный округ  \\\n",
       "Город                                                                          \n",
       "Бикин      Хабаровский       UTC+10  46.818624  134.255105   Дальневосточный   \n",
       "Вяземский  Хабаровский       UTC+10  47.535442  134.755370   Дальневосточный   \n",
       "Завитинск     Амурская        UTC+9  50.106468  129.439290   Дальневосточный   \n",
       "Невельск   Сахалинская       UTC+11  46.652731  141.863174   Дальневосточный   \n",
       "Долинск    Сахалинская       UTC+11  47.325590  142.794599   Дальневосточный   \n",
       "\n",
       "           Население Административный центр  АЦ_Расстояние  \n",
       "Город                                                       \n",
       "Бикин          17156            Владивосток     451.972952  \n",
       "Вяземский      14556            Владивосток     540.195578  \n",
       "Завитинск      11481            Владивосток     799.255575  \n",
       "Невельск       11682            Владивосток     878.318109  \n",
       "Долинск        12200            Владивосток     973.219125  "
      ]
     },
     "execution_count": 32,
     "metadata": {},
     "output_type": "execute_result"
    }
   ],
   "source": [
    "#решение задачи 3\n",
    "#Найдите город(а), которые расположены в Дальневосточном федеральном округе и ближе всего к \n",
    "#административному центру(Владивосток) с населением от 10т. до 20т. человек (5 городов) \n",
    "result3 = df.loc[\n",
    "    (df['Федеральный округ'] == 'Дальневосточный') & \n",
    "    (df['Население'] >= 10_000) & \n",
    "    (df['Население'] <= 20_000)\n",
    "]\n",
    "result3.sort_values(by=\"АЦ_Расстояние\").head(5)"
   ]
  },
  {
   "cell_type": "code",
   "execution_count": 33,
   "id": "3766cc52-8a38-4084-8781-0eea75af39be",
   "metadata": {
    "slideshow": {
     "slide_type": "slide"
    }
   },
   "outputs": [
    {
     "data": {
      "text/plain": [
       "Федеральный округ\n",
       "Северо-Западный    5272651\n",
       "Уральский          2485690\n",
       "Южный              2288064\n",
       "Name: Население, dtype: int64"
      ]
     },
     "execution_count": 33,
     "metadata": {},
     "output_type": "execute_result"
    }
   ],
   "source": [
    "#решение задачи 4\n",
    "#Найдите три самых многочисленных округа с радиусом 100 км от административного центра, не считая ЦФО.\n",
    "#Подсказка для .query: имена с пробелами можно заключить в `имя с пробелом`\n",
    "#убираем индексы\n",
    "df = df.reset_index()\n",
    "result4 = df.query('`Федеральный округ` != \"Центральный\" and АЦ_Расстояние <= 100')\n",
    "#учтанавливаем индекс Федеральный округ\n",
    "result4.set_index(['Федеральный округ'], inplace=True)\n",
    "#группируем по Федеральным округам\n",
    "COK = result4.groupby(\"Федеральный округ\")\n",
    "#Выводим три самых многочисленных округа\n",
    "COK[\"Население\"].sum().sort_values(ascending=False).head(3)"
   ]
  },
  {
   "cell_type": "code",
   "execution_count": null,
   "id": "26c5e100-c192-4fd4-9a7f-319b2fa6f053",
   "metadata": {
    "slideshow": {
     "slide_type": "slide"
    }
   },
   "outputs": [],
   "source": []
  }
 ],
 "metadata": {
  "celltoolbar": "Слайд-шоу",
  "kernelspec": {
   "display_name": "Python 3 (ipykernel)",
   "language": "python",
   "name": "python3"
  },
  "language_info": {
   "codemirror_mode": {
    "name": "ipython",
    "version": 3
   },
   "file_extension": ".py",
   "mimetype": "text/x-python",
   "name": "python",
   "nbconvert_exporter": "python",
   "pygments_lexer": "ipython3",
   "version": "3.11.12"
  }
 },
 "nbformat": 4,
 "nbformat_minor": 5
}
